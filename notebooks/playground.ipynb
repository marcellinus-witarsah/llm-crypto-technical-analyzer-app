{
 "cells": [
  {
   "cell_type": "code",
   "execution_count": 21,
   "id": "c5c8cd99",
   "metadata": {},
   "outputs": [],
   "source": [
    "import pandas as pd\n",
    "from src.utils.timescaledb_ops import TimescaleDBOps"
   ]
  },
  {
   "cell_type": "code",
   "execution_count": 33,
   "id": "f782b2b3",
   "metadata": {},
   "outputs": [
    {
     "name": "stderr",
     "output_type": "stream",
     "text": [
      "2025-06-18 21:51:33,762 - INFO - Data read from silver.ohlc_monthly successfully.\n"
     ]
    }
   ],
   "source": [
    "tsdb_ops = TimescaleDBOps()\n",
    "# columns, data = tsdb_ops.read_data(\"silver.ohlc_daily\")\n",
    "# columns, data = tsdb_ops.read_data(\"silver.ohlc_weekly\")\n",
    "columns, data = tsdb_ops.read_data(\"silver.ohlc_monthly\")\n",
    "df = pd.DataFrame(data=data, columns=columns)\n",
    "df = df.sort_values(\"date\").reset_index(drop=True)\n",
    "df[\"date\"] = pd.to_datetime(df[\"date\"])"
   ]
  },
  {
   "cell_type": "code",
   "execution_count": 34,
   "id": "305f3d70",
   "metadata": {},
   "outputs": [
    {
     "data": {
      "text/html": [
       "<div>\n",
       "<style scoped>\n",
       "    .dataframe tbody tr th:only-of-type {\n",
       "        vertical-align: middle;\n",
       "    }\n",
       "\n",
       "    .dataframe tbody tr th {\n",
       "        vertical-align: top;\n",
       "    }\n",
       "\n",
       "    .dataframe thead th {\n",
       "        text-align: right;\n",
       "    }\n",
       "</style>\n",
       "<table border=\"1\" class=\"dataframe\">\n",
       "  <thead>\n",
       "    <tr style=\"text-align: right;\">\n",
       "      <th></th>\n",
       "      <th>date</th>\n",
       "      <th>pair</th>\n",
       "      <th>open</th>\n",
       "      <th>high</th>\n",
       "      <th>low</th>\n",
       "      <th>close</th>\n",
       "      <th>volume</th>\n",
       "      <th>count</th>\n",
       "    </tr>\n",
       "  </thead>\n",
       "  <tbody>\n",
       "    <tr>\n",
       "      <th>0</th>\n",
       "      <td>2013-10-01</td>\n",
       "      <td>XXBTZUSD</td>\n",
       "      <td>122.00000</td>\n",
       "      <td>207.30246</td>\n",
       "      <td>122.00000</td>\n",
       "      <td>199.60000</td>\n",
       "      <td>2567.0</td>\n",
       "      <td>3157</td>\n",
       "    </tr>\n",
       "    <tr>\n",
       "      <th>1</th>\n",
       "      <td>2013-11-01</td>\n",
       "      <td>XXBTZUSD</td>\n",
       "      <td>199.50000</td>\n",
       "      <td>1198.80090</td>\n",
       "      <td>199.50000</td>\n",
       "      <td>1161.97234</td>\n",
       "      <td>8133.0</td>\n",
       "      <td>1291</td>\n",
       "    </tr>\n",
       "    <tr>\n",
       "      <th>2</th>\n",
       "      <td>2013-12-01</td>\n",
       "      <td>XXBTZUSD</td>\n",
       "      <td>1132.19324</td>\n",
       "      <td>1162.00000</td>\n",
       "      <td>380.00000</td>\n",
       "      <td>746.10148</td>\n",
       "      <td>15945.0</td>\n",
       "      <td>1440</td>\n",
       "    </tr>\n",
       "    <tr>\n",
       "      <th>3</th>\n",
       "      <td>2014-01-01</td>\n",
       "      <td>XXBTZUSD</td>\n",
       "      <td>738.00000</td>\n",
       "      <td>1019.00000</td>\n",
       "      <td>737.15115</td>\n",
       "      <td>812.63409</td>\n",
       "      <td>9887.0</td>\n",
       "      <td>900</td>\n",
       "    </tr>\n",
       "    <tr>\n",
       "      <th>4</th>\n",
       "      <td>2014-02-01</td>\n",
       "      <td>XXBTZUSD</td>\n",
       "      <td>801.24000</td>\n",
       "      <td>835.00000</td>\n",
       "      <td>450.00000</td>\n",
       "      <td>584.40106</td>\n",
       "      <td>10586.0</td>\n",
       "      <td>1035</td>\n",
       "    </tr>\n",
       "  </tbody>\n",
       "</table>\n",
       "</div>"
      ],
      "text/plain": [
       "        date      pair        open        high        low       close  \\\n",
       "0 2013-10-01  XXBTZUSD   122.00000   207.30246  122.00000   199.60000   \n",
       "1 2013-11-01  XXBTZUSD   199.50000  1198.80090  199.50000  1161.97234   \n",
       "2 2013-12-01  XXBTZUSD  1132.19324  1162.00000  380.00000   746.10148   \n",
       "3 2014-01-01  XXBTZUSD   738.00000  1019.00000  737.15115   812.63409   \n",
       "4 2014-02-01  XXBTZUSD   801.24000   835.00000  450.00000   584.40106   \n",
       "\n",
       "    volume  count  \n",
       "0   2567.0   3157  \n",
       "1   8133.0   1291  \n",
       "2  15945.0   1440  \n",
       "3   9887.0    900  \n",
       "4  10586.0   1035  "
      ]
     },
     "execution_count": 34,
     "metadata": {},
     "output_type": "execute_result"
    }
   ],
   "source": [
    "df.head()"
   ]
  },
  {
   "cell_type": "code",
   "execution_count": 35,
   "id": "44b7543c",
   "metadata": {},
   "outputs": [
    {
     "name": "stdout",
     "output_type": "stream",
     "text": [
      "<class 'pandas.core.frame.DataFrame'>\n",
      "RangeIndex: 141 entries, 0 to 140\n",
      "Data columns (total 8 columns):\n",
      " #   Column  Non-Null Count  Dtype         \n",
      "---  ------  --------------  -----         \n",
      " 0   date    141 non-null    datetime64[ns]\n",
      " 1   pair    141 non-null    object        \n",
      " 2   open    141 non-null    float64       \n",
      " 3   high    141 non-null    float64       \n",
      " 4   low     141 non-null    float64       \n",
      " 5   close   141 non-null    float64       \n",
      " 6   volume  141 non-null    float64       \n",
      " 7   count   141 non-null    int64         \n",
      "dtypes: datetime64[ns](1), float64(5), int64(1), object(1)\n",
      "memory usage: 8.9+ KB\n"
     ]
    }
   ],
   "source": [
    "df.info()"
   ]
  },
  {
   "cell_type": "code",
   "execution_count": 36,
   "id": "8d69b952",
   "metadata": {},
   "outputs": [],
   "source": [
    "import plotly.graph_objects as go\n",
    "from plotly.subplots import make_subplots\n",
    "\n",
    "def plot_ohlcv(df: pd.DataFrame, title: str = \"OHLCV Chart\"):\n",
    "    \"\"\"\n",
    "    Plots OHLCV data using Plotly with candlestick and volume subplot.\n",
    "\n",
    "    Parameters:\n",
    "    - df (pd.DataFrame): DataFrame with ['date', 'open', 'high', 'low', 'close', 'volume']\n",
    "    - title (str): Title for the chart\n",
    "    \"\"\"\n",
    "\n",
    "    # Validate required columns\n",
    "    required_cols = {'date', 'open', 'high', 'low', 'close', 'volume'}\n",
    "    if not required_cols.issubset(df.columns):\n",
    "        raise ValueError(f\"DataFrame must contain columns: {required_cols}\")\n",
    "\n",
    "    # Ensure datetime is in correct format\n",
    "    df['date'] = pd.to_datetime(df['date'])\n",
    "\n",
    "    # Create subplot with 2 rows (OHLC and Volume)\n",
    "    fig = make_subplots(rows=4, cols=1, \n",
    "                        shared_xaxes=True, \n",
    "                        vertical_spacing=0.02,\n",
    "                        row_heights=[0.55, 0.15, 0.15, 0.15],\n",
    "                        subplot_titles=(title, \"Volume\"))\n",
    "\n",
    "    # Add candlestick\n",
    "    fig.add_trace(go.Candlestick(\n",
    "        x=df['date'],\n",
    "        open=df['open'],\n",
    "        high=df['high'],\n",
    "        low=df['low'],\n",
    "        close=df['close'],\n",
    "        name=\"Price\",\n",
    "        increasing_line_color='green',\n",
    "        decreasing_line_color='red'\n",
    "    ), row=1, col=1)\n",
    "\n",
    "    # Add volume bar chart\n",
    "    fig.add_trace(go.Bar(\n",
    "        x=df['date'],\n",
    "        y=df['volume'],\n",
    "        name=\"Volume\",\n",
    "        marker_color='orange'\n",
    "    ), row=2, col=1)\n",
    "\n",
    "    # Layout adjustments\n",
    "    fig.update_layout(\n",
    "        title=title,\n",
    "        xaxis_rangeslider_visible=False,\n",
    "        template='plotly_dark',\n",
    "        height=700,\n",
    "        margin=dict(l=50, r=25, t=50, b=40)\n",
    "    )\n",
    "    \n",
    "    return fig"
   ]
  },
  {
   "attachments": {
    "image.png": {
     "image/png": "[encoded data removed]"
    }
   },
   "cell_type": "markdown",
   "id": "2906699f",
   "metadata": {},
   "source": [
    "![image.png](attachment:image.png)"
   ]
  },
  {
   "attachments": {
    "image.png": {
     "image/png": "[encoded data removed]"
    }
   },
   "cell_type": "markdown",
   "id": "4e17060f",
   "metadata": {},
   "source": [
    "![image.png](attachment:image.png)"
   ]
  },
  {
   "cell_type": "code",
   "execution_count": null,
   "id": "e33079f8",
   "metadata": {},
   "outputs": [],
   "source": [
    "# Technical Analysis\n",
    "# EMA\n",
    "df['ema_13'] = df['close'].ewm(span=13, adjust=False).mean()\n",
    "df['ema_21'] = df['close'].ewm(span=21, adjust=False).mean()\n",
    "\n",
    "# # RSI\n",
    "# window = 14 # default setting\n",
    "# delta = df['close'].diff(1)\n",
    "# avg_gain = (delta.where(delta > 0, 0)).rolling(window=window).mean()  # avg_gain \n",
    "# avg_loss = (-delta.where(delta < 0, 0)).rolling(window=window).mean()\n",
    "# rsi = avg_gain / avg_loss\n",
    "# df['rsi'] = 100 - (100 / (1 + rsi)) \n",
    "\n",
    "# Stochastic\n",
    "perc_k_length = 5\n",
    "perc_k_smoothing = 3\n",
    "perc_d_length = 3\n",
    "\n",
    "lowest_low = df['low'].rolling(window).min()\n",
    "highest_high = df['high'].rolling(window).max()\n",
    "df[\"stochastic_%K\"] = ((df['close'] -lowest_low) / (highest_high -lowest_low)).rolling(perc_k_smoothing).mean() \n",
    "df[\"stochastic_%D\"] =  df[\"stochastic_%K\"].rolling(perc_d_length).mean()\n",
    "\n",
    "# MACD\n",
    "ema_12 = df['close'].ewm(span=12, adjust=False).mean()\n",
    "ema_26 = df['close'].ewm(span=26, adjust=False).mean()\n",
    "\n",
    "macd = ema_12 - ema_26\n",
    "macd_signal_line = macd.ewm(span=9, adjust=False).mean()\n",
    "macd_bar = macd - macd_signal_line\n",
    "\n",
    "df['macd'] = macd\n",
    "df['macd_signal_line'] = macd_signal_line\n",
    "df['macd_bar'] = macd_bar"
   ]
  },
  {
   "cell_type": "code",
   "execution_count": 41,
   "id": "8dc8b816",
   "metadata": {},
   "outputs": [
    {
     "name": "stderr",
     "output_type": "stream",
     "text": [
      "C:\\Users\\USER\\AppData\\Local\\Temp\\ipykernel_8300\\2072608727.py:19: SettingWithCopyWarning:\n",
      "\n",
      "\n",
      "A value is trying to be set on a copy of a slice from a DataFrame.\n",
      "Try using .loc[row_indexer,col_indexer] = value instead\n",
      "\n",
      "See the caveats in the documentation: https://pandas.pydata.org/pandas-docs/stable/user_guide/indexing.html#returning-a-view-versus-a-copy\n",
      "\n"
     ]
    },
    {
     "data": {
      "application/vnd.plotly.v1+json": {
       "config": {
        "plotlyServerURL": "https://plot.ly"
       },
       "data": [
        {
         "close": {
          "bdata": "LVvriwSgd0DPMSB7PRJ7QHE9Ctej9HlA9ihcj8JxfEAAAAAAAOCAQAAAAAAAeIRAH4XrUbi0g0AAAAAAAOiBQFYOLbKd+YJAPQrXo3DKhUAX2c73UyiHQN0kBoGVyo1AL90kBoF5jUDVeOkmsYCSQAAAAAAAVJBAI9v5fmqolEDNzMzMjGOhQAAAAAAAyqNA4XoUrsfRpUAAAAAAAFCyQJqZmZkZuLBAAAAAAABCuEAAAAAAgDDDQAAAAADAo8lAzczMzAzvw0CamZmZGZvEQJqZmZkZkbtAMzMzM7MYwkBmZmZmZnG9QJqZmZmZ+bhAAAAAAAArv0BmZmZm5jW7QDMzMzOzzrlAzczMzMx3uEAzMzMzM8SuQGZmZmZmP61AzczMzMygqkBmZmZmZtitQAAAAACAArBAZmZmZmZjtEBmZmZmZhfAQAAAAAAAdcZAzczMzEwSw0AAAAAAALHCQDMzMzOzar9AzczMzAzVwUDNzMzMTPO9QJqZmZkZOrxAAAAAAAAvwkBmZmZmJgPBQGZmZmbm/LhAmpmZmRlMwUBmZmZmZrzCQJqZmZnZ28FAMzMzM7PpxUAAAAAAANXGQGZmZmZm3MRAMzMzM3M9y0BmZmZmhjDSQGZmZmbGPdxAmpmZmSll4EAzMzMzMx/mQAAAAADAVexAmpmZmel/6kBmZmZmtvrhQAAAAAAQBuFAMzMzM4NO5EAzMzMzw2znQM3MzMw8BeVAzczMzOyH7UDNzMzM3CnsQJqZmZlpbOdAmpmZmck24kAAAAAA0LjiQAAAAAAACOdAMzMzMzPX4kAzMzMzEwDfQM3MzMzModJAZmZmZoZB10AzMzMz89jTQJqZmZk5+dJAmpmZmbk/1EBmZmZmZnzQQAAAAACALtBAMzMzMzNV1kAAAAAAwNnWQAAAAACARttAZmZmZgaF3EAAAAAAgHbaQAAAAADgNN5AzczMzMyv3EBmZmZmBq7aQGZmZmYGUNpAmpmZmZna4EDNzMzMzIDiQDMzMzODwORAmpmZmYnQ5EAAAAAAELnuQAAAAAAAMPFAMzMzM6Pi7UAzMzMzc63wQM3MzMws/u1AzczMzHQg8ECamZmZieHsQJqZmZl5LO9AzczMzOSg8UAzMzMzw4L3QJqZmZkR9/ZAAAAAAOCS+UAzMzMzS6XzQJqZmZmZD/RAMzMzM6M990CamZmZUUb5QM3MzMzUkPlA",
          "dtype": "f8"
         },
         "decreasing": {
          "line": {
           "color": "red"
          }
         },
         "high": {
          "bdata": "AAAAAADAfEA8pYP1/797QNEi2/l+dntAAAAAAABgfUAAAAAAACiBQHe+nxovaYhASOF6FK7/hUCF61G4Hv+DQClcj8L13INArkfhehSQhkB7FK5H4diHQAAAAAAAsI5AmpmZmZkTkkAIrBxa5PuSQLByaJHte5RAMzMzMzMulUBOYhBYeUSlQAAAAAAACKdAexSuR+HspkAzMzMzs1CyQAAAAAAAZbNAZmZmZmZYuEBmZmZm5jnGQAAAAAAAM9NAAAAAAEDX0EDNzMzMDAfHQDMzMzMzycZAAAAAAAALw0AAAAAAAHXDQAAAAAAAZL5AzczMzEyYwEAAAAAAgCu/QGZmZmbm7bxAAAAAAACkukBmZmZm5pi5QJqZmZmZvrBAzczMzEyTsUDNzMzMTF6wQAAAAAAAIrBAAAAAAAANtkAzMzMzM8PBQJqZmZnZGctAZmZmZubGyUAAAAAAABrIQAAAAAAAcMdAAAAAAECqxEAAAAAAAMDCQJqZmZmZeL5AzczMzAywwkDNzMzMTIrEQAAAAACA/sFAMzMzM/OHwkCamZmZGbDDQAAAAAAAQcRAAAAAAABOxkDNzMzMTGDIQM3MzMxMksdAAAAAAACAy0AzMzMzUw3TQM3MzMzsmtxAAAAAAKCA5EAAAAAAYHzsQDMzMzOTI+5AAAAAAICw70CamZmZ2RntQJqZmZm5L+RAAAAAAAC05EAAAAAAgKjoQAAAAACA1OlAMzMzM2Na8EAAAAAA8NfwQAAAAADA6+xAAAAAAAB/50AAAAAAgGnmQAAAAAAAiedAAAAAAMA950CamZmZuYvjQAAAAAAApN9AMzMzM/Me2EAAAAAAAJzYQAAAAACAQdZAmpmZmZmU1EAzMzMzU/fUQAAAAADg9NFAAAAAAIBj10DNzMzM7K7YQAAAAACAgdxAAAAAAIBS3kAAAAAAwEXdQDMzMzPTst5AMzMzM7ML30AAAAAAgHvdQAAAAACg2dpAAAAAACAz4UDNzMzMHMTiQAAAAABg0+VAAAAAAADt50CamZmZ+UHvQAAAAABgAPJAAAAAALjB8UBmZmZmho3xQAAAAADAjfFAAAAAABAW8UBmZmZm/k7wQM3MzMxMOfBAZmZmZm728UAAAAAAIFT4QJqZmZmZcPpAAAAAAICj+kAAAAAAAOH5QAAAAACAMfdAMzMzM9tl90AzMzMz81b7QJqZmZnJl/pA",
          "dtype": "f8"
         },
         "increasing": {
          "line": {
           "color": "green"
          }
         },
         "low": {
          "bdata": "XI/C9Sj8dUDgSnZshNx2QLgehetRNHhAH4XrUbjgeUDl0CLb+bB6QLgehetRXn5AO99PjZcVg0AAAAAAAPB9QJzEILByrIFAke18PzXggkDHSzeJQQuFQAAAAAAAGIdAXrpJDAKgh0A1XrpJDGCNQOOlm8Qgj4tAAAAAAABUkEAAAAAAAIyUQMUgsHKoNqBAAAAAAABEnEAAAAAAAE6kQAAAAAAAZ6dAZmZmZuY6sEAAAAAAAFi1QGZmZmZmAsJAAAAAAIAEwkAAAAAAANq2QAAAAAAAlrlAZmZmZmYxuUAAAAAAAIu7QAAAAAAAErZAzczMzEy5t0AAAAAAAAK3QGZmZmbmubdAMzMzMzPLt0AAAAAAAACrQAAAAAAAYKhAmpmZmZkeqkAAAAAAABKqQM3MzMzMraxAZmZmZmanr0AAAAAAAEe0QAAAAAAAAb1AAAAAAIDFwUBmZmZm5i3CQAAAAAAA571AAAAAAACGvEAAAAAAAH25QDMzMzMzHrlAAAAAAADMukBmZmZmpnvAQDMzMzMzkq5AZmZmZmYNuECamZmZmTu/QGZmZmZmNsFAzczMzIxpwUAAAAAAAK/EQAAAAAAAPcNAZmZmZiZIxEBmZmZmJtHJQAAAAAAARdBAAAAAAAAx20AAAAAAAHLfQAAAAACAAeVAAAAAAADz5kAAAAAAABrdQGZmZmYmJNxAZmZmZiaa3EAAAAAAYD3iQAAAAABgU+NAAAAAAEDm5EAAAAAAgAbqQDMzMzPDmuNAMzMzM4MV4EBmZmZmpsPgQM3MzMzsJOJAAAAAAABl4kAzMzMzM73YQAAAAAAAMNFAAAAAAGAu0kAzMzMzcxHTQJqZmZmZttFAZmZmZsa80UAAAAAAQDfOQJqZmZkZws9AZmZmZgYU0EBmZmZmxtvUQJqZmZl5F9NAmpmZmVlW2kCamZmZ2TjZQGZmZmbGK9hAAAAAAAA03EAAAAAAADjYQAAAAABAV9hAAAAAAMDt2UAAAAAAAKngQAAAAACgT+JAAAAAAMDO4kAAAAAAUHPkQAAAAADA4exAAAAAAEAi7UAAAAAAQIfrQAAAAAAAiuxAmpmZmWkn6kAAAAAA4PrnQAAAAAAgq+lAAAAAAADB7EAAAAAAQFHwQJqZmZmJR/ZAzczMzNy69UAAAAAAsBjzQDMzMzN7tPJAmpmZmZEq8kAAAAAAqLL2QAAAAACAPvlA",
          "dtype": "f8"
         },
         "name": "Price",
         "open": {
          "bdata": "z/dT46WPekAtW+uLBKB3QPiNrz0zH3tA46WbxCD0eUDhehSuR2V8QJMYBFYO7YBAAAAAAAB4hEAfhetRuLSDQJqZmZmZ64FASOF6FK75gkAv3SQGgcqFQIcW2c73KIdA3SQGgZXKjUBcj8L1KGqNQNEi2/l+iZJAAAAAAABUkECiRbbzfaiUQM3MzMyMY6FAKVyPwvXJo0AlBoGVA86lQAAAAAAAULJAzczMzMy0sEBmZmZm5lC4QAAAAACAMsNAzczMzIyjyUAAAAAAAO/DQAAAAAAAoMRAZmZmZuaKu0AzMzMzcxjCQM3MzMzMdL1AZmZmZub2uECamZmZGSu/QM3MzMxMM7tAmpmZmZnVuUAzMzMzs3e4QJqZmZmZ0q5AMzMzMzM7rUDNzMzMzKCqQAAAAAAA2a1AZmZmZmYAsECamZmZGWG0QDMzMzMzF8BAZmZmZiZ1xkAAAAAAwBHDQAAAAAAAscJAZmZmZuZsv0AAAAAAANXBQAAAAAAA8r1AmpmZmRk6vEBmZmZm5i7CQGZmZmYmA8FAzczMzMz+uEBmZmZmJkzBQGZmZmZmvMJAmpmZmdnbwUAzMzMzs+nFQM3MzMwM1cZAMzMzM3PcxEDNzMzMTDzLQM3MzMxsMNJAMzMzM9M93EBmZmZm1mTgQDMzMzOjHuZAmpmZmSlV7EBmZmZmloDqQM3MzMy8/uFAAAAAABAG4UAAAAAAsEvkQDMzMzPDbOdAAAAAAEAF5UDNzMzM7IftQM3MzMwsKexAzczMzGxs50BmZmZmxjbiQGZmZmaWueJAMzMzMwMI50AzMzMzA9fiQDMzMzMTAN9AzczMzIyf0kAAAAAAgEHXQAAAAABA2dNAzczMzMz60kBmZmZmhj/UQGZmZmaGfNBAZmZmZoYu0ECamZmZOVXWQGZmZmbG2dZAAAAAAIBG20DNzMzMDIXcQJqZmZl5dtpAMzMzM9Mu3kDNzMzMzK/cQM3MzMwMrtpAZmZmZgZQ2kCamZmZmdrgQM3MzMzMgOJAZmZmZtbA5ECamZmZidDkQAAAAAAQue5AmpmZmQEw8UAzMzMzo+LtQDMzMzNzrfBAzczMzCz+7UDNzMzMdCDwQJqZmZmJ4exAzczMzHws70DNzMzM5KDxQJqZmZnBgvdAmpmZmRH39kAAAAAA4JL5QDMzMzNLpfNAmpmZmZkP9EDNzMzMpD33QAAAAAAIhvpA",
          "dtype": "f8"
         },
         "type": "candlestick",
         "x": [
          "2016-01-01T00:00:00.000000000",
          "2016-02-01T00:00:00.000000000",
          "2016-03-01T00:00:00.000000000",
          "2016-04-01T00:00:00.000000000",
          "2016-05-01T00:00:00.000000000",
          "2016-06-01T00:00:00.000000000",
          "2016-07-01T00:00:00.000000000",
          "2016-08-01T00:00:00.000000000",
          "2016-09-01T00:00:00.000000000",
          "2016-10-01T00:00:00.000000000",
          "2016-11-01T00:00:00.000000000",
          "2016-12-01T00:00:00.000000000",
          "2017-01-01T00:00:00.000000000",
          "2017-02-01T00:00:00.000000000",
          "2017-03-01T00:00:00.000000000",
          "2017-04-01T00:00:00.000000000",
          "2017-05-01T00:00:00.000000000",
          "2017-06-01T00:00:00.000000000",
          "2017-07-01T00:00:00.000000000",
          "2017-08-01T00:00:00.000000000",
          "2017-09-01T00:00:00.000000000",
          "2017-10-01T00:00:00.000000000",
          "2017-11-01T00:00:00.000000000",
          "2017-12-01T00:00:00.000000000",
          "2018-01-01T00:00:00.000000000",
          "2018-02-01T00:00:00.000000000",
          "2018-03-01T00:00:00.000000000",
          "2018-04-01T00:00:00.000000000",
          "2018-05-01T00:00:00.000000000",
          "2018-06-01T00:00:00.000000000",
          "2018-07-01T00:00:00.000000000",
          "2018-08-01T00:00:00.000000000",
          "2018-09-01T00:00:00.000000000",
          "2018-10-01T00:00:00.000000000",
          "2018-11-01T00:00:00.000000000",
          "2018-12-01T00:00:00.000000000",
          "2019-01-01T00:00:00.000000000",
          "2019-02-01T00:00:00.000000000",
          "2019-03-01T00:00:00.000000000",
          "2019-04-01T00:00:00.000000000",
          "2019-05-01T00:00:00.000000000",
          "2019-06-01T00:00:00.000000000",
          "2019-07-01T00:00:00.000000000",
          "2019-08-01T00:00:00.000000000",
          "2019-09-01T00:00:00.000000000",
          "2019-10-01T00:00:00.000000000",
          "2019-11-01T00:00:00.000000000",
          "2019-12-01T00:00:00.000000000",
          "2020-01-01T00:00:00.000000000",
          "2020-02-01T00:00:00.000000000",
          "2020-03-01T00:00:00.000000000",
          "2020-04-01T00:00:00.000000000",
          "2020-05-01T00:00:00.000000000",
          "2020-06-01T00:00:00.000000000",
          "2020-07-01T00:00:00.000000000",
          "2020-08-01T00:00:00.000000000",
          "2020-09-01T00:00:00.000000000",
          "2020-10-01T00:00:00.000000000",
          "2020-11-01T00:00:00.000000000",
          "2020-12-01T00:00:00.000000000",
          "2021-01-01T00:00:00.000000000",
          "2021-02-01T00:00:00.000000000",
          "2021-03-01T00:00:00.000000000",
          "2021-04-01T00:00:00.000000000",
          "2021-05-01T00:00:00.000000000",
          "2021-06-01T00:00:00.000000000",
          "2021-07-01T00:00:00.000000000",
          "2021-08-01T00:00:00.000000000",
          "2021-09-01T00:00:00.000000000",
          "2021-10-01T00:00:00.000000000",
          "2021-11-01T00:00:00.000000000",
          "2021-12-01T00:00:00.000000000",
          "2022-01-01T00:00:00.000000000",
          "2022-02-01T00:00:00.000000000",
          "2022-03-01T00:00:00.000000000",
          "2022-04-01T00:00:00.000000000",
          "2022-05-01T00:00:00.000000000",
          "2022-06-01T00:00:00.000000000",
          "2022-07-01T00:00:00.000000000",
          "2022-08-01T00:00:00.000000000",
          "2022-09-01T00:00:00.000000000",
          "2022-10-01T00:00:00.000000000",
          "2022-11-01T00:00:00.000000000",
          "2022-12-01T00:00:00.000000000",
          "2023-01-01T00:00:00.000000000",
          "2023-02-01T00:00:00.000000000",
          "2023-03-01T00:00:00.000000000",
          "2023-04-01T00:00:00.000000000",
          "2023-05-01T00:00:00.000000000",
          "2023-06-01T00:00:00.000000000",
          "2023-07-01T00:00:00.000000000",
          "2023-08-01T00:00:00.000000000",
          "2023-09-01T00:00:00.000000000",
          "2023-10-01T00:00:00.000000000",
          "2023-11-01T00:00:00.000000000",
          "2023-12-01T00:00:00.000000000",
          "2024-01-01T00:00:00.000000000",
          "2024-02-01T00:00:00.000000000",
          "2024-03-01T00:00:00.000000000",
          "2024-04-01T00:00:00.000000000",
          "2024-05-01T00:00:00.000000000",
          "2024-06-01T00:00:00.000000000",
          "2024-07-01T00:00:00.000000000",
          "2024-08-01T00:00:00.000000000",
          "2024-09-01T00:00:00.000000000",
          "2024-10-01T00:00:00.000000000",
          "2024-11-01T00:00:00.000000000",
          "2024-12-01T00:00:00.000000000",
          "2025-01-01T00:00:00.000000000",
          "2025-02-01T00:00:00.000000000",
          "2025-03-01T00:00:00.000000000",
          "2025-04-01T00:00:00.000000000",
          "2025-05-01T00:00:00.000000000",
          "2025-06-01T00:00:00.000000000"
         ],
         "xaxis": "x",
         "yaxis": "y"
        },
        {
         "marker": {
          "color": "orange"
         },
         "name": "Volume",
         "type": "bar",
         "x": [
          "2016-01-01T00:00:00.000000000",
          "2016-02-01T00:00:00.000000000",
          "2016-03-01T00:00:00.000000000",
          "2016-04-01T00:00:00.000000000",
          "2016-05-01T00:00:00.000000000",
          "2016-06-01T00:00:00.000000000",
          "2016-07-01T00:00:00.000000000",
          "2016-08-01T00:00:00.000000000",
          "2016-09-01T00:00:00.000000000",
          "2016-10-01T00:00:00.000000000",
          "2016-11-01T00:00:00.000000000",
          "2016-12-01T00:00:00.000000000",
          "2017-01-01T00:00:00.000000000",
          "2017-02-01T00:00:00.000000000",
          "2017-03-01T00:00:00.000000000",
          "2017-04-01T00:00:00.000000000",
          "2017-05-01T00:00:00.000000000",
          "2017-06-01T00:00:00.000000000",
          "2017-07-01T00:00:00.000000000",
          "2017-08-01T00:00:00.000000000",
          "2017-09-01T00:00:00.000000000",
          "2017-10-01T00:00:00.000000000",
          "2017-11-01T00:00:00.000000000",
          "2017-12-01T00:00:00.000000000",
          "2018-01-01T00:00:00.000000000",
          "2018-02-01T00:00:00.000000000",
          "2018-03-01T00:00:00.000000000",
          "2018-04-01T00:00:00.000000000",
          "2018-05-01T00:00:00.000000000",
          "2018-06-01T00:00:00.000000000",
          "2018-07-01T00:00:00.000000000",
          "2018-08-01T00:00:00.000000000",
          "2018-09-01T00:00:00.000000000",
          "2018-10-01T00:00:00.000000000",
          "2018-11-01T00:00:00.000000000",
          "2018-12-01T00:00:00.000000000",
          "2019-01-01T00:00:00.000000000",
          "2019-02-01T00:00:00.000000000",
          "2019-03-01T00:00:00.000000000",
          "2019-04-01T00:00:00.000000000",
          "2019-05-01T00:00:00.000000000",
          "2019-06-01T00:00:00.000000000",
          "2019-07-01T00:00:00.000000000",
          "2019-08-01T00:00:00.000000000",
          "2019-09-01T00:00:00.000000000",
          "2019-10-01T00:00:00.000000000",
          "2019-11-01T00:00:00.000000000",
          "2019-12-01T00:00:00.000000000",
          "2020-01-01T00:00:00.000000000",
          "2020-02-01T00:00:00.000000000",
          "2020-03-01T00:00:00.000000000",
          "2020-04-01T00:00:00.000000000",
          "2020-05-01T00:00:00.000000000",
          "2020-06-01T00:00:00.000000000",
          "2020-07-01T00:00:00.000000000",
          "2020-08-01T00:00:00.000000000",
          "2020-09-01T00:00:00.000000000",
          "2020-10-01T00:00:00.000000000",
          "2020-11-01T00:00:00.000000000",
          "2020-12-01T00:00:00.000000000",
          "2021-01-01T00:00:00.000000000",
          "2021-02-01T00:00:00.000000000",
          "2021-03-01T00:00:00.000000000",
          "2021-04-01T00:00:00.000000000",
          "2021-05-01T00:00:00.000000000",
          "2021-06-01T00:00:00.000000000",
          "2021-07-01T00:00:00.000000000",
          "2021-08-01T00:00:00.000000000",
          "2021-09-01T00:00:00.000000000",
          "2021-10-01T00:00:00.000000000",
          "2021-11-01T00:00:00.000000000",
          "2021-12-01T00:00:00.000000000",
          "2022-01-01T00:00:00.000000000",
          "2022-02-01T00:00:00.000000000",
          "2022-03-01T00:00:00.000000000",
          "2022-04-01T00:00:00.000000000",
          "2022-05-01T00:00:00.000000000",
          "2022-06-01T00:00:00.000000000",
          "2022-07-01T00:00:00.000000000",
          "2022-08-01T00:00:00.000000000",
          "2022-09-01T00:00:00.000000000",
          "2022-10-01T00:00:00.000000000",
          "2022-11-01T00:00:00.000000000",
          "2022-12-01T00:00:00.000000000",
          "2023-01-01T00:00:00.000000000",
          "2023-02-01T00:00:00.000000000",
          "2023-03-01T00:00:00.000000000",
          "2023-04-01T00:00:00.000000000",
          "2023-05-01T00:00:00.000000000",
          "2023-06-01T00:00:00.000000000",
          "2023-07-01T00:00:00.000000000",
          "2023-08-01T00:00:00.000000000",
          "2023-09-01T00:00:00.000000000",
          "2023-10-01T00:00:00.000000000",
          "2023-11-01T00:00:00.000000000",
          "2023-12-01T00:00:00.000000000",
          "2024-01-01T00:00:00.000000000",
          "2024-02-01T00:00:00.000000000",
          "2024-03-01T00:00:00.000000000",
          "2024-04-01T00:00:00.000000000",
          "2024-05-01T00:00:00.000000000",
          "2024-06-01T00:00:00.000000000",
          "2024-07-01T00:00:00.000000000",
          "2024-08-01T00:00:00.000000000",
          "2024-09-01T00:00:00.000000000",
          "2024-10-01T00:00:00.000000000",
          "2024-11-01T00:00:00.000000000",
          "2024-12-01T00:00:00.000000000",
          "2025-01-01T00:00:00.000000000",
          "2025-02-01T00:00:00.000000000",
          "2025-03-01T00:00:00.000000000",
          "2025-04-01T00:00:00.000000000",
          "2025-05-01T00:00:00.000000000",
          "2025-06-01T00:00:00.000000000"
         ],
         "xaxis": "x2",
         "y": {
          "bdata": "AAAAAABYyEAAAAAAgNHYQAAAAAAAsuZAAAAAAACI00AAAAAAQJzZQAAAAADAT/JAAAAAAGCW5kAAAAAAIE7qQAAAAAAASdhAAAAAAADG3kAAAAAA4JvpQAAAAADASO9AAAAAAMBJ+UAAAAAAwHTyQAAAAACIqARBAAAAACBO/UAAAAAA1H8eQQAAAAD4eh9BAAAAAPTbIUEAAAAAwvskQQAAAACqQSFBAAAAAByFGkEAAAAAICYiQQAAAADAtyhBAAAAAK24MEEAAAAANZQxQQAAAACAfjFBAAAAADiwIkEAAAAAFGMaQQAAAACYRhNBAAAAANgbFUEAAAAAzPsbQQAAAABQ2hBBAAAAAGhBBkEAAAAAXGcdQQAAAACsWyFBAAAAAMBvEUEAAAAAyFUMQQAAAACwCQtBAAAAABBiHEEAAAAAhiwpQQAAAACAqyxBAAAAAM7RLUEAAAAA/D4lQQAAAACA8R5BAAAAABClHkEAAAAAlGoYQQAAAABIhxVBAAAAAAzpHkEAAAAA1NkaQQAAAACIzjBBAAAAAC6YJEEAAAAAzFEqQQAAAAAAph5BAAAAAGQQGUEAAAAAnhEhQQAAAAAkpR5BAAAAAOiQHEEAAAAA0gEuQQAAAAB8kDJBAAAAgHvyQUEAAAAAngE9QQAAAABRXDtBAAAAAI3YO0EAAACAKvtBQQAAAAAitDVBAAAAAKp+KUEAAAAA5OcrQQAAAAC6zylBAAAAALjQLkEAAAAAboMuQQAAAADWyS5BAAAAAOrPKUEAAAAAfpYoQQAAAABggi9BAAAAAFgOJkEAAAAAaKwsQQAAAAAcNy1BAAAAANarKUEAAAAAWqIlQQAAAAA6OyVBAAAAAEaPIEEAAAAAqpkoQQAAAAA2qiNBAAAAAKxYKkEAAAAATNYqQQAAAAAnxThBAAAAAO0SMUEAAAAA4rEuQQAAAAAKgjFBAAAAAC6AJkEAAAAA5scmQQAAAACejSRBAAAAABikK0EAAAAAMA4sQQAAAACwoylBAAAAAAqoLUEAAAAAhiAqQQAAAAC1aTVBAAAAABi7LUEAAAAA4JUpQQAAAADUcyNBAAAAABiTK0EAAAAA5KIvQQAAAAC2TSlBAAAAAO59LkEAAAAASnk2QQAAAADjqjVBAAAAAJaSNEEAAAAA/IouQQAAAABwTTBBAAAAAKbkMUEAAAAAXnotQQAAAABAfeFA",
          "dtype": "f8"
         },
         "yaxis": "y2"
        },
        {
         "line": {
          "width": 1.5
         },
         "mode": "lines",
         "name": "EMA 13",
         "type": "scatter",
         "x": [
          "2016-01-01T00:00:00.000000000",
          "2016-02-01T00:00:00.000000000",
          "2016-03-01T00:00:00.000000000",
          "2016-04-01T00:00:00.000000000",
          "2016-05-01T00:00:00.000000000",
          "2016-06-01T00:00:00.000000000",
          "2016-07-01T00:00:00.000000000",
          "2016-08-01T00:00:00.000000000",
          "2016-09-01T00:00:00.000000000",
          "2016-10-01T00:00:00.000000000",
          "2016-11-01T00:00:00.000000000",
          "2016-12-01T00:00:00.000000000",
          "2017-01-01T00:00:00.000000000",
          "2017-02-01T00:00:00.000000000",
          "2017-03-01T00:00:00.000000000",
          "2017-04-01T00:00:00.000000000",
          "2017-05-01T00:00:00.000000000",
          "2017-06-01T00:00:00.000000000",
          "2017-07-01T00:00:00.000000000",
          "2017-08-01T00:00:00.000000000",
          "2017-09-01T00:00:00.000000000",
          "2017-10-01T00:00:00.000000000",
          "2017-11-01T00:00:00.000000000",
          "2017-12-01T00:00:00.000000000",
          "2018-01-01T00:00:00.000000000",
          "2018-02-01T00:00:00.000000000",
          "2018-03-01T00:00:00.000000000",
          "2018-04-01T00:00:00.000000000",
          "2018-05-01T00:00:00.000000000",
          "2018-06-01T00:00:00.000000000",
          "2018-07-01T00:00:00.000000000",
          "2018-08-01T00:00:00.000000000",
          "2018-09-01T00:00:00.000000000",
          "2018-10-01T00:00:00.000000000",
          "2018-11-01T00:00:00.000000000",
          "2018-12-01T00:00:00.000000000",
          "2019-01-01T00:00:00.000000000",
          "2019-02-01T00:00:00.000000000",
          "2019-03-01T00:00:00.000000000",
          "2019-04-01T00:00:00.000000000",
          "2019-05-01T00:00:00.000000000",
          "2019-06-01T00:00:00.000000000",
          "2019-07-01T00:00:00.000000000",
          "2019-08-01T00:00:00.000000000",
          "2019-09-01T00:00:00.000000000",
          "2019-10-01T00:00:00.000000000",
          "2019-11-01T00:00:00.000000000",
          "2019-12-01T00:00:00.000000000",
          "2020-01-01T00:00:00.000000000",
          "2020-02-01T00:00:00.000000000",
          "2020-03-01T00:00:00.000000000",
          "2020-04-01T00:00:00.000000000",
          "2020-05-01T00:00:00.000000000",
          "2020-06-01T00:00:00.000000000",
          "2020-07-01T00:00:00.000000000",
          "2020-08-01T00:00:00.000000000",
          "2020-09-01T00:00:00.000000000",
          "2020-10-01T00:00:00.000000000",
          "2020-11-01T00:00:00.000000000",
          "2020-12-01T00:00:00.000000000",
          "2021-01-01T00:00:00.000000000",
          "2021-02-01T00:00:00.000000000",
          "2021-03-01T00:00:00.000000000",
          "2021-04-01T00:00:00.000000000",
          "2021-05-01T00:00:00.000000000",
          "2021-06-01T00:00:00.000000000",
          "2021-07-01T00:00:00.000000000",
          "2021-08-01T00:00:00.000000000",
          "2021-09-01T00:00:00.000000000",
          "2021-10-01T00:00:00.000000000",
          "2021-11-01T00:00:00.000000000",
          "2021-12-01T00:00:00.000000000",
          "2022-01-01T00:00:00.000000000",
          "2022-02-01T00:00:00.000000000",
          "2022-03-01T00:00:00.000000000",
          "2022-04-01T00:00:00.000000000",
          "2022-05-01T00:00:00.000000000",
          "2022-06-01T00:00:00.000000000",
          "2022-07-01T00:00:00.000000000",
          "2022-08-01T00:00:00.000000000",
          "2022-09-01T00:00:00.000000000",
          "2022-10-01T00:00:00.000000000",
          "2022-11-01T00:00:00.000000000",
          "2022-12-01T00:00:00.000000000",
          "2023-01-01T00:00:00.000000000",
          "2023-02-01T00:00:00.000000000",
          "2023-03-01T00:00:00.000000000",
          "2023-04-01T00:00:00.000000000",
          "2023-05-01T00:00:00.000000000",
          "2023-06-01T00:00:00.000000000",
          "2023-07-01T00:00:00.000000000",
          "2023-08-01T00:00:00.000000000",
          "2023-09-01T00:00:00.000000000",
          "2023-10-01T00:00:00.000000000",
          "2023-11-01T00:00:00.000000000",
          "2023-12-01T00:00:00.000000000",
          "2024-01-01T00:00:00.000000000",
          "2024-02-01T00:00:00.000000000",
          "2024-03-01T00:00:00.000000000",
          "2024-04-01T00:00:00.000000000",
          "2024-05-01T00:00:00.000000000",
          "2024-06-01T00:00:00.000000000",
          "2024-07-01T00:00:00.000000000",
          "2024-08-01T00:00:00.000000000",
          "2024-09-01T00:00:00.000000000",
          "2024-10-01T00:00:00.000000000",
          "2024-11-01T00:00:00.000000000",
          "2024-12-01T00:00:00.000000000",
          "2025-01-01T00:00:00.000000000",
          "2025-02-01T00:00:00.000000000",
          "2025-03-01T00:00:00.000000000",
          "2025-04-01T00:00:00.000000000",
          "2025-05-01T00:00:00.000000000",
          "2025-06-01T00:00:00.000000000"
         ],
         "xaxis": "x",
         "y": {
          "bdata": "pWXcQrLYdEA+XnhvWLx1QEbHsVmsVnZAzfmAqvg1d0BCH5NtZ7d4QBStosuhCHtAiANhoVHNfEC+cOWus819QAX3rH+i935AebQfTnpigEBG3oGvK1qBQO4MJzsWIYNAQE9LoW6bhEC++PC5I/OGQDbVYJ8eVohAFGOaGhTDikD6ZOpFDHCQQI1WpKlTvpNAcLaSnjcol0DywH2sL1CeQCajGAiuxKFARmendCcppkA8xiGt2PWtQKzCoCVvKrRA8wUyNvX6tkDY55/stJW5QKrcVQUx3rlADl6h7spXu0DSg73/l6S7QDgZJvEFQ7tAw16OheDRu0DbX/Y3mLu7QA1+2lsudbtActJqR9cHu0AKON/A4F25QOxbNNH+1LdAbF3ywVZUtkBADtc/dkW1QBPDk+0JhbRAaNqxtTuAtEC/aiMCdSu2QKSksLg/a7lAEaM/tJU8u0ChQqTjpK+8QCSuuFyCE71A7BhrZXMEvkAxVwsrAAK+QEGF1jrfwL1AgQQBV7+yvkD614vVZSy/QC6jzw4vSr5A5gAnXZ3nvkBQsD62yNe/QMvzeT++MsBASNhvq7wDwUCsSzslfdjBQH5P+AnDRsJA4SbcD5OOw0BMrEcGyfXFQBX67LRS5MpAyAS2C5010EBMN89h3jbUQB2dsQoabNlA10QNNaJc3UD7xXG4403eQLSpqsLH1t5AVeIrNh8e4EAHN781WynhQCS65W97tuFAz7wGNLBm40Cr49lJJKfkQGBrPlV3DOVARARwOsyk5ECEus2fg17kQEx7+Yjev+RASAOUMw965EDnYblmDsTjQNX0iB3kReJALNnFad9S4UDOPS2VPkTgQHekrBWYmN5AxlmFKC8e3UBwEsoMN1DbQM4PZOYcudlAAl7vFSA92UAndV83yeXYQP2Iv8G+PNlAel/X/ci02UBELd1rddDZQISUve4WcdpAalPk6TDD2kCzehvXKsDaQDpTb6IlsNpAgwX5bd6w20BiiDR0iwXdQGI6YLsKzt5AQMFjr/Ms4EA3yue690DiQMKIfTKLjuRAiXyXMrPj5UCpC7WnA4fnQIq5Sj93c+hAREfoudCQ6UC+wEq1DwrqQEsEVrHVxepAe9CoGx3860CdU5+4ULTuQKPwx9KScPBAsak92Z2+8UAydM5TJATyQNQLEPDrTvJA4uzLQk8D80CPBVeYT+jzQCprjA0+t/RA",
          "dtype": "f8"
         },
         "yaxis": "y"
        },
        {
         "line": {
          "width": 1.5
         },
         "mode": "lines",
         "name": "EMA 21",
         "type": "scatter",
         "x": [
          "2016-01-01T00:00:00.000000000",
          "2016-02-01T00:00:00.000000000",
          "2016-03-01T00:00:00.000000000",
          "2016-04-01T00:00:00.000000000",
          "2016-05-01T00:00:00.000000000",
          "2016-06-01T00:00:00.000000000",
          "2016-07-01T00:00:00.000000000",
          "2016-08-01T00:00:00.000000000",
          "2016-09-01T00:00:00.000000000",
          "2016-10-01T00:00:00.000000000",
          "2016-11-01T00:00:00.000000000",
          "2016-12-01T00:00:00.000000000",
          "2017-01-01T00:00:00.000000000",
          "2017-02-01T00:00:00.000000000",
          "2017-03-01T00:00:00.000000000",
          "2017-04-01T00:00:00.000000000",
          "2017-05-01T00:00:00.000000000",
          "2017-06-01T00:00:00.000000000",
          "2017-07-01T00:00:00.000000000",
          "2017-08-01T00:00:00.000000000",
          "2017-09-01T00:00:00.000000000",
          "2017-10-01T00:00:00.000000000",
          "2017-11-01T00:00:00.000000000",
          "2017-12-01T00:00:00.000000000",
          "2018-01-01T00:00:00.000000000",
          "2018-02-01T00:00:00.000000000",
          "2018-03-01T00:00:00.000000000",
          "2018-04-01T00:00:00.000000000",
          "2018-05-01T00:00:00.000000000",
          "2018-06-01T00:00:00.000000000",
          "2018-07-01T00:00:00.000000000",
          "2018-08-01T00:00:00.000000000",
          "2018-09-01T00:00:00.000000000",
          "2018-10-01T00:00:00.000000000",
          "2018-11-01T00:00:00.000000000",
          "2018-12-01T00:00:00.000000000",
          "2019-01-01T00:00:00.000000000",
          "2019-02-01T00:00:00.000000000",
          "2019-03-01T00:00:00.000000000",
          "2019-04-01T00:00:00.000000000",
          "2019-05-01T00:00:00.000000000",
          "2019-06-01T00:00:00.000000000",
          "2019-07-01T00:00:00.000000000",
          "2019-08-01T00:00:00.000000000",
          "2019-09-01T00:00:00.000000000",
          "2019-10-01T00:00:00.000000000",
          "2019-11-01T00:00:00.000000000",
          "2019-12-01T00:00:00.000000000",
          "2020-01-01T00:00:00.000000000",
          "2020-02-01T00:00:00.000000000",
          "2020-03-01T00:00:00.000000000",
          "2020-04-01T00:00:00.000000000",
          "2020-05-01T00:00:00.000000000",
          "2020-06-01T00:00:00.000000000",
          "2020-07-01T00:00:00.000000000",
          "2020-08-01T00:00:00.000000000",
          "2020-09-01T00:00:00.000000000",
          "2020-10-01T00:00:00.000000000",
          "2020-11-01T00:00:00.000000000",
          "2020-12-01T00:00:00.000000000",
          "2021-01-01T00:00:00.000000000",
          "2021-02-01T00:00:00.000000000",
          "2021-03-01T00:00:00.000000000",
          "2021-04-01T00:00:00.000000000",
          "2021-05-01T00:00:00.000000000",
          "2021-06-01T00:00:00.000000000",
          "2021-07-01T00:00:00.000000000",
          "2021-08-01T00:00:00.000000000",
          "2021-09-01T00:00:00.000000000",
          "2021-10-01T00:00:00.000000000",
          "2021-11-01T00:00:00.000000000",
          "2021-12-01T00:00:00.000000000",
          "2022-01-01T00:00:00.000000000",
          "2022-02-01T00:00:00.000000000",
          "2022-03-01T00:00:00.000000000",
          "2022-04-01T00:00:00.000000000",
          "2022-05-01T00:00:00.000000000",
          "2022-06-01T00:00:00.000000000",
          "2022-07-01T00:00:00.000000000",
          "2022-08-01T00:00:00.000000000",
          "2022-09-01T00:00:00.000000000",
          "2022-10-01T00:00:00.000000000",
          "2022-11-01T00:00:00.000000000",
          "2022-12-01T00:00:00.000000000",
          "2023-01-01T00:00:00.000000000",
          "2023-02-01T00:00:00.000000000",
          "2023-03-01T00:00:00.000000000",
          "2023-04-01T00:00:00.000000000",
          "2023-05-01T00:00:00.000000000",
          "2023-06-01T00:00:00.000000000",
          "2023-07-01T00:00:00.000000000",
          "2023-08-01T00:00:00.000000000",
          "2023-09-01T00:00:00.000000000",
          "2023-10-01T00:00:00.000000000",
          "2023-11-01T00:00:00.000000000",
          "2023-12-01T00:00:00.000000000",
          "2024-01-01T00:00:00.000000000",
          "2024-02-01T00:00:00.000000000",
          "2024-03-01T00:00:00.000000000",
          "2024-04-01T00:00:00.000000000",
          "2024-05-01T00:00:00.000000000",
          "2024-06-01T00:00:00.000000000",
          "2024-07-01T00:00:00.000000000",
          "2024-08-01T00:00:00.000000000",
          "2024-09-01T00:00:00.000000000",
          "2024-10-01T00:00:00.000000000",
          "2024-11-01T00:00:00.000000000",
          "2024-12-01T00:00:00.000000000",
          "2025-01-01T00:00:00.000000000",
          "2025-02-01T00:00:00.000000000",
          "2025-03-01T00:00:00.000000000",
          "2025-04-01T00:00:00.000000000",
          "2025-05-01T00:00:00.000000000",
          "2025-06-01T00:00:00.000000000"
         ],
         "xaxis": "x",
         "y": {
          "bdata": "aKOixvsxdUAs9lDuu7p1QANx7dQWHXZAvIH3QmywdkBO6oPI1rF3QNMaMlkgQ3lAURlBd22MekDsuWlsBmR7QP0frmvFWXxACHwiUTy8fUCuaRaOFz5/QGMz3HrS6IBAu+U/cD8NgkCLz3vhWcaDQNt2Eyoj8oRAzTacVDPMhkCRkzXdYQyLQLK0MCYTyY9AemhISERqkkBAds2ebGaXQHIAZ4I9WptAYrrRae3XoECfY6cxTEqmQL8UO4pclq1A8EX6BrgSsUCZuBZofUSzQN8S9OCiBbRAGaa4ePp9tUBOoIJIBDe2QLKfJ2dAd7ZAW0s7L8ZBt0AWZfkcyZ23QF6m/h7H0LdAlpLLLvbft0B+qlJ+Vhq3QKafldQBVbZA5mvuPiKDtUAEfjqyxum0QOzmHf+od7RAsqzefNF1tEAp3iKEooa1QIL4NtXwprdAVsGFuC74uECrUmIzExm6QKCVjO3blLpAcWcZoD5ou0CRE551bqO7QB6UQO0gsbtAYG8jqQZ7vEBppngJDfy8QAtySIYJn7xAyD0vUA0qvUD3BA+KZOu9QFrD42pUcr5ALNKpJLOpv0Dl09jKxXfAQPDJQvAC3sBAUxkqPGrPwUCkKVBJkH/DQJCVuCZK3MZA0r88FYG+ykDd1MdYuC3QQD6qtVAQ3NNAmlnYk1Df1kBZe5HH3g/YQDnNssxB+NhAPTggrFNk2kDMsIOOb0DcQN9objJZgd1AYJ+KKZsY4ECwXXmVcjHhQAsGZcRxwuFAo81pYwXN4UAIGAPmdOLhQGRE1Lk7WuJAGVquCphl4kCwpWYALiLiQO+fZvL4VOFA3tsE4TnQ4EA1SrWU4i/gQG7DEQXnJ99AoL+pbxEq3kAP5roRvOvcQGroqT5Cw9tAfAZCyeNE20BCeg0UD97aQGqGI7WN59pAUsnjUCQN20CQ5RR4cv/aQJpz5FUfSttA/JL5d6Nq20A0pr3qfVnbQDjmb8dbQdtACTOwoobX20BzmX8tzqzcQENm2uxe191AEzPLIbXp3kDx/+c9JdjgQPL/L9shcOJAg6ektIp640BSis3Ee73kQC/WQa7RlOVA3Ioy8jCN5kAE0t7SfiDnQEBBwSrE2+dAjmCmegrl6EBEG894/ufqQCsGHv67ouxAhKiPFaWu7kA7ixfXAHfvQFeqGOQ8IPBADs4D1NHF8EBhJvrlrovxQFN7x0BVRvJA",
          "dtype": "f8"
         },
         "yaxis": "y"
        },
        {
         "line": {
          "width": 1.5
         },
         "mode": "lines",
         "name": "Stochastic",
         "type": "scatter",
         "x": [
          "2016-01-01T00:00:00.000000000",
          "2016-02-01T00:00:00.000000000",
          "2016-03-01T00:00:00.000000000",
          "2016-04-01T00:00:00.000000000",
          "2016-05-01T00:00:00.000000000",
          "2016-06-01T00:00:00.000000000",
          "2016-07-01T00:00:00.000000000",
          "2016-08-01T00:00:00.000000000",
          "2016-09-01T00:00:00.000000000",
          "2016-10-01T00:00:00.000000000",
          "2016-11-01T00:00:00.000000000",
          "2016-12-01T00:00:00.000000000",
          "2017-01-01T00:00:00.000000000",
          "2017-02-01T00:00:00.000000000",
          "2017-03-01T00:00:00.000000000",
          "2017-04-01T00:00:00.000000000",
          "2017-05-01T00:00:00.000000000",
          "2017-06-01T00:00:00.000000000",
          "2017-07-01T00:00:00.000000000",
          "2017-08-01T00:00:00.000000000",
          "2017-09-01T00:00:00.000000000",
          "2017-10-01T00:00:00.000000000",
          "2017-11-01T00:00:00.000000000",
          "2017-12-01T00:00:00.000000000",
          "2018-01-01T00:00:00.000000000",
          "2018-02-01T00:00:00.000000000",
          "2018-03-01T00:00:00.000000000",
          "2018-04-01T00:00:00.000000000",
          "2018-05-01T00:00:00.000000000",
          "2018-06-01T00:00:00.000000000",
          "2018-07-01T00:00:00.000000000",
          "2018-08-01T00:00:00.000000000",
          "2018-09-01T00:00:00.000000000",
          "2018-10-01T00:00:00.000000000",
          "2018-11-01T00:00:00.000000000",
          "2018-12-01T00:00:00.000000000",
          "2019-01-01T00:00:00.000000000",
          "2019-02-01T00:00:00.000000000",
          "2019-03-01T00:00:00.000000000",
          "2019-04-01T00:00:00.000000000",
          "2019-05-01T00:00:00.000000000",
          "2019-06-01T00:00:00.000000000",
          "2019-07-01T00:00:00.000000000",
          "2019-08-01T00:00:00.000000000",
          "2019-09-01T00:00:00.000000000",
          "2019-10-01T00:00:00.000000000",
          "2019-11-01T00:00:00.000000000",
          "2019-12-01T00:00:00.000000000",
          "2020-01-01T00:00:00.000000000",
          "2020-02-01T00:00:00.000000000",
          "2020-03-01T00:00:00.000000000",
          "2020-04-01T00:00:00.000000000",
          "2020-05-01T00:00:00.000000000",
          "2020-06-01T00:00:00.000000000",
          "2020-07-01T00:00:00.000000000",
          "2020-08-01T00:00:00.000000000",
          "2020-09-01T00:00:00.000000000",
          "2020-10-01T00:00:00.000000000",
          "2020-11-01T00:00:00.000000000",
          "2020-12-01T00:00:00.000000000",
          "2021-01-01T00:00:00.000000000",
          "2021-02-01T00:00:00.000000000",
          "2021-03-01T00:00:00.000000000",
          "2021-04-01T00:00:00.000000000",
          "2021-05-01T00:00:00.000000000",
          "2021-06-01T00:00:00.000000000",
          "2021-07-01T00:00:00.000000000",
          "2021-08-01T00:00:00.000000000",
          "2021-09-01T00:00:00.000000000",
          "2021-10-01T00:00:00.000000000",
          "2021-11-01T00:00:00.000000000",
          "2021-12-01T00:00:00.000000000",
          "2022-01-01T00:00:00.000000000",
          "2022-02-01T00:00:00.000000000",
          "2022-03-01T00:00:00.000000000",
          "2022-04-01T00:00:00.000000000",
          "2022-05-01T00:00:00.000000000",
          "2022-06-01T00:00:00.000000000",
          "2022-07-01T00:00:00.000000000",
          "2022-08-01T00:00:00.000000000",
          "2022-09-01T00:00:00.000000000",
          "2022-10-01T00:00:00.000000000",
          "2022-11-01T00:00:00.000000000",
          "2022-12-01T00:00:00.000000000",
          "2023-01-01T00:00:00.000000000",
          "2023-02-01T00:00:00.000000000",
          "2023-03-01T00:00:00.000000000",
          "2023-04-01T00:00:00.000000000",
          "2023-05-01T00:00:00.000000000",
          "2023-06-01T00:00:00.000000000",
          "2023-07-01T00:00:00.000000000",
          "2023-08-01T00:00:00.000000000",
          "2023-09-01T00:00:00.000000000",
          "2023-10-01T00:00:00.000000000",
          "2023-11-01T00:00:00.000000000",
          "2023-12-01T00:00:00.000000000",
          "2024-01-01T00:00:00.000000000",
          "2024-02-01T00:00:00.000000000",
          "2024-03-01T00:00:00.000000000",
          "2024-04-01T00:00:00.000000000",
          "2024-05-01T00:00:00.000000000",
          "2024-06-01T00:00:00.000000000",
          "2024-07-01T00:00:00.000000000",
          "2024-08-01T00:00:00.000000000",
          "2024-09-01T00:00:00.000000000",
          "2024-10-01T00:00:00.000000000",
          "2024-11-01T00:00:00.000000000",
          "2024-12-01T00:00:00.000000000",
          "2025-01-01T00:00:00.000000000",
          "2025-02-01T00:00:00.000000000",
          "2025-03-01T00:00:00.000000000",
          "2025-04-01T00:00:00.000000000",
          "2025-05-01T00:00:00.000000000",
          "2025-06-01T00:00:00.000000000"
         ],
         "xaxis": "x3",
         "y": {
          "bdata": "EGyf7uVk5j8AueterSvoP81WJDGhpOc/KANlSPYz6j93Oe82s9zrP7VXm5WLO+w/aBKJvc3B6j8TEYXTekfnPyV9LJZka+Y/efK0NWCG5z/ogpHm/3zqPwvS8w4eK+0/+2FEp93y6z/Y/QdZO1nsP0VU5Vyiy+k/OOnwG9Q/7D8UjAUC7lXqP4nKG2PSlOs/1aCAS5hH6z85GdS8eJLtP8PyWb4Xs+0/vRPS/NhT7j8k9/iRTcrsPzfYZsCyv+o/REncehx25T8yEF3+NNzhP3UEExgRvtw/gw9BvbaX2z/Bnuf78vrXP4hHfGPj3tY/R6NvmVG41D9zgfPlQXHTP/mPOaA9jNI/59+S4V+3zj8ZjKoU8ajDP4M8P4kUfrY/y0QHGWr6nD+TUqVnJd+hP/1ZyheGsq4/gwcRGE1pwT+le5kuyZvXPzK0z/C56OI/P3LC5eHg5j8f59KVe0vlP3cl+IQ/3uE/AauWIyk94T+pqDv8M7TeP51k0ZaQFd0/3OvIQOlw3T98BAlYgEzfP0y9htpFWd0/Y3oRjkLp2z8vTywiPjLdP2wik4/wGeE/82CWJwWB4z9zebpWelvmP2XZv0fXLuk/7WGCkSnj6z+4uDwT+gPtPxNRcXyGGe8/ceT1WATi7D9PAML3vO7qP6NC7HhRaOo/3+6sy63n6j8Dn2aCXVzoPzI19JuQaeM/NFaO637W4D8VJ8NyKbbiP+cql0WiG+Q/WG5LS8tT5z/b/PBOSn7oP7w7rtP9tOg/2wfRTUJ24z9IQDUSwSbbP33lv7plmtc/vD7ZryRg1D/D6tUKvRDSP6mC7QN33sE/O5YLs2hOuT8LrI5DHEyxP5PQIt7C4LE/6/N3P7SHqT802Z2/9vukPyVFW9WpaqI/E3zkqRNusj/Qt3d1/2zCP2ReQ3VU5dA/HP/ld5891j/XSWYFNMvYP111L45KGt4//UjXMhxW4z+jeGroeTjnP2hCcU4mAeg/289B8CSH6T9dMbWeITPsP3jbT8CikO4/8GP4Exnf7D/BFlPvPODsP5XtkTWmBe0/CSsJj6yh7D8LJoDjQ7LrP6sZ4ywdrOk/1SdsUXR36j+ffF+f1XfoP1BzA1Ya/ug/bQTHjLNU6j8wUyxmfgXtP0nuh2V2Ie0/BW5Df5nQ7D8MrLcvxvnoP5yUFQxjv+Y/jNNggFDs5D8BgvP369DnPxeg5MGr2+o/",
          "dtype": "f8"
         },
         "yaxis": "y3"
        },
        {
         "line": {
          "width": 1.5
         },
         "mode": "lines",
         "name": "Stochastic",
         "type": "scatter",
         "x": [
          "2016-01-01T00:00:00.000000000",
          "2016-02-01T00:00:00.000000000",
          "2016-03-01T00:00:00.000000000",
          "2016-04-01T00:00:00.000000000",
          "2016-05-01T00:00:00.000000000",
          "2016-06-01T00:00:00.000000000",
          "2016-07-01T00:00:00.000000000",
          "2016-08-01T00:00:00.000000000",
          "2016-09-01T00:00:00.000000000",
          "2016-10-01T00:00:00.000000000",
          "2016-11-01T00:00:00.000000000",
          "2016-12-01T00:00:00.000000000",
          "2017-01-01T00:00:00.000000000",
          "2017-02-01T00:00:00.000000000",
          "2017-03-01T00:00:00.000000000",
          "2017-04-01T00:00:00.000000000",
          "2017-05-01T00:00:00.000000000",
          "2017-06-01T00:00:00.000000000",
          "2017-07-01T00:00:00.000000000",
          "2017-08-01T00:00:00.000000000",
          "2017-09-01T00:00:00.000000000",
          "2017-10-01T00:00:00.000000000",
          "2017-11-01T00:00:00.000000000",
          "2017-12-01T00:00:00.000000000",
          "2018-01-01T00:00:00.000000000",
          "2018-02-01T00:00:00.000000000",
          "2018-03-01T00:00:00.000000000",
          "2018-04-01T00:00:00.000000000",
          "2018-05-01T00:00:00.000000000",
          "2018-06-01T00:00:00.000000000",
          "2018-07-01T00:00:00.000000000",
          "2018-08-01T00:00:00.000000000",
          "2018-09-01T00:00:00.000000000",
          "2018-10-01T00:00:00.000000000",
          "2018-11-01T00:00:00.000000000",
          "2018-12-01T00:00:00.000000000",
          "2019-01-01T00:00:00.000000000",
          "2019-02-01T00:00:00.000000000",
          "2019-03-01T00:00:00.000000000",
          "2019-04-01T00:00:00.000000000",
          "2019-05-01T00:00:00.000000000",
          "2019-06-01T00:00:00.000000000",
          "2019-07-01T00:00:00.000000000",
          "2019-08-01T00:00:00.000000000",
          "2019-09-01T00:00:00.000000000",
          "2019-10-01T00:00:00.000000000",
          "2019-11-01T00:00:00.000000000",
          "2019-12-01T00:00:00.000000000",
          "2020-01-01T00:00:00.000000000",
          "2020-02-01T00:00:00.000000000",
          "2020-03-01T00:00:00.000000000",
          "2020-04-01T00:00:00.000000000",
          "2020-05-01T00:00:00.000000000",
          "2020-06-01T00:00:00.000000000",
          "2020-07-01T00:00:00.000000000",
          "2020-08-01T00:00:00.000000000",
          "2020-09-01T00:00:00.000000000",
          "2020-10-01T00:00:00.000000000",
          "2020-11-01T00:00:00.000000000",
          "2020-12-01T00:00:00.000000000",
          "2021-01-01T00:00:00.000000000",
          "2021-02-01T00:00:00.000000000",
          "2021-03-01T00:00:00.000000000",
          "2021-04-01T00:00:00.000000000",
          "2021-05-01T00:00:00.000000000",
          "2021-06-01T00:00:00.000000000",
          "2021-07-01T00:00:00.000000000",
          "2021-08-01T00:00:00.000000000",
          "2021-09-01T00:00:00.000000000",
          "2021-10-01T00:00:00.000000000",
          "2021-11-01T00:00:00.000000000",
          "2021-12-01T00:00:00.000000000",
          "2022-01-01T00:00:00.000000000",
          "2022-02-01T00:00:00.000000000",
          "2022-03-01T00:00:00.000000000",
          "2022-04-01T00:00:00.000000000",
          "2022-05-01T00:00:00.000000000",
          "2022-06-01T00:00:00.000000000",
          "2022-07-01T00:00:00.000000000",
          "2022-08-01T00:00:00.000000000",
          "2022-09-01T00:00:00.000000000",
          "2022-10-01T00:00:00.000000000",
          "2022-11-01T00:00:00.000000000",
          "2022-12-01T00:00:00.000000000",
          "2023-01-01T00:00:00.000000000",
          "2023-02-01T00:00:00.000000000",
          "2023-03-01T00:00:00.000000000",
          "2023-04-01T00:00:00.000000000",
          "2023-05-01T00:00:00.000000000",
          "2023-06-01T00:00:00.000000000",
          "2023-07-01T00:00:00.000000000",
          "2023-08-01T00:00:00.000000000",
          "2023-09-01T00:00:00.000000000",
          "2023-10-01T00:00:00.000000000",
          "2023-11-01T00:00:00.000000000",
          "2023-12-01T00:00:00.000000000",
          "2024-01-01T00:00:00.000000000",
          "2024-02-01T00:00:00.000000000",
          "2024-03-01T00:00:00.000000000",
          "2024-04-01T00:00:00.000000000",
          "2024-05-01T00:00:00.000000000",
          "2024-06-01T00:00:00.000000000",
          "2024-07-01T00:00:00.000000000",
          "2024-08-01T00:00:00.000000000",
          "2024-09-01T00:00:00.000000000",
          "2024-10-01T00:00:00.000000000",
          "2024-11-01T00:00:00.000000000",
          "2024-12-01T00:00:00.000000000",
          "2025-01-01T00:00:00.000000000",
          "2025-02-01T00:00:00.000000000",
          "2025-03-01T00:00:00.000000000",
          "2025-04-01T00:00:00.000000000",
          "2025-05-01T00:00:00.000000000",
          "2025-06-01T00:00:00.000000000"
         ],
         "xaxis": "x3",
         "y": {
          "bdata": "ww+E6H1a4j8Ab0hPoyLmP/TTj38RZ+c//LDR8has6D95hn3lGOfpPxzcT1y8bus/3IsGLgSe6z9lfjhi8RbqPzXgaGLkJug/5SoiNRUT5z8tpns77CToPyRtE7nUZOo/peft3lPe6z9Lu2paEn3sP7PmZXQ+Xes/HGmf8OV26z8wQ0l+IcvqP/O/sNWGY+s/0afgOsgQ6z+IgSV59iTsP5s5OkK42ew/PbWq0s3d7T/hqWHEFJvtP7NLu29In+w/i11pRLSq6T85u4poAQbmP5Cea6zI5eE/yGav8GWv3j895hObk8XaP0Sn4V6E0Ng/2y3xUg2G1j/Bzp9L0gLVP+fm3l/wkdM/dYCnJ2XI0T9Q2ToSRCjNPxauSb5zisQ/owzyEtsEtz+rJI3XK8ipP/zE+4P1BKU/Gfed+s+zsz/FMRKp1RnIP0TNFTShYNc/F0xKzyrd4T/bWczOBwflP51/hFU0ruQ/3ed1v/bM4j+a4Y431tHgP292E54HbN8/DFNH8Tm+3T9THOEP/vDdPziPHdGPB94/ZGng6gKF3T+g15aDl9HcPyRaIUXLb94/qOO/QlwR4T/x/kuveqfjP+87sOwcWeY/QzxUZX4k6T+tpn/5qFzrP+gjEAuOVe0/a0/hooGq7T9HZ7iZwvjsPyENjJhbaOs/8WUeFJS/6j8t8P/sHuTpPwdBrfgzj+c/Iw6jWCQ05D9/Oxf+ElLiP7viojZujeI/cZWMVjK35D8JMvGfkqTmP1Di+HkGLeg/JcB6JS7j5j8/oYjjij/jPylnMniO5N0/LMxE1MO11z//BCUnba7UPzhHGdNolc8/cLZfJrc3xj+LwtFUJh26P6BblPEXKbQ/vPlI1tD1rz/HJMmTZWyrPxwGe/HGpKU/MLJA+JdrqT8b2tV/In+1Pzjm+mY7esQ/JBP3N9Ed0D9z4i+mYk/VP3E/KVlfttk/u8UWU5Iw3z/Ffsgg6TPjP1gBkXjpL+Y/o4O0t0FA6D/ga81JJOnpP5BJwm/4GOw/lyX/0Ek27T+4HImW/W/tPxh49BJU7Ow/IGVPkdrX7D/kFAk4MnPsP0DOzt9ZVes/L83vdZyc6j9gPzpfIonpP5ey72whT+k/H/wN1otD6T/5mKdtGcjqP6Nsfh04Kew/1Y9Sbi/97D8fWNYG8qPrP5CPBelAg+k/vAa6PtPh5j+4+M3W337mP4z8Er6i3ec/",
          "dtype": "f8"
         },
         "yaxis": "y3"
        },
        {
         "line": {
          "width": 1.5
         },
         "mode": "lines",
         "name": "MACD Line",
         "type": "scatter",
         "x": [
          "2016-01-01T00:00:00.000000000",
          "2016-02-01T00:00:00.000000000",
          "2016-03-01T00:00:00.000000000",
          "2016-04-01T00:00:00.000000000",
          "2016-05-01T00:00:00.000000000",
          "2016-06-01T00:00:00.000000000",
          "2016-07-01T00:00:00.000000000",
          "2016-08-01T00:00:00.000000000",
          "2016-09-01T00:00:00.000000000",
          "2016-10-01T00:00:00.000000000",
          "2016-11-01T00:00:00.000000000",
          "2016-12-01T00:00:00.000000000",
          "2017-01-01T00:00:00.000000000",
          "2017-02-01T00:00:00.000000000",
          "2017-03-01T00:00:00.000000000",
          "2017-04-01T00:00:00.000000000",
          "2017-05-01T00:00:00.000000000",
          "2017-06-01T00:00:00.000000000",
          "2017-07-01T00:00:00.000000000",
          "2017-08-01T00:00:00.000000000",
          "2017-09-01T00:00:00.000000000",
          "2017-10-01T00:00:00.000000000",
          "2017-11-01T00:00:00.000000000",
          "2017-12-01T00:00:00.000000000",
          "2018-01-01T00:00:00.000000000",
          "2018-02-01T00:00:00.000000000",
          "2018-03-01T00:00:00.000000000",
          "2018-04-01T00:00:00.000000000",
          "2018-05-01T00:00:00.000000000",
          "2018-06-01T00:00:00.000000000",
          "2018-07-01T00:00:00.000000000",
          "2018-08-01T00:00:00.000000000",
          "2018-09-01T00:00:00.000000000",
          "2018-10-01T00:00:00.000000000",
          "2018-11-01T00:00:00.000000000",
          "2018-12-01T00:00:00.000000000",
          "2019-01-01T00:00:00.000000000",
          "2019-02-01T00:00:00.000000000",
          "2019-03-01T00:00:00.000000000",
          "2019-04-01T00:00:00.000000000",
          "2019-05-01T00:00:00.000000000",
          "2019-06-01T00:00:00.000000000",
          "2019-07-01T00:00:00.000000000",
          "2019-08-01T00:00:00.000000000",
          "2019-09-01T00:00:00.000000000",
          "2019-10-01T00:00:00.000000000",
          "2019-11-01T00:00:00.000000000",
          "2019-12-01T00:00:00.000000000",
          "2020-01-01T00:00:00.000000000",
          "2020-02-01T00:00:00.000000000",
          "2020-03-01T00:00:00.000000000",
          "2020-04-01T00:00:00.000000000",
          "2020-05-01T00:00:00.000000000",
          "2020-06-01T00:00:00.000000000",
          "2020-07-01T00:00:00.000000000",
          "2020-08-01T00:00:00.000000000",
          "2020-09-01T00:00:00.000000000",
          "2020-10-01T00:00:00.000000000",
          "2020-11-01T00:00:00.000000000",
          "2020-12-01T00:00:00.000000000",
          "2021-01-01T00:00:00.000000000",
          "2021-02-01T00:00:00.000000000",
          "2021-03-01T00:00:00.000000000",
          "2021-04-01T00:00:00.000000000",
          "2021-05-01T00:00:00.000000000",
          "2021-06-01T00:00:00.000000000",
          "2021-07-01T00:00:00.000000000",
          "2021-08-01T00:00:00.000000000",
          "2021-09-01T00:00:00.000000000",
          "2021-10-01T00:00:00.000000000",
          "2021-11-01T00:00:00.000000000",
          "2021-12-01T00:00:00.000000000",
          "2022-01-01T00:00:00.000000000",
          "2022-02-01T00:00:00.000000000",
          "2022-03-01T00:00:00.000000000",
          "2022-04-01T00:00:00.000000000",
          "2022-05-01T00:00:00.000000000",
          "2022-06-01T00:00:00.000000000",
          "2022-07-01T00:00:00.000000000",
          "2022-08-01T00:00:00.000000000",
          "2022-09-01T00:00:00.000000000",
          "2022-10-01T00:00:00.000000000",
          "2022-11-01T00:00:00.000000000",
          "2022-12-01T00:00:00.000000000",
          "2023-01-01T00:00:00.000000000",
          "2023-02-01T00:00:00.000000000",
          "2023-03-01T00:00:00.000000000",
          "2023-04-01T00:00:00.000000000",
          "2023-05-01T00:00:00.000000000",
          "2023-06-01T00:00:00.000000000",
          "2023-07-01T00:00:00.000000000",
          "2023-08-01T00:00:00.000000000",
          "2023-09-01T00:00:00.000000000",
          "2023-10-01T00:00:00.000000000",
          "2023-11-01T00:00:00.000000000",
          "2023-12-01T00:00:00.000000000",
          "2024-01-01T00:00:00.000000000",
          "2024-02-01T00:00:00.000000000",
          "2024-03-01T00:00:00.000000000",
          "2024-04-01T00:00:00.000000000",
          "2024-05-01T00:00:00.000000000",
          "2024-06-01T00:00:00.000000000",
          "2024-07-01T00:00:00.000000000",
          "2024-08-01T00:00:00.000000000",
          "2024-09-01T00:00:00.000000000",
          "2024-10-01T00:00:00.000000000",
          "2024-11-01T00:00:00.000000000",
          "2024-12-01T00:00:00.000000000",
          "2025-01-01T00:00:00.000000000",
          "2025-02-01T00:00:00.000000000",
          "2025-03-01T00:00:00.000000000",
          "2025-04-01T00:00:00.000000000",
          "2025-05-01T00:00:00.000000000",
          "2025-06-01T00:00:00.000000000"
         ],
         "xaxis": "x4",
         "y": {
          "bdata": "wAAtXH05G8AAmh41Lar6P0BPjbNzchtAAArmPpQPLECwFwWXREI6QPBEtgdnW0ZAiDqIX7ZbTEBQ+o7MmXBOQJh9mRlEi1BAlGpy1JUwU0BQ7BITjupVQKiHhic/CVxAFDdWk5YnYECUxW4bKAxkQHi2naMwe2VAHFC7tXIfaUDEJlmPrllyQLxtqU1aNXhAEC/RGGXRfUCC/tNcK6mFQK5JJVbhr4lAJzv1OAyukEAEwfoZWQCYQJRSiONKyqBA4MPJ2tmHokD+zhn/xeWjQKxhKKeTkKJAlGlgHGuvokDoJHO8YH2hQFx1FvAuSJ9AJOljJTABnkAMf6EgMWabQMjXH/QQmZhAZKu17gmylUCE/C9Jf0aQQEjqum/CM4dAECNdcBiOfUBAGCPzAhJyQAC74zUJgmRAwJ7pSBM0Y0AAbCKaBQl4QJDqwZLcqIlA+ISFp/W7j0Cor7cfydKRQHA1rVHQP5FA2DDwnFH1kUCs34bAXnyQQAiPU1xTMI1AoEC+elYWj0AwJIBwtbmOQDBFAP0jU4hA2JX5ht0piUBQAl0uxF6LQFhbhPTlqotAmLTbAT9hkED0wf06SsaSQCCxb2rMLZNAWEDc/h1Zl0AIErEtJhegQNhJeIQvyKlAvKJfxv79sUC082YxPXC5QIQ23V5JecFAPG00oAJqxEAQw3IsM8TDQKj9JHmPusJANNqsLvq/wkAUD3eeO4zDQAQ3gLvTLsNAjMRNM+BkxUAwimXvPnLGQFypQ9ebgMVA8B13ZwTbwkBkj7wQn7rAQCh8m1BPP8BA4L9nI/axvED4Y+itckK3QMD1q+EalK1AMPHc2nfrokAQPHovMFuQQADA16ACcFzAQGcq4EGsjMDAOI1h0tCcwFCU5dIkHKTAoPcsRjRspMBwF7AwwhqkwEB7XphmzaDAcNRKKZR1msDg+VBjRC+XwGA0zrQ2J4/AQAzzDaLBhsCAsunPnQqFwIACCuA5ZYTAAMwhX5ztOMBgHeLezwSHQOB/kpUDcZpA4CN+4Nn/okCgJxc4evqxQHjmevRBv7pAgEKS+nVyvkCkk7ifTpvBQLRuA1tGM8JAhNujuOgtw0D4xaAj1KbCQIRCXwrewcJAFEuoWeDtw0DcHHyey1/IQOiJnr4RO8tA0NHmnb3SzkDQ7peB34DNQHjygHfuZcxAQIN2t+c8zUBg0bcAUtzOQBj5mdxO989A",
          "dtype": "f8"
         },
         "yaxis": "y4"
        },
        {
         "line": {
          "width": 1.5
         },
         "mode": "lines",
         "name": "MACD Signal Line",
         "type": "scatter",
         "x": [
          "2016-01-01T00:00:00.000000000",
          "2016-02-01T00:00:00.000000000",
          "2016-03-01T00:00:00.000000000",
          "2016-04-01T00:00:00.000000000",
          "2016-05-01T00:00:00.000000000",
          "2016-06-01T00:00:00.000000000",
          "2016-07-01T00:00:00.000000000",
          "2016-08-01T00:00:00.000000000",
          "2016-09-01T00:00:00.000000000",
          "2016-10-01T00:00:00.000000000",
          "2016-11-01T00:00:00.000000000",
          "2016-12-01T00:00:00.000000000",
          "2017-01-01T00:00:00.000000000",
          "2017-02-01T00:00:00.000000000",
          "2017-03-01T00:00:00.000000000",
          "2017-04-01T00:00:00.000000000",
          "2017-05-01T00:00:00.000000000",
          "2017-06-01T00:00:00.000000000",
          "2017-07-01T00:00:00.000000000",
          "2017-08-01T00:00:00.000000000",
          "2017-09-01T00:00:00.000000000",
          "2017-10-01T00:00:00.000000000",
          "2017-11-01T00:00:00.000000000",
          "2017-12-01T00:00:00.000000000",
          "2018-01-01T00:00:00.000000000",
          "2018-02-01T00:00:00.000000000",
          "2018-03-01T00:00:00.000000000",
          "2018-04-01T00:00:00.000000000",
          "2018-05-01T00:00:00.000000000",
          "2018-06-01T00:00:00.000000000",
          "2018-07-01T00:00:00.000000000",
          "2018-08-01T00:00:00.000000000",
          "2018-09-01T00:00:00.000000000",
          "2018-10-01T00:00:00.000000000",
          "2018-11-01T00:00:00.000000000",
          "2018-12-01T00:00:00.000000000",
          "2019-01-01T00:00:00.000000000",
          "2019-02-01T00:00:00.000000000",
          "2019-03-01T00:00:00.000000000",
          "2019-04-01T00:00:00.000000000",
          "2019-05-01T00:00:00.000000000",
          "2019-06-01T00:00:00.000000000",
          "2019-07-01T00:00:00.000000000",
          "2019-08-01T00:00:00.000000000",
          "2019-09-01T00:00:00.000000000",
          "2019-10-01T00:00:00.000000000",
          "2019-11-01T00:00:00.000000000",
          "2019-12-01T00:00:00.000000000",
          "2020-01-01T00:00:00.000000000",
          "2020-02-01T00:00:00.000000000",
          "2020-03-01T00:00:00.000000000",
          "2020-04-01T00:00:00.000000000",
          "2020-05-01T00:00:00.000000000",
          "2020-06-01T00:00:00.000000000",
          "2020-07-01T00:00:00.000000000",
          "2020-08-01T00:00:00.000000000",
          "2020-09-01T00:00:00.000000000",
          "2020-10-01T00:00:00.000000000",
          "2020-11-01T00:00:00.000000000",
          "2020-12-01T00:00:00.000000000",
          "2021-01-01T00:00:00.000000000",
          "2021-02-01T00:00:00.000000000",
          "2021-03-01T00:00:00.000000000",
          "2021-04-01T00:00:00.000000000",
          "2021-05-01T00:00:00.000000000",
          "2021-06-01T00:00:00.000000000",
          "2021-07-01T00:00:00.000000000",
          "2021-08-01T00:00:00.000000000",
          "2021-09-01T00:00:00.000000000",
          "2021-10-01T00:00:00.000000000",
          "2021-11-01T00:00:00.000000000",
          "2021-12-01T00:00:00.000000000",
          "2022-01-01T00:00:00.000000000",
          "2022-02-01T00:00:00.000000000",
          "2022-03-01T00:00:00.000000000",
          "2022-04-01T00:00:00.000000000",
          "2022-05-01T00:00:00.000000000",
          "2022-06-01T00:00:00.000000000",
          "2022-07-01T00:00:00.000000000",
          "2022-08-01T00:00:00.000000000",
          "2022-09-01T00:00:00.000000000",
          "2022-10-01T00:00:00.000000000",
          "2022-11-01T00:00:00.000000000",
          "2022-12-01T00:00:00.000000000",
          "2023-01-01T00:00:00.000000000",
          "2023-02-01T00:00:00.000000000",
          "2023-03-01T00:00:00.000000000",
          "2023-04-01T00:00:00.000000000",
          "2023-05-01T00:00:00.000000000",
          "2023-06-01T00:00:00.000000000",
          "2023-07-01T00:00:00.000000000",
          "2023-08-01T00:00:00.000000000",
          "2023-09-01T00:00:00.000000000",
          "2023-10-01T00:00:00.000000000",
          "2023-11-01T00:00:00.000000000",
          "2023-12-01T00:00:00.000000000",
          "2024-01-01T00:00:00.000000000",
          "2024-02-01T00:00:00.000000000",
          "2024-03-01T00:00:00.000000000",
          "2024-04-01T00:00:00.000000000",
          "2024-05-01T00:00:00.000000000",
          "2024-06-01T00:00:00.000000000",
          "2024-07-01T00:00:00.000000000",
          "2024-08-01T00:00:00.000000000",
          "2024-09-01T00:00:00.000000000",
          "2024-10-01T00:00:00.000000000",
          "2024-11-01T00:00:00.000000000",
          "2024-12-01T00:00:00.000000000",
          "2025-01-01T00:00:00.000000000",
          "2025-02-01T00:00:00.000000000",
          "2025-03-01T00:00:00.000000000",
          "2025-04-01T00:00:00.000000000",
          "2025-05-01T00:00:00.000000000",
          "2025-06-01T00:00:00.000000000"
         ],
         "xaxis": "x4",
         "y": {
          "bdata": "1Q7LciTgL8DRFOigddUowO67XohSHyHAfPWhWuIrEMAgnZ5g0CMAQC7wF7MVHSVAfHemOuvJM0BQXb6AxgE8QPe9vD0E0kFAaI+RuaXuRUANnhWc8E9KQMHAVkbTIVBAPLA0cxheU0DSqInNVoNXQHI2rbIlZ1tANOU7cbL4X0D9N9WZ8yBkQK9Y7mZNyWlAfMYiLjNHcEBk0aPj0691QMmRK3LQn3tAlOvZqr64gUBFoxKTIseHQL7ICskrOpBA8u7ykeBklEDB3v8NNkaYQHkMEE5m2JpANjQAfUnznEAi0scV+yeeQMjyPQ6fYZ5AqL14rFVOnkBW5ICQgbmdQG57baQEs5xAoB6vGWxMm0BosZWJCRiZQI7YcKw0ZZZAMyKSj95kk0BfqTYyMmuQQL8+CZOdS4tAI3p5bOXLhkCCbDHmBKSEQLiFgdX8pIVAX1KC/5Sph0D2VEsMLg+KQFlZTvdEv4tAa8GeBIthjUDOjU7qYRmOQEDBgmfF6o1AIEEoOK8mjkC9oQbdFkSOQNQo0knmE41AbwvaIn5LjECdCcG+JRyMQClNG2N/BYxAK7ltthj4jEDrFIqpZK+OQJj4s/IdHJBA8ga8jreOkUD4P93qbnuUQLZQFCTSsppALi77kFPgoUA6UyXu9HmoQBk3NIWyx7BALL4+RPaWtUBdGWBIpi25QI5G9QNYortAh1wJSXebvUAOUGoTRIG/QG2RqpNFcMBAc2j+Gf5twUD/O0be127CQBKFEhD/C8NAPj3AVDMCw0ATtPITfI3CQLF1FCBzF8JAJL6ag8FXwUCCCBPhPzPAQP5yfEvP4LxAg9qsOJj+uEBqy7YvPNC0QCL2d4rWj7BA2jckX7oQqUACp1tCsyuhQEo2neLcbZNAVO57/jt/fUBEZ6AEpyNhwA5EBa6m3oDAOFhVNVoUiMDtEMu4lomMwJ6xy4SDD43AJSpt07zMi8A4EoaftnKKwHp1oN/QPInADpQYrYlYhMCJRzMiiVh3wDAC+3vcz0NA0NyXhqwwgEDURE/82duUQLh36vnXCqNAxuDCxahpq0CRLv6O/AGyQFYeM/2yr7VArQkErlIFuUBUvXaZMHq7QKxLuEsZfL1A+cDWxjqPv0BcuW6ipn/BQKx8q0HvccNAgFq37X64xUD2ROSk+EbHQN2aA88pTchA8WLnY+lJyUDURUSDMWfKQBbQuy4EhMtA",
          "dtype": "f8"
         },
         "yaxis": "y4"
        },
        {
         "marker": {
          "color": [
           "green",
           "green",
           "green",
           "green",
           "green",
           "green",
           "green",
           "green",
           "green",
           "green",
           "green",
           "green",
           "green",
           "green",
           "green",
           "green",
           "green",
           "green",
           "green",
           "green",
           "green",
           "green",
           "green",
           "green",
           "green",
           "green",
           "green",
           "green",
           "green",
           "green",
           "red",
           "red",
           "red",
           "red",
           "red",
           "red",
           "red",
           "red",
           "red",
           "red",
           "red",
           "green",
           "green",
           "green",
           "green",
           "green",
           "green",
           "red",
           "green",
           "green",
           "red",
           "red",
           "red",
           "red",
           "green",
           "green",
           "green",
           "green",
           "green",
           "green",
           "green",
           "green",
           "green",
           "green",
           "green",
           "green",
           "green",
           "green",
           "green",
           "green",
           "green",
           "green",
           "red",
           "red",
           "red",
           "red",
           "red",
           "red",
           "red",
           "red",
           "red",
           "red",
           "red",
           "red",
           "red",
           "red",
           "red",
           "red",
           "red",
           "red",
           "green",
           "green",
           "green",
           "green",
           "green",
           "green",
           "green",
           "green",
           "green",
           "green",
           "green",
           "green",
           "green",
           "green",
           "green",
           "green",
           "green",
           "green",
           "green",
           "green",
           "green",
           "green",
           "green",
           "green"
          ]
         },
         "name": "MACD Bar",
         "type": "bar",
         "x": [
          "2016-01-01T00:00:00.000000000",
          "2016-02-01T00:00:00.000000000",
          "2016-03-01T00:00:00.000000000",
          "2016-04-01T00:00:00.000000000",
          "2016-05-01T00:00:00.000000000",
          "2016-06-01T00:00:00.000000000",
          "2016-07-01T00:00:00.000000000",
          "2016-08-01T00:00:00.000000000",
          "2016-09-01T00:00:00.000000000",
          "2016-10-01T00:00:00.000000000",
          "2016-11-01T00:00:00.000000000",
          "2016-12-01T00:00:00.000000000",
          "2017-01-01T00:00:00.000000000",
          "2017-02-01T00:00:00.000000000",
          "2017-03-01T00:00:00.000000000",
          "2017-04-01T00:00:00.000000000",
          "2017-05-01T00:00:00.000000000",
          "2017-06-01T00:00:00.000000000",
          "2017-07-01T00:00:00.000000000",
          "2017-08-01T00:00:00.000000000",
          "2017-09-01T00:00:00.000000000",
          "2017-10-01T00:00:00.000000000",
          "2017-11-01T00:00:00.000000000",
          "2017-12-01T00:00:00.000000000",
          "2018-01-01T00:00:00.000000000",
          "2018-02-01T00:00:00.000000000",
          "2018-03-01T00:00:00.000000000",
          "2018-04-01T00:00:00.000000000",
          "2018-05-01T00:00:00.000000000",
          "2018-06-01T00:00:00.000000000",
          "2018-07-01T00:00:00.000000000",
          "2018-08-01T00:00:00.000000000",
          "2018-09-01T00:00:00.000000000",
          "2018-10-01T00:00:00.000000000",
          "2018-11-01T00:00:00.000000000",
          "2018-12-01T00:00:00.000000000",
          "2019-01-01T00:00:00.000000000",
          "2019-02-01T00:00:00.000000000",
          "2019-03-01T00:00:00.000000000",
          "2019-04-01T00:00:00.000000000",
          "2019-05-01T00:00:00.000000000",
          "2019-06-01T00:00:00.000000000",
          "2019-07-01T00:00:00.000000000",
          "2019-08-01T00:00:00.000000000",
          "2019-09-01T00:00:00.000000000",
          "2019-10-01T00:00:00.000000000",
          "2019-11-01T00:00:00.000000000",
          "2019-12-01T00:00:00.000000000",
          "2020-01-01T00:00:00.000000000",
          "2020-02-01T00:00:00.000000000",
          "2020-03-01T00:00:00.000000000",
          "2020-04-01T00:00:00.000000000",
          "2020-05-01T00:00:00.000000000",
          "2020-06-01T00:00:00.000000000",
          "2020-07-01T00:00:00.000000000",
          "2020-08-01T00:00:00.000000000",
          "2020-09-01T00:00:00.000000000",
          "2020-10-01T00:00:00.000000000",
          "2020-11-01T00:00:00.000000000",
          "2020-12-01T00:00:00.000000000",
          "2021-01-01T00:00:00.000000000",
          "2021-02-01T00:00:00.000000000",
          "2021-03-01T00:00:00.000000000",
          "2021-04-01T00:00:00.000000000",
          "2021-05-01T00:00:00.000000000",
          "2021-06-01T00:00:00.000000000",
          "2021-07-01T00:00:00.000000000",
          "2021-08-01T00:00:00.000000000",
          "2021-09-01T00:00:00.000000000",
          "2021-10-01T00:00:00.000000000",
          "2021-11-01T00:00:00.000000000",
          "2021-12-01T00:00:00.000000000",
          "2022-01-01T00:00:00.000000000",
          "2022-02-01T00:00:00.000000000",
          "2022-03-01T00:00:00.000000000",
          "2022-04-01T00:00:00.000000000",
          "2022-05-01T00:00:00.000000000",
          "2022-06-01T00:00:00.000000000",
          "2022-07-01T00:00:00.000000000",
          "2022-08-01T00:00:00.000000000",
          "2022-09-01T00:00:00.000000000",
          "2022-10-01T00:00:00.000000000",
          "2022-11-01T00:00:00.000000000",
          "2022-12-01T00:00:00.000000000",
          "2023-01-01T00:00:00.000000000",
          "2023-02-01T00:00:00.000000000",
          "2023-03-01T00:00:00.000000000",
          "2023-04-01T00:00:00.000000000",
          "2023-05-01T00:00:00.000000000",
          "2023-06-01T00:00:00.000000000",
          "2023-07-01T00:00:00.000000000",
          "2023-08-01T00:00:00.000000000",
          "2023-09-01T00:00:00.000000000",
          "2023-10-01T00:00:00.000000000",
          "2023-11-01T00:00:00.000000000",
          "2023-12-01T00:00:00.000000000",
          "2024-01-01T00:00:00.000000000",
          "2024-02-01T00:00:00.000000000",
          "2024-03-01T00:00:00.000000000",
          "2024-04-01T00:00:00.000000000",
          "2024-05-01T00:00:00.000000000",
          "2024-06-01T00:00:00.000000000",
          "2024-07-01T00:00:00.000000000",
          "2024-08-01T00:00:00.000000000",
          "2024-09-01T00:00:00.000000000",
          "2024-10-01T00:00:00.000000000",
          "2024-11-01T00:00:00.000000000",
          "2024-12-01T00:00:00.000000000",
          "2025-01-01T00:00:00.000000000",
          "2025-02-01T00:00:00.000000000",
          "2025-03-01T00:00:00.000000000",
          "2025-04-01T00:00:00.000000000",
          "2025-05-01T00:00:00.000000000",
          "2025-06-01T00:00:00.000000000"
         ],
         "xaxis": "x4",
         "y": {
          "bdata": "dY60xGVDIkAR6ItHuyosQI5jJWKM2C5AX4IbtsISMkAMRPGKyj04QORI8JohFEFAyv40wsB2QkCoyy+Mtm9AQHJ67OoHiT5AwEVT74VyQECTOhCKK4VBQM6NX8LXzkdA2HvvZiniSUBW4lNp+ZRQQPxsHCl3Hk9ABLs6+jJGUkCLFd2EaZJgQMmCZDRnoWZAKNFc1WMUa0CgKwTWgqJ1QJMBHzryv3dAdBUhjrNGf0DD3uKgjzmIQGrcBf5pWpFAzpigI9OqkEB2fmfgqwqPQL5tgQCCkYRA5D2BdxnXgEC43nmMGUtzQIBSEDv80UxAACE1xWFJM8BQKvt+g5piwJiONsHOZ3DA8Mzlq4hpdsDIacuAFKOBwNTGJummloXA3rL15rACiMCextvqYs2HwP9PkEUbK4bAcxI/muD+gcAEbUAyBD9xwGCTAfV+D2BAMmUGUMEkcEC0FEhmyCxzQBxGMLBuAWtAFIEG1WAkakBQjPm13PpWQABH5mVBTjfAAPC/Uuj0PUDAnGDepGctQJCORzMJA2PAuKwD3wQNWcCg6YAMMqw3wEB0vKVbpibAKIBNaipTXkD0u8Uxv3RrQEDE3b1zjWhAmOWAwJkpd0AwyAnhumWHQPpC3OSM3ZhAShfE+6kbokAulKh0hWaqQO81hjjgKrJATBwq/A49s0CG2QohgLWsQIRpqdyNpaNAhF9BUfSRn0BoOA+mzFyeQLgsrT5x9JVAyOB6yhC3n0DEOH1EnA2gQFAiiTnmpJNAAKePpHaXU8DwSmIz0C2NwJCYj/c8go3AoPE2jzP2l8AYWnsoGkiiwDzwTLWDLazA1sN8lrgRr8BmPNgjcLmwwCJV+5SWAbHA1WiXa+UdsMBiQyJzHJSvwHUvNEQT063AanX8xRscqMD8EGbAhwijwHlUutl5K5nAqFBAHc7WjMDT4tYN8tSBwBAWFICZvVDAlHfoFWssZEDgfnE+Y6BlQOjLWf5bXmNAroUfyhyRg0CS4P03iliRQM6nsrGE0plAWFmwfV3nnUDWrAZyB4epQJyqhffVObFAHdKwl6G9sEC3+HKwoDSxQCR+p3Gzba1AtlqHhv2sqkA4nZVb76ajQLhyDJJFD6BAXqrz2AuZoEAAjjXwk4CrQPA0zPOJJK9AoO5eYH00skBop85ym+eoQGxe9aESY6BAeAJ5nPKXn0AwLs71gdShQAikeLcqzaFA",
          "dtype": "f8"
         },
         "yaxis": "y4"
        }
       ],
       "layout": {
        "annotations": [
         {
          "font": {
           "size": 16
          },
          "showarrow": false,
          "text": "OHLCV Chart",
          "x": 0.5,
          "xanchor": "center",
          "xref": "paper",
          "y": 1,
          "yanchor": "bottom",
          "yref": "paper"
         },
         {
          "font": {
           "size": 16
          },
          "showarrow": false,
          "text": "Volume",
          "x": 0.5,
          "xanchor": "center",
          "xref": "paper",
          "y": 0.46299999999999997,
          "yanchor": "bottom",
          "yref": "paper"
         }
        ],
        "height": 700,
        "margin": {
         "b": 40,
         "l": 50,
         "r": 25,
         "t": 50
        },
        "template": {
         "data": {
          "bar": [
           {
            "error_x": {
             "color": "#f2f5fa"
            },
            "error_y": {
             "color": "#f2f5fa"
            },
            "marker": {
             "line": {
              "color": "rgb(17,17,17)",
              "width": 0.5
             },
             "pattern": {
              "fillmode": "overlay",
              "size": 10,
              "solidity": 0.2
             }
            },
            "type": "bar"
           }
          ],
          "barpolar": [
           {
            "marker": {
             "line": {
              "color": "rgb(17,17,17)",
              "width": 0.5
             },
             "pattern": {
              "fillmode": "overlay",
              "size": 10,
              "solidity": 0.2
             }
            },
            "type": "barpolar"
           }
          ],
          "carpet": [
           {
            "aaxis": {
             "endlinecolor": "#A2B1C6",
             "gridcolor": "#506784",
             "linecolor": "#506784",
             "minorgridcolor": "#506784",
             "startlinecolor": "#A2B1C6"
            },
            "baxis": {
             "endlinecolor": "#A2B1C6",
             "gridcolor": "#506784",
             "linecolor": "#506784",
             "minorgridcolor": "#506784",
             "startlinecolor": "#A2B1C6"
            },
            "type": "carpet"
           }
          ],
          "choropleth": [
           {
            "colorbar": {
             "outlinewidth": 0,
             "ticks": ""
            },
            "type": "choropleth"
           }
          ],
          "contour": [
           {
            "colorbar": {
             "outlinewidth": 0,
             "ticks": ""
            },
            "colorscale": [
             [
              0,
              "#0d0887"
             ],
             [
              0.1111111111111111,
              "#46039f"
             ],
             [
              0.2222222222222222,
              "#7201a8"
             ],
             [
              0.3333333333333333,
              "#9c179e"
             ],
             [
              0.4444444444444444,
              "#bd3786"
             ],
             [
              0.5555555555555556,
              "#d8576b"
             ],
             [
              0.6666666666666666,
              "#ed7953"
             ],
             [
              0.7777777777777778,
              "#fb9f3a"
             ],
             [
              0.8888888888888888,
              "#fdca26"
             ],
             [
              1,
              "#f0f921"
             ]
            ],
            "type": "contour"
           }
          ],
          "contourcarpet": [
           {
            "colorbar": {
             "outlinewidth": 0,
             "ticks": ""
            },
            "type": "contourcarpet"
           }
          ],
          "heatmap": [
           {
            "colorbar": {
             "outlinewidth": 0,
             "ticks": ""
            },
            "colorscale": [
             [
              0,
              "#0d0887"
             ],
             [
              0.1111111111111111,
              "#46039f"
             ],
             [
              0.2222222222222222,
              "#7201a8"
             ],
             [
              0.3333333333333333,
              "#9c179e"
             ],
             [
              0.4444444444444444,
              "#bd3786"
             ],
             [
              0.5555555555555556,
              "#d8576b"
             ],
             [
              0.6666666666666666,
              "#ed7953"
             ],
             [
              0.7777777777777778,
              "#fb9f3a"
             ],
             [
              0.8888888888888888,
              "#fdca26"
             ],
             [
              1,
              "#f0f921"
             ]
            ],
            "type": "heatmap"
           }
          ],
          "histogram": [
           {
            "marker": {
             "pattern": {
              "fillmode": "overlay",
              "size": 10,
              "solidity": 0.2
             }
            },
            "type": "histogram"
           }
          ],
          "histogram2d": [
           {
            "colorbar": {
             "outlinewidth": 0,
             "ticks": ""
            },
            "colorscale": [
             [
              0,
              "#0d0887"
             ],
             [
              0.1111111111111111,
              "#46039f"
             ],
             [
              0.2222222222222222,
              "#7201a8"
             ],
             [
              0.3333333333333333,
              "#9c179e"
             ],
             [
              0.4444444444444444,
              "#bd3786"
             ],
             [
              0.5555555555555556,
              "#d8576b"
             ],
             [
              0.6666666666666666,
              "#ed7953"
             ],
             [
              0.7777777777777778,
              "#fb9f3a"
             ],
             [
              0.8888888888888888,
              "#fdca26"
             ],
             [
              1,
              "#f0f921"
             ]
            ],
            "type": "histogram2d"
           }
          ],
          "histogram2dcontour": [
           {
            "colorbar": {
             "outlinewidth": 0,
             "ticks": ""
            },
            "colorscale": [
             [
              0,
              "#0d0887"
             ],
             [
              0.1111111111111111,
              "#46039f"
             ],
             [
              0.2222222222222222,
              "#7201a8"
             ],
             [
              0.3333333333333333,
              "#9c179e"
             ],
             [
              0.4444444444444444,
              "#bd3786"
             ],
             [
              0.5555555555555556,
              "#d8576b"
             ],
             [
              0.6666666666666666,
              "#ed7953"
             ],
             [
              0.7777777777777778,
              "#fb9f3a"
             ],
             [
              0.8888888888888888,
              "#fdca26"
             ],
             [
              1,
              "#f0f921"
             ]
            ],
            "type": "histogram2dcontour"
           }
          ],
          "mesh3d": [
           {
            "colorbar": {
             "outlinewidth": 0,
             "ticks": ""
            },
            "type": "mesh3d"
           }
          ],
          "parcoords": [
           {
            "line": {
             "colorbar": {
              "outlinewidth": 0,
              "ticks": ""
             }
            },
            "type": "parcoords"
           }
          ],
          "pie": [
           {
            "automargin": true,
            "type": "pie"
           }
          ],
          "scatter": [
           {
            "marker": {
             "line": {
              "color": "#283442"
             }
            },
            "type": "scatter"
           }
          ],
          "scatter3d": [
           {
            "line": {
             "colorbar": {
              "outlinewidth": 0,
              "ticks": ""
             }
            },
            "marker": {
             "colorbar": {
              "outlinewidth": 0,
              "ticks": ""
             }
            },
            "type": "scatter3d"
           }
          ],
          "scattercarpet": [
           {
            "marker": {
             "colorbar": {
              "outlinewidth": 0,
              "ticks": ""
             }
            },
            "type": "scattercarpet"
           }
          ],
          "scattergeo": [
           {
            "marker": {
             "colorbar": {
              "outlinewidth": 0,
              "ticks": ""
             }
            },
            "type": "scattergeo"
           }
          ],
          "scattergl": [
           {
            "marker": {
             "line": {
              "color": "#283442"
             }
            },
            "type": "scattergl"
           }
          ],
          "scattermap": [
           {
            "marker": {
             "colorbar": {
              "outlinewidth": 0,
              "ticks": ""
             }
            },
            "type": "scattermap"
           }
          ],
          "scattermapbox": [
           {
            "marker": {
             "colorbar": {
              "outlinewidth": 0,
              "ticks": ""
             }
            },
            "type": "scattermapbox"
           }
          ],
          "scatterpolar": [
           {
            "marker": {
             "colorbar": {
              "outlinewidth": 0,
              "ticks": ""
             }
            },
            "type": "scatterpolar"
           }
          ],
          "scatterpolargl": [
           {
            "marker": {
             "colorbar": {
              "outlinewidth": 0,
              "ticks": ""
             }
            },
            "type": "scatterpolargl"
           }
          ],
          "scatterternary": [
           {
            "marker": {
             "colorbar": {
              "outlinewidth": 0,
              "ticks": ""
             }
            },
            "type": "scatterternary"
           }
          ],
          "surface": [
           {
            "colorbar": {
             "outlinewidth": 0,
             "ticks": ""
            },
            "colorscale": [
             [
              0,
              "#0d0887"
             ],
             [
              0.1111111111111111,
              "#46039f"
             ],
             [
              0.2222222222222222,
              "#7201a8"
             ],
             [
              0.3333333333333333,
              "#9c179e"
             ],
             [
              0.4444444444444444,
              "#bd3786"
             ],
             [
              0.5555555555555556,
              "#d8576b"
             ],
             [
              0.6666666666666666,
              "#ed7953"
             ],
             [
              0.7777777777777778,
              "#fb9f3a"
             ],
             [
              0.8888888888888888,
              "#fdca26"
             ],
             [
              1,
              "#f0f921"
             ]
            ],
            "type": "surface"
           }
          ],
          "table": [
           {
            "cells": {
             "fill": {
              "color": "#506784"
             },
             "line": {
              "color": "rgb(17,17,17)"
             }
            },
            "header": {
             "fill": {
              "color": "#2a3f5f"
             },
             "line": {
              "color": "rgb(17,17,17)"
             }
            },
            "type": "table"
           }
          ]
         },
         "layout": {
          "annotationdefaults": {
           "arrowcolor": "#f2f5fa",
           "arrowhead": 0,
           "arrowwidth": 1
          },
          "autotypenumbers": "strict",
          "coloraxis": {
           "colorbar": {
            "outlinewidth": 0,
            "ticks": ""
           }
          },
          "colorscale": {
           "diverging": [
            [
             0,
             "#8e0152"
            ],
            [
             0.1,
             "#c51b7d"
            ],
            [
             0.2,
             "#de77ae"
            ],
            [
             0.3,
             "#f1b6da"
            ],
            [
             0.4,
             "#fde0ef"
            ],
            [
             0.5,
             "#f7f7f7"
            ],
            [
             0.6,
             "#e6f5d0"
            ],
            [
             0.7,
             "#b8e186"
            ],
            [
             0.8,
             "#7fbc41"
            ],
            [
             0.9,
             "#4d9221"
            ],
            [
             1,
             "#276419"
            ]
           ],
           "sequential": [
            [
             0,
             "#0d0887"
            ],
            [
             0.1111111111111111,
             "#46039f"
            ],
            [
             0.2222222222222222,
             "#7201a8"
            ],
            [
             0.3333333333333333,
             "#9c179e"
            ],
            [
             0.4444444444444444,
             "#bd3786"
            ],
            [
             0.5555555555555556,
             "#d8576b"
            ],
            [
             0.6666666666666666,
             "#ed7953"
            ],
            [
             0.7777777777777778,
             "#fb9f3a"
            ],
            [
             0.8888888888888888,
             "#fdca26"
            ],
            [
             1,
             "#f0f921"
            ]
           ],
           "sequentialminus": [
            [
             0,
             "#0d0887"
            ],
            [
             0.1111111111111111,
             "#46039f"
            ],
            [
             0.2222222222222222,
             "#7201a8"
            ],
            [
             0.3333333333333333,
             "#9c179e"
            ],
            [
             0.4444444444444444,
             "#bd3786"
            ],
            [
             0.5555555555555556,
             "#d8576b"
            ],
            [
             0.6666666666666666,
             "#ed7953"
            ],
            [
             0.7777777777777778,
             "#fb9f3a"
            ],
            [
             0.8888888888888888,
             "#fdca26"
            ],
            [
             1,
             "#f0f921"
            ]
           ]
          },
          "colorway": [
           "#636efa",
           "#EF553B",
           "#00cc96",
           "#ab63fa",
           "#FFA15A",
           "#19d3f3",
           "#FF6692",
           "#B6E880",
           "#FF97FF",
           "#FECB52"
          ],
          "font": {
           "color": "#f2f5fa"
          },
          "geo": {
           "bgcolor": "rgb(17,17,17)",
           "lakecolor": "rgb(17,17,17)",
           "landcolor": "rgb(17,17,17)",
           "showlakes": true,
           "showland": true,
           "subunitcolor": "#506784"
          },
          "hoverlabel": {
           "align": "left"
          },
          "hovermode": "closest",
          "mapbox": {
           "style": "dark"
          },
          "paper_bgcolor": "rgb(17,17,17)",
          "plot_bgcolor": "rgb(17,17,17)",
          "polar": {
           "angularaxis": {
            "gridcolor": "#506784",
            "linecolor": "#506784",
            "ticks": ""
           },
           "bgcolor": "rgb(17,17,17)",
           "radialaxis": {
            "gridcolor": "#506784",
            "linecolor": "#506784",
            "ticks": ""
           }
          },
          "scene": {
           "xaxis": {
            "backgroundcolor": "rgb(17,17,17)",
            "gridcolor": "#506784",
            "gridwidth": 2,
            "linecolor": "#506784",
            "showbackground": true,
            "ticks": "",
            "zerolinecolor": "#C8D4E3"
           },
           "yaxis": {
            "backgroundcolor": "rgb(17,17,17)",
            "gridcolor": "#506784",
            "gridwidth": 2,
            "linecolor": "#506784",
            "showbackground": true,
            "ticks": "",
            "zerolinecolor": "#C8D4E3"
           },
           "zaxis": {
            "backgroundcolor": "rgb(17,17,17)",
            "gridcolor": "#506784",
            "gridwidth": 2,
            "linecolor": "#506784",
            "showbackground": true,
            "ticks": "",
            "zerolinecolor": "#C8D4E3"
           }
          },
          "shapedefaults": {
           "line": {
            "color": "#f2f5fa"
           }
          },
          "sliderdefaults": {
           "bgcolor": "#C8D4E3",
           "bordercolor": "rgb(17,17,17)",
           "borderwidth": 1,
           "tickwidth": 0
          },
          "ternary": {
           "aaxis": {
            "gridcolor": "#506784",
            "linecolor": "#506784",
            "ticks": ""
           },
           "baxis": {
            "gridcolor": "#506784",
            "linecolor": "#506784",
            "ticks": ""
           },
           "bgcolor": "rgb(17,17,17)",
           "caxis": {
            "gridcolor": "#506784",
            "linecolor": "#506784",
            "ticks": ""
           }
          },
          "title": {
           "x": 0.05
          },
          "updatemenudefaults": {
           "bgcolor": "#506784",
           "borderwidth": 0
          },
          "xaxis": {
           "automargin": true,
           "gridcolor": "#283442",
           "linecolor": "#506784",
           "ticks": "",
           "title": {
            "standoff": 15
           },
           "zerolinecolor": "#283442",
           "zerolinewidth": 2
          },
          "yaxis": {
           "automargin": true,
           "gridcolor": "#283442",
           "linecolor": "#506784",
           "ticks": "",
           "title": {
            "standoff": 15
           },
           "zerolinecolor": "#283442",
           "zerolinewidth": 2
          }
         }
        },
        "title": {
         "text": "OHLCV Chart"
        },
        "xaxis": {
         "anchor": "y",
         "domain": [
          0,
          1
         ],
         "matches": "x4",
         "rangeslider": {
          "visible": false
         },
         "showticklabels": false
        },
        "xaxis2": {
         "anchor": "y2",
         "domain": [
          0,
          1
         ],
         "matches": "x4",
         "showticklabels": false
        },
        "xaxis3": {
         "anchor": "y3",
         "domain": [
          0,
          1
         ],
         "matches": "x4",
         "showticklabels": false
        },
        "xaxis4": {
         "anchor": "y4",
         "domain": [
          0,
          1
         ]
        },
        "yaxis": {
         "anchor": "x",
         "domain": [
          0.48299999999999993,
          1
         ]
        },
        "yaxis2": {
         "anchor": "x2",
         "domain": [
          0.32199999999999995,
          0.46299999999999997
         ]
        },
        "yaxis3": {
         "anchor": "x3",
         "domain": [
          0.16099999999999998,
          0.30199999999999994
         ]
        },
        "yaxis4": {
         "anchor": "x4",
         "domain": [
          0,
          0.141
         ]
        }
       }
      }
     },
     "metadata": {},
     "output_type": "display_data"
    }
   ],
   "source": [
    "df_visualize = df[df['date'] >= '2016-01-01']\n",
    "\n",
    "\n",
    "fig = plot_ohlcv(df_visualize, title = \"OHLCV Chart\")\n",
    "\n",
    "# ===================================================================\n",
    "# PLOT EMA\n",
    "# ===================================================================\n",
    "fig.add_trace(\n",
    "    go.Scatter(\n",
    "        x=df_visualize['date'],\n",
    "        y=df_visualize['ema_13'],\n",
    "        mode='lines',\n",
    "        name=\"EMA 13\",\n",
    "        line={'width': 1.5},\n",
    "    ), row=1, col=1\n",
    ")\n",
    "\n",
    "fig.add_trace(\n",
    "    go.Scatter(\n",
    "        x=df_visualize['date'],\n",
    "        y=df_visualize['ema_21'],\n",
    "        mode='lines',\n",
    "        name=\"EMA 21\",\n",
    "        line={'width': 1.5},\n",
    "    ), row=1, col=1\n",
    ")\n",
    "\n",
    "# ===================================================================\n",
    "# PLOT STOCHASTIC\n",
    "# ===================================================================\n",
    "fig.add_trace(\n",
    "    go.Scatter(\n",
    "        x=df_visualize['date'],\n",
    "        y=df_visualize['stochastic_%K'],\n",
    "        mode='lines',\n",
    "        name=\"Stochastic\",\n",
    "        line={'width': 1.5},\n",
    "    ), row=3, col=1\n",
    ")\n",
    "\n",
    "fig.add_trace(\n",
    "    go.Scatter(\n",
    "        x=df_visualize['date'],\n",
    "        y=df_visualize['stochastic_%D'],\n",
    "        mode='lines',\n",
    "        name=\"Stochastic\",\n",
    "        line={'width': 1.5},\n",
    "    ), row=3, col=1\n",
    ")\n",
    "\n",
    "# ===================================================================\n",
    "# PLOT MACD\n",
    "# ===================================================================\n",
    "fig.add_trace(\n",
    "    go.Scatter(\n",
    "        x=df_visualize['date'],\n",
    "        y=df_visualize['macd'],\n",
    "        mode='lines',\n",
    "        name=\"MACD Line\",\n",
    "        line={'width': 1.5},\n",
    "    ), row=4, col=1\n",
    ")\n",
    "\n",
    "fig.add_trace(\n",
    "    go.Scatter(\n",
    "        x=df_visualize['date'],\n",
    "        y=df_visualize['macd_signal_line'],\n",
    "        mode='lines',\n",
    "        name=\"MACD Signal Line\",\n",
    "        line={'width': 1.5},\n",
    "    ), row=4, col=1\n",
    ")\n",
    "\n",
    "colors = ['green' if val >= 0 else 'red' for val in df_visualize['macd_bar']]\n",
    "fig.add_trace(\n",
    "    go.Bar(\n",
    "        x=df_visualize['date'], \n",
    "        y=df_visualize['macd_bar'], \n",
    "        name='MACD Bar', \n",
    "        marker_color=colors\n",
    "    ), row=4, col=1\n",
    ")\n",
    "\n",
    "fig.show()"
   ]
  },
  {
   "cell_type": "code",
   "execution_count": 53,
   "id": "ee689019",
   "metadata": {},
   "outputs": [
    {
     "data": {
      "text/plain": [
       "['date',\n",
       " 'pair',\n",
       " 'open',\n",
       " 'high',\n",
       " 'low',\n",
       " 'close',\n",
       " 'volume',\n",
       " 'count',\n",
       " 'ema_13',\n",
       " 'ema_21',\n",
       " 'rsi',\n",
       " 'stochastic_%K',\n",
       " 'stochastic_%D',\n",
       " 'macd',\n",
       " 'macd_signal_line',\n",
       " 'macd_bar']"
      ]
     },
     "execution_count": 53,
     "metadata": {},
     "output_type": "execute_result"
    }
   ],
   "source": [
    "df.columns.tolist()\n",
    "# df.values.tolist()"
   ]
  }
 ],
 "metadata": {
  "kernelspec": {
   "display_name": "venv",
   "language": "python",
   "name": "python3"
  },
  "language_info": {
   "codemirror_mode": {
    "name": "ipython",
    "version": 3
   },
   "file_extension": ".py",
   "mimetype": "text/x-python",
   "name": "python",
   "nbconvert_exporter": "python",
   "pygments_lexer": "ipython3",
   "version": "3.10.0"
  }
 },
 "nbformat": 4,
 "nbformat_minor": 5
}
