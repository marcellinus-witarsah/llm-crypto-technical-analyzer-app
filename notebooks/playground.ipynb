{
 "cells": [
  {
   "cell_type": "code",
   "execution_count": 1,
   "id": "c5c8cd99",
   "metadata": {},
   "outputs": [],
   "source": [
    "import pandas as pd\n",
    "from src.utils.timescaledb_ops import TimescaleDBOps"
   ]
  },
  {
   "cell_type": "markdown",
   "id": "5eb3b121",
   "metadata": {},
   "source": [
    "# Technical Analysis and Chart"
   ]
  },
  {
   "cell_type": "code",
   "execution_count": 2,
   "id": "f782b2b3",
   "metadata": {},
   "outputs": [
    {
     "name": "stderr",
     "output_type": "stream",
     "text": [
      "2025-06-25 21:24:05,646 - INFO - Data read from silver.ohlc_daily successfully.\n"
     ]
    }
   ],
   "source": [
    "tsdb_ops = TimescaleDBOps()\n",
    "columns, data = tsdb_ops.read_data(\"silver.ohlc_daily\")\n",
    "# columns, data = tsdb_ops.read_data(\"silver.ohlc_weekly\")\n",
    "# columns, data = tsdb_ops.read_data(\"silver.ohlc_monthly\")\n",
    "df = pd.DataFrame(data=data, columns=columns)\n",
    "df = df.sort_values(\"date\").reset_index(drop=True)\n",
    "df[\"date\"] = pd.to_datetime(df[\"date\"])"
   ]
  },
  {
   "attachments": {
    "image.png": {
     "image/png": "[encoded data removed]"
    }
   },
   "cell_type": "markdown",
   "id": "2906699f",
   "metadata": {},
   "source": [
    "![image.png](attachment:image.png)"
   ]
  },
  {
   "attachments": {
    "image.png": {
     "image/png": "[encoded data removed]"
    }
   },
   "cell_type": "markdown",
   "id": "4e17060f",
   "metadata": {},
   "source": [
    "![image.png](attachment:image.png)"
   ]
  },
  {
   "cell_type": "code",
   "execution_count": 6,
   "id": "e33079f8",
   "metadata": {},
   "outputs": [],
   "source": [
    "# Technical Analysis\n",
    "# EMA\n",
    "df['ema_13'] = df['close'].ewm(span=13, adjust=False).mean()\n",
    "df['ema_21'] = df['close'].ewm(span=21, adjust=False).mean()\n",
    "\n",
    "# # RSI\n",
    "# window = 14 # default setting\n",
    "# delta = df['close'].diff(1)\n",
    "# avg_gain = (delta.where(delta > 0, 0)).rolling(window=window).mean()  # avg_gain \n",
    "# avg_loss = (-delta.where(delta < 0, 0)).rolling(window=window).mean()\n",
    "# rsi = avg_gain / avg_loss\n",
    "# df['rsi'] = 100 - (100 / (1 + rsi)) \n",
    "\n",
    "# Stochastic\n",
    "perc_k_length = 5\n",
    "perc_k_smoothing = 3\n",
    "perc_d_length = 3\n",
    "\n",
    "lowest_low = df['low'].rolling(perc_k_length).min()\n",
    "highest_high = df['high'].rolling(perc_k_length).max()\n",
    "df[\"stochastic_%K\"] = ((df['close'] -lowest_low) / (highest_high -lowest_low)).rolling(perc_k_smoothing).mean() \n",
    "df[\"stochastic_%D\"] =  df[\"stochastic_%K\"].rolling(perc_d_length).mean()\n",
    "\n",
    "# MACD\n",
    "ema_12 = df['close'].ewm(span=12, adjust=False).mean()\n",
    "ema_26 = df['close'].ewm(span=26, adjust=False).mean()\n",
    "\n",
    "macd = ema_12 - ema_26\n",
    "macd_signal_line = macd.ewm(span=9, adjust=False).mean()\n",
    "macd_bar = macd - macd_signal_line\n",
    "\n",
    "df['macd'] = macd\n",
    "df['macd_signal_line'] = macd_signal_line\n",
    "df['macd_bar'] = macd_bar"
   ]
  },
  {
   "cell_type": "markdown",
   "id": "430c1ea2",
   "metadata": {},
   "source": [
    "## Technical Analysis"
   ]
  },
  {
   "cell_type": "code",
   "execution_count": 9,
   "id": "7fa9d976",
   "metadata": {},
   "outputs": [],
   "source": [
    "# Technical Analysis\n",
    "# EMA\n",
    "df['ema_13'] = df['close'].ewm(span=13, adjust=False).mean()\n",
    "df['ema_21'] = df['close'].ewm(span=21, adjust=False).mean()\n",
    "\n",
    "# Stochastic\n",
    "window = 14 # default setting\n",
    "perc_k_length = 5\n",
    "perc_k_smoothing = 3\n",
    "perc_d_length = 3\n",
    "\n",
    "lowest_low = df['low'].rolling(window).min()\n",
    "highest_high = df['high'].rolling(window).max()\n",
    "df[\"stochastic_%K\"] = ((df['close'] -lowest_low) / (highest_high -lowest_low)).rolling(perc_k_smoothing).mean() \n",
    "df[\"stochastic_%D\"] =  df[\"stochastic_%K\"].rolling(perc_d_length).mean()\n",
    "\n",
    "# MACD\n",
    "ema_12 = df['close'].ewm(span=12, adjust=False).mean()\n",
    "ema_26 = df['close'].ewm(span=26, adjust=False).mean()\n",
    "\n",
    "macd = ema_12 - ema_26\n",
    "macd_signal_line = macd.ewm(span=9, adjust=False).mean()\n",
    "macd_bar = macd - macd_signal_line\n",
    "\n",
    "df['macd'] = macd\n",
    "df['macd_signal_line'] = macd_signal_line\n",
    "df['macd_bar'] = macd_bar"
   ]
  },
  {
   "cell_type": "markdown",
   "id": "371c19d0",
   "metadata": {},
   "source": [
    "# LLM"
   ]
  },
  {
   "cell_type": "code",
   "execution_count": 2,
   "id": "c70e5812",
   "metadata": {},
   "outputs": [
    {
     "name": "stderr",
     "output_type": "stream",
     "text": [
      "2025-07-04 21:16:47,499 - INFO - Data read from gold.ohlc_ta_weekly successfully.\n"
     ]
    }
   ],
   "source": [
    "from src.utils.timescaledb_ops import TimescaleDBOps\n",
    "import pandas as pd\n",
    "tsdb_ops = TimescaleDBOps()\n",
    "columns, data = tsdb_ops.read_data(\"gold.ohlc_ta_weekly\")\n",
    "df = pd.DataFrame(data=data, columns=columns)\n",
    "df = df.sort_values(\"date\").reset_index(drop=True)\n",
    "df[\"date\"] = pd.to_datetime(df[\"date\"])"
   ]
  },
  {
   "cell_type": "code",
   "execution_count": 3,
   "id": "8dc8b816",
   "metadata": {},
   "outputs": [],
   "source": [
    "import plotly.graph_objects as go\n",
    "from plotly.subplots import make_subplots\n",
    "\n",
    "df_visualize = df[df['date'] >= '2024-01-01']\n",
    "\n",
    "# Create subplot with 2 rows (OHLC and Volume)\n",
    "fig = make_subplots(rows=4, cols=1, \n",
    "                    shared_xaxes=True, \n",
    "                    vertical_spacing=0.02,\n",
    "                    row_heights=[0.6, 0.1, 0.15, 0.15],\n",
    "                    subplot_titles=(\"OHLC BTC (USD)\", \"Volume\", \"Stochastic(5, 3, 3)\", \"MACD(12, 26, 9)\"))\n",
    "\n",
    "# ===================================================================\n",
    "# PLOT CANDLESTICK\n",
    "# ===================================================================\n",
    "fig.add_trace(go.Candlestick(\n",
    "    x=df_visualize['date'],\n",
    "    open=df_visualize['open'],\n",
    "    high=df_visualize['high'],\n",
    "    low=df_visualize['low'],\n",
    "    close=df_visualize['close'],\n",
    "    name=\"Price\",\n",
    "    increasing_line_color='green',\n",
    "    decreasing_line_color='red'\n",
    "), row=1, col=1)\n",
    "\n",
    "\n",
    "# ===================================================================\n",
    "# PLOT VOLUME BAR\n",
    "# ===================================================================\n",
    "fig.add_trace(go.Bar(\n",
    "    x=df_visualize['date'],\n",
    "    y=df_visualize['volume'],\n",
    "    name=\"Volume\",\n",
    "    marker_color='orange'\n",
    "), row=2, col=1)\n",
    "\n",
    "\n",
    "# ===================================================================\n",
    "# PLOT EMA\n",
    "# ===================================================================\n",
    "fig.add_trace(\n",
    "    go.Scatter(\n",
    "        x=df_visualize['date'],\n",
    "        y=df_visualize['ema_13'],\n",
    "        mode='lines',\n",
    "        name=\"EMA 13\",\n",
    "        line={'width': 1.5},\n",
    "    ), row=1, col=1\n",
    ")\n",
    "\n",
    "fig.add_trace(\n",
    "    go.Scatter(\n",
    "        x=df_visualize['date'],\n",
    "        y=df_visualize['ema_21'],\n",
    "        mode='lines',\n",
    "        name=\"EMA 21\",\n",
    "        line={'width': 1.5},\n",
    "    ), row=1, col=1\n",
    ")\n",
    "\n",
    "# ===================================================================\n",
    "# PLOT STOCHASTIC\n",
    "# ===================================================================\n",
    "fig.add_trace(\n",
    "    go.Scatter(\n",
    "        x=df_visualize['date'],\n",
    "        y=df_visualize['stochastic_percentage_k'],\n",
    "        mode='lines',\n",
    "        name=\"Stochastic\",\n",
    "        line={'width': 1.5},\n",
    "    ), row=3, col=1\n",
    ")\n",
    "\n",
    "fig.add_trace(\n",
    "    go.Scatter(\n",
    "        x=df_visualize['date'],\n",
    "        y=df_visualize['stochastic_percentage_d'],\n",
    "        mode='lines',\n",
    "        name=\"Stochastic\",\n",
    "        line={'width': 1.5},\n",
    "    ), row=3, col=1\n",
    ")\n",
    "\n",
    "# ===================================================================\n",
    "# PLOT MACD\n",
    "# ===================================================================\n",
    "fig.add_trace(\n",
    "    go.Scatter(\n",
    "        x=df_visualize['date'],\n",
    "        y=df_visualize['macd'],\n",
    "        mode='lines',\n",
    "        name=\"MACD Line\",\n",
    "        line={'width': 1.5},\n",
    "    ), row=4, col=1\n",
    ")\n",
    "\n",
    "fig.add_trace(\n",
    "    go.Scatter(\n",
    "        x=df_visualize['date'],\n",
    "        y=df_visualize['macd_signal_line'],\n",
    "        mode='lines',\n",
    "        name=\"MACD Signal Line\",\n",
    "        line={'width': 1.5},\n",
    "    ), row=4, col=1\n",
    ")\n",
    "\n",
    "colors = ['green' if val >= 0 else 'red' for val in df_visualize['macd_bar']]\n",
    "fig.add_trace(\n",
    "    go.Bar(\n",
    "        x=df_visualize['date'], \n",
    "        y=df_visualize['macd_bar'], \n",
    "        name='MACD Bar', \n",
    "        marker_color=colors\n",
    "    ), row=4, col=1\n",
    ")\n",
    "\n",
    "# Layout adjustments\n",
    "fig.update_layout(\n",
    "    # title=title,\n",
    "    xaxis_rangeslider_visible=False,\n",
    "    template='plotly_dark',\n",
    "    height=1000,\n",
    "    margin=dict(l=50, r=25, t=50, b=40)\n",
    ")\n",
    "\n",
    "fig.write_image(\"btc_monthly_ta.jpeg\", width=1200, height=800, scale=2)"
   ]
  },
  {
   "cell_type": "code",
   "execution_count": 83,
   "id": "3030ab2c",
   "metadata": {},
   "outputs": [],
   "source": [
    "import json\n",
    "message = json.loads(llm_output.content[0].text)\n",
    "\n",
    "summary = \"\"\n",
    "summary += f\"Action: **{message['action'].capitalize()}**\\n\"\n",
    "for num, (indicator, explanation) in enumerate(message['reason'].items()):\n",
    "    summary += f\"{num+1}. **{indicator.upper()}**: {explanation}.\\n\"\n",
    "summary += \"*^Disclaimer Alert.*\""
   ]
  },
  {
   "cell_type": "markdown",
   "id": "93717215",
   "metadata": {},
   "source": [
    "# Send to Discord Channel"
   ]
  },
  {
   "cell_type": "code",
   "execution_count": 89,
   "id": "8b11e1c6",
   "metadata": {},
   "outputs": [],
   "source": [
    "import requests\n",
    "\n",
    "webhook_url = \"https://discordapp.com/api/webhooks/1387080438140637184/tN2QiS7fsMTOpf9eHQAF8cb2xfAscck9R6qhKq-hvvg4Ssg0YfHsSXvGIDLZUchoFQ6V\"\n",
    "granularity = \"Weekly\"\n",
    "\n",
    "embed = {\n",
    "    \"title\": f\"**Bitcoin (BTC-USD) {granularity.capitalize()} Summary**\",\n",
    "    \"image\": {\"url\": \"attachment://btc_monthly_ta.jpeg\"},\n",
    "    \"description\": summary,\n",
    "    \"color\": 5814783  # optional: light blue\n",
    "}\n",
    "data = {\n",
    "    \"content\": (\n",
    "        f\"**Bitcoin (BTC-USD) {granularity.capitalize()} Summary**\\n\\n\"\n",
    "        f\"{summary}\"\n",
    "    )\n",
    "}\n",
    "\n",
    "\n",
    "files = {\n",
    "    \"file\": (\n",
    "        \"btc_monthly_ta.jpeg\", \n",
    "        open(\"C:/Users/USER/projects/ai-agent-crypto-analyzer/notebooks/btc_monthly_ta.jpeg\", \"rb\")\n",
    "    )\n",
    "}\n",
    "\n",
    "# Use `data=` for data when uploading files\n",
    "response = requests.post(webhook_url, files=files, data=data)"
   ]
  },
  {
   "cell_type": "markdown",
   "id": "0759977e",
   "metadata": {},
   "source": [
    "# Using Langchain Anthropic"
   ]
  },
  {
   "cell_type": "code",
   "execution_count": 7,
   "id": "bb9e5535",
   "metadata": {},
   "outputs": [
    {
     "name": "stderr",
     "output_type": "stream",
     "text": [
      "2025-07-04 21:17:22,257 - INFO - Data read from gold.ohlc_ta_weekly successfully.\n",
      "INFO\tai-agent-crypto-analyzer:timescaledb_ops.py:read_data()- Data read from gold.ohlc_ta_weekly successfully.\n"
     ]
    }
   ],
   "source": [
    "from src.utils.timescaledb_ops import TimescaleDBOps\n",
    "import pandas as pd\n",
    "pair = \"XXBTZUSD\"\n",
    "timeframe = \"weekly\"\n",
    "start_date = \"2024-01-01\"\n",
    "tsdb_ops = TimescaleDBOps()\n",
    "columns, data = tsdb_ops.read_data(f\"gold.ohlc_ta_{timeframe}\")\n",
    "df = pd.DataFrame(data=data, columns=columns)\n",
    "df[\"date\"] = pd.to_datetime(df[\"date\"])\n",
    "df = df[df['pair'] == pair]\n",
    "df = df[df[\"date\"] >= start_date]\n",
    "df = df.sort_values(\"date\").reset_index(drop=True)"
   ]
  },
  {
   "cell_type": "code",
   "execution_count": 8,
   "id": "79d6a73b",
   "metadata": {},
   "outputs": [
    {
     "data": {
      "text/plain": [
       "True"
      ]
     },
     "execution_count": 8,
     "metadata": {},
     "output_type": "execute_result"
    }
   ],
   "source": [
    "# Import Credentials\n",
    "import os\n",
    "import getpass\n",
    "from dotenv import load_dotenv\n",
    "\n",
    "load_dotenv()"
   ]
  },
  {
   "cell_type": "code",
   "execution_count": 9,
   "id": "2f31229b",
   "metadata": {},
   "outputs": [],
   "source": [
    "from enum import Enum\n",
    "from pydantic import BaseModel, Field\n",
    "from langchain_core.output_parsers import PydanticOutputParser\n",
    "\n",
    "class Actions(Enum):\n",
    "    WEAK_SELL = 'Weak Sell'\n",
    "    SELL = 'Sell'\n",
    "    STRONG_SELL = 'Strong Sell'\n",
    "    WEAK_BUY = 'Weak Buy'\n",
    "    BUY = 'Buy'\n",
    "    STRONG_BUY = 'Strong Buy'\n",
    "\n",
    "\n",
    "class AnalysisResponse(BaseModel):\n",
    "    actions: Actions = Field(description=\"Actions to take based on the technical analysis\")\n",
    "    reasons: dict[str, str] = Field(description=\"Key-Value pair where the key is the technical indicator and the values is the analysis based on the technical indicator.\")\n",
    "\n",
    "parser = PydanticOutputParser(pydantic_object=AnalysisResponse)"
   ]
  },
  {
   "cell_type": "code",
   "execution_count": 10,
   "id": "8946dd73",
   "metadata": {},
   "outputs": [
    {
     "data": {
      "application/vnd.plotly.v1+json": {
       "config": {
        "plotlyServerURL": "https://plot.ly"
       },
       "data": [
        {
         "close": {
          "bdata": "zczMzLyF5UAAAAAA8ObkQJqZmZkZXORAAAAAACC95ECamZmZqQTlQAAAAADQp+dAAAAAAEBR6UAAAAAAMDfpQGZmZmYWMe5AMzMzMyME8UDNzMzMTFPwQGZmZmZG4+9AAAAAAAAw8UAAAAAAkPDwQGZmZma2V+9AAAAAAJDf70DNzMzMDP3uQDMzMzNTKe9AzczMzIza7UBmZmZmXnDwQGZmZmae3PBAAAAAAMil8ECamZmZQe/wQM3MzMyEOPBAzczMzKxj70DNzMzMLP7tQJqZmZkZC+xAZmZmZmZa7UAAAAAA8FTwQJqZmZlpkfBAZmZmZma57UAAAAAAoKLtQDMzMzPDS+1AmpmZmXky70AzMzMz02nsQAAAAADwoupAzczMzExO7UCamZmZCa/uQJqZmZlBCvBAMzMzM4NS7kAzMzMzY4vuQGZmZmbOs/BAAAAAAPBe8EBmZmZmTq7wQJqZmZkJg/NAAAAAAKAm9kCamZmZicb3QJqZmZlJt/dAzczMzFRa+EAzMzMz+w35QAAAAACwsPdAmpmZmakt90CamZmZCdT3QJqZmZlpAPdAZmZmZtZs+UBmZmZmHpb5QGZmZmaGIfhAmpmZmTGX90BmZmZm5r33QDMzMzMrePdAmpmZmUEE9UAAAAAAgMD0QAAAAACYHvRAMzMzMzOr9ECamZmZSUj0QDMzMzOzNvRAMzMzM+ud9EBmZmZmDor0QM3MzMxs8fZAmpmZmQFN90AAAAAAMI75QJqZmZnRWPlAAAAAAHgx+kDNzMzMVGv5QGZmZmY+zvlAZmZmZr6f+UAAAAAAABT5QGZmZmZGevpAAAAAAEDS+kA=",
          "dtype": "f8"
         },
         "decreasing": {
          "line": {
           "color": "red"
          }
         },
         "high": {
          "bdata": "zczMzCxr5kAAAAAAAO3nQJqZmZkJRuVAAAAAAADm5EBmZmZmJmrlQAAAAADAuedAAAAAAGDN6UCamZmZ+d/pQJqZmZn5Qe9AAAAAAAAX8UAAAAAAYADyQM3MzMwk0vBAZmZmZi6E8UDNzMzMrGjxQAAAAAC4wfFAMzMzMytV8EAAAAAAAGjwQJqZmZlJnO9AAAAAAID770AAAAAAAJnwQGZmZmaGjfFAAAAAAIA88UAAAAAAwI3xQAAAAADoH/FAAAAAADBs8EAAAAAAMG/vQM3MzMzcJu9AZmZmZkZ77UBmZmZmzoHwQM3MzMxk8fBAAAAAABAW8UAAAAAAgJ3uQM3MzMysKe5AzczMzNy270BmZmZm1sXvQAAAAACgL+1AzczMzCye7UAAAAAA4ErvQM3MzMxMOfBAAAAAAHAg8ECamZmZaXTvQM3MzMxE1/BAzczMzHz08EBmZmZmbvbxQAAAAAAAiPNAAAAAALDP9kAAAAAAIFT4QAAAAAAAJPhAAAAAAPhk+UAAAAAA4BX5QJqZmZmZcPpAzczMzNxe+EAAAAAAgCT4QM3MzMx0FvlAAAAAALDZ+UAAAAAAgKP6QGZmZmbm+vlAAAAAAEAG+UAAAAAAoCD4QJqZmZmRSfhAAAAAADCO90AAAAAAgDH3QDMzMzPr0fRAZmZmZp5Y9UAAAAAA4Kr1QDMzMzMrvfVAZmZmZl4B9UAAAAAAEBj1QDMzMzPbZfdAAAAAANDl90AzMzMz+575QM3MzMwM0PlAMzMzM/NW+0CamZmZaQn7QAAAAABAFPpAAAAAAKDm+UAAAAAASD35QGZmZmZGevpAMzMzMzP9+kA=",
          "dtype": "f8"
         },
         "increasing": {
          "line": {
           "color": "green"
          }
         },
         "low": {
          "bdata": "AAAAAKBJ40AAAAAAgEDkQAAAAAAAiONAAAAAAMDO4kBmZmZmZlbkQJqZmZkZn+RAAAAAAEBD50AAAAAAAKPoQAAAAADA4OhAAAAAAMDh7EAAAAAAYIXvQGZmZmZGre1AAAAAAECT70BmZmZmpoPvQAAAAADgie1AAAAAAEAi7UAzMzMzk3fuQAAAAABAh+tAZmZmZoZn7UBmZmZmpqztQAAAAAAgGPBAZmZmZsZF8EAAAAAAMG3wQAAAAABgxu9AMzMzM/Ps7kAAAAAAAIrsQJqZmZlpJ+pAmpmZmamD6kCamZmZ+RHtQAAAAABw+O5AAAAAAFA27UAAAAAA4PrnQGZmZma2ZutAmpmZmZlA7EAAAAAAYDPsQAAAAAAgq+lAMzMzM5Mw6kBmZmZmFhLsQDMzMzMTfe5AAAAAAEA57UAAAAAAAMHsQM3MzMy8Se5AAAAAAODV70AAAAAA8F7wQAAAAABAUfBAAAAAALAt80CamZmZian1QAAAAAAAJ/ZAAAAAAIBp9kBmZmZmzvv2QAAAAADwf/ZAAAAAABCQ9kCamZmZiUf2QAAAAAAIQvZAzczMzNy69UAAAAAAwEr4QDMzMzOL2fdAAAAAAIA39kAAAAAA8Pn2QDMzMzPLzPZAAAAAALAY80AAAAAAqOHzQDMzMzN7tPJAAAAAAODQ80AAAAAAcO/zQDMzMzOb0fNAmpmZmZEq8kAAAAAAGEX0QJqZmZnRiPRAAAAAAECu9kAAAAAAaM32QJqZmZlJmvhAAAAAAEDt+EAAAAAAEDD5QAAAAAAAg/hAAAAAAAB9+UAAAAAAWKT4QM3MzMwULPpAZmZmZsap+UA=",
          "dtype": "f8"
         },
         "name": "Price",
         "open": {
          "bdata": "ZmZmZtbA5EAAAAAAcIXlQAAAAABg5+RAzczMzBxc5EAAAAAAIL3kQM3MzMysBOVAMzMzM9On50DNzMzMPFHpQAAAAAAwN+lAMzMzMzMx7kDNzMzMJATxQDMzMzNLU/BAmpmZmUnj70CamZmZATDxQDMzMzOT8PBAmpmZmela70AAAAAAkN/vQM3MzMwM/e5AAAAAAFAp70BmZmZmNtjtQM3MzMxccPBAAAAAAKDc8ECamZmZyaXwQDMzMzND7/BAzczMzIQ48EDNzMzMrGPvQM3MzMws/u1AzczMzBwL7EAAAAAAAFvtQJqZmZnxVPBAmpmZmWmR8ECamZmZabntQAAAAACgou1AMzMzM8NL7UCamZmZeTLvQDMzMzPTaexAmpmZmSmj6kDNzMzMTE7tQJqZmZkJr+5AmpmZmUEK8EAAAAAAgFLuQDMzMzNji+5AAAAAANCz8ECamZmZ8V7wQAAAAABQrvBAmpmZmQmD80AAAAAAoCb2QDMzMzOLxvdAAAAAAEi390DNzMzMVFr4QDMzMzP7DflAAAAAALCw90CamZmZqS33QJqZmZkJ1PdAmpmZmWkA90DNzMzM1Gz5QGZmZmYelvlAZmZmZoYh+ECamZmZMZf3QGZmZmbmvfdAzczMzCx490CamZmZQQT1QAAAAACAwPRAAAAAAJge9EAzMzMzM6v0QJqZmZlJSPRAMzMzM7M29EAzMzMz6530QGZmZmYOivRAmpmZmSHx9kCamZmZAU33QAAAAAAwjvlAmpmZmdFY+UAAAAAAeDH6QM3MzMxUa/lAAAAAAAiR+UCamZmZQff4QM3MzMzcMPpAMzMzM5O8+UA=",
          "dtype": "f8"
         },
         "type": "candlestick",
         "x": [
          "2024-01-01T00:00:00",
          "2024-01-08T00:00:00",
          "2024-01-15T00:00:00",
          "2024-01-22T00:00:00",
          "2024-01-29T00:00:00",
          "2024-02-05T00:00:00",
          "2024-02-12T00:00:00",
          "2024-02-19T00:00:00",
          "2024-02-26T00:00:00",
          "2024-03-04T00:00:00",
          "2024-03-11T00:00:00",
          "2024-03-18T00:00:00",
          "2024-03-25T00:00:00",
          "2024-04-01T00:00:00",
          "2024-04-08T00:00:00",
          "2024-04-15T00:00:00",
          "2024-04-22T00:00:00",
          "2024-04-29T00:00:00",
          "2024-05-06T00:00:00",
          "2024-05-13T00:00:00",
          "2024-05-20T00:00:00",
          "2024-05-27T00:00:00",
          "2024-06-03T00:00:00",
          "2024-06-10T00:00:00",
          "2024-06-17T00:00:00",
          "2024-06-24T00:00:00",
          "2024-07-01T00:00:00",
          "2024-07-08T00:00:00",
          "2024-07-15T00:00:00",
          "2024-07-22T00:00:00",
          "2024-07-29T00:00:00",
          "2024-08-05T00:00:00",
          "2024-08-12T00:00:00",
          "2024-08-19T00:00:00",
          "2024-08-26T00:00:00",
          "2024-09-02T00:00:00",
          "2024-09-09T00:00:00",
          "2024-09-16T00:00:00",
          "2024-09-23T00:00:00",
          "2024-09-30T00:00:00",
          "2024-10-07T00:00:00",
          "2024-10-14T00:00:00",
          "2024-10-21T00:00:00",
          "2024-10-28T00:00:00",
          "2024-11-04T00:00:00",
          "2024-11-11T00:00:00",
          "2024-11-18T00:00:00",
          "2024-11-25T00:00:00",
          "2024-12-02T00:00:00",
          "2024-12-09T00:00:00",
          "2024-12-16T00:00:00",
          "2024-12-23T00:00:00",
          "2024-12-30T00:00:00",
          "2025-01-06T00:00:00",
          "2025-01-13T00:00:00",
          "2025-01-20T00:00:00",
          "2025-01-27T00:00:00",
          "2025-02-03T00:00:00",
          "2025-02-10T00:00:00",
          "2025-02-17T00:00:00",
          "2025-02-24T00:00:00",
          "2025-03-03T00:00:00",
          "2025-03-10T00:00:00",
          "2025-03-17T00:00:00",
          "2025-03-24T00:00:00",
          "2025-03-31T00:00:00",
          "2025-04-07T00:00:00",
          "2025-04-14T00:00:00",
          "2025-04-21T00:00:00",
          "2025-04-28T00:00:00",
          "2025-05-05T00:00:00",
          "2025-05-12T00:00:00",
          "2025-05-19T00:00:00",
          "2025-05-26T00:00:00",
          "2025-06-02T00:00:00",
          "2025-06-09T00:00:00",
          "2025-06-16T00:00:00",
          "2025-06-23T00:00:00",
          "2025-06-30T00:00:00"
         ],
         "xaxis": "x",
         "yaxis": "y"
        },
        {
         "marker": {
          "color": "orange"
         },
         "name": "Volume",
         "type": "bar",
         "x": [
          "2024-01-01T00:00:00",
          "2024-01-08T00:00:00",
          "2024-01-15T00:00:00",
          "2024-01-22T00:00:00",
          "2024-01-29T00:00:00",
          "2024-02-05T00:00:00",
          "2024-02-12T00:00:00",
          "2024-02-19T00:00:00",
          "2024-02-26T00:00:00",
          "2024-03-04T00:00:00",
          "2024-03-11T00:00:00",
          "2024-03-18T00:00:00",
          "2024-03-25T00:00:00",
          "2024-04-01T00:00:00",
          "2024-04-08T00:00:00",
          "2024-04-15T00:00:00",
          "2024-04-22T00:00:00",
          "2024-04-29T00:00:00",
          "2024-05-06T00:00:00",
          "2024-05-13T00:00:00",
          "2024-05-20T00:00:00",
          "2024-05-27T00:00:00",
          "2024-06-03T00:00:00",
          "2024-06-10T00:00:00",
          "2024-06-17T00:00:00",
          "2024-06-24T00:00:00",
          "2024-07-01T00:00:00",
          "2024-07-08T00:00:00",
          "2024-07-15T00:00:00",
          "2024-07-22T00:00:00",
          "2024-07-29T00:00:00",
          "2024-08-05T00:00:00",
          "2024-08-12T00:00:00",
          "2024-08-19T00:00:00",
          "2024-08-26T00:00:00",
          "2024-09-02T00:00:00",
          "2024-09-09T00:00:00",
          "2024-09-16T00:00:00",
          "2024-09-23T00:00:00",
          "2024-09-30T00:00:00",
          "2024-10-07T00:00:00",
          "2024-10-14T00:00:00",
          "2024-10-21T00:00:00",
          "2024-10-28T00:00:00",
          "2024-11-04T00:00:00",
          "2024-11-11T00:00:00",
          "2024-11-18T00:00:00",
          "2024-11-25T00:00:00",
          "2024-12-02T00:00:00",
          "2024-12-09T00:00:00",
          "2024-12-16T00:00:00",
          "2024-12-23T00:00:00",
          "2024-12-30T00:00:00",
          "2025-01-06T00:00:00",
          "2025-01-13T00:00:00",
          "2025-01-20T00:00:00",
          "2025-01-27T00:00:00",
          "2025-02-03T00:00:00",
          "2025-02-10T00:00:00",
          "2025-02-17T00:00:00",
          "2025-02-24T00:00:00",
          "2025-03-03T00:00:00",
          "2025-03-10T00:00:00",
          "2025-03-17T00:00:00",
          "2025-03-24T00:00:00",
          "2025-03-31T00:00:00",
          "2025-04-07T00:00:00",
          "2025-04-14T00:00:00",
          "2025-04-21T00:00:00",
          "2025-04-28T00:00:00",
          "2025-05-05T00:00:00",
          "2025-05-12T00:00:00",
          "2025-05-19T00:00:00",
          "2025-05-26T00:00:00",
          "2025-06-02T00:00:00",
          "2025-06-09T00:00:00",
          "2025-06-16T00:00:00",
          "2025-06-23T00:00:00",
          "2025-06-30T00:00:00"
         ],
         "xaxis": "x2",
         "y": {
          "bdata": "AAAAAPDgC0EAAAAAUCcWQQAAAAAYLgNBAAAAAMiyA0EAAAAACAAAQQAAAADo/gRBAAAAALA8CkEAAAAAKJIDQQAAAADsOhVBAAAAACSaGEEAAAAAwOkWQQAAAADMUxJBAAAAAHhsCkEAAAAAOIULQQAAAADk+BBBAAAAAOjzDkEAAAAAyLkEQQAAAAC4GAxBAAAAAAATBEEAAAAASHUGQQAAAACo2AdBAAAAAJhyAUEAAAAAWPACQQAAAACoTQNBAAAAALhwAEEAAAAAiFMDQQAAAABIOwlBAAAAADgSBUEAAAAAkOIJQQAAAABQNQtBAAAAAAiTDEEAAAAABAoWQQAAAABgFgdBAAAAADAfBkEAAAAAKOAFQQAAAADguApBAAAAABicBEEAAAAAiFkJQQAAAAAIOQdBAAAAAEjpBUEAAAAAgJcIQQAAAACASw1BAAAAALgdDUEAAAAAgFQQQQAAAAB0BBFBAAAAAJh2G0EAAAAA1OEWQQAAAAA0mxFBAAAAAJSSF0EAAAAAwCkTQQAAAAAkpxdBAAAAAJBPDUEAAAAAwDcLQQAAAADsgRFBAAAAAEh0FEEAAAAAqPEWQQAAAAAICBBBAAAAAEyBEUEAAAAAmPEDQQAAAADoZgVBAAAAAMzgFkEAAAAAiPkVQQAAAAAgjRBBAAAAAAArBEEAAAAAQFoGQQAAAADwwQ9BAAAAABi4GUEAAAAASMQGQQAAAACQBQ5BAAAAAICXB0EAAAAA8PIKQQAAAABA8gdBAAAAAKxdEEEAAAAA0AsHQQAAAABYQAVBAAAAAAAxwUAAAAAAgGvXQAAAAAAAJcNAAAAAAEBn8UA=",
          "dtype": "f8"
         },
         "yaxis": "y2"
        },
        {
         "line": {
          "width": 1.5
         },
         "mode": "lines",
         "name": "Exponential Moving Averages 13",
         "type": "scatter",
         "x": [
          "2024-01-01T00:00:00",
          "2024-01-08T00:00:00",
          "2024-01-15T00:00:00",
          "2024-01-22T00:00:00",
          "2024-01-29T00:00:00",
          "2024-02-05T00:00:00",
          "2024-02-12T00:00:00",
          "2024-02-19T00:00:00",
          "2024-02-26T00:00:00",
          "2024-03-04T00:00:00",
          "2024-03-11T00:00:00",
          "2024-03-18T00:00:00",
          "2024-03-25T00:00:00",
          "2024-04-01T00:00:00",
          "2024-04-08T00:00:00",
          "2024-04-15T00:00:00",
          "2024-04-22T00:00:00",
          "2024-04-29T00:00:00",
          "2024-05-06T00:00:00",
          "2024-05-13T00:00:00",
          "2024-05-20T00:00:00",
          "2024-05-27T00:00:00",
          "2024-06-03T00:00:00",
          "2024-06-10T00:00:00",
          "2024-06-17T00:00:00",
          "2024-06-24T00:00:00",
          "2024-07-01T00:00:00",
          "2024-07-08T00:00:00",
          "2024-07-15T00:00:00",
          "2024-07-22T00:00:00",
          "2024-07-29T00:00:00",
          "2024-08-05T00:00:00",
          "2024-08-12T00:00:00",
          "2024-08-19T00:00:00",
          "2024-08-26T00:00:00",
          "2024-09-02T00:00:00",
          "2024-09-09T00:00:00",
          "2024-09-16T00:00:00",
          "2024-09-23T00:00:00",
          "2024-09-30T00:00:00",
          "2024-10-07T00:00:00",
          "2024-10-14T00:00:00",
          "2024-10-21T00:00:00",
          "2024-10-28T00:00:00",
          "2024-11-04T00:00:00",
          "2024-11-11T00:00:00",
          "2024-11-18T00:00:00",
          "2024-11-25T00:00:00",
          "2024-12-02T00:00:00",
          "2024-12-09T00:00:00",
          "2024-12-16T00:00:00",
          "2024-12-23T00:00:00",
          "2024-12-30T00:00:00",
          "2025-01-06T00:00:00",
          "2025-01-13T00:00:00",
          "2025-01-20T00:00:00",
          "2025-01-27T00:00:00",
          "2025-02-03T00:00:00",
          "2025-02-10T00:00:00",
          "2025-02-17T00:00:00",
          "2025-02-24T00:00:00",
          "2025-03-03T00:00:00",
          "2025-03-10T00:00:00",
          "2025-03-17T00:00:00",
          "2025-03-24T00:00:00",
          "2025-03-31T00:00:00",
          "2025-04-07T00:00:00",
          "2025-04-14T00:00:00",
          "2025-04-21T00:00:00",
          "2025-04-28T00:00:00",
          "2025-05-05T00:00:00",
          "2025-05-12T00:00:00",
          "2025-05-19T00:00:00",
          "2025-05-26T00:00:00",
          "2025-06-02T00:00:00",
          "2025-06-09T00:00:00",
          "2025-06-16T00:00:00",
          "2025-06-23T00:00:00",
          "2025-06-30T00:00:00"
         ],
         "xaxis": "x",
         "y": {
          "bdata": "ivq7kLrg4kB3ROoywirjQHwHcfhgVuNA/Srz1KCJ40BdX+anxr/jQHW/V2ujTuRA0hECXN4F5UC16koqM5/lQIVFKsWc2OZApiXFALVx6EBbf+Oo1Z3pQMt7iOgug+pA09crfrqi60AjAgEjEofsQC1+DwgF7uxAcP56K6tZ7UB+QKuLlJXtQHT1UBFCz+1AyziHB9/Q7UCnu7Uj2kDuQPZ0lKnDv+5Arj9/2uAc70DmPSvnroHvQCWUX27go+9AYuXce7Sa70AEK/+rxV/vQPWDpzv25e5AmDae+HOt7kCDnIewFfbuQJzWDXqeRe9AcH0aLgQN70BhIvICP9nuQBK3jXd2oO5AS47YV1K17kAkOFPAZGHuQNad2aR42O1AZ1v8hbvE7UBKZDdkNObtQCIUyYH2Ne5At2Ehmwo67kClf0iMqUXuQM/TNgM6uO5A/JBTJy0C70Cs4mQaPVjvQBd300WJOPBAgkG18mcR8UCqcvrltQbyQDp4o//K1vJAKjtg+HCg80CZXn5u8mb0QF/jkBUy3/RA1tj/TIwz9UBg9F4znpP1QESe+UG7x/VA27otRwhN9kDv934CMMX2QCXjVjXz9vZAyCHOjNcN90ADBy0+/ib3QFMNd/OWMvdAFI+g5tPi9kCkekDqx5T2QPof7hHBOvZATEeKzawB9kChd4yhnsL1QElJpEgPivVAjyGURVNo9UDTBmmTkkj1QGW1UglEhfVAJB/vHV/G9UBEP1+HoVD2QL5wHtODv/ZAo2CsIoI990A7uR6EMo33QGatlu2h3/dAZuzY/qUf+EAOpidIjkL4QNJTnpWok/hAtP4ZN77l+EA=",
          "dtype": "f8"
         },
         "yaxis": "y"
        },
        {
         "line": {
          "width": 1.5
         },
         "mode": "lines",
         "name": "Exponential Moving Averages 21",
         "type": "scatter",
         "x": [
          "2024-01-01T00:00:00",
          "2024-01-08T00:00:00",
          "2024-01-15T00:00:00",
          "2024-01-22T00:00:00",
          "2024-01-29T00:00:00",
          "2024-02-05T00:00:00",
          "2024-02-12T00:00:00",
          "2024-02-19T00:00:00",
          "2024-02-26T00:00:00",
          "2024-03-04T00:00:00",
          "2024-03-11T00:00:00",
          "2024-03-18T00:00:00",
          "2024-03-25T00:00:00",
          "2024-04-01T00:00:00",
          "2024-04-08T00:00:00",
          "2024-04-15T00:00:00",
          "2024-04-22T00:00:00",
          "2024-04-29T00:00:00",
          "2024-05-06T00:00:00",
          "2024-05-13T00:00:00",
          "2024-05-20T00:00:00",
          "2024-05-27T00:00:00",
          "2024-06-03T00:00:00",
          "2024-06-10T00:00:00",
          "2024-06-17T00:00:00",
          "2024-06-24T00:00:00",
          "2024-07-01T00:00:00",
          "2024-07-08T00:00:00",
          "2024-07-15T00:00:00",
          "2024-07-22T00:00:00",
          "2024-07-29T00:00:00",
          "2024-08-05T00:00:00",
          "2024-08-12T00:00:00",
          "2024-08-19T00:00:00",
          "2024-08-26T00:00:00",
          "2024-09-02T00:00:00",
          "2024-09-09T00:00:00",
          "2024-09-16T00:00:00",
          "2024-09-23T00:00:00",
          "2024-09-30T00:00:00",
          "2024-10-07T00:00:00",
          "2024-10-14T00:00:00",
          "2024-10-21T00:00:00",
          "2024-10-28T00:00:00",
          "2024-11-04T00:00:00",
          "2024-11-11T00:00:00",
          "2024-11-18T00:00:00",
          "2024-11-25T00:00:00",
          "2024-12-02T00:00:00",
          "2024-12-09T00:00:00",
          "2024-12-16T00:00:00",
          "2024-12-23T00:00:00",
          "2024-12-30T00:00:00",
          "2025-01-06T00:00:00",
          "2025-01-13T00:00:00",
          "2025-01-20T00:00:00",
          "2025-01-27T00:00:00",
          "2025-02-03T00:00:00",
          "2025-02-10T00:00:00",
          "2025-02-17T00:00:00",
          "2025-02-24T00:00:00",
          "2025-03-03T00:00:00",
          "2025-03-10T00:00:00",
          "2025-03-17T00:00:00",
          "2025-03-24T00:00:00",
          "2025-03-31T00:00:00",
          "2025-04-07T00:00:00",
          "2025-04-14T00:00:00",
          "2025-04-21T00:00:00",
          "2025-04-28T00:00:00",
          "2025-05-05T00:00:00",
          "2025-05-12T00:00:00",
          "2025-05-19T00:00:00",
          "2025-05-26T00:00:00",
          "2025-06-02T00:00:00",
          "2025-06-09T00:00:00",
          "2025-06-16T00:00:00",
          "2025-06-23T00:00:00",
          "2025-06-30T00:00:00"
         ],
         "xaxis": "x",
         "y": {
          "bdata": "yo1PqYiT4UDPI44l7+DhQG3RGjCtGuJAY76Mcf1X4kA5dbyjO5biQEtTq9oxDONALB0Q3hue40Aopg6EYyDkQOjO0FKiCuVAfyLHDvc45kCwoU6+qCvnQO4nxYeI9udAwfWbNdno6ED1DaXTmbnpQLr+KptWPOpAYy2EXoq/6kAmU7kiOSLrQFat26/1f+tAYWo3m72260BTcxYU7C7sQKQ14STcr+xAfRlBChsb7UAZM7T29YntQDyCmmKDze1AphSf4G/y7UA1a10NgfPtQJspeo4ax+1A3BdhuTi97UA9RFjuRwHuQIGI4AsmSu5A87PsWf087kAj0mLd9C7uQPba0nBNGu5A1hqf0cUz7kAkek8gJAruQPIRjtfwuu1ABoB8eRCx7UCfmVAfJ8jtQGftTduj/e1ASyLXEVsF7kBI9bBaihHuQD19s/AuX+5A8c4uT1aW7kAcQ5pa6NbuQAe21pxgle9AeDvt0q5e8EAeoeWHCAvxQBIssENUpvFAaCMnUFRC8kCpauLBeuDyQPZg/Jh/UPNAp5StJGyq80ACOH3pSwv0QPidxRAgUPRAvN5fXhnH9EAoSKaNAjf1QNDtcf7fevVAEIl1r/6r9UDphegFK9z1QHvbHWefAfZAfdUR4Jbq9UDOquGFfc/1QOomzdYiqPVAZZyQUySR9UANP9f8PnP1QLMmDhl4VvVAM5xuG7FF9UBm9MpQojT1QBIIbtARXfVAHlvmnCeK9UBhgS69nOf1QMM9ONG4N/ZA932njz6U9kB/+QfbV9b2QE6mbdBsG/dAUOYP3v9V90BJdA6Ei373QO8Vopj5w/dACHHwRBcL+EA=",
          "dtype": "f8"
         },
         "yaxis": "y"
        },
        {
         "line": {
          "width": 1.5
         },
         "mode": "lines",
         "name": "Stochastic %K",
         "type": "scatter",
         "x": [
          "2024-01-01T00:00:00",
          "2024-01-08T00:00:00",
          "2024-01-15T00:00:00",
          "2024-01-22T00:00:00",
          "2024-01-29T00:00:00",
          "2024-02-05T00:00:00",
          "2024-02-12T00:00:00",
          "2024-02-19T00:00:00",
          "2024-02-26T00:00:00",
          "2024-03-04T00:00:00",
          "2024-03-11T00:00:00",
          "2024-03-18T00:00:00",
          "2024-03-25T00:00:00",
          "2024-04-01T00:00:00",
          "2024-04-08T00:00:00",
          "2024-04-15T00:00:00",
          "2024-04-22T00:00:00",
          "2024-04-29T00:00:00",
          "2024-05-06T00:00:00",
          "2024-05-13T00:00:00",
          "2024-05-20T00:00:00",
          "2024-05-27T00:00:00",
          "2024-06-03T00:00:00",
          "2024-06-10T00:00:00",
          "2024-06-17T00:00:00",
          "2024-06-24T00:00:00",
          "2024-07-01T00:00:00",
          "2024-07-08T00:00:00",
          "2024-07-15T00:00:00",
          "2024-07-22T00:00:00",
          "2024-07-29T00:00:00",
          "2024-08-05T00:00:00",
          "2024-08-12T00:00:00",
          "2024-08-19T00:00:00",
          "2024-08-26T00:00:00",
          "2024-09-02T00:00:00",
          "2024-09-09T00:00:00",
          "2024-09-16T00:00:00",
          "2024-09-23T00:00:00",
          "2024-09-30T00:00:00",
          "2024-10-07T00:00:00",
          "2024-10-14T00:00:00",
          "2024-10-21T00:00:00",
          "2024-10-28T00:00:00",
          "2024-11-04T00:00:00",
          "2024-11-11T00:00:00",
          "2024-11-18T00:00:00",
          "2024-11-25T00:00:00",
          "2024-12-02T00:00:00",
          "2024-12-09T00:00:00",
          "2024-12-16T00:00:00",
          "2024-12-23T00:00:00",
          "2024-12-30T00:00:00",
          "2025-01-06T00:00:00",
          "2025-01-13T00:00:00",
          "2025-01-20T00:00:00",
          "2025-01-27T00:00:00",
          "2025-02-03T00:00:00",
          "2025-02-10T00:00:00",
          "2025-02-17T00:00:00",
          "2025-02-24T00:00:00",
          "2025-03-03T00:00:00",
          "2025-03-10T00:00:00",
          "2025-03-17T00:00:00",
          "2025-03-24T00:00:00",
          "2025-03-31T00:00:00",
          "2025-04-07T00:00:00",
          "2025-04-14T00:00:00",
          "2025-04-21T00:00:00",
          "2025-04-28T00:00:00",
          "2025-05-05T00:00:00",
          "2025-05-12T00:00:00",
          "2025-05-19T00:00:00",
          "2025-05-26T00:00:00",
          "2025-06-02T00:00:00",
          "2025-06-09T00:00:00",
          "2025-06-16T00:00:00",
          "2025-06-23T00:00:00",
          "2025-06-30T00:00:00"
         ],
         "xaxis": "x3",
         "y": {
          "bdata": "vMaI87fW6D87Hz2izhvjP+iVoLbLsds/ij3nUB1o1D/H4JHF5THWPz3SV/EyvOI/FKkcnEKj6D/BC0OuxLPtP9kHj7loOe0/wQL0iQTZ7T803JoPSgnsP+lG1PQzN+k/Rdf2R03F5z9zate5fGXnP3eKOkyGkeM/3RfD2gsW3j8Wix0JBVHVP5sv8Ia2Edk/g1Nkkfge1j8eGU5XVgfiP6kuMAKH5eU/BNpOzYbo6j8XcXW5mjDpPzdDWL7I5uU/NRHwPs/u3T9o1M5rBPTRP+cP87DbLcc/5izT44On0T+e9XZhgJbgP9i2zhEb+Oc/kNT129SA6D++eUhF0EzkPy1nZEEvO+A/lCi8L+gI4z/XTsoojcHhP0MjKmBjqN8/ydAaIH1D3T/JPJfmecHiP3kR+cI+Nek/7PlAkrIs6j+/STFMadXoPwDHMg2g4ug/Jde3Y/XP6T+BK5QSTz7pP5UfzMfduuk/GyfsUWw66z+5QqBe+FbuP48ixZpqkO0/NLyBTUhC7T+h49o8kmDtPxVeBIXODeg/1xI1T/Ap4T94L3XUORrWP0Rm6I5E19A/p7m6cRZ53D8FpooTR6XiP/ChyiBW9+U/XZKeuwak4T+Mxtp9y0PbP8yhpFmL39Y//BFS8tm81D/JHw9Vs/PRP3C+RGN3UNE/FgYX6zHe0j+hRLjqCdnTP6P9FZjrnNU/M65IRda93D8w2NAwo/zhP9QxcmUOJOg/WbsFvkth6j+rJMyhMd7tP1dGPlIi5u0/dMECOII27T+3ktE4/OjoPwkkF6k5M+Y/agsQJ5iG4T8T6Znfz8jaP0f/lSLpRd0/AVnh/api5D8=",
          "dtype": "f8"
         },
         "yaxis": "y3"
        },
        {
         "line": {
          "width": 1.5
         },
         "mode": "lines",
         "name": "Stochastic %D",
         "type": "scatter",
         "x": [
          "2024-01-01T00:00:00",
          "2024-01-08T00:00:00",
          "2024-01-15T00:00:00",
          "2024-01-22T00:00:00",
          "2024-01-29T00:00:00",
          "2024-02-05T00:00:00",
          "2024-02-12T00:00:00",
          "2024-02-19T00:00:00",
          "2024-02-26T00:00:00",
          "2024-03-04T00:00:00",
          "2024-03-11T00:00:00",
          "2024-03-18T00:00:00",
          "2024-03-25T00:00:00",
          "2024-04-01T00:00:00",
          "2024-04-08T00:00:00",
          "2024-04-15T00:00:00",
          "2024-04-22T00:00:00",
          "2024-04-29T00:00:00",
          "2024-05-06T00:00:00",
          "2024-05-13T00:00:00",
          "2024-05-20T00:00:00",
          "2024-05-27T00:00:00",
          "2024-06-03T00:00:00",
          "2024-06-10T00:00:00",
          "2024-06-17T00:00:00",
          "2024-06-24T00:00:00",
          "2024-07-01T00:00:00",
          "2024-07-08T00:00:00",
          "2024-07-15T00:00:00",
          "2024-07-22T00:00:00",
          "2024-07-29T00:00:00",
          "2024-08-05T00:00:00",
          "2024-08-12T00:00:00",
          "2024-08-19T00:00:00",
          "2024-08-26T00:00:00",
          "2024-09-02T00:00:00",
          "2024-09-09T00:00:00",
          "2024-09-16T00:00:00",
          "2024-09-23T00:00:00",
          "2024-09-30T00:00:00",
          "2024-10-07T00:00:00",
          "2024-10-14T00:00:00",
          "2024-10-21T00:00:00",
          "2024-10-28T00:00:00",
          "2024-11-04T00:00:00",
          "2024-11-11T00:00:00",
          "2024-11-18T00:00:00",
          "2024-11-25T00:00:00",
          "2024-12-02T00:00:00",
          "2024-12-09T00:00:00",
          "2024-12-16T00:00:00",
          "2024-12-23T00:00:00",
          "2024-12-30T00:00:00",
          "2025-01-06T00:00:00",
          "2025-01-13T00:00:00",
          "2025-01-20T00:00:00",
          "2025-01-27T00:00:00",
          "2025-02-03T00:00:00",
          "2025-02-10T00:00:00",
          "2025-02-17T00:00:00",
          "2025-02-24T00:00:00",
          "2025-03-03T00:00:00",
          "2025-03-10T00:00:00",
          "2025-03-17T00:00:00",
          "2025-03-24T00:00:00",
          "2025-03-31T00:00:00",
          "2025-04-07T00:00:00",
          "2025-04-14T00:00:00",
          "2025-04-21T00:00:00",
          "2025-04-28T00:00:00",
          "2025-05-05T00:00:00",
          "2025-05-12T00:00:00",
          "2025-05-19T00:00:00",
          "2025-05-26T00:00:00",
          "2025-06-02T00:00:00",
          "2025-06-09T00:00:00",
          "2025-06-16T00:00:00",
          "2025-06-23T00:00:00",
          "2025-06-30T00:00:00"
         ],
         "xaxis": "x3",
         "y": {
          "bdata": "A2JDonWD6T8hsW8Nk/HmP/m6XNDOQ+M/TVurbtfF3D+95l1Emm7XP5nrYqjNsNo/PHkU0CIo4j+w1+cTvlvoPzuUTwHQ2us/dAdC+2WX7T9ForQbPQntP0u3y4Qrs+s/d1N3GZms6T832OD8qSDoPxBEWG/FPuY/8yrR+wJW4z+hkhzUCS7eP4WbRc6Xfdk/aK/QtebV1j90PFBCyb/bPy57ZYvI/uA/mWBEYiFH5j9B06YtOKroPxzaXmyjqug/o+nBB5mv5D+vzs+3IZDePzHPEoFA09M/g1sScPl2zz9dNb5/e87UP6NruiEfduA/AytpGtCv5T9jrFlmlezmP9SRi8tGWOQ/KwMjkqKF4j8zSk4zjKzhP68tia03iuE/Spj5In8S4D9FkugMzmfgP+M8370niOM/EBibviNh5z9jHHngyGfpPzmu4aM+TOk/9/ez6VQt6T/j7dQrTFDpP79gXb9gmOk/ECbEDjMR6j8kgx0oFsTrP8wuGxlFC+0/1LX3bI647T9367VhbGbtP/ipdVo4kOs/hHGxBRuI5z/jAnw/SWzhPyTplwB1bNg/dxoIR9x41j+ozpJi+IjbP5nhEM9iSOI/cfP7T+Fq4z/ch8czFr/hPwgvlG8hedw/c9NFQxCg1z8x8QGLXYXUPxNQN44Bq9I/x/Z4NnQL0j9kWLG9O63SP8vCoSQNHNQ/KFCyQplm1z8TdFVqrcbcP7V1oj001eI/y0EYHP/V5j9JW8FB2cvqP3W3Wjs1t+w/0w6vDvKo7T+BMwZB4AHsP73SowjocOk/D5b9ApqL5T+qtqbqvbThPxBVxRqjXt4/ZcT91Fcj4D8=",
          "dtype": "f8"
         },
         "yaxis": "y3"
        },
        {
         "line": {
          "width": 1.5
         },
         "mode": "lines",
         "name": "MACD Line",
         "type": "scatter",
         "x": [
          "2024-01-01T00:00:00",
          "2024-01-08T00:00:00",
          "2024-01-15T00:00:00",
          "2024-01-22T00:00:00",
          "2024-01-29T00:00:00",
          "2024-02-05T00:00:00",
          "2024-02-12T00:00:00",
          "2024-02-19T00:00:00",
          "2024-02-26T00:00:00",
          "2024-03-04T00:00:00",
          "2024-03-11T00:00:00",
          "2024-03-18T00:00:00",
          "2024-03-25T00:00:00",
          "2024-04-01T00:00:00",
          "2024-04-08T00:00:00",
          "2024-04-15T00:00:00",
          "2024-04-22T00:00:00",
          "2024-04-29T00:00:00",
          "2024-05-06T00:00:00",
          "2024-05-13T00:00:00",
          "2024-05-20T00:00:00",
          "2024-05-27T00:00:00",
          "2024-06-03T00:00:00",
          "2024-06-10T00:00:00",
          "2024-06-17T00:00:00",
          "2024-06-24T00:00:00",
          "2024-07-01T00:00:00",
          "2024-07-08T00:00:00",
          "2024-07-15T00:00:00",
          "2024-07-22T00:00:00",
          "2024-07-29T00:00:00",
          "2024-08-05T00:00:00",
          "2024-08-12T00:00:00",
          "2024-08-19T00:00:00",
          "2024-08-26T00:00:00",
          "2024-09-02T00:00:00",
          "2024-09-09T00:00:00",
          "2024-09-16T00:00:00",
          "2024-09-23T00:00:00",
          "2024-09-30T00:00:00",
          "2024-10-07T00:00:00",
          "2024-10-14T00:00:00",
          "2024-10-21T00:00:00",
          "2024-10-28T00:00:00",
          "2024-11-04T00:00:00",
          "2024-11-11T00:00:00",
          "2024-11-18T00:00:00",
          "2024-11-25T00:00:00",
          "2024-12-02T00:00:00",
          "2024-12-09T00:00:00",
          "2024-12-16T00:00:00",
          "2024-12-23T00:00:00",
          "2024-12-30T00:00:00",
          "2025-01-06T00:00:00",
          "2025-01-13T00:00:00",
          "2025-01-20T00:00:00",
          "2025-01-27T00:00:00",
          "2025-02-03T00:00:00",
          "2025-02-10T00:00:00",
          "2025-02-17T00:00:00",
          "2025-02-24T00:00:00",
          "2025-03-03T00:00:00",
          "2025-03-10T00:00:00",
          "2025-03-17T00:00:00",
          "2025-03-24T00:00:00",
          "2025-03-31T00:00:00",
          "2025-04-07T00:00:00",
          "2025-04-14T00:00:00",
          "2025-04-21T00:00:00",
          "2025-04-28T00:00:00",
          "2025-05-05T00:00:00",
          "2025-05-12T00:00:00",
          "2025-05-19T00:00:00",
          "2025-05-26T00:00:00",
          "2025-06-02T00:00:00",
          "2025-06-09T00:00:00",
          "2025-06-16T00:00:00",
          "2025-06-23T00:00:00",
          "2025-06-30T00:00:00"
         ],
         "xaxis": "x4",
         "y": {
          "bdata": "SGOPmkzJsECIggfmJ7SwQJiPx61BGrBAYN3BdT5hr0Awv/DberuuQHhDCwTXnrBA+HHtFG55skD4C98Ru6azQHA1kn5vhrdAYPFHTjq+vEAIkR0gOp+/QDgJrBrfg8BATNd3AxeswUDMZEsBITjCQMT5t0R5ocFA+G1g/lkjwUAMWjgXQ0bAQJDYJqli775AYE3TYs57vEBAj3l+FSu8QJhJp+PTI7xAoCCAPw6Gu0DAfGOf7Re7QIBpQdNdiblAuGTuybNat0CI9/+NuHy0QBAUM7plw7BAgGfgcSL7rEDA0PNckFCtQLCpWT1Z2K1AIOmVPt2QqUDwKqOq7M6lQEAZIBXHLqJA0OPvr8SPoUAg25IBuaSaQAB6tNMJUo5AwAOulg6ciUDArmiGW6mMQGC5T9l27ZJAIKVooYLTkUAAV5oYyVORQMAkI1NSCphAQISqBVRVm0AgomWpRS+fQPBGTLZnJqhA4NeWg3ioskAAGa2SQa25QEBlwuWezr5AeIL27uqkwUCIL6Cvf6XDQDDbFMXdHsRAkNBebKPvw0DYoujmpvrDQBjG7qjwQcNAoB1XXPsExEC4Hp+Xu33EQKivSfLGssNAgBj62wSCwkAorJmL9HXBQFh7/kh+RMBAsA1os/wpu0DgamvM+k62QNBb56lhcbFAgLoSVR9ErEAAZ5V6dMWlQID1tWxiQqBAACM2g8uRmUBAJDB9AnCTQEAuYkIgr5pA4IcjfCPxoEDge8t6HlOpQCAajolTEq9AsDOdXbCwskBgWtUs8vWzQCAtLpTKOLVAwGCjYXi8tUCwJCvB3DG1QEDF6fm3ULZAIM4JDKZgt0A=",
          "dtype": "f8"
         },
         "yaxis": "y4"
        },
        {
         "line": {
          "width": 1.5
         },
         "mode": "lines",
         "name": "MACD Signal Line",
         "type": "scatter",
         "x": [
          "2024-01-01T00:00:00",
          "2024-01-08T00:00:00",
          "2024-01-15T00:00:00",
          "2024-01-22T00:00:00",
          "2024-01-29T00:00:00",
          "2024-02-05T00:00:00",
          "2024-02-12T00:00:00",
          "2024-02-19T00:00:00",
          "2024-02-26T00:00:00",
          "2024-03-04T00:00:00",
          "2024-03-11T00:00:00",
          "2024-03-18T00:00:00",
          "2024-03-25T00:00:00",
          "2024-04-01T00:00:00",
          "2024-04-08T00:00:00",
          "2024-04-15T00:00:00",
          "2024-04-22T00:00:00",
          "2024-04-29T00:00:00",
          "2024-05-06T00:00:00",
          "2024-05-13T00:00:00",
          "2024-05-20T00:00:00",
          "2024-05-27T00:00:00",
          "2024-06-03T00:00:00",
          "2024-06-10T00:00:00",
          "2024-06-17T00:00:00",
          "2024-06-24T00:00:00",
          "2024-07-01T00:00:00",
          "2024-07-08T00:00:00",
          "2024-07-15T00:00:00",
          "2024-07-22T00:00:00",
          "2024-07-29T00:00:00",
          "2024-08-05T00:00:00",
          "2024-08-12T00:00:00",
          "2024-08-19T00:00:00",
          "2024-08-26T00:00:00",
          "2024-09-02T00:00:00",
          "2024-09-09T00:00:00",
          "2024-09-16T00:00:00",
          "2024-09-23T00:00:00",
          "2024-09-30T00:00:00",
          "2024-10-07T00:00:00",
          "2024-10-14T00:00:00",
          "2024-10-21T00:00:00",
          "2024-10-28T00:00:00",
          "2024-11-04T00:00:00",
          "2024-11-11T00:00:00",
          "2024-11-18T00:00:00",
          "2024-11-25T00:00:00",
          "2024-12-02T00:00:00",
          "2024-12-09T00:00:00",
          "2024-12-16T00:00:00",
          "2024-12-23T00:00:00",
          "2024-12-30T00:00:00",
          "2025-01-06T00:00:00",
          "2025-01-13T00:00:00",
          "2025-01-20T00:00:00",
          "2025-01-27T00:00:00",
          "2025-02-03T00:00:00",
          "2025-02-10T00:00:00",
          "2025-02-17T00:00:00",
          "2025-02-24T00:00:00",
          "2025-03-03T00:00:00",
          "2025-03-10T00:00:00",
          "2025-03-17T00:00:00",
          "2025-03-24T00:00:00",
          "2025-03-31T00:00:00",
          "2025-04-07T00:00:00",
          "2025-04-14T00:00:00",
          "2025-04-21T00:00:00",
          "2025-04-28T00:00:00",
          "2025-05-05T00:00:00",
          "2025-05-12T00:00:00",
          "2025-05-19T00:00:00",
          "2025-05-26T00:00:00",
          "2025-06-02T00:00:00",
          "2025-06-09T00:00:00",
          "2025-06-16T00:00:00",
          "2025-06-23T00:00:00",
          "2025-06-30T00:00:00"
         ],
         "xaxis": "x4",
         "y": {
          "bdata": "8l8obLBwqUCSGvAYnQirQBm13L9kEaxA9IkKsfa6rEDOx2uGdyGtQAjujdPo861ANx9qfhlar0B7qPAClniwQOD3EILB4bFAYMPoqtkNtEC2H8AoIF62QEJQq5EMgLhA7S/sdUarukDdgUHFeJ+8QAD/fexd871AMCtYidXQvkAs4Cl3kim/QNoR9k3vHb9Aj+q76xuXvkAZpa6iGhu+QJpf4OJytr1ANoYzwl5GvUC46gmIrta8QOHQ4WOeLbxAc+59q6I2u0BE8JelQN65QKAq6twUDLhAdCy4VccitkBwuKsa4aO0QOyKRWgjf7NAQNN5pmUnskDlxnHJNbSwQEhDiUbkXK5A/fzQjnfNq0BO4DW/C+ioQPIf9EnwcKVA8swYKfRuokAYE5nnBy6gQDrdBJ5XrJ1AnGuynsZNm0Cwmq1Q+k6ZQLQcxeoLDplAajEm8LOCmUD1R5l7N6WaQL4imXjv+Z5Acpd5/o/ao0D1T3M5WieqQG9nuxF3n7BA8Ib4oCNbtECRGDr6tSS4QLvRNkrqXLtANvuEM2PdvUCCcMe4K+K/QNKHfzjbmsBA/Njdcq5JwUBVTdETse3BQDOUHA1PSMJAqa4V0NlTwkDCR2PCeCfCQEaFtUPgxsFAY9JOexnwwEBlzMaH9I+/QBTpZlsKvbxAHs1tnj7RuUDMlDO+vdS2QDCpbgkI5LNAs6KBNOowsUCMobqTEHOtQHcfn0ldOqpAwJq5U+teqED6+olbwo+oQGk08ZcS3alAaAsz0rsqrEDhxhe6kISuQC7yRZuVc7BAGNWLXCmCsUA3GBLX5j6yQKAHCt5DD7NA7cjWgFfss0A=",
          "dtype": "f8"
         },
         "yaxis": "y4"
        },
        {
         "marker": {
          "color": [
           "green",
           "green",
           "green",
           "green",
           "green",
           "green",
           "green",
           "green",
           "green",
           "green",
           "green",
           "green",
           "green",
           "green",
           "green",
           "green",
           "green",
           "red",
           "red",
           "red",
           "red",
           "red",
           "red",
           "red",
           "red",
           "red",
           "red",
           "red",
           "red",
           "red",
           "red",
           "red",
           "red",
           "red",
           "red",
           "red",
           "red",
           "red",
           "red",
           "red",
           "red",
           "red",
           "green",
           "green",
           "green",
           "green",
           "green",
           "green",
           "green",
           "green",
           "green",
           "green",
           "green",
           "green",
           "green",
           "green",
           "green",
           "green",
           "red",
           "red",
           "red",
           "red",
           "red",
           "red",
           "red",
           "red",
           "red",
           "red",
           "red",
           "red",
           "green",
           "green",
           "green",
           "green",
           "green",
           "green",
           "green",
           "green",
           "green"
          ]
         },
         "name": "MACD Bar",
         "type": "bar",
         "x": [
          "2024-01-01T00:00:00",
          "2024-01-08T00:00:00",
          "2024-01-15T00:00:00",
          "2024-01-22T00:00:00",
          "2024-01-29T00:00:00",
          "2024-02-05T00:00:00",
          "2024-02-12T00:00:00",
          "2024-02-19T00:00:00",
          "2024-02-26T00:00:00",
          "2024-03-04T00:00:00",
          "2024-03-11T00:00:00",
          "2024-03-18T00:00:00",
          "2024-03-25T00:00:00",
          "2024-04-01T00:00:00",
          "2024-04-08T00:00:00",
          "2024-04-15T00:00:00",
          "2024-04-22T00:00:00",
          "2024-04-29T00:00:00",
          "2024-05-06T00:00:00",
          "2024-05-13T00:00:00",
          "2024-05-20T00:00:00",
          "2024-05-27T00:00:00",
          "2024-06-03T00:00:00",
          "2024-06-10T00:00:00",
          "2024-06-17T00:00:00",
          "2024-06-24T00:00:00",
          "2024-07-01T00:00:00",
          "2024-07-08T00:00:00",
          "2024-07-15T00:00:00",
          "2024-07-22T00:00:00",
          "2024-07-29T00:00:00",
          "2024-08-05T00:00:00",
          "2024-08-12T00:00:00",
          "2024-08-19T00:00:00",
          "2024-08-26T00:00:00",
          "2024-09-02T00:00:00",
          "2024-09-09T00:00:00",
          "2024-09-16T00:00:00",
          "2024-09-23T00:00:00",
          "2024-09-30T00:00:00",
          "2024-10-07T00:00:00",
          "2024-10-14T00:00:00",
          "2024-10-21T00:00:00",
          "2024-10-28T00:00:00",
          "2024-11-04T00:00:00",
          "2024-11-11T00:00:00",
          "2024-11-18T00:00:00",
          "2024-11-25T00:00:00",
          "2024-12-02T00:00:00",
          "2024-12-09T00:00:00",
          "2024-12-16T00:00:00",
          "2024-12-23T00:00:00",
          "2024-12-30T00:00:00",
          "2025-01-06T00:00:00",
          "2025-01-13T00:00:00",
          "2025-01-20T00:00:00",
          "2025-01-27T00:00:00",
          "2025-02-03T00:00:00",
          "2025-02-10T00:00:00",
          "2025-02-17T00:00:00",
          "2025-02-24T00:00:00",
          "2025-03-03T00:00:00",
          "2025-03-10T00:00:00",
          "2025-03-17T00:00:00",
          "2025-03-24T00:00:00",
          "2025-03-31T00:00:00",
          "2025-04-07T00:00:00",
          "2025-04-14T00:00:00",
          "2025-04-21T00:00:00",
          "2025-04-28T00:00:00",
          "2025-05-05T00:00:00",
          "2025-05-12T00:00:00",
          "2025-05-19T00:00:00",
          "2025-05-26T00:00:00",
          "2025-06-02T00:00:00",
          "2025-06-09T00:00:00",
          "2025-06-16T00:00:00",
          "2025-06-23T00:00:00",
          "2025-06-30T00:00:00"
         ],
         "xaxis": "x4",
         "y": {
          "bdata": "PM3skdFDkED4qXvMyn6JQFyoyW56jIBAYJu6JT4ydUAgdk9YNaBpQEDHRKQpTnpA5BLDrQpjhkDoG3N3KHGJQED2BPK3kpZAAFy+RsFgoUCk4rruM4KiQFyEWUdjD6FAVv0GIs9ZoUDsHlX1JEOfQCDSx3NSPpVAAIZFm/Oui0DAPm10Oy92QAClnGdSRkfAeOlER2zagMCQXVFDUgB/wCBgkfPvKXnAYFk2KwgFfMCA32aKDux7wAg7A4UEIoXA2E18DHffjsDw4l9eIIaVwEBa3Iq8Ip3A0OIfc9iUnsBAQMewY+6XwFDYYibbS5LAwHq7HNx7lcC0xYDQ/TKXwBBU0mI6XJjAWjLCvWV7lMB85dh8XiuXwOQCDqrbuJvABJjaBuEPmMDQzv0LYgeSwLRHaonBfYXA+IyT+of0gsDADk3gxOx/wEB/H3qZO1DAYC1FWAEqXUCsaDG3OChyQCJr//PfUpFAThi0CGF2oUAL4ubrKDOpQKL7DahPXqxAAPzoeWTdrUD+jAzKkkyuQErJ5X+iwalA1EtxSscDpEBcqhMqRCagQDDyeYOrOJVAICXKS2falUAYi24eVICUQFC30VJ+p4ZAgOs08oUVV0BAczPZhjB2wOCecKsfJojAWFzWDNnYmsAKw7Z284GiwIga/2JRl6bAvN/I511ep8CYwtEBB+SnwOBcJ6athafA5jNop+6YpcBsjyJVD7ujwK4Q3FCaxZnAgEtYXh+3jcDAHDDog2tYQNyWc8YD1YRA8LcO0kltkkC+2yU/p86SQMjroOPTFJNAoC5eFDzpkEDIY8hQr5eHQADt/d6gC4pAmCmYWXSii0A=",
          "dtype": "f8"
         },
         "yaxis": "y4"
        }
       ],
       "layout": {
        "annotations": [
         {
          "font": {
           "size": 16
          },
          "showarrow": false,
          "text": "OHLC BTC (USD)",
          "x": 0.5,
          "xanchor": "center",
          "xref": "paper",
          "y": 1,
          "yanchor": "bottom",
          "yref": "paper"
         },
         {
          "font": {
           "size": 16
          },
          "showarrow": false,
          "text": "Volume",
          "x": 0.5,
          "xanchor": "center",
          "xref": "paper",
          "y": 0.4159999999999999,
          "yanchor": "bottom",
          "yref": "paper"
         },
         {
          "font": {
           "size": 16
          },
          "showarrow": false,
          "text": "Stochastic(5, 3, 3)",
          "x": 0.5,
          "xanchor": "center",
          "xref": "paper",
          "y": 0.30199999999999994,
          "yanchor": "bottom",
          "yref": "paper"
         },
         {
          "font": {
           "size": 16
          },
          "showarrow": false,
          "text": "MACD(12, 26, 9)",
          "x": 0.5,
          "xanchor": "center",
          "xref": "paper",
          "y": 0.141,
          "yanchor": "bottom",
          "yref": "paper"
         }
        ],
        "height": 1000,
        "margin": {
         "b": 40,
         "l": 50,
         "r": 25,
         "t": 50
        },
        "template": {
         "data": {
          "bar": [
           {
            "error_x": {
             "color": "#f2f5fa"
            },
            "error_y": {
             "color": "#f2f5fa"
            },
            "marker": {
             "line": {
              "color": "rgb(17,17,17)",
              "width": 0.5
             },
             "pattern": {
              "fillmode": "overlay",
              "size": 10,
              "solidity": 0.2
             }
            },
            "type": "bar"
           }
          ],
          "barpolar": [
           {
            "marker": {
             "line": {
              "color": "rgb(17,17,17)",
              "width": 0.5
             },
             "pattern": {
              "fillmode": "overlay",
              "size": 10,
              "solidity": 0.2
             }
            },
            "type": "barpolar"
           }
          ],
          "carpet": [
           {
            "aaxis": {
             "endlinecolor": "#A2B1C6",
             "gridcolor": "#506784",
             "linecolor": "#506784",
             "minorgridcolor": "#506784",
             "startlinecolor": "#A2B1C6"
            },
            "baxis": {
             "endlinecolor": "#A2B1C6",
             "gridcolor": "#506784",
             "linecolor": "#506784",
             "minorgridcolor": "#506784",
             "startlinecolor": "#A2B1C6"
            },
            "type": "carpet"
           }
          ],
          "choropleth": [
           {
            "colorbar": {
             "outlinewidth": 0,
             "ticks": ""
            },
            "type": "choropleth"
           }
          ],
          "contour": [
           {
            "colorbar": {
             "outlinewidth": 0,
             "ticks": ""
            },
            "colorscale": [
             [
              0,
              "#0d0887"
             ],
             [
              0.1111111111111111,
              "#46039f"
             ],
             [
              0.2222222222222222,
              "#7201a8"
             ],
             [
              0.3333333333333333,
              "#9c179e"
             ],
             [
              0.4444444444444444,
              "#bd3786"
             ],
             [
              0.5555555555555556,
              "#d8576b"
             ],
             [
              0.6666666666666666,
              "#ed7953"
             ],
             [
              0.7777777777777778,
              "#fb9f3a"
             ],
             [
              0.8888888888888888,
              "#fdca26"
             ],
             [
              1,
              "#f0f921"
             ]
            ],
            "type": "contour"
           }
          ],
          "contourcarpet": [
           {
            "colorbar": {
             "outlinewidth": 0,
             "ticks": ""
            },
            "type": "contourcarpet"
           }
          ],
          "heatmap": [
           {
            "colorbar": {
             "outlinewidth": 0,
             "ticks": ""
            },
            "colorscale": [
             [
              0,
              "#0d0887"
             ],
             [
              0.1111111111111111,
              "#46039f"
             ],
             [
              0.2222222222222222,
              "#7201a8"
             ],
             [
              0.3333333333333333,
              "#9c179e"
             ],
             [
              0.4444444444444444,
              "#bd3786"
             ],
             [
              0.5555555555555556,
              "#d8576b"
             ],
             [
              0.6666666666666666,
              "#ed7953"
             ],
             [
              0.7777777777777778,
              "#fb9f3a"
             ],
             [
              0.8888888888888888,
              "#fdca26"
             ],
             [
              1,
              "#f0f921"
             ]
            ],
            "type": "heatmap"
           }
          ],
          "histogram": [
           {
            "marker": {
             "pattern": {
              "fillmode": "overlay",
              "size": 10,
              "solidity": 0.2
             }
            },
            "type": "histogram"
           }
          ],
          "histogram2d": [
           {
            "colorbar": {
             "outlinewidth": 0,
             "ticks": ""
            },
            "colorscale": [
             [
              0,
              "#0d0887"
             ],
             [
              0.1111111111111111,
              "#46039f"
             ],
             [
              0.2222222222222222,
              "#7201a8"
             ],
             [
              0.3333333333333333,
              "#9c179e"
             ],
             [
              0.4444444444444444,
              "#bd3786"
             ],
             [
              0.5555555555555556,
              "#d8576b"
             ],
             [
              0.6666666666666666,
              "#ed7953"
             ],
             [
              0.7777777777777778,
              "#fb9f3a"
             ],
             [
              0.8888888888888888,
              "#fdca26"
             ],
             [
              1,
              "#f0f921"
             ]
            ],
            "type": "histogram2d"
           }
          ],
          "histogram2dcontour": [
           {
            "colorbar": {
             "outlinewidth": 0,
             "ticks": ""
            },
            "colorscale": [
             [
              0,
              "#0d0887"
             ],
             [
              0.1111111111111111,
              "#46039f"
             ],
             [
              0.2222222222222222,
              "#7201a8"
             ],
             [
              0.3333333333333333,
              "#9c179e"
             ],
             [
              0.4444444444444444,
              "#bd3786"
             ],
             [
              0.5555555555555556,
              "#d8576b"
             ],
             [
              0.6666666666666666,
              "#ed7953"
             ],
             [
              0.7777777777777778,
              "#fb9f3a"
             ],
             [
              0.8888888888888888,
              "#fdca26"
             ],
             [
              1,
              "#f0f921"
             ]
            ],
            "type": "histogram2dcontour"
           }
          ],
          "mesh3d": [
           {
            "colorbar": {
             "outlinewidth": 0,
             "ticks": ""
            },
            "type": "mesh3d"
           }
          ],
          "parcoords": [
           {
            "line": {
             "colorbar": {
              "outlinewidth": 0,
              "ticks": ""
             }
            },
            "type": "parcoords"
           }
          ],
          "pie": [
           {
            "automargin": true,
            "type": "pie"
           }
          ],
          "scatter": [
           {
            "marker": {
             "line": {
              "color": "#283442"
             }
            },
            "type": "scatter"
           }
          ],
          "scatter3d": [
           {
            "line": {
             "colorbar": {
              "outlinewidth": 0,
              "ticks": ""
             }
            },
            "marker": {
             "colorbar": {
              "outlinewidth": 0,
              "ticks": ""
             }
            },
            "type": "scatter3d"
           }
          ],
          "scattercarpet": [
           {
            "marker": {
             "colorbar": {
              "outlinewidth": 0,
              "ticks": ""
             }
            },
            "type": "scattercarpet"
           }
          ],
          "scattergeo": [
           {
            "marker": {
             "colorbar": {
              "outlinewidth": 0,
              "ticks": ""
             }
            },
            "type": "scattergeo"
           }
          ],
          "scattergl": [
           {
            "marker": {
             "line": {
              "color": "#283442"
             }
            },
            "type": "scattergl"
           }
          ],
          "scattermap": [
           {
            "marker": {
             "colorbar": {
              "outlinewidth": 0,
              "ticks": ""
             }
            },
            "type": "scattermap"
           }
          ],
          "scattermapbox": [
           {
            "marker": {
             "colorbar": {
              "outlinewidth": 0,
              "ticks": ""
             }
            },
            "type": "scattermapbox"
           }
          ],
          "scatterpolar": [
           {
            "marker": {
             "colorbar": {
              "outlinewidth": 0,
              "ticks": ""
             }
            },
            "type": "scatterpolar"
           }
          ],
          "scatterpolargl": [
           {
            "marker": {
             "colorbar": {
              "outlinewidth": 0,
              "ticks": ""
             }
            },
            "type": "scatterpolargl"
           }
          ],
          "scatterternary": [
           {
            "marker": {
             "colorbar": {
              "outlinewidth": 0,
              "ticks": ""
             }
            },
            "type": "scatterternary"
           }
          ],
          "surface": [
           {
            "colorbar": {
             "outlinewidth": 0,
             "ticks": ""
            },
            "colorscale": [
             [
              0,
              "#0d0887"
             ],
             [
              0.1111111111111111,
              "#46039f"
             ],
             [
              0.2222222222222222,
              "#7201a8"
             ],
             [
              0.3333333333333333,
              "#9c179e"
             ],
             [
              0.4444444444444444,
              "#bd3786"
             ],
             [
              0.5555555555555556,
              "#d8576b"
             ],
             [
              0.6666666666666666,
              "#ed7953"
             ],
             [
              0.7777777777777778,
              "#fb9f3a"
             ],
             [
              0.8888888888888888,
              "#fdca26"
             ],
             [
              1,
              "#f0f921"
             ]
            ],
            "type": "surface"
           }
          ],
          "table": [
           {
            "cells": {
             "fill": {
              "color": "#506784"
             },
             "line": {
              "color": "rgb(17,17,17)"
             }
            },
            "header": {
             "fill": {
              "color": "#2a3f5f"
             },
             "line": {
              "color": "rgb(17,17,17)"
             }
            },
            "type": "table"
           }
          ]
         },
         "layout": {
          "annotationdefaults": {
           "arrowcolor": "#f2f5fa",
           "arrowhead": 0,
           "arrowwidth": 1
          },
          "autotypenumbers": "strict",
          "coloraxis": {
           "colorbar": {
            "outlinewidth": 0,
            "ticks": ""
           }
          },
          "colorscale": {
           "diverging": [
            [
             0,
             "#8e0152"
            ],
            [
             0.1,
             "#c51b7d"
            ],
            [
             0.2,
             "#de77ae"
            ],
            [
             0.3,
             "#f1b6da"
            ],
            [
             0.4,
             "#fde0ef"
            ],
            [
             0.5,
             "#f7f7f7"
            ],
            [
             0.6,
             "#e6f5d0"
            ],
            [
             0.7,
             "#b8e186"
            ],
            [
             0.8,
             "#7fbc41"
            ],
            [
             0.9,
             "#4d9221"
            ],
            [
             1,
             "#276419"
            ]
           ],
           "sequential": [
            [
             0,
             "#0d0887"
            ],
            [
             0.1111111111111111,
             "#46039f"
            ],
            [
             0.2222222222222222,
             "#7201a8"
            ],
            [
             0.3333333333333333,
             "#9c179e"
            ],
            [
             0.4444444444444444,
             "#bd3786"
            ],
            [
             0.5555555555555556,
             "#d8576b"
            ],
            [
             0.6666666666666666,
             "#ed7953"
            ],
            [
             0.7777777777777778,
             "#fb9f3a"
            ],
            [
             0.8888888888888888,
             "#fdca26"
            ],
            [
             1,
             "#f0f921"
            ]
           ],
           "sequentialminus": [
            [
             0,
             "#0d0887"
            ],
            [
             0.1111111111111111,
             "#46039f"
            ],
            [
             0.2222222222222222,
             "#7201a8"
            ],
            [
             0.3333333333333333,
             "#9c179e"
            ],
            [
             0.4444444444444444,
             "#bd3786"
            ],
            [
             0.5555555555555556,
             "#d8576b"
            ],
            [
             0.6666666666666666,
             "#ed7953"
            ],
            [
             0.7777777777777778,
             "#fb9f3a"
            ],
            [
             0.8888888888888888,
             "#fdca26"
            ],
            [
             1,
             "#f0f921"
            ]
           ]
          },
          "colorway": [
           "#636efa",
           "#EF553B",
           "#00cc96",
           "#ab63fa",
           "#FFA15A",
           "#19d3f3",
           "#FF6692",
           "#B6E880",
           "#FF97FF",
           "#FECB52"
          ],
          "font": {
           "color": "#f2f5fa"
          },
          "geo": {
           "bgcolor": "rgb(17,17,17)",
           "lakecolor": "rgb(17,17,17)",
           "landcolor": "rgb(17,17,17)",
           "showlakes": true,
           "showland": true,
           "subunitcolor": "#506784"
          },
          "hoverlabel": {
           "align": "left"
          },
          "hovermode": "closest",
          "mapbox": {
           "style": "dark"
          },
          "paper_bgcolor": "rgb(17,17,17)",
          "plot_bgcolor": "rgb(17,17,17)",
          "polar": {
           "angularaxis": {
            "gridcolor": "#506784",
            "linecolor": "#506784",
            "ticks": ""
           },
           "bgcolor": "rgb(17,17,17)",
           "radialaxis": {
            "gridcolor": "#506784",
            "linecolor": "#506784",
            "ticks": ""
           }
          },
          "scene": {
           "xaxis": {
            "backgroundcolor": "rgb(17,17,17)",
            "gridcolor": "#506784",
            "gridwidth": 2,
            "linecolor": "#506784",
            "showbackground": true,
            "ticks": "",
            "zerolinecolor": "#C8D4E3"
           },
           "yaxis": {
            "backgroundcolor": "rgb(17,17,17)",
            "gridcolor": "#506784",
            "gridwidth": 2,
            "linecolor": "#506784",
            "showbackground": true,
            "ticks": "",
            "zerolinecolor": "#C8D4E3"
           },
           "zaxis": {
            "backgroundcolor": "rgb(17,17,17)",
            "gridcolor": "#506784",
            "gridwidth": 2,
            "linecolor": "#506784",
            "showbackground": true,
            "ticks": "",
            "zerolinecolor": "#C8D4E3"
           }
          },
          "shapedefaults": {
           "line": {
            "color": "#f2f5fa"
           }
          },
          "sliderdefaults": {
           "bgcolor": "#C8D4E3",
           "bordercolor": "rgb(17,17,17)",
           "borderwidth": 1,
           "tickwidth": 0
          },
          "ternary": {
           "aaxis": {
            "gridcolor": "#506784",
            "linecolor": "#506784",
            "ticks": ""
           },
           "baxis": {
            "gridcolor": "#506784",
            "linecolor": "#506784",
            "ticks": ""
           },
           "bgcolor": "rgb(17,17,17)",
           "caxis": {
            "gridcolor": "#506784",
            "linecolor": "#506784",
            "ticks": ""
           }
          },
          "title": {
           "x": 0.05
          },
          "updatemenudefaults": {
           "bgcolor": "#506784",
           "borderwidth": 0
          },
          "xaxis": {
           "automargin": true,
           "gridcolor": "#283442",
           "linecolor": "#506784",
           "ticks": "",
           "title": {
            "standoff": 15
           },
           "zerolinecolor": "#283442",
           "zerolinewidth": 2
          },
          "yaxis": {
           "automargin": true,
           "gridcolor": "#283442",
           "linecolor": "#506784",
           "ticks": "",
           "title": {
            "standoff": 15
           },
           "zerolinecolor": "#283442",
           "zerolinewidth": 2
          }
         }
        },
        "xaxis": {
         "anchor": "y",
         "domain": [
          0,
          1
         ],
         "matches": "x4",
         "rangeslider": {
          "visible": false
         },
         "showticklabels": false
        },
        "xaxis2": {
         "anchor": "y2",
         "domain": [
          0,
          1
         ],
         "matches": "x4",
         "showticklabels": false
        },
        "xaxis3": {
         "anchor": "y3",
         "domain": [
          0,
          1
         ],
         "matches": "x4",
         "showticklabels": false
        },
        "xaxis4": {
         "anchor": "y4",
         "domain": [
          0,
          1
         ]
        },
        "yaxis": {
         "anchor": "x",
         "domain": [
          0.436,
          1
         ]
        },
        "yaxis2": {
         "anchor": "x2",
         "domain": [
          0.32199999999999995,
          0.4159999999999999
         ]
        },
        "yaxis3": {
         "anchor": "x3",
         "domain": [
          0.16099999999999998,
          0.30199999999999994
         ]
        },
        "yaxis4": {
         "anchor": "x4",
         "domain": [
          0,
          0.141
         ]
        }
       }
      }
     },
     "metadata": {},
     "output_type": "display_data"
    }
   ],
   "source": [
    "# Get data from database\n",
    "from src.utils.timescaledb_ops import TimescaleDBOps\n",
    "import pandas as pd\n",
    "\n",
    "# Construct the image base64 string\n",
    "# 1. Create png image\n",
    "import plotly.graph_objects as go\n",
    "from plotly.subplots import make_subplots\n",
    "\n",
    "df_visualize = df[df['date'] >= '2022-01-01']\n",
    "\n",
    "# Create subplot with 2 rows (OHLC and Volume)\n",
    "fig = make_subplots(rows=4, cols=1, \n",
    "                    shared_xaxes=True, \n",
    "                    vertical_spacing=0.02,\n",
    "                    row_heights=[0.6, 0.1, 0.15, 0.15],\n",
    "                    subplot_titles=(\"OHLC BTC (USD)\", \"Volume\", \"Stochastic(5, 3, 3)\", \"MACD(12, 26, 9)\"))\n",
    "\n",
    "# ===================================================================\n",
    "# PLOT CANDLESTICK\n",
    "# ===================================================================\n",
    "fig.add_trace(go.Candlestick(\n",
    "    x=df_visualize['date'],\n",
    "    open=df_visualize['open'],\n",
    "    high=df_visualize['high'],\n",
    "    low=df_visualize['low'],\n",
    "    close=df_visualize['close'],\n",
    "    name=\"Price\",\n",
    "    increasing_line_color='green',\n",
    "    decreasing_line_color='red'\n",
    "), row=1, col=1)\n",
    "\n",
    "\n",
    "# ===================================================================\n",
    "# PLOT VOLUME BAR\n",
    "# ===================================================================\n",
    "fig.add_trace(go.Bar(\n",
    "    x=df_visualize['date'],\n",
    "    y=df_visualize['volume'],\n",
    "    name=\"Volume\",\n",
    "    marker_color='orange'\n",
    "), row=2, col=1)\n",
    "\n",
    "\n",
    "# ===================================================================\n",
    "# PLOT EMA\n",
    "# ===================================================================\n",
    "fig.add_trace(\n",
    "    go.Scatter(\n",
    "        x=df_visualize['date'],\n",
    "        y=df_visualize['ema_13'],\n",
    "        mode='lines',\n",
    "        name=\"Exponential Moving Averages 13\",\n",
    "        line={'width': 1.5},\n",
    "    ), row=1, col=1\n",
    ")\n",
    "\n",
    "fig.add_trace(\n",
    "    go.Scatter(\n",
    "        x=df_visualize['date'],\n",
    "        y=df_visualize['ema_21'],\n",
    "        mode='lines',\n",
    "        name=\"Exponential Moving Averages 21\",\n",
    "        line={'width': 1.5},\n",
    "    ), row=1, col=1\n",
    ")\n",
    "\n",
    "# ===================================================================\n",
    "# PLOT STOCHASTIC\n",
    "# ===================================================================\n",
    "fig.add_trace(\n",
    "    go.Scatter(\n",
    "        x=df_visualize['date'],\n",
    "        y=df_visualize['stochastic_percentage_k'],\n",
    "        mode='lines',\n",
    "        name=\"Stochastic %K\",\n",
    "        line={'width': 1.5},\n",
    "    ), row=3, col=1\n",
    ")\n",
    "\n",
    "fig.add_trace(\n",
    "    go.Scatter(\n",
    "        x=df_visualize['date'],\n",
    "        y=df_visualize['stochastic_percentage_d'],\n",
    "        mode='lines',\n",
    "        name=\"Stochastic %D\",\n",
    "        line={'width': 1.5},\n",
    "    ), row=3, col=1\n",
    ")\n",
    "\n",
    "# ===================================================================\n",
    "# PLOT MACD\n",
    "# ===================================================================\n",
    "fig.add_trace(\n",
    "    go.Scatter(\n",
    "        x=df_visualize['date'],\n",
    "        y=df_visualize['macd'],\n",
    "        mode='lines',\n",
    "        name=\"MACD Line\",\n",
    "        line={'width': 1.5},\n",
    "    ), row=4, col=1\n",
    ")\n",
    "\n",
    "fig.add_trace(\n",
    "    go.Scatter(\n",
    "        x=df_visualize['date'],\n",
    "        y=df_visualize['macd_signal_line'],\n",
    "        mode='lines',\n",
    "        name=\"MACD Signal Line\",\n",
    "        line={'width': 1.5},\n",
    "    ), row=4, col=1\n",
    ")\n",
    "\n",
    "colors = ['green' if val >= 0 else 'red' for val in df_visualize['macd_bar']]\n",
    "fig.add_trace(\n",
    "    go.Bar(\n",
    "        x=df_visualize['date'], \n",
    "        y=df_visualize['macd_bar'], \n",
    "        name='MACD Bar', \n",
    "        marker_color=colors\n",
    "    ), row=4, col=1\n",
    ")\n",
    "\n",
    "# Layout adjustments\n",
    "fig.update_layout(\n",
    "    # title=title,\n",
    "    xaxis_rangeslider_visible=False,\n",
    "    template='plotly_dark',\n",
    "    height=1000,\n",
    "    margin=dict(l=50, r=25, t=50, b=40)\n",
    ")\n",
    "fig.show()\n",
    "fig.write_image(f\"btc_{timeframe}_ta.png\", width=1200, height=800, scale=2)"
   ]
  },
  {
   "cell_type": "code",
   "execution_count": 13,
   "id": "a42f1941",
   "metadata": {},
   "outputs": [],
   "source": [
    "import base64\n",
    "def get_base64_encoded_image(image_path):\n",
    "    with open(image_path, \"rb\") as image_file:\n",
    "        binary_data = image_file.read()\n",
    "        base64_encoded_data = base64.b64encode(binary_data)\n",
    "        base64_string = base64_encoded_data.decode(\"utf-8\")\n",
    "        return base64_string\n",
    "\n",
    "image_base64 = get_base64_encoded_image(f\"btc_{timeframe}_ta.png\")"
   ]
  },
  {
   "cell_type": "code",
   "execution_count": 14,
   "id": "b675982f",
   "metadata": {},
   "outputs": [],
   "source": [
    "from langchain_core.prompts import ChatPromptTemplate\n",
    "from langchain_anthropic import ChatAnthropic\n",
    "from abc import ABC, abstractmethod\n",
    "\n",
    "class LLMStrategy(ABC):\n",
    "    @abstractmethod\n",
    "    def analyze(self, prompt_template: ChatPromptTemplate, image_base64: str, pair: str, timeframe: str) -> AnalysisResponse:\n",
    "        pass\n",
    "\n",
    "class LLMAnalyzerInterface():\n",
    "    # Define constructore\n",
    "    \n",
    "    def __init__(self, llm_strategy: LLMStrategy):\n",
    "        self.__llm_strategy = llm_strategy\n",
    "    \n",
    "    # Define setters and getters\n",
    "    @property\n",
    "    def llm_strategy(self):\n",
    "        return self.__llm_strategy\n",
    "    \n",
    "    @llm_strategy.setter\n",
    "    def set_llm_strateg(self, llm_strategy: LLMStrategy):\n",
    "        self.__llm_strategy = llm_strategy\n",
    "    \n",
    "    # Define abstract method for analysis\n",
    "    def analyze(self, prompt_template: ChatPromptTemplate, image_base64: str, pair: str, timeframe: str) -> AnalysisResponse:\n",
    "        return self.llm_strategy.analyze(\n",
    "            prompt_template=prompt_template,    \n",
    "            image_base64=image_base64,\n",
    "            pair=pair, \n",
    "            timeframe=timeframe\n",
    "        )\n",
    "\n",
    "class AnthropicLLMStrategy(LLMStrategy):\n",
    "    def __init__(self, **kwargs):\n",
    "        super().__init__()\n",
    "        self.__llm = ChatAnthropic(\n",
    "            **kwargs\n",
    "        ).with_structured_output(AnalysisResponse)\n",
    "    \n",
    "    def analyze(self, prompt_template: ChatPromptTemplate, image_base64: str, pair: str, timeframe: str):\n",
    "        chain = prompt_template | self.__llm\n",
    "        return chain.invoke(\n",
    "        {\n",
    "            \"image_base64\": image_base64,\n",
    "            \"pair\": pair,\n",
    "            \"timeframe\": timeframe,\n",
    "            \"actions\" : \"\\n\".join(f\"{num+1}. {action.value}\" for num, action in enumerate(Actions)),\n",
    "        }\n",
    "    )\n",
    "\n",
    "\n",
    "\n",
    "        "
   ]
  },
  {
   "cell_type": "code",
   "execution_count": null,
   "id": "a1017627",
   "metadata": {},
   "outputs": [],
   "source": [
    "from enum import Enum\n",
    "from pydantic import BaseModel, Field\n",
    "from langchain_core.output_parsers import PydanticOutputParser\n",
    "\n",
    "class Actions(Enum):\n",
    "    WEAK_SELL = 'Weak Sell'\n",
    "    SELL = 'Sell'\n",
    "    STRONG_SELL = 'Strong Sell'\n",
    "    WEAK_BUY = 'Weak Buy'\n",
    "    BUY = 'Buy'\n",
    "    STRONG_BUY = 'Strong Buy'\n",
    "\n",
    "\n",
    "\n",
    "class AnalysisResponse(BaseModel):\n",
    "    actions: Actions = Field(description=\"Provide actions to take based on the technical analysis\")\n",
    "    reasons: dict[str, str] = Field(description=\"Provide the technical indicators used as a key and the analysis based on technical indicators as a value\")\n",
    "\n",
    "\n",
    "# Get Anthropic LLM Model\n",
    "# from langchain_anthropic import ChatAnthropic\n",
    "llm_analyzer = LLMAnalyzerInterface(\n",
    "    AnthropicLLMStrategy(\n",
    "        model=\"claude-sonnet-4-20250514\",\n",
    "        max_tokens=20000,\n",
    "        temperature=0,\n",
    "        timeout=None,\n",
    "        max_retries=2\n",
    "    )\n",
    ")\n",
    "\n",
    "# Construct the prompt\n",
    "from langchain_core.prompts import ChatPromptTemplate\n",
    "chat_prompt_template = ChatPromptTemplate(\n",
    "    [\n",
    "        {\n",
    "            \"role\": \"system\", \n",
    "            \"content\": [\n",
    "                {\n",
    "                    \"type\": \"text\",\n",
    "                    \"text\": \"You are a professional cryptocurrency trader at a top proprietary trading firm, specializing in technical analysis.\"\n",
    "                }\n",
    "            ]\n",
    "        },\n",
    "        {\n",
    "            \"role\": \"user\",\n",
    "            \"content\": [\n",
    "                {\n",
    "                    \"type\": \"image\",\n",
    "                    \"source_type\": \"base64\",\n",
    "                    \"mime_type\": \"image/png\",\n",
    "                    \"data\": \"{image_base64}\",\n",
    "                },\n",
    "                {\n",
    "                    \"type\": \"text\",\n",
    "                    \"text\": (\n",
    "                        \"Your task is to analyze the {timeframe} chart and technical indicators for {pair} based on the provided image. \"\n",
    "                        \"Perform a technical analysis based on candlestick charts, and technical indicators shown in image. \"\n",
    "                        \"Your technical analysis should lead to a recommendation one of the following actions:\\n\"\n",
    "                        \"{actions}\"\n",
    "                    )\n",
    "                }\n",
    "            ]\n",
    "        }\n",
    "    ],\n",
    "    input_variables = [\"timeframe\", \"pair\", \"actions\", \"image_base64\"],\n",
    ")\n",
    "\n",
    "chat_prompt_template.format_messages(\n",
    "    image_base64= image_base64,\n",
    "    pair= pair,\n",
    "    timeframe= timeframe,\n",
    "    actions = \"\\n\".join(f\"{num+1}. {action.value}\" for num, action in enumerate(Actions)),\n",
    "    technical_indicators= \"EMA, Stochastic, MACD\"\n",
    ")"
   ]
  },
  {
   "cell_type": "code",
   "execution_count": null,
   "id": "5a2e21a5",
   "metadata": {},
   "outputs": [],
   "source": [
    "response = llm_analyzer.analyze(\n",
    "    prompt_template = chat_prompt_template,\n",
    "    image_base64 = image_base64,\n",
    "    pair = pair,\n",
    "    timeframe = timeframe,\n",
    ")"
   ]
  },
  {
   "cell_type": "code",
   "execution_count": 92,
   "id": "66935c8c",
   "metadata": {},
   "outputs": [],
   "source": [
    "import json\n",
    "summary = \"\"\n",
    "summary += f\"Action: **{response.actions.value}**\\n\"\n",
    "for num, (indicator, explanation) in enumerate(response.reasons.items()):\n",
    "    summary += f\"**{indicator}**\\n{explanation}.\\n\\n\"\n",
    "summary += \"*^Disclaimer Alert.*\""
   ]
  },
  {
   "cell_type": "code",
   "execution_count": 93,
   "id": "b6ea23ff",
   "metadata": {},
   "outputs": [
    {
     "name": "stdout",
     "output_type": "stream",
     "text": [
      "Action: **Weak Sell**\n",
      "**Price Action**\n",
      "BTC is trading near the top of its recent range around $110k after a strong uptrend. The current candle shows a red body with upper wick, indicating selling pressure at these elevated levels and potential rejection of higher prices..\n",
      "\n",
      "**Exponential Moving Averages**\n",
      "Price is trading above both EMA 13 (teal) and EMA 21 (purple), confirming the overall uptrend remains intact. However, the EMAs are starting to flatten, suggesting momentum may be slowing..\n",
      "\n",
      "**Stochastic Oscillator**\n",
      "The Stochastic (5,3,3) is showing %K and %D lines in the lower portion of the range around 0.4-0.5 level, indicating the asset is not in overbought territory but momentum appears to be weakening from previous highs..\n",
      "\n",
      "**MACD**\n",
      "The MACD line appears to be converging with the signal line near the zero level, with the histogram showing mixed red and green bars. This suggests weakening bullish momentum and potential for a bearish crossover..\n",
      "\n",
      "**Volume**\n",
      "Volume appears to be declining in recent periods compared to the strong volume seen during the major uptrend, indicating reduced conviction in the current price levels..\n",
      "\n",
      "**Overall Assessment**\n",
      "While the long-term trend remains bullish with price above key EMAs, multiple indicators suggest weakening momentum at these elevated levels. The combination of potential MACD bearish divergence, declining volume, and price rejection near highs warrants caution..\n",
      "\n",
      "*^Disclaimer Alert.*\n"
     ]
    }
   ],
   "source": [
    "print(summary)"
   ]
  },
  {
   "cell_type": "code",
   "execution_count": 94,
   "id": "557e1d0c",
   "metadata": {},
   "outputs": [
    {
     "data": {
      "text/plain": [
       "<Response [200]>"
      ]
     },
     "execution_count": 94,
     "metadata": {},
     "output_type": "execute_result"
    }
   ],
   "source": [
    "import requests\n",
    "\n",
    "webhook_url = \"https://discordapp.com/api/webhooks/1387080438140637184/tN2QiS7fsMTOpf9eHQAF8cb2xfAscck9R6qhKq-hvvg4Ssg0YfHsSXvGIDLZUchoFQ6V\"\n",
    "granularity = \"Weekly\"\n",
    "\n",
    "embed = {\n",
    "    \"title\": f\"**Bitcoin (BTC-USD) {granularity.capitalize()} Summary**\",\n",
    "    \"image\": {\"url\": \"attachment://btc_monthly_ta.png\"},\n",
    "    \"description\": summary,\n",
    "    \"color\": 5814783  # optional: light blue\n",
    "}\n",
    "data = {\n",
    "    \"content\": (\n",
    "        f\"**Bitcoin (BTC-USD) {granularity.capitalize()} Summary**\\n\\n\"\n",
    "        f\"{summary}\"\n",
    "    )\n",
    "}\n",
    "\n",
    "\n",
    "files = {\n",
    "    \"file\": (\n",
    "        \"btc_monthly_ta.png\", \n",
    "        open(\"C:/Users/USER/projects/ai-agent-crypto-analyzer/notebooks/btc_monthly_ta.png\", \"rb\")\n",
    "    )\n",
    "}\n",
    "\n",
    "# Use `data=` for data when uploading files\n",
    "requests.post(webhook_url, files=files, data=data)"
   ]
  }
 ],
 "metadata": {
  "kernelspec": {
   "display_name": "venv (3.10.0)",
   "language": "python",
   "name": "python3"
  },
  "language_info": {
   "codemirror_mode": {
    "name": "ipython",
    "version": 3
   },
   "file_extension": ".py",
   "mimetype": "text/x-python",
   "name": "python",
   "nbconvert_exporter": "python",
   "pygments_lexer": "ipython3",
   "version": "3.10.0"
  }
 },
 "nbformat": 4,
 "nbformat_minor": 5
}
