{
 "cells": [
  {
   "cell_type": "code",
   "execution_count": 1,
   "id": "c5c8cd99",
   "metadata": {},
   "outputs": [],
   "source": [
    "import pandas as pd\n",
    "from src.utils.timescaledb_ops import TimescaleDBOps"
   ]
  },
  {
   "cell_type": "markdown",
   "id": "5eb3b121",
   "metadata": {},
   "source": [
    "# Technical Analysis and Chart"
   ]
  },
  {
   "cell_type": "code",
   "execution_count": 2,
   "id": "f782b2b3",
   "metadata": {},
   "outputs": [
    {
     "name": "stderr",
     "output_type": "stream",
     "text": [
      "2025-06-25 21:24:05,646 - INFO - Data read from silver.ohlc_daily successfully.\n"
     ]
    }
   ],
   "source": [
    "tsdb_ops = TimescaleDBOps()\n",
    "columns, data = tsdb_ops.read_data(\"silver.ohlc_daily\")\n",
    "# columns, data = tsdb_ops.read_data(\"silver.ohlc_weekly\")\n",
    "# columns, data = tsdb_ops.read_data(\"silver.ohlc_monthly\")\n",
    "df = pd.DataFrame(data=data, columns=columns)\n",
    "df = df.sort_values(\"date\").reset_index(drop=True)\n",
    "df[\"date\"] = pd.to_datetime(df[\"date\"])"
   ]
  },
  {
   "cell_type": "code",
   "execution_count": 3,
   "id": "305f3d70",
   "metadata": {},
   "outputs": [
    {
     "data": {
      "text/html": [
       "<div>\n",
       "<style scoped>\n",
       "    .dataframe tbody tr th:only-of-type {\n",
       "        vertical-align: middle;\n",
       "    }\n",
       "\n",
       "    .dataframe tbody tr th {\n",
       "        vertical-align: top;\n",
       "    }\n",
       "\n",
       "    .dataframe thead th {\n",
       "        text-align: right;\n",
       "    }\n",
       "</style>\n",
       "<table border=\"1\" class=\"dataframe\">\n",
       "  <thead>\n",
       "    <tr style=\"text-align: right;\">\n",
       "      <th></th>\n",
       "      <th>date</th>\n",
       "      <th>pair</th>\n",
       "      <th>open</th>\n",
       "      <th>high</th>\n",
       "      <th>low</th>\n",
       "      <th>close</th>\n",
       "      <th>volume</th>\n",
       "      <th>count</th>\n",
       "    </tr>\n",
       "  </thead>\n",
       "  <tbody>\n",
       "    <tr>\n",
       "      <th>0</th>\n",
       "      <td>2013-10-07</td>\n",
       "      <td>XXBTZUSD</td>\n",
       "      <td>122.00000</td>\n",
       "      <td>122.00000</td>\n",
       "      <td>122.00</td>\n",
       "      <td>122.00</td>\n",
       "      <td>15.0</td>\n",
       "      <td>0</td>\n",
       "    </tr>\n",
       "    <tr>\n",
       "      <th>1</th>\n",
       "      <td>2013-10-08</td>\n",
       "      <td>XXBTZUSD</td>\n",
       "      <td>122.00000</td>\n",
       "      <td>124.19000</td>\n",
       "      <td>122.00</td>\n",
       "      <td>124.18</td>\n",
       "      <td>34.0</td>\n",
       "      <td>20</td>\n",
       "    </tr>\n",
       "    <tr>\n",
       "      <th>2</th>\n",
       "      <td>2013-10-09</td>\n",
       "      <td>XXBTZUSD</td>\n",
       "      <td>124.19000</td>\n",
       "      <td>124.19000</td>\n",
       "      <td>123.84</td>\n",
       "      <td>123.84</td>\n",
       "      <td>51.0</td>\n",
       "      <td>50</td>\n",
       "    </tr>\n",
       "    <tr>\n",
       "      <th>3</th>\n",
       "      <td>2013-10-10</td>\n",
       "      <td>XXBTZUSD</td>\n",
       "      <td>124.01687</td>\n",
       "      <td>124.01687</td>\n",
       "      <td>123.84</td>\n",
       "      <td>123.84</td>\n",
       "      <td>72.0</td>\n",
       "      <td>66</td>\n",
       "    </tr>\n",
       "    <tr>\n",
       "      <th>4</th>\n",
       "      <td>2013-10-11</td>\n",
       "      <td>XXBTZUSD</td>\n",
       "      <td>124.01687</td>\n",
       "      <td>125.86000</td>\n",
       "      <td>123.84</td>\n",
       "      <td>125.86</td>\n",
       "      <td>55.0</td>\n",
       "      <td>53</td>\n",
       "    </tr>\n",
       "  </tbody>\n",
       "</table>\n",
       "</div>"
      ],
      "text/plain": [
       "        date      pair       open       high     low   close  volume  count\n",
       "0 2013-10-07  XXBTZUSD  122.00000  122.00000  122.00  122.00    15.0      0\n",
       "1 2013-10-08  XXBTZUSD  122.00000  124.19000  122.00  124.18    34.0     20\n",
       "2 2013-10-09  XXBTZUSD  124.19000  124.19000  123.84  123.84    51.0     50\n",
       "3 2013-10-10  XXBTZUSD  124.01687  124.01687  123.84  123.84    72.0     66\n",
       "4 2013-10-11  XXBTZUSD  124.01687  125.86000  123.84  125.86    55.0     53"
      ]
     },
     "execution_count": 3,
     "metadata": {},
     "output_type": "execute_result"
    }
   ],
   "source": [
    "df.head()"
   ]
  },
  {
   "cell_type": "code",
   "execution_count": 4,
   "id": "44b7543c",
   "metadata": {},
   "outputs": [
    {
     "name": "stdout",
     "output_type": "stream",
     "text": [
      "<class 'pandas.core.frame.DataFrame'>\n",
      "RangeIndex: 4280 entries, 0 to 4279\n",
      "Data columns (total 8 columns):\n",
      " #   Column  Non-Null Count  Dtype         \n",
      "---  ------  --------------  -----         \n",
      " 0   date    4280 non-null   datetime64[ns]\n",
      " 1   pair    4280 non-null   object        \n",
      " 2   open    4280 non-null   float64       \n",
      " 3   high    4280 non-null   float64       \n",
      " 4   low     4280 non-null   float64       \n",
      " 5   close   4280 non-null   float64       \n",
      " 6   volume  4280 non-null   float64       \n",
      " 7   count   4280 non-null   int64         \n",
      "dtypes: datetime64[ns](1), float64(5), int64(1), object(1)\n",
      "memory usage: 267.6+ KB\n"
     ]
    }
   ],
   "source": [
    "df.info()"
   ]
  },
  {
   "cell_type": "code",
   "execution_count": 5,
   "id": "8d69b952",
   "metadata": {},
   "outputs": [],
   "source": [
    "# import plotly.graph_objects as go\n",
    "# from plotly.subplots import make_subplots\n",
    "\n",
    "# def plot_ohlcv(df: pd.DataFrame, title: str = \"OHLCV Chart\"):\n",
    "#     \"\"\"\n",
    "#     Plots OHLCV data using Plotly with candlestick and volume subplot.\n",
    "\n",
    "#     Parameters:\n",
    "#     - df (pd.DataFrame): DataFrame with ['date', 'open', 'high', 'low', 'close', 'volume']\n",
    "#     - title (str): Title for the chart\n",
    "#     \"\"\"\n",
    "\n",
    "#     # Validate required columns\n",
    "#     required_cols = {'date', 'open', 'high', 'low', 'close', 'volume'}\n",
    "#     if not required_cols.issubset(df.columns):\n",
    "#         raise ValueError(f\"DataFrame must contain columns: {required_cols}\")\n",
    "\n",
    "#     # Ensure datetime is in correct format\n",
    "#     df['date'] = pd.to_datetime(df['date'])\n",
    "\n",
    "#     # Create subplot with 2 rows (OHLC and Volume)\n",
    "#     fig = make_subplots(rows=4, cols=1, \n",
    "#                         shared_xaxes=True, \n",
    "#                         vertical_spacing=0.02,\n",
    "#                         row_heights=[0.55, 0.15, 0.15, 0.15],\n",
    "#                         subplot_titles=(title, \"Volume\"))\n",
    "\n",
    "#     # Add candlestick\n",
    "#     fig.add_trace(go.Candlestick(\n",
    "#         x=df['date'],\n",
    "#         open=df['open'],\n",
    "#         high=df['high'],\n",
    "#         low=df['low'],\n",
    "#         close=df['close'],\n",
    "#         name=\"Price\",\n",
    "#         increasing_line_color='green',\n",
    "#         decreasing_line_color='red'\n",
    "#     ), row=1, col=1)\n",
    "\n",
    "#     # Add volume bar chart\n",
    "#     fig.add_trace(go.Bar(\n",
    "#         x=df['date'],\n",
    "#         y=df['volume'],\n",
    "#         name=\"Volume\",\n",
    "#         title=\"Volume\"\n",
    "#         marker_color='orange'\n",
    "#     ), row=2, col=1)\n",
    "\n",
    "#     # Layout adjustments\n",
    "#     fig.update_layout(\n",
    "#         # title=title,\n",
    "#         xaxis_rangeslider_visible=False,\n",
    "#         template='plotly_dark',\n",
    "#         height=1000,\n",
    "#         margin=dict(l=50, r=25, t=50, b=40)\n",
    "#     )\n",
    "    \n",
    "#     return fig"
   ]
  },
  {
   "attachments": {
    "image.png": {
     "image/png": "[encoded data removed]"
    }
   },
   "cell_type": "markdown",
   "id": "2906699f",
   "metadata": {},
   "source": [
    "![image.png](attachment:image.png)"
   ]
  },
  {
   "attachments": {
    "image.png": {
     "image/png": "[encoded data removed]"
    }
   },
   "cell_type": "markdown",
   "id": "4e17060f",
   "metadata": {},
   "source": [
    "![image.png](attachment:image.png)"
   ]
  },
  {
   "cell_type": "code",
   "execution_count": 6,
   "id": "e33079f8",
   "metadata": {},
   "outputs": [],
   "source": [
    "# Technical Analysis\n",
    "# EMA\n",
    "df['ema_13'] = df['close'].ewm(span=13, adjust=False).mean()\n",
    "df['ema_21'] = df['close'].ewm(span=21, adjust=False).mean()\n",
    "\n",
    "# # RSI\n",
    "# window = 14 # default setting\n",
    "# delta = df['close'].diff(1)\n",
    "# avg_gain = (delta.where(delta > 0, 0)).rolling(window=window).mean()  # avg_gain \n",
    "# avg_loss = (-delta.where(delta < 0, 0)).rolling(window=window).mean()\n",
    "# rsi = avg_gain / avg_loss\n",
    "# df['rsi'] = 100 - (100 / (1 + rsi)) \n",
    "\n",
    "# Stochastic\n",
    "perc_k_length = 5\n",
    "perc_k_smoothing = 3\n",
    "perc_d_length = 3\n",
    "\n",
    "lowest_low = df['low'].rolling(perc_k_length).min()\n",
    "highest_high = df['high'].rolling(perc_k_length).max()\n",
    "df[\"stochastic_%K\"] = ((df['close'] -lowest_low) / (highest_high -lowest_low)).rolling(perc_k_smoothing).mean() \n",
    "df[\"stochastic_%D\"] =  df[\"stochastic_%K\"].rolling(perc_d_length).mean()\n",
    "\n",
    "# MACD\n",
    "ema_12 = df['close'].ewm(span=12, adjust=False).mean()\n",
    "ema_26 = df['close'].ewm(span=26, adjust=False).mean()\n",
    "\n",
    "macd = ema_12 - ema_26\n",
    "macd_signal_line = macd.ewm(span=9, adjust=False).mean()\n",
    "macd_bar = macd - macd_signal_line\n",
    "\n",
    "df['macd'] = macd\n",
    "df['macd_signal_line'] = macd_signal_line\n",
    "df['macd_bar'] = macd_bar"
   ]
  },
  {
   "cell_type": "code",
   "execution_count": 7,
   "id": "c7c830e7",
   "metadata": {},
   "outputs": [
    {
     "data": {
      "text/html": [
       "<div>\n",
       "<style scoped>\n",
       "    .dataframe tbody tr th:only-of-type {\n",
       "        vertical-align: middle;\n",
       "    }\n",
       "\n",
       "    .dataframe tbody tr th {\n",
       "        vertical-align: top;\n",
       "    }\n",
       "\n",
       "    .dataframe thead th {\n",
       "        text-align: right;\n",
       "    }\n",
       "</style>\n",
       "<table border=\"1\" class=\"dataframe\">\n",
       "  <thead>\n",
       "    <tr style=\"text-align: right;\">\n",
       "      <th></th>\n",
       "      <th>date</th>\n",
       "      <th>pair</th>\n",
       "      <th>open</th>\n",
       "      <th>high</th>\n",
       "      <th>low</th>\n",
       "      <th>close</th>\n",
       "      <th>volume</th>\n",
       "      <th>count</th>\n",
       "      <th>ema_13</th>\n",
       "      <th>ema_21</th>\n",
       "      <th>stochastic_%K</th>\n",
       "      <th>stochastic_%D</th>\n",
       "      <th>macd</th>\n",
       "      <th>macd_signal_line</th>\n",
       "      <th>macd_bar</th>\n",
       "    </tr>\n",
       "  </thead>\n",
       "  <tbody>\n",
       "    <tr>\n",
       "      <th>4224</th>\n",
       "      <td>2025-05-01</td>\n",
       "      <td>XXBTZUSD</td>\n",
       "      <td>95194.3</td>\n",
       "      <td>96332.0</td>\n",
       "      <td>92970.5</td>\n",
       "      <td>96209.5</td>\n",
       "      <td>32409.0</td>\n",
       "      <td>1596</td>\n",
       "      <td>92386.175399</td>\n",
       "      <td>90371.044909</td>\n",
       "      <td>0.847617</td>\n",
       "      <td>0.822733</td>\n",
       "      <td>3151.117114</td>\n",
       "      <td>2370.381022</td>\n",
       "      <td>780.736093</td>\n",
       "    </tr>\n",
       "    <tr>\n",
       "      <th>4225</th>\n",
       "      <td>2025-05-02</td>\n",
       "      <td>XXBTZUSD</td>\n",
       "      <td>96209.5</td>\n",
       "      <td>97407.8</td>\n",
       "      <td>95900.4</td>\n",
       "      <td>96970.5</td>\n",
       "      <td>32153.0</td>\n",
       "      <td>1234</td>\n",
       "      <td>93041.078914</td>\n",
       "      <td>90970.995372</td>\n",
       "      <td>0.882749</td>\n",
       "      <td>0.848867</td>\n",
       "      <td>3257.877345</td>\n",
       "      <td>2547.880286</td>\n",
       "      <td>709.997059</td>\n",
       "    </tr>\n",
       "    <tr>\n",
       "      <th>4226</th>\n",
       "      <td>2025-05-03</td>\n",
       "      <td>XXBTZUSD</td>\n",
       "      <td>96970.5</td>\n",
       "      <td>97885.0</td>\n",
       "      <td>95893.8</td>\n",
       "      <td>95939.9</td>\n",
       "      <td>27565.0</td>\n",
       "      <td>1050</td>\n",
       "      <td>93455.196212</td>\n",
       "      <td>91422.713974</td>\n",
       "      <td>0.823836</td>\n",
       "      <td>0.851401</td>\n",
       "      <td>3222.181488</td>\n",
       "      <td>2682.740527</td>\n",
       "      <td>539.440961</td>\n",
       "    </tr>\n",
       "    <tr>\n",
       "      <th>4227</th>\n",
       "      <td>2025-05-04</td>\n",
       "      <td>XXBTZUSD</td>\n",
       "      <td>95939.9</td>\n",
       "      <td>96521.4</td>\n",
       "      <td>95305.6</td>\n",
       "      <td>95440.1</td>\n",
       "      <td>18605.0</td>\n",
       "      <td>689</td>\n",
       "      <td>93738.753896</td>\n",
       "      <td>91787.930886</td>\n",
       "      <td>0.669905</td>\n",
       "      <td>0.792164</td>\n",
       "      <td>3117.624545</td>\n",
       "      <td>2769.717330</td>\n",
       "      <td>347.907215</td>\n",
       "    </tr>\n",
       "    <tr>\n",
       "      <th>4228</th>\n",
       "      <td>2025-05-05</td>\n",
       "      <td>XXBTZUSD</td>\n",
       "      <td>95440.1</td>\n",
       "      <td>95761.3</td>\n",
       "      <td>93570.1</td>\n",
       "      <td>94071.8</td>\n",
       "      <td>25761.0</td>\n",
       "      <td>936</td>\n",
       "      <td>93786.331911</td>\n",
       "      <td>91995.555351</td>\n",
       "      <td>0.443606</td>\n",
       "      <td>0.645782</td>\n",
       "      <td>2891.026091</td>\n",
       "      <td>2793.979083</td>\n",
       "      <td>97.047009</td>\n",
       "    </tr>\n",
       "    <tr>\n",
       "      <th>4229</th>\n",
       "      <td>2025-05-06</td>\n",
       "      <td>XXBTZUSD</td>\n",
       "      <td>94071.9</td>\n",
       "      <td>95173.9</td>\n",
       "      <td>93624.4</td>\n",
       "      <td>93728.2</td>\n",
       "      <td>25079.0</td>\n",
       "      <td>1136</td>\n",
       "      <td>93778.027352</td>\n",
       "      <td>92153.068501</td>\n",
       "      <td>0.254415</td>\n",
       "      <td>0.455975</td>\n",
       "      <td>2653.135837</td>\n",
       "      <td>2765.810434</td>\n",
       "      <td>-112.674596</td>\n",
       "    </tr>\n",
       "    <tr>\n",
       "      <th>4230</th>\n",
       "      <td>2025-05-07</td>\n",
       "      <td>XXBTZUSD</td>\n",
       "      <td>93728.2</td>\n",
       "      <td>97650.0</td>\n",
       "      <td>93398.5</td>\n",
       "      <td>97011.5</td>\n",
       "      <td>30304.0</td>\n",
       "      <td>1414</td>\n",
       "      <td>94239.952016</td>\n",
       "      <td>92594.744091</td>\n",
       "      <td>0.355346</td>\n",
       "      <td>0.351122</td>\n",
       "      <td>2698.435087</td>\n",
       "      <td>2752.335364</td>\n",
       "      <td>-53.900277</td>\n",
       "    </tr>\n",
       "    <tr>\n",
       "      <th>4231</th>\n",
       "      <td>2025-05-08</td>\n",
       "      <td>XXBTZUSD</td>\n",
       "      <td>97011.5</td>\n",
       "      <td>99823.4</td>\n",
       "      <td>95824.0</td>\n",
       "      <td>99435.9</td>\n",
       "      <td>39783.0</td>\n",
       "      <td>1795</td>\n",
       "      <td>94982.230299</td>\n",
       "      <td>93216.667356</td>\n",
       "      <td>0.593878</td>\n",
       "      <td>0.401213</td>\n",
       "      <td>2896.573986</td>\n",
       "      <td>2781.183089</td>\n",
       "      <td>115.390897</td>\n",
       "    </tr>\n",
       "    <tr>\n",
       "      <th>4232</th>\n",
       "      <td>2025-05-09</td>\n",
       "      <td>XXBTZUSD</td>\n",
       "      <td>99433.1</td>\n",
       "      <td>104319.1</td>\n",
       "      <td>99099.0</td>\n",
       "      <td>102976.7</td>\n",
       "      <td>48656.0</td>\n",
       "      <td>2539</td>\n",
       "      <td>96124.297399</td>\n",
       "      <td>94103.943051</td>\n",
       "      <td>0.874023</td>\n",
       "      <td>0.607749</td>\n",
       "      <td>3301.258605</td>\n",
       "      <td>2885.198192</td>\n",
       "      <td>416.060413</td>\n",
       "    </tr>\n",
       "    <tr>\n",
       "      <th>4233</th>\n",
       "      <td>2025-05-10</td>\n",
       "      <td>XXBTZUSD</td>\n",
       "      <td>102976.8</td>\n",
       "      <td>104013.0</td>\n",
       "      <td>102344.7</td>\n",
       "      <td>103430.8</td>\n",
       "      <td>26748.0</td>\n",
       "      <td>952</td>\n",
       "      <td>97168.083485</td>\n",
       "      <td>94951.839137</td>\n",
       "      <td>0.911807</td>\n",
       "      <td>0.793236</td>\n",
       "      <td>3616.922524</td>\n",
       "      <td>3031.543058</td>\n",
       "      <td>585.379466</td>\n",
       "    </tr>\n",
       "    <tr>\n",
       "      <th>4234</th>\n",
       "      <td>2025-05-11</td>\n",
       "      <td>XXBTZUSD</td>\n",
       "      <td>103426.4</td>\n",
       "      <td>104943.7</td>\n",
       "      <td>103023.9</td>\n",
       "      <td>104675.0</td>\n",
       "      <td>24435.0</td>\n",
       "      <td>705</td>\n",
       "      <td>98240.500130</td>\n",
       "      <td>95835.762852</td>\n",
       "      <td>0.924154</td>\n",
       "      <td>0.903328</td>\n",
       "      <td>3922.271492</td>\n",
       "      <td>3209.688745</td>\n",
       "      <td>712.582747</td>\n",
       "    </tr>\n",
       "    <tr>\n",
       "      <th>4235</th>\n",
       "      <td>2025-05-12</td>\n",
       "      <td>XXBTZUSD</td>\n",
       "      <td>104675.0</td>\n",
       "      <td>105728.8</td>\n",
       "      <td>103604.9</td>\n",
       "      <td>103694.1</td>\n",
       "      <td>29094.0</td>\n",
       "      <td>1165</td>\n",
       "      <td>99019.585826</td>\n",
       "      <td>96550.157138</td>\n",
       "      <td>0.896653</td>\n",
       "      <td>0.910871</td>\n",
       "      <td>4038.558330</td>\n",
       "      <td>3375.462662</td>\n",
       "      <td>663.095668</td>\n",
       "    </tr>\n",
       "    <tr>\n",
       "      <th>4236</th>\n",
       "      <td>2025-05-13</td>\n",
       "      <td>XXBTZUSD</td>\n",
       "      <td>103694.1</td>\n",
       "      <td>104599.1</td>\n",
       "      <td>100772.6</td>\n",
       "      <td>103699.5</td>\n",
       "      <td>41587.0</td>\n",
       "      <td>1541</td>\n",
       "      <td>99688.144994</td>\n",
       "      <td>97200.097398</td>\n",
       "      <td>0.821738</td>\n",
       "      <td>0.880848</td>\n",
       "      <td>4084.073565</td>\n",
       "      <td>3517.184843</td>\n",
       "      <td>566.888722</td>\n",
       "    </tr>\n",
       "    <tr>\n",
       "      <th>4237</th>\n",
       "      <td>2025-05-14</td>\n",
       "      <td>XXBTZUSD</td>\n",
       "      <td>103699.5</td>\n",
       "      <td>104980.0</td>\n",
       "      <td>102880.0</td>\n",
       "      <td>103949.7</td>\n",
       "      <td>31140.0</td>\n",
       "      <td>1173</td>\n",
       "      <td>100296.938566</td>\n",
       "      <td>97813.697635</td>\n",
       "      <td>0.709841</td>\n",
       "      <td>0.809410</td>\n",
       "      <td>4093.150474</td>\n",
       "      <td>3632.377969</td>\n",
       "      <td>460.772505</td>\n",
       "    </tr>\n",
       "    <tr>\n",
       "      <th>4238</th>\n",
       "      <td>2025-05-15</td>\n",
       "      <td>XXBTZUSD</td>\n",
       "      <td>103949.8</td>\n",
       "      <td>104280.1</td>\n",
       "      <td>101588.0</td>\n",
       "      <td>102360.0</td>\n",
       "      <td>28746.0</td>\n",
       "      <td>901</td>\n",
       "      <td>100591.661628</td>\n",
       "      <td>98226.997850</td>\n",
       "      <td>0.551745</td>\n",
       "      <td>0.694441</td>\n",
       "      <td>3926.802748</td>\n",
       "      <td>3691.262925</td>\n",
       "      <td>235.539823</td>\n",
       "    </tr>\n",
       "    <tr>\n",
       "      <th>4239</th>\n",
       "      <td>2025-05-16</td>\n",
       "      <td>XXBTZUSD</td>\n",
       "      <td>102360.0</td>\n",
       "      <td>104400.0</td>\n",
       "      <td>101441.6</td>\n",
       "      <td>103674.2</td>\n",
       "      <td>28655.0</td>\n",
       "      <td>1138</td>\n",
       "      <td>101032.024253</td>\n",
       "      <td>98722.198045</td>\n",
       "      <td>0.515590</td>\n",
       "      <td>0.592392</td>\n",
       "      <td>3856.559911</td>\n",
       "      <td>3724.322322</td>\n",
       "      <td>132.237589</td>\n",
       "    </tr>\n",
       "    <tr>\n",
       "      <th>4240</th>\n",
       "      <td>2025-05-17</td>\n",
       "      <td>XXBTZUSD</td>\n",
       "      <td>103675.1</td>\n",
       "      <td>104500.0</td>\n",
       "      <td>102690.0</td>\n",
       "      <td>103000.0</td>\n",
       "      <td>22016.0</td>\n",
       "      <td>704</td>\n",
       "      <td>101313.163645</td>\n",
       "      <td>99111.089132</td>\n",
       "      <td>0.478378</td>\n",
       "      <td>0.515238</td>\n",
       "      <td>3703.794613</td>\n",
       "      <td>3720.216780</td>\n",
       "      <td>-16.422167</td>\n",
       "    </tr>\n",
       "    <tr>\n",
       "      <th>4241</th>\n",
       "      <td>2025-05-18</td>\n",
       "      <td>XXBTZUSD</td>\n",
       "      <td>103006.7</td>\n",
       "      <td>104062.2</td>\n",
       "      <td>102719.0</td>\n",
       "      <td>103821.1</td>\n",
       "      <td>14930.0</td>\n",
       "      <td>365</td>\n",
       "      <td>101671.440267</td>\n",
       "      <td>99539.271938</td>\n",
       "      <td>0.595776</td>\n",
       "      <td>0.529915</td>\n",
       "      <td>3607.399070</td>\n",
       "      <td>3697.653238</td>\n",
       "      <td>-90.254168</td>\n",
       "    </tr>\n",
       "    <tr>\n",
       "      <th>4242</th>\n",
       "      <td>2025-05-19</td>\n",
       "      <td>XXBTZUSD</td>\n",
       "      <td>103821.1</td>\n",
       "      <td>107042.1</td>\n",
       "      <td>102100.0</td>\n",
       "      <td>102982.1</td>\n",
       "      <td>40268.0</td>\n",
       "      <td>2771</td>\n",
       "      <td>101858.677372</td>\n",
       "      <td>99852.256307</td>\n",
       "      <td>0.492315</td>\n",
       "      <td>0.522156</td>\n",
       "      <td>3423.836761</td>\n",
       "      <td>3642.889943</td>\n",
       "      <td>-219.053182</td>\n",
       "    </tr>\n",
       "    <tr>\n",
       "      <th>4243</th>\n",
       "      <td>2025-05-20</td>\n",
       "      <td>XXBTZUSD</td>\n",
       "      <td>102982.1</td>\n",
       "      <td>106809.5</td>\n",
       "      <td>102157.7</td>\n",
       "      <td>105214.7</td>\n",
       "      <td>29447.0</td>\n",
       "      <td>1713</td>\n",
       "      <td>102338.109176</td>\n",
       "      <td>100339.751189</td>\n",
       "      <td>0.540417</td>\n",
       "      <td>0.542836</td>\n",
       "      <td>3419.101199</td>\n",
       "      <td>3598.132194</td>\n",
       "      <td>-179.030995</td>\n",
       "    </tr>\n",
       "    <tr>\n",
       "      <th>4244</th>\n",
       "      <td>2025-05-21</td>\n",
       "      <td>XXBTZUSD</td>\n",
       "      <td>105214.7</td>\n",
       "      <td>107995.0</td>\n",
       "      <td>104269.0</td>\n",
       "      <td>106567.2</td>\n",
       "      <td>32033.0</td>\n",
       "      <td>1882</td>\n",
       "      <td>102942.265008</td>\n",
       "      <td>100905.882899</td>\n",
       "      <td>0.568856</td>\n",
       "      <td>0.533863</td>\n",
       "      <td>3484.318623</td>\n",
       "      <td>3575.369480</td>\n",
       "      <td>-91.050857</td>\n",
       "    </tr>\n",
       "    <tr>\n",
       "      <th>4245</th>\n",
       "      <td>2025-05-22</td>\n",
       "      <td>XXBTZUSD</td>\n",
       "      <td>106567.2</td>\n",
       "      <td>111863.5</td>\n",
       "      <td>106204.6</td>\n",
       "      <td>111005.6</td>\n",
       "      <td>64470.0</td>\n",
       "      <td>3742</td>\n",
       "      <td>104094.170007</td>\n",
       "      <td>101824.038999</td>\n",
       "      <td>0.781211</td>\n",
       "      <td>0.630161</td>\n",
       "      <td>3849.767960</td>\n",
       "      <td>3630.249176</td>\n",
       "      <td>219.518784</td>\n",
       "    </tr>\n",
       "    <tr>\n",
       "      <th>4246</th>\n",
       "      <td>2025-05-23</td>\n",
       "      <td>XXBTZUSD</td>\n",
       "      <td>111000.1</td>\n",
       "      <td>111983.2</td>\n",
       "      <td>108889.3</td>\n",
       "      <td>109043.9</td>\n",
       "      <td>37390.0</td>\n",
       "      <td>1915</td>\n",
       "      <td>104801.274292</td>\n",
       "      <td>102480.389999</td>\n",
       "      <td>0.790841</td>\n",
       "      <td>0.713636</td>\n",
       "      <td>3935.727776</td>\n",
       "      <td>3691.344896</td>\n",
       "      <td>244.382881</td>\n",
       "    </tr>\n",
       "    <tr>\n",
       "      <th>4247</th>\n",
       "      <td>2025-05-24</td>\n",
       "      <td>XXBTZUSD</td>\n",
       "      <td>109044.0</td>\n",
       "      <td>109952.9</td>\n",
       "      <td>106824.0</td>\n",
       "      <td>109220.1</td>\n",
       "      <td>42135.0</td>\n",
       "      <td>1898</td>\n",
       "      <td>105432.535107</td>\n",
       "      <td>103093.090908</td>\n",
       "      <td>0.777837</td>\n",
       "      <td>0.783296</td>\n",
       "      <td>3972.279453</td>\n",
       "      <td>3747.531807</td>\n",
       "      <td>224.747646</td>\n",
       "    </tr>\n",
       "    <tr>\n",
       "      <th>4248</th>\n",
       "      <td>2025-05-25</td>\n",
       "      <td>XXBTZUSD</td>\n",
       "      <td>109220.1</td>\n",
       "      <td>109240.0</td>\n",
       "      <td>106726.3</td>\n",
       "      <td>107287.5</td>\n",
       "      <td>22396.0</td>\n",
       "      <td>474</td>\n",
       "      <td>105697.530092</td>\n",
       "      <td>103474.400826</td>\n",
       "      <td>0.604223</td>\n",
       "      <td>0.724300</td>\n",
       "      <td>3801.481143</td>\n",
       "      <td>3758.321675</td>\n",
       "      <td>43.159469</td>\n",
       "    </tr>\n",
       "    <tr>\n",
       "      <th>4249</th>\n",
       "      <td>2025-05-26</td>\n",
       "      <td>XXBTZUSD</td>\n",
       "      <td>107287.5</td>\n",
       "      <td>110257.5</td>\n",
       "      <td>106672.9</td>\n",
       "      <td>109776.2</td>\n",
       "      <td>23615.0</td>\n",
       "      <td>873</td>\n",
       "      <td>106280.197221</td>\n",
       "      <td>104047.291660</td>\n",
       "      <td>0.576049</td>\n",
       "      <td>0.652703</td>\n",
       "      <td>3822.871856</td>\n",
       "      <td>3771.231711</td>\n",
       "      <td>51.640145</td>\n",
       "    </tr>\n",
       "    <tr>\n",
       "      <th>4250</th>\n",
       "      <td>2025-05-27</td>\n",
       "      <td>XXBTZUSD</td>\n",
       "      <td>109779.0</td>\n",
       "      <td>110352.0</td>\n",
       "      <td>107600.0</td>\n",
       "      <td>109615.1</td>\n",
       "      <td>22900.0</td>\n",
       "      <td>778</td>\n",
       "      <td>106756.611904</td>\n",
       "      <td>104553.456054</td>\n",
       "      <td>0.521140</td>\n",
       "      <td>0.567138</td>\n",
       "      <td>3783.214189</td>\n",
       "      <td>3773.628206</td>\n",
       "      <td>9.585982</td>\n",
       "    </tr>\n",
       "    <tr>\n",
       "      <th>4251</th>\n",
       "      <td>2025-05-28</td>\n",
       "      <td>XXBTZUSD</td>\n",
       "      <td>109615.2</td>\n",
       "      <td>110742.6</td>\n",
       "      <td>108333.3</td>\n",
       "      <td>108916.5</td>\n",
       "      <td>26321.0</td>\n",
       "      <td>1036</td>\n",
       "      <td>107065.167346</td>\n",
       "      <td>104950.096413</td>\n",
       "      <td>0.574474</td>\n",
       "      <td>0.557221</td>\n",
       "      <td>3653.301039</td>\n",
       "      <td>3749.562773</td>\n",
       "      <td>-96.261734</td>\n",
       "    </tr>\n",
       "    <tr>\n",
       "      <th>4252</th>\n",
       "      <td>2025-05-29</td>\n",
       "      <td>XXBTZUSD</td>\n",
       "      <td>108916.6</td>\n",
       "      <td>109019.8</td>\n",
       "      <td>106805.1</td>\n",
       "      <td>108790.0</td>\n",
       "      <td>27333.0</td>\n",
       "      <td>873</td>\n",
       "      <td>107311.572011</td>\n",
       "      <td>105299.178557</td>\n",
       "      <td>0.541853</td>\n",
       "      <td>0.545822</td>\n",
       "      <td>3499.793005</td>\n",
       "      <td>3699.608819</td>\n",
       "      <td>-199.815815</td>\n",
       "    </tr>\n",
       "    <tr>\n",
       "      <th>4253</th>\n",
       "      <td>2025-05-30</td>\n",
       "      <td>XXBTZUSD</td>\n",
       "      <td>108800.0</td>\n",
       "      <td>108802.9</td>\n",
       "      <td>104604.2</td>\n",
       "      <td>105903.5</td>\n",
       "      <td>37555.0</td>\n",
       "      <td>1477</td>\n",
       "      <td>107110.418867</td>\n",
       "      <td>105354.116870</td>\n",
       "      <td>0.427724</td>\n",
       "      <td>0.514684</td>\n",
       "      <td>3109.377388</td>\n",
       "      <td>3581.562533</td>\n",
       "      <td>-472.185145</td>\n",
       "    </tr>\n",
       "    <tr>\n",
       "      <th>4254</th>\n",
       "      <td>2025-05-31</td>\n",
       "      <td>XXBTZUSD</td>\n",
       "      <td>105903.5</td>\n",
       "      <td>106000.0</td>\n",
       "      <td>103169.0</td>\n",
       "      <td>103525.1</td>\n",
       "      <td>32406.0</td>\n",
       "      <td>1153</td>\n",
       "      <td>106598.230457</td>\n",
       "      <td>105187.842609</td>\n",
       "      <td>0.259632</td>\n",
       "      <td>0.409736</td>\n",
       "      <td>2578.331791</td>\n",
       "      <td>3380.916385</td>\n",
       "      <td>-802.584593</td>\n",
       "    </tr>\n",
       "    <tr>\n",
       "      <th>4255</th>\n",
       "      <td>2025-06-01</td>\n",
       "      <td>XXBTZUSD</td>\n",
       "      <td>103525.1</td>\n",
       "      <td>104933.2</td>\n",
       "      <td>103525.1</td>\n",
       "      <td>104117.3</td>\n",
       "      <td>18664.0</td>\n",
       "      <td>344</td>\n",
       "      <td>106243.811820</td>\n",
       "      <td>105090.520554</td>\n",
       "      <td>0.127966</td>\n",
       "      <td>0.271774</td>\n",
       "      <td>2180.128754</td>\n",
       "      <td>3140.758859</td>\n",
       "      <td>-960.630104</td>\n",
       "    </tr>\n",
       "    <tr>\n",
       "      <th>4256</th>\n",
       "      <td>2025-06-02</td>\n",
       "      <td>XXBTZUSD</td>\n",
       "      <td>104117.3</td>\n",
       "      <td>105910.6</td>\n",
       "      <td>103855.5</td>\n",
       "      <td>104058.0</td>\n",
       "      <td>20671.0</td>\n",
       "      <td>814</td>\n",
       "      <td>105931.552989</td>\n",
       "      <td>104996.655049</td>\n",
       "      <td>0.108058</td>\n",
       "      <td>0.165219</td>\n",
       "      <td>1838.571061</td>\n",
       "      <td>2880.321299</td>\n",
       "      <td>-1041.750238</td>\n",
       "    </tr>\n",
       "    <tr>\n",
       "      <th>4257</th>\n",
       "      <td>2025-06-03</td>\n",
       "      <td>XXBTZUSD</td>\n",
       "      <td>104058.1</td>\n",
       "      <td>106500.0</td>\n",
       "      <td>103737.7</td>\n",
       "      <td>105315.0</td>\n",
       "      <td>24103.0</td>\n",
       "      <td>865</td>\n",
       "      <td>105843.473991</td>\n",
       "      <td>105025.595499</td>\n",
       "      <td>0.219355</td>\n",
       "      <td>0.151793</td>\n",
       "      <td>1650.290007</td>\n",
       "      <td>2634.315041</td>\n",
       "      <td>-984.025033</td>\n",
       "    </tr>\n",
       "    <tr>\n",
       "      <th>4258</th>\n",
       "      <td>2025-06-04</td>\n",
       "      <td>XXBTZUSD</td>\n",
       "      <td>105315.0</td>\n",
       "      <td>106820.0</td>\n",
       "      <td>105127.5</td>\n",
       "      <td>105148.4</td>\n",
       "      <td>22810.0</td>\n",
       "      <td>680</td>\n",
       "      <td>105744.177706</td>\n",
       "      <td>105036.759545</td>\n",
       "      <td>0.358335</td>\n",
       "      <td>0.228583</td>\n",
       "      <td>1470.679609</td>\n",
       "      <td>2401.587954</td>\n",
       "      <td>-930.908345</td>\n",
       "    </tr>\n",
       "    <tr>\n",
       "      <th>4259</th>\n",
       "      <td>2025-06-05</td>\n",
       "      <td>XXBTZUSD</td>\n",
       "      <td>105148.4</td>\n",
       "      <td>105587.9</td>\n",
       "      <td>104279.0</td>\n",
       "      <td>104900.0</td>\n",
       "      <td>19479.0</td>\n",
       "      <td>618</td>\n",
       "      <td>105623.580891</td>\n",
       "      <td>105024.326859</td>\n",
       "      <td>0.446781</td>\n",
       "      <td>0.341490</td>\n",
       "      <td>1293.383945</td>\n",
       "      <td>2179.947153</td>\n",
       "      <td>-886.563207</td>\n",
       "    </tr>\n",
       "    <tr>\n",
       "      <th>4260</th>\n",
       "      <td>2025-06-06</td>\n",
       "      <td>XXBTZUSD</td>\n",
       "      <td>104900.0</td>\n",
       "      <td>105948.1</td>\n",
       "      <td>100400.0</td>\n",
       "      <td>104000.0</td>\n",
       "      <td>45868.0</td>\n",
       "      <td>1942</td>\n",
       "      <td>105391.640764</td>\n",
       "      <td>104931.206235</td>\n",
       "      <td>0.506727</td>\n",
       "      <td>0.437281</td>\n",
       "      <td>1067.942796</td>\n",
       "      <td>1957.546281</td>\n",
       "      <td>-889.603485</td>\n",
       "    </tr>\n",
       "    <tr>\n",
       "      <th>4261</th>\n",
       "      <td>2025-06-07</td>\n",
       "      <td>XXBTZUSD</td>\n",
       "      <td>104000.0</td>\n",
       "      <td>105385.3</td>\n",
       "      <td>103642.2</td>\n",
       "      <td>105167.5</td>\n",
       "      <td>25719.0</td>\n",
       "      <td>740</td>\n",
       "      <td>105359.620655</td>\n",
       "      <td>104952.687487</td>\n",
       "      <td>0.573543</td>\n",
       "      <td>0.509017</td>\n",
       "      <td>972.278730</td>\n",
       "      <td>1760.492771</td>\n",
       "      <td>-788.214041</td>\n",
       "    </tr>\n",
       "    <tr>\n",
       "      <th>4262</th>\n",
       "      <td>2025-06-08</td>\n",
       "      <td>XXBTZUSD</td>\n",
       "      <td>105167.6</td>\n",
       "      <td>105929.0</td>\n",
       "      <td>105082.3</td>\n",
       "      <td>105699.9</td>\n",
       "      <td>15441.0</td>\n",
       "      <td>479</td>\n",
       "      <td>105408.231990</td>\n",
       "      <td>105020.615897</td>\n",
       "      <td>0.709626</td>\n",
       "      <td>0.596632</td>\n",
       "      <td>928.718807</td>\n",
       "      <td>1594.137978</td>\n",
       "      <td>-665.419171</td>\n",
       "    </tr>\n",
       "    <tr>\n",
       "      <th>4263</th>\n",
       "      <td>2025-06-09</td>\n",
       "      <td>XXBTZUSD</td>\n",
       "      <td>105700.0</td>\n",
       "      <td>107828.7</td>\n",
       "      <td>105392.3</td>\n",
       "      <td>107738.4</td>\n",
       "      <td>21337.0</td>\n",
       "      <td>674</td>\n",
       "      <td>105741.113134</td>\n",
       "      <td>105267.687179</td>\n",
       "      <td>0.851992</td>\n",
       "      <td>0.711720</td>\n",
       "      <td>1046.622357</td>\n",
       "      <td>1484.634854</td>\n",
       "      <td>-438.012497</td>\n",
       "    </tr>\n",
       "    <tr>\n",
       "      <th>4264</th>\n",
       "      <td>2025-06-10</td>\n",
       "      <td>XXBTZUSD</td>\n",
       "      <td>107741.4</td>\n",
       "      <td>110550.0</td>\n",
       "      <td>106935.1</td>\n",
       "      <td>109556.1</td>\n",
       "      <td>37364.0</td>\n",
       "      <td>1382</td>\n",
       "      <td>106286.111258</td>\n",
       "      <td>105657.542890</td>\n",
       "      <td>0.905151</td>\n",
       "      <td>0.822256</td>\n",
       "      <td>1272.071322</td>\n",
       "      <td>1442.122148</td>\n",
       "      <td>-170.050826</td>\n",
       "    </tr>\n",
       "    <tr>\n",
       "      <th>4265</th>\n",
       "      <td>2025-06-11</td>\n",
       "      <td>XXBTZUSD</td>\n",
       "      <td>109550.6</td>\n",
       "      <td>110373.0</td>\n",
       "      <td>108342.2</td>\n",
       "      <td>109273.0</td>\n",
       "      <td>32865.0</td>\n",
       "      <td>927</td>\n",
       "      <td>106712.809649</td>\n",
       "      <td>105986.220809</td>\n",
       "      <td>0.901687</td>\n",
       "      <td>0.886276</td>\n",
       "      <td>1411.625111</td>\n",
       "      <td>1436.022740</td>\n",
       "      <td>-24.397629</td>\n",
       "    </tr>\n",
       "    <tr>\n",
       "      <th>4266</th>\n",
       "      <td>2025-06-12</td>\n",
       "      <td>XXBTZUSD</td>\n",
       "      <td>109273.0</td>\n",
       "      <td>110411.0</td>\n",
       "      <td>106888.0</td>\n",
       "      <td>106931.3</td>\n",
       "      <td>30023.0</td>\n",
       "      <td>1199</td>\n",
       "      <td>106744.022557</td>\n",
       "      <td>106072.137099</td>\n",
       "      <td>0.685128</td>\n",
       "      <td>0.830655</td>\n",
       "      <td>1318.072950</td>\n",
       "      <td>1412.432782</td>\n",
       "      <td>-94.359832</td>\n",
       "    </tr>\n",
       "    <tr>\n",
       "      <th>4267</th>\n",
       "      <td>2025-06-13</td>\n",
       "      <td>XXBTZUSD</td>\n",
       "      <td>106931.3</td>\n",
       "      <td>108460.0</td>\n",
       "      <td>102812.3</td>\n",
       "      <td>105026.3</td>\n",
       "      <td>47662.0</td>\n",
       "      <td>2363</td>\n",
       "      <td>106498.633620</td>\n",
       "      <td>105977.060999</td>\n",
       "      <td>0.479812</td>\n",
       "      <td>0.688875</td>\n",
       "      <td>1077.790512</td>\n",
       "      <td>1345.504328</td>\n",
       "      <td>-267.713816</td>\n",
       "    </tr>\n",
       "    <tr>\n",
       "      <th>4268</th>\n",
       "      <td>2025-06-14</td>\n",
       "      <td>XXBTZUSD</td>\n",
       "      <td>105026.4</td>\n",
       "      <td>106172.3</td>\n",
       "      <td>104166.1</td>\n",
       "      <td>105100.0</td>\n",
       "      <td>23862.0</td>\n",
       "      <td>826</td>\n",
       "      <td>106298.828817</td>\n",
       "      <td>105897.328181</td>\n",
       "      <td>0.306652</td>\n",
       "      <td>0.490531</td>\n",
       "      <td>883.131729</td>\n",
       "      <td>1253.029808</td>\n",
       "      <td>-369.898079</td>\n",
       "    </tr>\n",
       "    <tr>\n",
       "      <th>4269</th>\n",
       "      <td>2025-06-15</td>\n",
       "      <td>XXBTZUSD</td>\n",
       "      <td>104720.5</td>\n",
       "      <td>106090.0</td>\n",
       "      <td>104400.0</td>\n",
       "      <td>104955.9</td>\n",
       "      <td>8802.0</td>\n",
       "      <td>159</td>\n",
       "      <td>106106.981843</td>\n",
       "      <td>105811.743801</td>\n",
       "      <td>0.287963</td>\n",
       "      <td>0.358142</td>\n",
       "      <td>709.061951</td>\n",
       "      <td>1144.236237</td>\n",
       "      <td>-435.174286</td>\n",
       "    </tr>\n",
       "    <tr>\n",
       "      <th>4270</th>\n",
       "      <td>2025-06-16</td>\n",
       "      <td>XXBTZUSD</td>\n",
       "      <td>104955.9</td>\n",
       "      <td>105816.1</td>\n",
       "      <td>104955.8</td>\n",
       "      <td>105265.6</td>\n",
       "      <td>6161.0</td>\n",
       "      <td>124</td>\n",
       "      <td>105986.784437</td>\n",
       "      <td>105762.094365</td>\n",
       "      <td>0.300205</td>\n",
       "      <td>0.298273</td>\n",
       "      <td>589.307430</td>\n",
       "      <td>1033.250476</td>\n",
       "      <td>-443.943045</td>\n",
       "    </tr>\n",
       "    <tr>\n",
       "      <th>4271</th>\n",
       "      <td>2025-06-17</td>\n",
       "      <td>XXBTZUSD</td>\n",
       "      <td>108640.5</td>\n",
       "      <td>108924.6</td>\n",
       "      <td>105531.5</td>\n",
       "      <td>105632.4</td>\n",
       "      <td>17986.0</td>\n",
       "      <td>731</td>\n",
       "      <td>105936.158089</td>\n",
       "      <td>105750.303968</td>\n",
       "      <td>0.355447</td>\n",
       "      <td>0.314538</td>\n",
       "      <td>518.027308</td>\n",
       "      <td>930.205842</td>\n",
       "      <td>-412.178534</td>\n",
       "    </tr>\n",
       "    <tr>\n",
       "      <th>4272</th>\n",
       "      <td>2025-06-18</td>\n",
       "      <td>XXBTZUSD</td>\n",
       "      <td>104717.3</td>\n",
       "      <td>105529.9</td>\n",
       "      <td>104206.1</td>\n",
       "      <td>104850.3</td>\n",
       "      <td>14320.0</td>\n",
       "      <td>534</td>\n",
       "      <td>105781.035505</td>\n",
       "      <td>105668.485425</td>\n",
       "      <td>0.309341</td>\n",
       "      <td>0.321664</td>\n",
       "      <td>393.887870</td>\n",
       "      <td>822.942248</td>\n",
       "      <td>-429.054378</td>\n",
       "    </tr>\n",
       "    <tr>\n",
       "      <th>4273</th>\n",
       "      <td>2025-06-19</td>\n",
       "      <td>XXBTZUSD</td>\n",
       "      <td>104850.3</td>\n",
       "      <td>105311.6</td>\n",
       "      <td>103567.6</td>\n",
       "      <td>104807.5</td>\n",
       "      <td>28449.0</td>\n",
       "      <td>1203</td>\n",
       "      <td>105641.959004</td>\n",
       "      <td>105590.214023</td>\n",
       "      <td>0.278873</td>\n",
       "      <td>0.314554</td>\n",
       "      <td>288.724630</td>\n",
       "      <td>716.098724</td>\n",
       "      <td>-427.374094</td>\n",
       "    </tr>\n",
       "    <tr>\n",
       "      <th>4274</th>\n",
       "      <td>2025-06-20</td>\n",
       "      <td>XXBTZUSD</td>\n",
       "      <td>104807.5</td>\n",
       "      <td>106470.0</td>\n",
       "      <td>103931.6</td>\n",
       "      <td>106000.1</td>\n",
       "      <td>21113.0</td>\n",
       "      <td>721</td>\n",
       "      <td>105693.122004</td>\n",
       "      <td>105627.476385</td>\n",
       "      <td>0.276439</td>\n",
       "      <td>0.288218</td>\n",
       "      <td>298.177652</td>\n",
       "      <td>632.514510</td>\n",
       "      <td>-334.336858</td>\n",
       "    </tr>\n",
       "    <tr>\n",
       "      <th>4275</th>\n",
       "      <td>2025-06-21</td>\n",
       "      <td>XXBTZUSD</td>\n",
       "      <td>106000.1</td>\n",
       "      <td>106100.1</td>\n",
       "      <td>102388.9</td>\n",
       "      <td>103894.7</td>\n",
       "      <td>28481.0</td>\n",
       "      <td>931</td>\n",
       "      <td>105436.204574</td>\n",
       "      <td>105469.951259</td>\n",
       "      <td>0.305310</td>\n",
       "      <td>0.286874</td>\n",
       "      <td>134.233693</td>\n",
       "      <td>532.858346</td>\n",
       "      <td>-398.624653</td>\n",
       "    </tr>\n",
       "    <tr>\n",
       "      <th>4276</th>\n",
       "      <td>2025-06-22</td>\n",
       "      <td>XXBTZUSD</td>\n",
       "      <td>102260.1</td>\n",
       "      <td>103380.5</td>\n",
       "      <td>100933.5</td>\n",
       "      <td>102720.0</td>\n",
       "      <td>23982.0</td>\n",
       "      <td>1204</td>\n",
       "      <td>105048.175350</td>\n",
       "      <td>105219.955690</td>\n",
       "      <td>0.335717</td>\n",
       "      <td>0.305822</td>\n",
       "      <td>-89.450420</td>\n",
       "      <td>408.396593</td>\n",
       "      <td>-497.847013</td>\n",
       "    </tr>\n",
       "    <tr>\n",
       "      <th>4277</th>\n",
       "      <td>2025-06-23</td>\n",
       "      <td>XXBTZUSD</td>\n",
       "      <td>98900.9</td>\n",
       "      <td>102084.4</td>\n",
       "      <td>98277.2</td>\n",
       "      <td>101361.1</td>\n",
       "      <td>19409.0</td>\n",
       "      <td>815</td>\n",
       "      <td>104521.450300</td>\n",
       "      <td>104869.150627</td>\n",
       "      <td>0.309830</td>\n",
       "      <td>0.316952</td>\n",
       "      <td>-372.084406</td>\n",
       "      <td>252.300393</td>\n",
       "      <td>-624.384799</td>\n",
       "    </tr>\n",
       "    <tr>\n",
       "      <th>4278</th>\n",
       "      <td>2025-06-24</td>\n",
       "      <td>XXBTZUSD</td>\n",
       "      <td>101361.1</td>\n",
       "      <td>106022.4</td>\n",
       "      <td>99700.0</td>\n",
       "      <td>105282.6</td>\n",
       "      <td>53578.0</td>\n",
       "      <td>2975</td>\n",
       "      <td>104630.185971</td>\n",
       "      <td>104906.736934</td>\n",
       "      <td>0.518054</td>\n",
       "      <td>0.387867</td>\n",
       "      <td>-276.454801</td>\n",
       "      <td>146.549354</td>\n",
       "      <td>-423.004156</td>\n",
       "    </tr>\n",
       "    <tr>\n",
       "      <th>4279</th>\n",
       "      <td>2025-06-25</td>\n",
       "      <td>XXBTZUSD</td>\n",
       "      <td>105282.6</td>\n",
       "      <td>105349.6</td>\n",
       "      <td>105053.5</td>\n",
       "      <td>105259.6</td>\n",
       "      <td>950.0</td>\n",
       "      <td>46</td>\n",
       "      <td>104720.102261</td>\n",
       "      <td>104938.815394</td>\n",
       "      <td>0.708014</td>\n",
       "      <td>0.511966</td>\n",
       "      <td>-200.215597</td>\n",
       "      <td>77.196364</td>\n",
       "      <td>-277.411961</td>\n",
       "    </tr>\n",
       "  </tbody>\n",
       "</table>\n",
       "</div>"
      ],
      "text/plain": [
       "           date      pair      open      high       low     close   volume  \\\n",
       "4224 2025-05-01  XXBTZUSD   95194.3   96332.0   92970.5   96209.5  32409.0   \n",
       "4225 2025-05-02  XXBTZUSD   96209.5   97407.8   95900.4   96970.5  32153.0   \n",
       "4226 2025-05-03  XXBTZUSD   96970.5   97885.0   95893.8   95939.9  27565.0   \n",
       "4227 2025-05-04  XXBTZUSD   95939.9   96521.4   95305.6   95440.1  18605.0   \n",
       "4228 2025-05-05  XXBTZUSD   95440.1   95761.3   93570.1   94071.8  25761.0   \n",
       "4229 2025-05-06  XXBTZUSD   94071.9   95173.9   93624.4   93728.2  25079.0   \n",
       "4230 2025-05-07  XXBTZUSD   93728.2   97650.0   93398.5   97011.5  30304.0   \n",
       "4231 2025-05-08  XXBTZUSD   97011.5   99823.4   95824.0   99435.9  39783.0   \n",
       "4232 2025-05-09  XXBTZUSD   99433.1  104319.1   99099.0  102976.7  48656.0   \n",
       "4233 2025-05-10  XXBTZUSD  102976.8  104013.0  102344.7  103430.8  26748.0   \n",
       "4234 2025-05-11  XXBTZUSD  103426.4  104943.7  103023.9  104675.0  24435.0   \n",
       "4235 2025-05-12  XXBTZUSD  104675.0  105728.8  103604.9  103694.1  29094.0   \n",
       "4236 2025-05-13  XXBTZUSD  103694.1  104599.1  100772.6  103699.5  41587.0   \n",
       "4237 2025-05-14  XXBTZUSD  103699.5  104980.0  102880.0  103949.7  31140.0   \n",
       "4238 2025-05-15  XXBTZUSD  103949.8  104280.1  101588.0  102360.0  28746.0   \n",
       "4239 2025-05-16  XXBTZUSD  102360.0  104400.0  101441.6  103674.2  28655.0   \n",
       "4240 2025-05-17  XXBTZUSD  103675.1  104500.0  102690.0  103000.0  22016.0   \n",
       "4241 2025-05-18  XXBTZUSD  103006.7  104062.2  102719.0  103821.1  14930.0   \n",
       "4242 2025-05-19  XXBTZUSD  103821.1  107042.1  102100.0  102982.1  40268.0   \n",
       "4243 2025-05-20  XXBTZUSD  102982.1  106809.5  102157.7  105214.7  29447.0   \n",
       "4244 2025-05-21  XXBTZUSD  105214.7  107995.0  104269.0  106567.2  32033.0   \n",
       "4245 2025-05-22  XXBTZUSD  106567.2  111863.5  106204.6  111005.6  64470.0   \n",
       "4246 2025-05-23  XXBTZUSD  111000.1  111983.2  108889.3  109043.9  37390.0   \n",
       "4247 2025-05-24  XXBTZUSD  109044.0  109952.9  106824.0  109220.1  42135.0   \n",
       "4248 2025-05-25  XXBTZUSD  109220.1  109240.0  106726.3  107287.5  22396.0   \n",
       "4249 2025-05-26  XXBTZUSD  107287.5  110257.5  106672.9  109776.2  23615.0   \n",
       "4250 2025-05-27  XXBTZUSD  109779.0  110352.0  107600.0  109615.1  22900.0   \n",
       "4251 2025-05-28  XXBTZUSD  109615.2  110742.6  108333.3  108916.5  26321.0   \n",
       "4252 2025-05-29  XXBTZUSD  108916.6  109019.8  106805.1  108790.0  27333.0   \n",
       "4253 2025-05-30  XXBTZUSD  108800.0  108802.9  104604.2  105903.5  37555.0   \n",
       "4254 2025-05-31  XXBTZUSD  105903.5  106000.0  103169.0  103525.1  32406.0   \n",
       "4255 2025-06-01  XXBTZUSD  103525.1  104933.2  103525.1  104117.3  18664.0   \n",
       "4256 2025-06-02  XXBTZUSD  104117.3  105910.6  103855.5  104058.0  20671.0   \n",
       "4257 2025-06-03  XXBTZUSD  104058.1  106500.0  103737.7  105315.0  24103.0   \n",
       "4258 2025-06-04  XXBTZUSD  105315.0  106820.0  105127.5  105148.4  22810.0   \n",
       "4259 2025-06-05  XXBTZUSD  105148.4  105587.9  104279.0  104900.0  19479.0   \n",
       "4260 2025-06-06  XXBTZUSD  104900.0  105948.1  100400.0  104000.0  45868.0   \n",
       "4261 2025-06-07  XXBTZUSD  104000.0  105385.3  103642.2  105167.5  25719.0   \n",
       "4262 2025-06-08  XXBTZUSD  105167.6  105929.0  105082.3  105699.9  15441.0   \n",
       "4263 2025-06-09  XXBTZUSD  105700.0  107828.7  105392.3  107738.4  21337.0   \n",
       "4264 2025-06-10  XXBTZUSD  107741.4  110550.0  106935.1  109556.1  37364.0   \n",
       "4265 2025-06-11  XXBTZUSD  109550.6  110373.0  108342.2  109273.0  32865.0   \n",
       "4266 2025-06-12  XXBTZUSD  109273.0  110411.0  106888.0  106931.3  30023.0   \n",
       "4267 2025-06-13  XXBTZUSD  106931.3  108460.0  102812.3  105026.3  47662.0   \n",
       "4268 2025-06-14  XXBTZUSD  105026.4  106172.3  104166.1  105100.0  23862.0   \n",
       "4269 2025-06-15  XXBTZUSD  104720.5  106090.0  104400.0  104955.9   8802.0   \n",
       "4270 2025-06-16  XXBTZUSD  104955.9  105816.1  104955.8  105265.6   6161.0   \n",
       "4271 2025-06-17  XXBTZUSD  108640.5  108924.6  105531.5  105632.4  17986.0   \n",
       "4272 2025-06-18  XXBTZUSD  104717.3  105529.9  104206.1  104850.3  14320.0   \n",
       "4273 2025-06-19  XXBTZUSD  104850.3  105311.6  103567.6  104807.5  28449.0   \n",
       "4274 2025-06-20  XXBTZUSD  104807.5  106470.0  103931.6  106000.1  21113.0   \n",
       "4275 2025-06-21  XXBTZUSD  106000.1  106100.1  102388.9  103894.7  28481.0   \n",
       "4276 2025-06-22  XXBTZUSD  102260.1  103380.5  100933.5  102720.0  23982.0   \n",
       "4277 2025-06-23  XXBTZUSD   98900.9  102084.4   98277.2  101361.1  19409.0   \n",
       "4278 2025-06-24  XXBTZUSD  101361.1  106022.4   99700.0  105282.6  53578.0   \n",
       "4279 2025-06-25  XXBTZUSD  105282.6  105349.6  105053.5  105259.6    950.0   \n",
       "\n",
       "      count         ema_13         ema_21  stochastic_%K  stochastic_%D  \\\n",
       "4224   1596   92386.175399   90371.044909       0.847617       0.822733   \n",
       "4225   1234   93041.078914   90970.995372       0.882749       0.848867   \n",
       "4226   1050   93455.196212   91422.713974       0.823836       0.851401   \n",
       "4227    689   93738.753896   91787.930886       0.669905       0.792164   \n",
       "4228    936   93786.331911   91995.555351       0.443606       0.645782   \n",
       "4229   1136   93778.027352   92153.068501       0.254415       0.455975   \n",
       "4230   1414   94239.952016   92594.744091       0.355346       0.351122   \n",
       "4231   1795   94982.230299   93216.667356       0.593878       0.401213   \n",
       "4232   2539   96124.297399   94103.943051       0.874023       0.607749   \n",
       "4233    952   97168.083485   94951.839137       0.911807       0.793236   \n",
       "4234    705   98240.500130   95835.762852       0.924154       0.903328   \n",
       "4235   1165   99019.585826   96550.157138       0.896653       0.910871   \n",
       "4236   1541   99688.144994   97200.097398       0.821738       0.880848   \n",
       "4237   1173  100296.938566   97813.697635       0.709841       0.809410   \n",
       "4238    901  100591.661628   98226.997850       0.551745       0.694441   \n",
       "4239   1138  101032.024253   98722.198045       0.515590       0.592392   \n",
       "4240    704  101313.163645   99111.089132       0.478378       0.515238   \n",
       "4241    365  101671.440267   99539.271938       0.595776       0.529915   \n",
       "4242   2771  101858.677372   99852.256307       0.492315       0.522156   \n",
       "4243   1713  102338.109176  100339.751189       0.540417       0.542836   \n",
       "4244   1882  102942.265008  100905.882899       0.568856       0.533863   \n",
       "4245   3742  104094.170007  101824.038999       0.781211       0.630161   \n",
       "4246   1915  104801.274292  102480.389999       0.790841       0.713636   \n",
       "4247   1898  105432.535107  103093.090908       0.777837       0.783296   \n",
       "4248    474  105697.530092  103474.400826       0.604223       0.724300   \n",
       "4249    873  106280.197221  104047.291660       0.576049       0.652703   \n",
       "4250    778  106756.611904  104553.456054       0.521140       0.567138   \n",
       "4251   1036  107065.167346  104950.096413       0.574474       0.557221   \n",
       "4252    873  107311.572011  105299.178557       0.541853       0.545822   \n",
       "4253   1477  107110.418867  105354.116870       0.427724       0.514684   \n",
       "4254   1153  106598.230457  105187.842609       0.259632       0.409736   \n",
       "4255    344  106243.811820  105090.520554       0.127966       0.271774   \n",
       "4256    814  105931.552989  104996.655049       0.108058       0.165219   \n",
       "4257    865  105843.473991  105025.595499       0.219355       0.151793   \n",
       "4258    680  105744.177706  105036.759545       0.358335       0.228583   \n",
       "4259    618  105623.580891  105024.326859       0.446781       0.341490   \n",
       "4260   1942  105391.640764  104931.206235       0.506727       0.437281   \n",
       "4261    740  105359.620655  104952.687487       0.573543       0.509017   \n",
       "4262    479  105408.231990  105020.615897       0.709626       0.596632   \n",
       "4263    674  105741.113134  105267.687179       0.851992       0.711720   \n",
       "4264   1382  106286.111258  105657.542890       0.905151       0.822256   \n",
       "4265    927  106712.809649  105986.220809       0.901687       0.886276   \n",
       "4266   1199  106744.022557  106072.137099       0.685128       0.830655   \n",
       "4267   2363  106498.633620  105977.060999       0.479812       0.688875   \n",
       "4268    826  106298.828817  105897.328181       0.306652       0.490531   \n",
       "4269    159  106106.981843  105811.743801       0.287963       0.358142   \n",
       "4270    124  105986.784437  105762.094365       0.300205       0.298273   \n",
       "4271    731  105936.158089  105750.303968       0.355447       0.314538   \n",
       "4272    534  105781.035505  105668.485425       0.309341       0.321664   \n",
       "4273   1203  105641.959004  105590.214023       0.278873       0.314554   \n",
       "4274    721  105693.122004  105627.476385       0.276439       0.288218   \n",
       "4275    931  105436.204574  105469.951259       0.305310       0.286874   \n",
       "4276   1204  105048.175350  105219.955690       0.335717       0.305822   \n",
       "4277    815  104521.450300  104869.150627       0.309830       0.316952   \n",
       "4278   2975  104630.185971  104906.736934       0.518054       0.387867   \n",
       "4279     46  104720.102261  104938.815394       0.708014       0.511966   \n",
       "\n",
       "             macd  macd_signal_line     macd_bar  \n",
       "4224  3151.117114       2370.381022   780.736093  \n",
       "4225  3257.877345       2547.880286   709.997059  \n",
       "4226  3222.181488       2682.740527   539.440961  \n",
       "4227  3117.624545       2769.717330   347.907215  \n",
       "4228  2891.026091       2793.979083    97.047009  \n",
       "4229  2653.135837       2765.810434  -112.674596  \n",
       "4230  2698.435087       2752.335364   -53.900277  \n",
       "4231  2896.573986       2781.183089   115.390897  \n",
       "4232  3301.258605       2885.198192   416.060413  \n",
       "4233  3616.922524       3031.543058   585.379466  \n",
       "4234  3922.271492       3209.688745   712.582747  \n",
       "4235  4038.558330       3375.462662   663.095668  \n",
       "4236  4084.073565       3517.184843   566.888722  \n",
       "4237  4093.150474       3632.377969   460.772505  \n",
       "4238  3926.802748       3691.262925   235.539823  \n",
       "4239  3856.559911       3724.322322   132.237589  \n",
       "4240  3703.794613       3720.216780   -16.422167  \n",
       "4241  3607.399070       3697.653238   -90.254168  \n",
       "4242  3423.836761       3642.889943  -219.053182  \n",
       "4243  3419.101199       3598.132194  -179.030995  \n",
       "4244  3484.318623       3575.369480   -91.050857  \n",
       "4245  3849.767960       3630.249176   219.518784  \n",
       "4246  3935.727776       3691.344896   244.382881  \n",
       "4247  3972.279453       3747.531807   224.747646  \n",
       "4248  3801.481143       3758.321675    43.159469  \n",
       "4249  3822.871856       3771.231711    51.640145  \n",
       "4250  3783.214189       3773.628206     9.585982  \n",
       "4251  3653.301039       3749.562773   -96.261734  \n",
       "4252  3499.793005       3699.608819  -199.815815  \n",
       "4253  3109.377388       3581.562533  -472.185145  \n",
       "4254  2578.331791       3380.916385  -802.584593  \n",
       "4255  2180.128754       3140.758859  -960.630104  \n",
       "4256  1838.571061       2880.321299 -1041.750238  \n",
       "4257  1650.290007       2634.315041  -984.025033  \n",
       "4258  1470.679609       2401.587954  -930.908345  \n",
       "4259  1293.383945       2179.947153  -886.563207  \n",
       "4260  1067.942796       1957.546281  -889.603485  \n",
       "4261   972.278730       1760.492771  -788.214041  \n",
       "4262   928.718807       1594.137978  -665.419171  \n",
       "4263  1046.622357       1484.634854  -438.012497  \n",
       "4264  1272.071322       1442.122148  -170.050826  \n",
       "4265  1411.625111       1436.022740   -24.397629  \n",
       "4266  1318.072950       1412.432782   -94.359832  \n",
       "4267  1077.790512       1345.504328  -267.713816  \n",
       "4268   883.131729       1253.029808  -369.898079  \n",
       "4269   709.061951       1144.236237  -435.174286  \n",
       "4270   589.307430       1033.250476  -443.943045  \n",
       "4271   518.027308        930.205842  -412.178534  \n",
       "4272   393.887870        822.942248  -429.054378  \n",
       "4273   288.724630        716.098724  -427.374094  \n",
       "4274   298.177652        632.514510  -334.336858  \n",
       "4275   134.233693        532.858346  -398.624653  \n",
       "4276   -89.450420        408.396593  -497.847013  \n",
       "4277  -372.084406        252.300393  -624.384799  \n",
       "4278  -276.454801        146.549354  -423.004156  \n",
       "4279  -200.215597         77.196364  -277.411961  "
      ]
     },
     "execution_count": 7,
     "metadata": {},
     "output_type": "execute_result"
    }
   ],
   "source": [
    "df[df['date'] >= '2025-05-01']"
   ]
  },
  {
   "cell_type": "code",
   "execution_count": 8,
   "id": "16b1f9f9",
   "metadata": {},
   "outputs": [
    {
     "data": {
      "text/html": [
       "<div>\n",
       "<style scoped>\n",
       "    .dataframe tbody tr th:only-of-type {\n",
       "        vertical-align: middle;\n",
       "    }\n",
       "\n",
       "    .dataframe tbody tr th {\n",
       "        vertical-align: top;\n",
       "    }\n",
       "\n",
       "    .dataframe thead th {\n",
       "        text-align: right;\n",
       "    }\n",
       "</style>\n",
       "<table border=\"1\" class=\"dataframe\">\n",
       "  <thead>\n",
       "    <tr style=\"text-align: right;\">\n",
       "      <th></th>\n",
       "      <th>date</th>\n",
       "      <th>pair</th>\n",
       "      <th>open</th>\n",
       "      <th>high</th>\n",
       "      <th>low</th>\n",
       "      <th>close</th>\n",
       "      <th>volume</th>\n",
       "      <th>count</th>\n",
       "      <th>ema_13</th>\n",
       "      <th>ema_21</th>\n",
       "      <th>stochastic_%K</th>\n",
       "      <th>stochastic_%D</th>\n",
       "      <th>macd</th>\n",
       "      <th>macd_signal_line</th>\n",
       "      <th>macd_bar</th>\n",
       "    </tr>\n",
       "  </thead>\n",
       "  <tbody>\n",
       "    <tr>\n",
       "      <th>4224</th>\n",
       "      <td>2025-05-01</td>\n",
       "      <td>XXBTZUSD</td>\n",
       "      <td>95194.3</td>\n",
       "      <td>96332.0</td>\n",
       "      <td>92970.5</td>\n",
       "      <td>96209.5</td>\n",
       "      <td>32409.0</td>\n",
       "      <td>1596</td>\n",
       "      <td>92386.175399</td>\n",
       "      <td>90371.044909</td>\n",
       "      <td>0.847617</td>\n",
       "      <td>0.822733</td>\n",
       "      <td>3151.117114</td>\n",
       "      <td>2370.381022</td>\n",
       "      <td>780.736093</td>\n",
       "    </tr>\n",
       "    <tr>\n",
       "      <th>4225</th>\n",
       "      <td>2025-05-02</td>\n",
       "      <td>XXBTZUSD</td>\n",
       "      <td>96209.5</td>\n",
       "      <td>97407.8</td>\n",
       "      <td>95900.4</td>\n",
       "      <td>96970.5</td>\n",
       "      <td>32153.0</td>\n",
       "      <td>1234</td>\n",
       "      <td>93041.078914</td>\n",
       "      <td>90970.995372</td>\n",
       "      <td>0.882749</td>\n",
       "      <td>0.848867</td>\n",
       "      <td>3257.877345</td>\n",
       "      <td>2547.880286</td>\n",
       "      <td>709.997059</td>\n",
       "    </tr>\n",
       "    <tr>\n",
       "      <th>4226</th>\n",
       "      <td>2025-05-03</td>\n",
       "      <td>XXBTZUSD</td>\n",
       "      <td>96970.5</td>\n",
       "      <td>97885.0</td>\n",
       "      <td>95893.8</td>\n",
       "      <td>95939.9</td>\n",
       "      <td>27565.0</td>\n",
       "      <td>1050</td>\n",
       "      <td>93455.196212</td>\n",
       "      <td>91422.713974</td>\n",
       "      <td>0.823836</td>\n",
       "      <td>0.851401</td>\n",
       "      <td>3222.181488</td>\n",
       "      <td>2682.740527</td>\n",
       "      <td>539.440961</td>\n",
       "    </tr>\n",
       "    <tr>\n",
       "      <th>4227</th>\n",
       "      <td>2025-05-04</td>\n",
       "      <td>XXBTZUSD</td>\n",
       "      <td>95939.9</td>\n",
       "      <td>96521.4</td>\n",
       "      <td>95305.6</td>\n",
       "      <td>95440.1</td>\n",
       "      <td>18605.0</td>\n",
       "      <td>689</td>\n",
       "      <td>93738.753896</td>\n",
       "      <td>91787.930886</td>\n",
       "      <td>0.669905</td>\n",
       "      <td>0.792164</td>\n",
       "      <td>3117.624545</td>\n",
       "      <td>2769.717330</td>\n",
       "      <td>347.907215</td>\n",
       "    </tr>\n",
       "    <tr>\n",
       "      <th>4228</th>\n",
       "      <td>2025-05-05</td>\n",
       "      <td>XXBTZUSD</td>\n",
       "      <td>95440.1</td>\n",
       "      <td>95761.3</td>\n",
       "      <td>93570.1</td>\n",
       "      <td>94071.8</td>\n",
       "      <td>25761.0</td>\n",
       "      <td>936</td>\n",
       "      <td>93786.331911</td>\n",
       "      <td>91995.555351</td>\n",
       "      <td>0.443606</td>\n",
       "      <td>0.645782</td>\n",
       "      <td>2891.026091</td>\n",
       "      <td>2793.979083</td>\n",
       "      <td>97.047009</td>\n",
       "    </tr>\n",
       "    <tr>\n",
       "      <th>4229</th>\n",
       "      <td>2025-05-06</td>\n",
       "      <td>XXBTZUSD</td>\n",
       "      <td>94071.9</td>\n",
       "      <td>95173.9</td>\n",
       "      <td>93624.4</td>\n",
       "      <td>93728.2</td>\n",
       "      <td>25079.0</td>\n",
       "      <td>1136</td>\n",
       "      <td>93778.027352</td>\n",
       "      <td>92153.068501</td>\n",
       "      <td>0.254415</td>\n",
       "      <td>0.455975</td>\n",
       "      <td>2653.135837</td>\n",
       "      <td>2765.810434</td>\n",
       "      <td>-112.674596</td>\n",
       "    </tr>\n",
       "    <tr>\n",
       "      <th>4230</th>\n",
       "      <td>2025-05-07</td>\n",
       "      <td>XXBTZUSD</td>\n",
       "      <td>93728.2</td>\n",
       "      <td>97650.0</td>\n",
       "      <td>93398.5</td>\n",
       "      <td>97011.5</td>\n",
       "      <td>30304.0</td>\n",
       "      <td>1414</td>\n",
       "      <td>94239.952016</td>\n",
       "      <td>92594.744091</td>\n",
       "      <td>0.355346</td>\n",
       "      <td>0.351122</td>\n",
       "      <td>2698.435087</td>\n",
       "      <td>2752.335364</td>\n",
       "      <td>-53.900277</td>\n",
       "    </tr>\n",
       "    <tr>\n",
       "      <th>4231</th>\n",
       "      <td>2025-05-08</td>\n",
       "      <td>XXBTZUSD</td>\n",
       "      <td>97011.5</td>\n",
       "      <td>99823.4</td>\n",
       "      <td>95824.0</td>\n",
       "      <td>99435.9</td>\n",
       "      <td>39783.0</td>\n",
       "      <td>1795</td>\n",
       "      <td>94982.230299</td>\n",
       "      <td>93216.667356</td>\n",
       "      <td>0.593878</td>\n",
       "      <td>0.401213</td>\n",
       "      <td>2896.573986</td>\n",
       "      <td>2781.183089</td>\n",
       "      <td>115.390897</td>\n",
       "    </tr>\n",
       "    <tr>\n",
       "      <th>4232</th>\n",
       "      <td>2025-05-09</td>\n",
       "      <td>XXBTZUSD</td>\n",
       "      <td>99433.1</td>\n",
       "      <td>104319.1</td>\n",
       "      <td>99099.0</td>\n",
       "      <td>102976.7</td>\n",
       "      <td>48656.0</td>\n",
       "      <td>2539</td>\n",
       "      <td>96124.297399</td>\n",
       "      <td>94103.943051</td>\n",
       "      <td>0.874023</td>\n",
       "      <td>0.607749</td>\n",
       "      <td>3301.258605</td>\n",
       "      <td>2885.198192</td>\n",
       "      <td>416.060413</td>\n",
       "    </tr>\n",
       "    <tr>\n",
       "      <th>4233</th>\n",
       "      <td>2025-05-10</td>\n",
       "      <td>XXBTZUSD</td>\n",
       "      <td>102976.8</td>\n",
       "      <td>104013.0</td>\n",
       "      <td>102344.7</td>\n",
       "      <td>103430.8</td>\n",
       "      <td>26748.0</td>\n",
       "      <td>952</td>\n",
       "      <td>97168.083485</td>\n",
       "      <td>94951.839137</td>\n",
       "      <td>0.911807</td>\n",
       "      <td>0.793236</td>\n",
       "      <td>3616.922524</td>\n",
       "      <td>3031.543058</td>\n",
       "      <td>585.379466</td>\n",
       "    </tr>\n",
       "    <tr>\n",
       "      <th>4234</th>\n",
       "      <td>2025-05-11</td>\n",
       "      <td>XXBTZUSD</td>\n",
       "      <td>103426.4</td>\n",
       "      <td>104943.7</td>\n",
       "      <td>103023.9</td>\n",
       "      <td>104675.0</td>\n",
       "      <td>24435.0</td>\n",
       "      <td>705</td>\n",
       "      <td>98240.500130</td>\n",
       "      <td>95835.762852</td>\n",
       "      <td>0.924154</td>\n",
       "      <td>0.903328</td>\n",
       "      <td>3922.271492</td>\n",
       "      <td>3209.688745</td>\n",
       "      <td>712.582747</td>\n",
       "    </tr>\n",
       "    <tr>\n",
       "      <th>4235</th>\n",
       "      <td>2025-05-12</td>\n",
       "      <td>XXBTZUSD</td>\n",
       "      <td>104675.0</td>\n",
       "      <td>105728.8</td>\n",
       "      <td>103604.9</td>\n",
       "      <td>103694.1</td>\n",
       "      <td>29094.0</td>\n",
       "      <td>1165</td>\n",
       "      <td>99019.585826</td>\n",
       "      <td>96550.157138</td>\n",
       "      <td>0.896653</td>\n",
       "      <td>0.910871</td>\n",
       "      <td>4038.558330</td>\n",
       "      <td>3375.462662</td>\n",
       "      <td>663.095668</td>\n",
       "    </tr>\n",
       "    <tr>\n",
       "      <th>4236</th>\n",
       "      <td>2025-05-13</td>\n",
       "      <td>XXBTZUSD</td>\n",
       "      <td>103694.1</td>\n",
       "      <td>104599.1</td>\n",
       "      <td>100772.6</td>\n",
       "      <td>103699.5</td>\n",
       "      <td>41587.0</td>\n",
       "      <td>1541</td>\n",
       "      <td>99688.144994</td>\n",
       "      <td>97200.097398</td>\n",
       "      <td>0.821738</td>\n",
       "      <td>0.880848</td>\n",
       "      <td>4084.073565</td>\n",
       "      <td>3517.184843</td>\n",
       "      <td>566.888722</td>\n",
       "    </tr>\n",
       "    <tr>\n",
       "      <th>4237</th>\n",
       "      <td>2025-05-14</td>\n",
       "      <td>XXBTZUSD</td>\n",
       "      <td>103699.5</td>\n",
       "      <td>104980.0</td>\n",
       "      <td>102880.0</td>\n",
       "      <td>103949.7</td>\n",
       "      <td>31140.0</td>\n",
       "      <td>1173</td>\n",
       "      <td>100296.938566</td>\n",
       "      <td>97813.697635</td>\n",
       "      <td>0.709841</td>\n",
       "      <td>0.809410</td>\n",
       "      <td>4093.150474</td>\n",
       "      <td>3632.377969</td>\n",
       "      <td>460.772505</td>\n",
       "    </tr>\n",
       "    <tr>\n",
       "      <th>4238</th>\n",
       "      <td>2025-05-15</td>\n",
       "      <td>XXBTZUSD</td>\n",
       "      <td>103949.8</td>\n",
       "      <td>104280.1</td>\n",
       "      <td>101588.0</td>\n",
       "      <td>102360.0</td>\n",
       "      <td>28746.0</td>\n",
       "      <td>901</td>\n",
       "      <td>100591.661628</td>\n",
       "      <td>98226.997850</td>\n",
       "      <td>0.551745</td>\n",
       "      <td>0.694441</td>\n",
       "      <td>3926.802748</td>\n",
       "      <td>3691.262925</td>\n",
       "      <td>235.539823</td>\n",
       "    </tr>\n",
       "    <tr>\n",
       "      <th>4239</th>\n",
       "      <td>2025-05-16</td>\n",
       "      <td>XXBTZUSD</td>\n",
       "      <td>102360.0</td>\n",
       "      <td>104400.0</td>\n",
       "      <td>101441.6</td>\n",
       "      <td>103674.2</td>\n",
       "      <td>28655.0</td>\n",
       "      <td>1138</td>\n",
       "      <td>101032.024253</td>\n",
       "      <td>98722.198045</td>\n",
       "      <td>0.515590</td>\n",
       "      <td>0.592392</td>\n",
       "      <td>3856.559911</td>\n",
       "      <td>3724.322322</td>\n",
       "      <td>132.237589</td>\n",
       "    </tr>\n",
       "    <tr>\n",
       "      <th>4240</th>\n",
       "      <td>2025-05-17</td>\n",
       "      <td>XXBTZUSD</td>\n",
       "      <td>103675.1</td>\n",
       "      <td>104500.0</td>\n",
       "      <td>102690.0</td>\n",
       "      <td>103000.0</td>\n",
       "      <td>22016.0</td>\n",
       "      <td>704</td>\n",
       "      <td>101313.163645</td>\n",
       "      <td>99111.089132</td>\n",
       "      <td>0.478378</td>\n",
       "      <td>0.515238</td>\n",
       "      <td>3703.794613</td>\n",
       "      <td>3720.216780</td>\n",
       "      <td>-16.422167</td>\n",
       "    </tr>\n",
       "    <tr>\n",
       "      <th>4241</th>\n",
       "      <td>2025-05-18</td>\n",
       "      <td>XXBTZUSD</td>\n",
       "      <td>103006.7</td>\n",
       "      <td>104062.2</td>\n",
       "      <td>102719.0</td>\n",
       "      <td>103821.1</td>\n",
       "      <td>14930.0</td>\n",
       "      <td>365</td>\n",
       "      <td>101671.440267</td>\n",
       "      <td>99539.271938</td>\n",
       "      <td>0.595776</td>\n",
       "      <td>0.529915</td>\n",
       "      <td>3607.399070</td>\n",
       "      <td>3697.653238</td>\n",
       "      <td>-90.254168</td>\n",
       "    </tr>\n",
       "    <tr>\n",
       "      <th>4242</th>\n",
       "      <td>2025-05-19</td>\n",
       "      <td>XXBTZUSD</td>\n",
       "      <td>103821.1</td>\n",
       "      <td>107042.1</td>\n",
       "      <td>102100.0</td>\n",
       "      <td>102982.1</td>\n",
       "      <td>40268.0</td>\n",
       "      <td>2771</td>\n",
       "      <td>101858.677372</td>\n",
       "      <td>99852.256307</td>\n",
       "      <td>0.492315</td>\n",
       "      <td>0.522156</td>\n",
       "      <td>3423.836761</td>\n",
       "      <td>3642.889943</td>\n",
       "      <td>-219.053182</td>\n",
       "    </tr>\n",
       "    <tr>\n",
       "      <th>4243</th>\n",
       "      <td>2025-05-20</td>\n",
       "      <td>XXBTZUSD</td>\n",
       "      <td>102982.1</td>\n",
       "      <td>106809.5</td>\n",
       "      <td>102157.7</td>\n",
       "      <td>105214.7</td>\n",
       "      <td>29447.0</td>\n",
       "      <td>1713</td>\n",
       "      <td>102338.109176</td>\n",
       "      <td>100339.751189</td>\n",
       "      <td>0.540417</td>\n",
       "      <td>0.542836</td>\n",
       "      <td>3419.101199</td>\n",
       "      <td>3598.132194</td>\n",
       "      <td>-179.030995</td>\n",
       "    </tr>\n",
       "    <tr>\n",
       "      <th>4244</th>\n",
       "      <td>2025-05-21</td>\n",
       "      <td>XXBTZUSD</td>\n",
       "      <td>105214.7</td>\n",
       "      <td>107995.0</td>\n",
       "      <td>104269.0</td>\n",
       "      <td>106567.2</td>\n",
       "      <td>32033.0</td>\n",
       "      <td>1882</td>\n",
       "      <td>102942.265008</td>\n",
       "      <td>100905.882899</td>\n",
       "      <td>0.568856</td>\n",
       "      <td>0.533863</td>\n",
       "      <td>3484.318623</td>\n",
       "      <td>3575.369480</td>\n",
       "      <td>-91.050857</td>\n",
       "    </tr>\n",
       "    <tr>\n",
       "      <th>4245</th>\n",
       "      <td>2025-05-22</td>\n",
       "      <td>XXBTZUSD</td>\n",
       "      <td>106567.2</td>\n",
       "      <td>111863.5</td>\n",
       "      <td>106204.6</td>\n",
       "      <td>111005.6</td>\n",
       "      <td>64470.0</td>\n",
       "      <td>3742</td>\n",
       "      <td>104094.170007</td>\n",
       "      <td>101824.038999</td>\n",
       "      <td>0.781211</td>\n",
       "      <td>0.630161</td>\n",
       "      <td>3849.767960</td>\n",
       "      <td>3630.249176</td>\n",
       "      <td>219.518784</td>\n",
       "    </tr>\n",
       "    <tr>\n",
       "      <th>4246</th>\n",
       "      <td>2025-05-23</td>\n",
       "      <td>XXBTZUSD</td>\n",
       "      <td>111000.1</td>\n",
       "      <td>111983.2</td>\n",
       "      <td>108889.3</td>\n",
       "      <td>109043.9</td>\n",
       "      <td>37390.0</td>\n",
       "      <td>1915</td>\n",
       "      <td>104801.274292</td>\n",
       "      <td>102480.389999</td>\n",
       "      <td>0.790841</td>\n",
       "      <td>0.713636</td>\n",
       "      <td>3935.727776</td>\n",
       "      <td>3691.344896</td>\n",
       "      <td>244.382881</td>\n",
       "    </tr>\n",
       "    <tr>\n",
       "      <th>4247</th>\n",
       "      <td>2025-05-24</td>\n",
       "      <td>XXBTZUSD</td>\n",
       "      <td>109044.0</td>\n",
       "      <td>109952.9</td>\n",
       "      <td>106824.0</td>\n",
       "      <td>109220.1</td>\n",
       "      <td>42135.0</td>\n",
       "      <td>1898</td>\n",
       "      <td>105432.535107</td>\n",
       "      <td>103093.090908</td>\n",
       "      <td>0.777837</td>\n",
       "      <td>0.783296</td>\n",
       "      <td>3972.279453</td>\n",
       "      <td>3747.531807</td>\n",
       "      <td>224.747646</td>\n",
       "    </tr>\n",
       "    <tr>\n",
       "      <th>4248</th>\n",
       "      <td>2025-05-25</td>\n",
       "      <td>XXBTZUSD</td>\n",
       "      <td>109220.1</td>\n",
       "      <td>109240.0</td>\n",
       "      <td>106726.3</td>\n",
       "      <td>107287.5</td>\n",
       "      <td>22396.0</td>\n",
       "      <td>474</td>\n",
       "      <td>105697.530092</td>\n",
       "      <td>103474.400826</td>\n",
       "      <td>0.604223</td>\n",
       "      <td>0.724300</td>\n",
       "      <td>3801.481143</td>\n",
       "      <td>3758.321675</td>\n",
       "      <td>43.159469</td>\n",
       "    </tr>\n",
       "    <tr>\n",
       "      <th>4249</th>\n",
       "      <td>2025-05-26</td>\n",
       "      <td>XXBTZUSD</td>\n",
       "      <td>107287.5</td>\n",
       "      <td>110257.5</td>\n",
       "      <td>106672.9</td>\n",
       "      <td>109776.2</td>\n",
       "      <td>23615.0</td>\n",
       "      <td>873</td>\n",
       "      <td>106280.197221</td>\n",
       "      <td>104047.291660</td>\n",
       "      <td>0.576049</td>\n",
       "      <td>0.652703</td>\n",
       "      <td>3822.871856</td>\n",
       "      <td>3771.231711</td>\n",
       "      <td>51.640145</td>\n",
       "    </tr>\n",
       "    <tr>\n",
       "      <th>4250</th>\n",
       "      <td>2025-05-27</td>\n",
       "      <td>XXBTZUSD</td>\n",
       "      <td>109779.0</td>\n",
       "      <td>110352.0</td>\n",
       "      <td>107600.0</td>\n",
       "      <td>109615.1</td>\n",
       "      <td>22900.0</td>\n",
       "      <td>778</td>\n",
       "      <td>106756.611904</td>\n",
       "      <td>104553.456054</td>\n",
       "      <td>0.521140</td>\n",
       "      <td>0.567138</td>\n",
       "      <td>3783.214189</td>\n",
       "      <td>3773.628206</td>\n",
       "      <td>9.585982</td>\n",
       "    </tr>\n",
       "    <tr>\n",
       "      <th>4251</th>\n",
       "      <td>2025-05-28</td>\n",
       "      <td>XXBTZUSD</td>\n",
       "      <td>109615.2</td>\n",
       "      <td>110742.6</td>\n",
       "      <td>108333.3</td>\n",
       "      <td>108916.5</td>\n",
       "      <td>26321.0</td>\n",
       "      <td>1036</td>\n",
       "      <td>107065.167346</td>\n",
       "      <td>104950.096413</td>\n",
       "      <td>0.574474</td>\n",
       "      <td>0.557221</td>\n",
       "      <td>3653.301039</td>\n",
       "      <td>3749.562773</td>\n",
       "      <td>-96.261734</td>\n",
       "    </tr>\n",
       "    <tr>\n",
       "      <th>4252</th>\n",
       "      <td>2025-05-29</td>\n",
       "      <td>XXBTZUSD</td>\n",
       "      <td>108916.6</td>\n",
       "      <td>109019.8</td>\n",
       "      <td>106805.1</td>\n",
       "      <td>108790.0</td>\n",
       "      <td>27333.0</td>\n",
       "      <td>873</td>\n",
       "      <td>107311.572011</td>\n",
       "      <td>105299.178557</td>\n",
       "      <td>0.541853</td>\n",
       "      <td>0.545822</td>\n",
       "      <td>3499.793005</td>\n",
       "      <td>3699.608819</td>\n",
       "      <td>-199.815815</td>\n",
       "    </tr>\n",
       "    <tr>\n",
       "      <th>4253</th>\n",
       "      <td>2025-05-30</td>\n",
       "      <td>XXBTZUSD</td>\n",
       "      <td>108800.0</td>\n",
       "      <td>108802.9</td>\n",
       "      <td>104604.2</td>\n",
       "      <td>105903.5</td>\n",
       "      <td>37555.0</td>\n",
       "      <td>1477</td>\n",
       "      <td>107110.418867</td>\n",
       "      <td>105354.116870</td>\n",
       "      <td>0.427724</td>\n",
       "      <td>0.514684</td>\n",
       "      <td>3109.377388</td>\n",
       "      <td>3581.562533</td>\n",
       "      <td>-472.185145</td>\n",
       "    </tr>\n",
       "    <tr>\n",
       "      <th>4254</th>\n",
       "      <td>2025-05-31</td>\n",
       "      <td>XXBTZUSD</td>\n",
       "      <td>105903.5</td>\n",
       "      <td>106000.0</td>\n",
       "      <td>103169.0</td>\n",
       "      <td>103525.1</td>\n",
       "      <td>32406.0</td>\n",
       "      <td>1153</td>\n",
       "      <td>106598.230457</td>\n",
       "      <td>105187.842609</td>\n",
       "      <td>0.259632</td>\n",
       "      <td>0.409736</td>\n",
       "      <td>2578.331791</td>\n",
       "      <td>3380.916385</td>\n",
       "      <td>-802.584593</td>\n",
       "    </tr>\n",
       "    <tr>\n",
       "      <th>4255</th>\n",
       "      <td>2025-06-01</td>\n",
       "      <td>XXBTZUSD</td>\n",
       "      <td>103525.1</td>\n",
       "      <td>104933.2</td>\n",
       "      <td>103525.1</td>\n",
       "      <td>104117.3</td>\n",
       "      <td>18664.0</td>\n",
       "      <td>344</td>\n",
       "      <td>106243.811820</td>\n",
       "      <td>105090.520554</td>\n",
       "      <td>0.127966</td>\n",
       "      <td>0.271774</td>\n",
       "      <td>2180.128754</td>\n",
       "      <td>3140.758859</td>\n",
       "      <td>-960.630104</td>\n",
       "    </tr>\n",
       "    <tr>\n",
       "      <th>4256</th>\n",
       "      <td>2025-06-02</td>\n",
       "      <td>XXBTZUSD</td>\n",
       "      <td>104117.3</td>\n",
       "      <td>105910.6</td>\n",
       "      <td>103855.5</td>\n",
       "      <td>104058.0</td>\n",
       "      <td>20671.0</td>\n",
       "      <td>814</td>\n",
       "      <td>105931.552989</td>\n",
       "      <td>104996.655049</td>\n",
       "      <td>0.108058</td>\n",
       "      <td>0.165219</td>\n",
       "      <td>1838.571061</td>\n",
       "      <td>2880.321299</td>\n",
       "      <td>-1041.750238</td>\n",
       "    </tr>\n",
       "    <tr>\n",
       "      <th>4257</th>\n",
       "      <td>2025-06-03</td>\n",
       "      <td>XXBTZUSD</td>\n",
       "      <td>104058.1</td>\n",
       "      <td>106500.0</td>\n",
       "      <td>103737.7</td>\n",
       "      <td>105315.0</td>\n",
       "      <td>24103.0</td>\n",
       "      <td>865</td>\n",
       "      <td>105843.473991</td>\n",
       "      <td>105025.595499</td>\n",
       "      <td>0.219355</td>\n",
       "      <td>0.151793</td>\n",
       "      <td>1650.290007</td>\n",
       "      <td>2634.315041</td>\n",
       "      <td>-984.025033</td>\n",
       "    </tr>\n",
       "    <tr>\n",
       "      <th>4258</th>\n",
       "      <td>2025-06-04</td>\n",
       "      <td>XXBTZUSD</td>\n",
       "      <td>105315.0</td>\n",
       "      <td>106820.0</td>\n",
       "      <td>105127.5</td>\n",
       "      <td>105148.4</td>\n",
       "      <td>22810.0</td>\n",
       "      <td>680</td>\n",
       "      <td>105744.177706</td>\n",
       "      <td>105036.759545</td>\n",
       "      <td>0.358335</td>\n",
       "      <td>0.228583</td>\n",
       "      <td>1470.679609</td>\n",
       "      <td>2401.587954</td>\n",
       "      <td>-930.908345</td>\n",
       "    </tr>\n",
       "    <tr>\n",
       "      <th>4259</th>\n",
       "      <td>2025-06-05</td>\n",
       "      <td>XXBTZUSD</td>\n",
       "      <td>105148.4</td>\n",
       "      <td>105587.9</td>\n",
       "      <td>104279.0</td>\n",
       "      <td>104900.0</td>\n",
       "      <td>19479.0</td>\n",
       "      <td>618</td>\n",
       "      <td>105623.580891</td>\n",
       "      <td>105024.326859</td>\n",
       "      <td>0.446781</td>\n",
       "      <td>0.341490</td>\n",
       "      <td>1293.383945</td>\n",
       "      <td>2179.947153</td>\n",
       "      <td>-886.563207</td>\n",
       "    </tr>\n",
       "    <tr>\n",
       "      <th>4260</th>\n",
       "      <td>2025-06-06</td>\n",
       "      <td>XXBTZUSD</td>\n",
       "      <td>104900.0</td>\n",
       "      <td>105948.1</td>\n",
       "      <td>100400.0</td>\n",
       "      <td>104000.0</td>\n",
       "      <td>45868.0</td>\n",
       "      <td>1942</td>\n",
       "      <td>105391.640764</td>\n",
       "      <td>104931.206235</td>\n",
       "      <td>0.506727</td>\n",
       "      <td>0.437281</td>\n",
       "      <td>1067.942796</td>\n",
       "      <td>1957.546281</td>\n",
       "      <td>-889.603485</td>\n",
       "    </tr>\n",
       "    <tr>\n",
       "      <th>4261</th>\n",
       "      <td>2025-06-07</td>\n",
       "      <td>XXBTZUSD</td>\n",
       "      <td>104000.0</td>\n",
       "      <td>105385.3</td>\n",
       "      <td>103642.2</td>\n",
       "      <td>105167.5</td>\n",
       "      <td>25719.0</td>\n",
       "      <td>740</td>\n",
       "      <td>105359.620655</td>\n",
       "      <td>104952.687487</td>\n",
       "      <td>0.573543</td>\n",
       "      <td>0.509017</td>\n",
       "      <td>972.278730</td>\n",
       "      <td>1760.492771</td>\n",
       "      <td>-788.214041</td>\n",
       "    </tr>\n",
       "    <tr>\n",
       "      <th>4262</th>\n",
       "      <td>2025-06-08</td>\n",
       "      <td>XXBTZUSD</td>\n",
       "      <td>105167.6</td>\n",
       "      <td>105929.0</td>\n",
       "      <td>105082.3</td>\n",
       "      <td>105699.9</td>\n",
       "      <td>15441.0</td>\n",
       "      <td>479</td>\n",
       "      <td>105408.231990</td>\n",
       "      <td>105020.615897</td>\n",
       "      <td>0.709626</td>\n",
       "      <td>0.596632</td>\n",
       "      <td>928.718807</td>\n",
       "      <td>1594.137978</td>\n",
       "      <td>-665.419171</td>\n",
       "    </tr>\n",
       "    <tr>\n",
       "      <th>4263</th>\n",
       "      <td>2025-06-09</td>\n",
       "      <td>XXBTZUSD</td>\n",
       "      <td>105700.0</td>\n",
       "      <td>107828.7</td>\n",
       "      <td>105392.3</td>\n",
       "      <td>107738.4</td>\n",
       "      <td>21337.0</td>\n",
       "      <td>674</td>\n",
       "      <td>105741.113134</td>\n",
       "      <td>105267.687179</td>\n",
       "      <td>0.851992</td>\n",
       "      <td>0.711720</td>\n",
       "      <td>1046.622357</td>\n",
       "      <td>1484.634854</td>\n",
       "      <td>-438.012497</td>\n",
       "    </tr>\n",
       "    <tr>\n",
       "      <th>4264</th>\n",
       "      <td>2025-06-10</td>\n",
       "      <td>XXBTZUSD</td>\n",
       "      <td>107741.4</td>\n",
       "      <td>110550.0</td>\n",
       "      <td>106935.1</td>\n",
       "      <td>109556.1</td>\n",
       "      <td>37364.0</td>\n",
       "      <td>1382</td>\n",
       "      <td>106286.111258</td>\n",
       "      <td>105657.542890</td>\n",
       "      <td>0.905151</td>\n",
       "      <td>0.822256</td>\n",
       "      <td>1272.071322</td>\n",
       "      <td>1442.122148</td>\n",
       "      <td>-170.050826</td>\n",
       "    </tr>\n",
       "    <tr>\n",
       "      <th>4265</th>\n",
       "      <td>2025-06-11</td>\n",
       "      <td>XXBTZUSD</td>\n",
       "      <td>109550.6</td>\n",
       "      <td>110373.0</td>\n",
       "      <td>108342.2</td>\n",
       "      <td>109273.0</td>\n",
       "      <td>32865.0</td>\n",
       "      <td>927</td>\n",
       "      <td>106712.809649</td>\n",
       "      <td>105986.220809</td>\n",
       "      <td>0.901687</td>\n",
       "      <td>0.886276</td>\n",
       "      <td>1411.625111</td>\n",
       "      <td>1436.022740</td>\n",
       "      <td>-24.397629</td>\n",
       "    </tr>\n",
       "    <tr>\n",
       "      <th>4266</th>\n",
       "      <td>2025-06-12</td>\n",
       "      <td>XXBTZUSD</td>\n",
       "      <td>109273.0</td>\n",
       "      <td>110411.0</td>\n",
       "      <td>106888.0</td>\n",
       "      <td>106931.3</td>\n",
       "      <td>30023.0</td>\n",
       "      <td>1199</td>\n",
       "      <td>106744.022557</td>\n",
       "      <td>106072.137099</td>\n",
       "      <td>0.685128</td>\n",
       "      <td>0.830655</td>\n",
       "      <td>1318.072950</td>\n",
       "      <td>1412.432782</td>\n",
       "      <td>-94.359832</td>\n",
       "    </tr>\n",
       "    <tr>\n",
       "      <th>4267</th>\n",
       "      <td>2025-06-13</td>\n",
       "      <td>XXBTZUSD</td>\n",
       "      <td>106931.3</td>\n",
       "      <td>108460.0</td>\n",
       "      <td>102812.3</td>\n",
       "      <td>105026.3</td>\n",
       "      <td>47662.0</td>\n",
       "      <td>2363</td>\n",
       "      <td>106498.633620</td>\n",
       "      <td>105977.060999</td>\n",
       "      <td>0.479812</td>\n",
       "      <td>0.688875</td>\n",
       "      <td>1077.790512</td>\n",
       "      <td>1345.504328</td>\n",
       "      <td>-267.713816</td>\n",
       "    </tr>\n",
       "    <tr>\n",
       "      <th>4268</th>\n",
       "      <td>2025-06-14</td>\n",
       "      <td>XXBTZUSD</td>\n",
       "      <td>105026.4</td>\n",
       "      <td>106172.3</td>\n",
       "      <td>104166.1</td>\n",
       "      <td>105100.0</td>\n",
       "      <td>23862.0</td>\n",
       "      <td>826</td>\n",
       "      <td>106298.828817</td>\n",
       "      <td>105897.328181</td>\n",
       "      <td>0.306652</td>\n",
       "      <td>0.490531</td>\n",
       "      <td>883.131729</td>\n",
       "      <td>1253.029808</td>\n",
       "      <td>-369.898079</td>\n",
       "    </tr>\n",
       "    <tr>\n",
       "      <th>4269</th>\n",
       "      <td>2025-06-15</td>\n",
       "      <td>XXBTZUSD</td>\n",
       "      <td>104720.5</td>\n",
       "      <td>106090.0</td>\n",
       "      <td>104400.0</td>\n",
       "      <td>104955.9</td>\n",
       "      <td>8802.0</td>\n",
       "      <td>159</td>\n",
       "      <td>106106.981843</td>\n",
       "      <td>105811.743801</td>\n",
       "      <td>0.287963</td>\n",
       "      <td>0.358142</td>\n",
       "      <td>709.061951</td>\n",
       "      <td>1144.236237</td>\n",
       "      <td>-435.174286</td>\n",
       "    </tr>\n",
       "    <tr>\n",
       "      <th>4270</th>\n",
       "      <td>2025-06-16</td>\n",
       "      <td>XXBTZUSD</td>\n",
       "      <td>104955.9</td>\n",
       "      <td>105816.1</td>\n",
       "      <td>104955.8</td>\n",
       "      <td>105265.6</td>\n",
       "      <td>6161.0</td>\n",
       "      <td>124</td>\n",
       "      <td>105986.784437</td>\n",
       "      <td>105762.094365</td>\n",
       "      <td>0.300205</td>\n",
       "      <td>0.298273</td>\n",
       "      <td>589.307430</td>\n",
       "      <td>1033.250476</td>\n",
       "      <td>-443.943045</td>\n",
       "    </tr>\n",
       "    <tr>\n",
       "      <th>4271</th>\n",
       "      <td>2025-06-17</td>\n",
       "      <td>XXBTZUSD</td>\n",
       "      <td>108640.5</td>\n",
       "      <td>108924.6</td>\n",
       "      <td>105531.5</td>\n",
       "      <td>105632.4</td>\n",
       "      <td>17986.0</td>\n",
       "      <td>731</td>\n",
       "      <td>105936.158089</td>\n",
       "      <td>105750.303968</td>\n",
       "      <td>0.355447</td>\n",
       "      <td>0.314538</td>\n",
       "      <td>518.027308</td>\n",
       "      <td>930.205842</td>\n",
       "      <td>-412.178534</td>\n",
       "    </tr>\n",
       "    <tr>\n",
       "      <th>4272</th>\n",
       "      <td>2025-06-18</td>\n",
       "      <td>XXBTZUSD</td>\n",
       "      <td>104717.3</td>\n",
       "      <td>105529.9</td>\n",
       "      <td>104206.1</td>\n",
       "      <td>104850.3</td>\n",
       "      <td>14320.0</td>\n",
       "      <td>534</td>\n",
       "      <td>105781.035505</td>\n",
       "      <td>105668.485425</td>\n",
       "      <td>0.309341</td>\n",
       "      <td>0.321664</td>\n",
       "      <td>393.887870</td>\n",
       "      <td>822.942248</td>\n",
       "      <td>-429.054378</td>\n",
       "    </tr>\n",
       "    <tr>\n",
       "      <th>4273</th>\n",
       "      <td>2025-06-19</td>\n",
       "      <td>XXBTZUSD</td>\n",
       "      <td>104850.3</td>\n",
       "      <td>105311.6</td>\n",
       "      <td>103567.6</td>\n",
       "      <td>104807.5</td>\n",
       "      <td>28449.0</td>\n",
       "      <td>1203</td>\n",
       "      <td>105641.959004</td>\n",
       "      <td>105590.214023</td>\n",
       "      <td>0.278873</td>\n",
       "      <td>0.314554</td>\n",
       "      <td>288.724630</td>\n",
       "      <td>716.098724</td>\n",
       "      <td>-427.374094</td>\n",
       "    </tr>\n",
       "    <tr>\n",
       "      <th>4274</th>\n",
       "      <td>2025-06-20</td>\n",
       "      <td>XXBTZUSD</td>\n",
       "      <td>104807.5</td>\n",
       "      <td>106470.0</td>\n",
       "      <td>103931.6</td>\n",
       "      <td>106000.1</td>\n",
       "      <td>21113.0</td>\n",
       "      <td>721</td>\n",
       "      <td>105693.122004</td>\n",
       "      <td>105627.476385</td>\n",
       "      <td>0.276439</td>\n",
       "      <td>0.288218</td>\n",
       "      <td>298.177652</td>\n",
       "      <td>632.514510</td>\n",
       "      <td>-334.336858</td>\n",
       "    </tr>\n",
       "    <tr>\n",
       "      <th>4275</th>\n",
       "      <td>2025-06-21</td>\n",
       "      <td>XXBTZUSD</td>\n",
       "      <td>106000.1</td>\n",
       "      <td>106100.1</td>\n",
       "      <td>102388.9</td>\n",
       "      <td>103894.7</td>\n",
       "      <td>28481.0</td>\n",
       "      <td>931</td>\n",
       "      <td>105436.204574</td>\n",
       "      <td>105469.951259</td>\n",
       "      <td>0.305310</td>\n",
       "      <td>0.286874</td>\n",
       "      <td>134.233693</td>\n",
       "      <td>532.858346</td>\n",
       "      <td>-398.624653</td>\n",
       "    </tr>\n",
       "    <tr>\n",
       "      <th>4276</th>\n",
       "      <td>2025-06-22</td>\n",
       "      <td>XXBTZUSD</td>\n",
       "      <td>102260.1</td>\n",
       "      <td>103380.5</td>\n",
       "      <td>100933.5</td>\n",
       "      <td>102720.0</td>\n",
       "      <td>23982.0</td>\n",
       "      <td>1204</td>\n",
       "      <td>105048.175350</td>\n",
       "      <td>105219.955690</td>\n",
       "      <td>0.335717</td>\n",
       "      <td>0.305822</td>\n",
       "      <td>-89.450420</td>\n",
       "      <td>408.396593</td>\n",
       "      <td>-497.847013</td>\n",
       "    </tr>\n",
       "    <tr>\n",
       "      <th>4277</th>\n",
       "      <td>2025-06-23</td>\n",
       "      <td>XXBTZUSD</td>\n",
       "      <td>98900.9</td>\n",
       "      <td>102084.4</td>\n",
       "      <td>98277.2</td>\n",
       "      <td>101361.1</td>\n",
       "      <td>19409.0</td>\n",
       "      <td>815</td>\n",
       "      <td>104521.450300</td>\n",
       "      <td>104869.150627</td>\n",
       "      <td>0.309830</td>\n",
       "      <td>0.316952</td>\n",
       "      <td>-372.084406</td>\n",
       "      <td>252.300393</td>\n",
       "      <td>-624.384799</td>\n",
       "    </tr>\n",
       "    <tr>\n",
       "      <th>4278</th>\n",
       "      <td>2025-06-24</td>\n",
       "      <td>XXBTZUSD</td>\n",
       "      <td>101361.1</td>\n",
       "      <td>106022.4</td>\n",
       "      <td>99700.0</td>\n",
       "      <td>105282.6</td>\n",
       "      <td>53578.0</td>\n",
       "      <td>2975</td>\n",
       "      <td>104630.185971</td>\n",
       "      <td>104906.736934</td>\n",
       "      <td>0.518054</td>\n",
       "      <td>0.387867</td>\n",
       "      <td>-276.454801</td>\n",
       "      <td>146.549354</td>\n",
       "      <td>-423.004156</td>\n",
       "    </tr>\n",
       "    <tr>\n",
       "      <th>4279</th>\n",
       "      <td>2025-06-25</td>\n",
       "      <td>XXBTZUSD</td>\n",
       "      <td>105282.6</td>\n",
       "      <td>105349.6</td>\n",
       "      <td>105053.5</td>\n",
       "      <td>105259.6</td>\n",
       "      <td>950.0</td>\n",
       "      <td>46</td>\n",
       "      <td>104720.102261</td>\n",
       "      <td>104938.815394</td>\n",
       "      <td>0.708014</td>\n",
       "      <td>0.511966</td>\n",
       "      <td>-200.215597</td>\n",
       "      <td>77.196364</td>\n",
       "      <td>-277.411961</td>\n",
       "    </tr>\n",
       "  </tbody>\n",
       "</table>\n",
       "</div>"
      ],
      "text/plain": [
       "           date      pair      open      high       low     close   volume  \\\n",
       "4224 2025-05-01  XXBTZUSD   95194.3   96332.0   92970.5   96209.5  32409.0   \n",
       "4225 2025-05-02  XXBTZUSD   96209.5   97407.8   95900.4   96970.5  32153.0   \n",
       "4226 2025-05-03  XXBTZUSD   96970.5   97885.0   95893.8   95939.9  27565.0   \n",
       "4227 2025-05-04  XXBTZUSD   95939.9   96521.4   95305.6   95440.1  18605.0   \n",
       "4228 2025-05-05  XXBTZUSD   95440.1   95761.3   93570.1   94071.8  25761.0   \n",
       "4229 2025-05-06  XXBTZUSD   94071.9   95173.9   93624.4   93728.2  25079.0   \n",
       "4230 2025-05-07  XXBTZUSD   93728.2   97650.0   93398.5   97011.5  30304.0   \n",
       "4231 2025-05-08  XXBTZUSD   97011.5   99823.4   95824.0   99435.9  39783.0   \n",
       "4232 2025-05-09  XXBTZUSD   99433.1  104319.1   99099.0  102976.7  48656.0   \n",
       "4233 2025-05-10  XXBTZUSD  102976.8  104013.0  102344.7  103430.8  26748.0   \n",
       "4234 2025-05-11  XXBTZUSD  103426.4  104943.7  103023.9  104675.0  24435.0   \n",
       "4235 2025-05-12  XXBTZUSD  104675.0  105728.8  103604.9  103694.1  29094.0   \n",
       "4236 2025-05-13  XXBTZUSD  103694.1  104599.1  100772.6  103699.5  41587.0   \n",
       "4237 2025-05-14  XXBTZUSD  103699.5  104980.0  102880.0  103949.7  31140.0   \n",
       "4238 2025-05-15  XXBTZUSD  103949.8  104280.1  101588.0  102360.0  28746.0   \n",
       "4239 2025-05-16  XXBTZUSD  102360.0  104400.0  101441.6  103674.2  28655.0   \n",
       "4240 2025-05-17  XXBTZUSD  103675.1  104500.0  102690.0  103000.0  22016.0   \n",
       "4241 2025-05-18  XXBTZUSD  103006.7  104062.2  102719.0  103821.1  14930.0   \n",
       "4242 2025-05-19  XXBTZUSD  103821.1  107042.1  102100.0  102982.1  40268.0   \n",
       "4243 2025-05-20  XXBTZUSD  102982.1  106809.5  102157.7  105214.7  29447.0   \n",
       "4244 2025-05-21  XXBTZUSD  105214.7  107995.0  104269.0  106567.2  32033.0   \n",
       "4245 2025-05-22  XXBTZUSD  106567.2  111863.5  106204.6  111005.6  64470.0   \n",
       "4246 2025-05-23  XXBTZUSD  111000.1  111983.2  108889.3  109043.9  37390.0   \n",
       "4247 2025-05-24  XXBTZUSD  109044.0  109952.9  106824.0  109220.1  42135.0   \n",
       "4248 2025-05-25  XXBTZUSD  109220.1  109240.0  106726.3  107287.5  22396.0   \n",
       "4249 2025-05-26  XXBTZUSD  107287.5  110257.5  106672.9  109776.2  23615.0   \n",
       "4250 2025-05-27  XXBTZUSD  109779.0  110352.0  107600.0  109615.1  22900.0   \n",
       "4251 2025-05-28  XXBTZUSD  109615.2  110742.6  108333.3  108916.5  26321.0   \n",
       "4252 2025-05-29  XXBTZUSD  108916.6  109019.8  106805.1  108790.0  27333.0   \n",
       "4253 2025-05-30  XXBTZUSD  108800.0  108802.9  104604.2  105903.5  37555.0   \n",
       "4254 2025-05-31  XXBTZUSD  105903.5  106000.0  103169.0  103525.1  32406.0   \n",
       "4255 2025-06-01  XXBTZUSD  103525.1  104933.2  103525.1  104117.3  18664.0   \n",
       "4256 2025-06-02  XXBTZUSD  104117.3  105910.6  103855.5  104058.0  20671.0   \n",
       "4257 2025-06-03  XXBTZUSD  104058.1  106500.0  103737.7  105315.0  24103.0   \n",
       "4258 2025-06-04  XXBTZUSD  105315.0  106820.0  105127.5  105148.4  22810.0   \n",
       "4259 2025-06-05  XXBTZUSD  105148.4  105587.9  104279.0  104900.0  19479.0   \n",
       "4260 2025-06-06  XXBTZUSD  104900.0  105948.1  100400.0  104000.0  45868.0   \n",
       "4261 2025-06-07  XXBTZUSD  104000.0  105385.3  103642.2  105167.5  25719.0   \n",
       "4262 2025-06-08  XXBTZUSD  105167.6  105929.0  105082.3  105699.9  15441.0   \n",
       "4263 2025-06-09  XXBTZUSD  105700.0  107828.7  105392.3  107738.4  21337.0   \n",
       "4264 2025-06-10  XXBTZUSD  107741.4  110550.0  106935.1  109556.1  37364.0   \n",
       "4265 2025-06-11  XXBTZUSD  109550.6  110373.0  108342.2  109273.0  32865.0   \n",
       "4266 2025-06-12  XXBTZUSD  109273.0  110411.0  106888.0  106931.3  30023.0   \n",
       "4267 2025-06-13  XXBTZUSD  106931.3  108460.0  102812.3  105026.3  47662.0   \n",
       "4268 2025-06-14  XXBTZUSD  105026.4  106172.3  104166.1  105100.0  23862.0   \n",
       "4269 2025-06-15  XXBTZUSD  104720.5  106090.0  104400.0  104955.9   8802.0   \n",
       "4270 2025-06-16  XXBTZUSD  104955.9  105816.1  104955.8  105265.6   6161.0   \n",
       "4271 2025-06-17  XXBTZUSD  108640.5  108924.6  105531.5  105632.4  17986.0   \n",
       "4272 2025-06-18  XXBTZUSD  104717.3  105529.9  104206.1  104850.3  14320.0   \n",
       "4273 2025-06-19  XXBTZUSD  104850.3  105311.6  103567.6  104807.5  28449.0   \n",
       "4274 2025-06-20  XXBTZUSD  104807.5  106470.0  103931.6  106000.1  21113.0   \n",
       "4275 2025-06-21  XXBTZUSD  106000.1  106100.1  102388.9  103894.7  28481.0   \n",
       "4276 2025-06-22  XXBTZUSD  102260.1  103380.5  100933.5  102720.0  23982.0   \n",
       "4277 2025-06-23  XXBTZUSD   98900.9  102084.4   98277.2  101361.1  19409.0   \n",
       "4278 2025-06-24  XXBTZUSD  101361.1  106022.4   99700.0  105282.6  53578.0   \n",
       "4279 2025-06-25  XXBTZUSD  105282.6  105349.6  105053.5  105259.6    950.0   \n",
       "\n",
       "      count         ema_13         ema_21  stochastic_%K  stochastic_%D  \\\n",
       "4224   1596   92386.175399   90371.044909       0.847617       0.822733   \n",
       "4225   1234   93041.078914   90970.995372       0.882749       0.848867   \n",
       "4226   1050   93455.196212   91422.713974       0.823836       0.851401   \n",
       "4227    689   93738.753896   91787.930886       0.669905       0.792164   \n",
       "4228    936   93786.331911   91995.555351       0.443606       0.645782   \n",
       "4229   1136   93778.027352   92153.068501       0.254415       0.455975   \n",
       "4230   1414   94239.952016   92594.744091       0.355346       0.351122   \n",
       "4231   1795   94982.230299   93216.667356       0.593878       0.401213   \n",
       "4232   2539   96124.297399   94103.943051       0.874023       0.607749   \n",
       "4233    952   97168.083485   94951.839137       0.911807       0.793236   \n",
       "4234    705   98240.500130   95835.762852       0.924154       0.903328   \n",
       "4235   1165   99019.585826   96550.157138       0.896653       0.910871   \n",
       "4236   1541   99688.144994   97200.097398       0.821738       0.880848   \n",
       "4237   1173  100296.938566   97813.697635       0.709841       0.809410   \n",
       "4238    901  100591.661628   98226.997850       0.551745       0.694441   \n",
       "4239   1138  101032.024253   98722.198045       0.515590       0.592392   \n",
       "4240    704  101313.163645   99111.089132       0.478378       0.515238   \n",
       "4241    365  101671.440267   99539.271938       0.595776       0.529915   \n",
       "4242   2771  101858.677372   99852.256307       0.492315       0.522156   \n",
       "4243   1713  102338.109176  100339.751189       0.540417       0.542836   \n",
       "4244   1882  102942.265008  100905.882899       0.568856       0.533863   \n",
       "4245   3742  104094.170007  101824.038999       0.781211       0.630161   \n",
       "4246   1915  104801.274292  102480.389999       0.790841       0.713636   \n",
       "4247   1898  105432.535107  103093.090908       0.777837       0.783296   \n",
       "4248    474  105697.530092  103474.400826       0.604223       0.724300   \n",
       "4249    873  106280.197221  104047.291660       0.576049       0.652703   \n",
       "4250    778  106756.611904  104553.456054       0.521140       0.567138   \n",
       "4251   1036  107065.167346  104950.096413       0.574474       0.557221   \n",
       "4252    873  107311.572011  105299.178557       0.541853       0.545822   \n",
       "4253   1477  107110.418867  105354.116870       0.427724       0.514684   \n",
       "4254   1153  106598.230457  105187.842609       0.259632       0.409736   \n",
       "4255    344  106243.811820  105090.520554       0.127966       0.271774   \n",
       "4256    814  105931.552989  104996.655049       0.108058       0.165219   \n",
       "4257    865  105843.473991  105025.595499       0.219355       0.151793   \n",
       "4258    680  105744.177706  105036.759545       0.358335       0.228583   \n",
       "4259    618  105623.580891  105024.326859       0.446781       0.341490   \n",
       "4260   1942  105391.640764  104931.206235       0.506727       0.437281   \n",
       "4261    740  105359.620655  104952.687487       0.573543       0.509017   \n",
       "4262    479  105408.231990  105020.615897       0.709626       0.596632   \n",
       "4263    674  105741.113134  105267.687179       0.851992       0.711720   \n",
       "4264   1382  106286.111258  105657.542890       0.905151       0.822256   \n",
       "4265    927  106712.809649  105986.220809       0.901687       0.886276   \n",
       "4266   1199  106744.022557  106072.137099       0.685128       0.830655   \n",
       "4267   2363  106498.633620  105977.060999       0.479812       0.688875   \n",
       "4268    826  106298.828817  105897.328181       0.306652       0.490531   \n",
       "4269    159  106106.981843  105811.743801       0.287963       0.358142   \n",
       "4270    124  105986.784437  105762.094365       0.300205       0.298273   \n",
       "4271    731  105936.158089  105750.303968       0.355447       0.314538   \n",
       "4272    534  105781.035505  105668.485425       0.309341       0.321664   \n",
       "4273   1203  105641.959004  105590.214023       0.278873       0.314554   \n",
       "4274    721  105693.122004  105627.476385       0.276439       0.288218   \n",
       "4275    931  105436.204574  105469.951259       0.305310       0.286874   \n",
       "4276   1204  105048.175350  105219.955690       0.335717       0.305822   \n",
       "4277    815  104521.450300  104869.150627       0.309830       0.316952   \n",
       "4278   2975  104630.185971  104906.736934       0.518054       0.387867   \n",
       "4279     46  104720.102261  104938.815394       0.708014       0.511966   \n",
       "\n",
       "             macd  macd_signal_line     macd_bar  \n",
       "4224  3151.117114       2370.381022   780.736093  \n",
       "4225  3257.877345       2547.880286   709.997059  \n",
       "4226  3222.181488       2682.740527   539.440961  \n",
       "4227  3117.624545       2769.717330   347.907215  \n",
       "4228  2891.026091       2793.979083    97.047009  \n",
       "4229  2653.135837       2765.810434  -112.674596  \n",
       "4230  2698.435087       2752.335364   -53.900277  \n",
       "4231  2896.573986       2781.183089   115.390897  \n",
       "4232  3301.258605       2885.198192   416.060413  \n",
       "4233  3616.922524       3031.543058   585.379466  \n",
       "4234  3922.271492       3209.688745   712.582747  \n",
       "4235  4038.558330       3375.462662   663.095668  \n",
       "4236  4084.073565       3517.184843   566.888722  \n",
       "4237  4093.150474       3632.377969   460.772505  \n",
       "4238  3926.802748       3691.262925   235.539823  \n",
       "4239  3856.559911       3724.322322   132.237589  \n",
       "4240  3703.794613       3720.216780   -16.422167  \n",
       "4241  3607.399070       3697.653238   -90.254168  \n",
       "4242  3423.836761       3642.889943  -219.053182  \n",
       "4243  3419.101199       3598.132194  -179.030995  \n",
       "4244  3484.318623       3575.369480   -91.050857  \n",
       "4245  3849.767960       3630.249176   219.518784  \n",
       "4246  3935.727776       3691.344896   244.382881  \n",
       "4247  3972.279453       3747.531807   224.747646  \n",
       "4248  3801.481143       3758.321675    43.159469  \n",
       "4249  3822.871856       3771.231711    51.640145  \n",
       "4250  3783.214189       3773.628206     9.585982  \n",
       "4251  3653.301039       3749.562773   -96.261734  \n",
       "4252  3499.793005       3699.608819  -199.815815  \n",
       "4253  3109.377388       3581.562533  -472.185145  \n",
       "4254  2578.331791       3380.916385  -802.584593  \n",
       "4255  2180.128754       3140.758859  -960.630104  \n",
       "4256  1838.571061       2880.321299 -1041.750238  \n",
       "4257  1650.290007       2634.315041  -984.025033  \n",
       "4258  1470.679609       2401.587954  -930.908345  \n",
       "4259  1293.383945       2179.947153  -886.563207  \n",
       "4260  1067.942796       1957.546281  -889.603485  \n",
       "4261   972.278730       1760.492771  -788.214041  \n",
       "4262   928.718807       1594.137978  -665.419171  \n",
       "4263  1046.622357       1484.634854  -438.012497  \n",
       "4264  1272.071322       1442.122148  -170.050826  \n",
       "4265  1411.625111       1436.022740   -24.397629  \n",
       "4266  1318.072950       1412.432782   -94.359832  \n",
       "4267  1077.790512       1345.504328  -267.713816  \n",
       "4268   883.131729       1253.029808  -369.898079  \n",
       "4269   709.061951       1144.236237  -435.174286  \n",
       "4270   589.307430       1033.250476  -443.943045  \n",
       "4271   518.027308        930.205842  -412.178534  \n",
       "4272   393.887870        822.942248  -429.054378  \n",
       "4273   288.724630        716.098724  -427.374094  \n",
       "4274   298.177652        632.514510  -334.336858  \n",
       "4275   134.233693        532.858346  -398.624653  \n",
       "4276   -89.450420        408.396593  -497.847013  \n",
       "4277  -372.084406        252.300393  -624.384799  \n",
       "4278  -276.454801        146.549354  -423.004156  \n",
       "4279  -200.215597         77.196364  -277.411961  "
      ]
     },
     "execution_count": 8,
     "metadata": {},
     "output_type": "execute_result"
    }
   ],
   "source": [
    "df[df['date'] >= '2025-05-01']"
   ]
  },
  {
   "cell_type": "markdown",
   "id": "430c1ea2",
   "metadata": {},
   "source": [
    "## Technical Analysis"
   ]
  },
  {
   "cell_type": "code",
   "execution_count": 9,
   "id": "7fa9d976",
   "metadata": {},
   "outputs": [],
   "source": [
    "# Technical Analysis\n",
    "# EMA\n",
    "df['ema_13'] = df['close'].ewm(span=13, adjust=False).mean()\n",
    "df['ema_21'] = df['close'].ewm(span=21, adjust=False).mean()\n",
    "\n",
    "# Stochastic\n",
    "window = 14 # default setting\n",
    "perc_k_length = 5\n",
    "perc_k_smoothing = 3\n",
    "perc_d_length = 3\n",
    "\n",
    "lowest_low = df['low'].rolling(window).min()\n",
    "highest_high = df['high'].rolling(window).max()\n",
    "df[\"stochastic_%K\"] = ((df['close'] -lowest_low) / (highest_high -lowest_low)).rolling(perc_k_smoothing).mean() \n",
    "df[\"stochastic_%D\"] =  df[\"stochastic_%K\"].rolling(perc_d_length).mean()\n",
    "\n",
    "# MACD\n",
    "ema_12 = df['close'].ewm(span=12, adjust=False).mean()\n",
    "ema_26 = df['close'].ewm(span=26, adjust=False).mean()\n",
    "\n",
    "macd = ema_12 - ema_26\n",
    "macd_signal_line = macd.ewm(span=9, adjust=False).mean()\n",
    "macd_bar = macd - macd_signal_line\n",
    "\n",
    "df['macd'] = macd\n",
    "df['macd_signal_line'] = macd_signal_line\n",
    "df['macd_bar'] = macd_bar"
   ]
  },
  {
   "cell_type": "markdown",
   "id": "371c19d0",
   "metadata": {},
   "source": [
    "# LLM"
   ]
  },
  {
   "cell_type": "code",
   "execution_count": 6,
   "id": "c70e5812",
   "metadata": {},
   "outputs": [
    {
     "name": "stderr",
     "output_type": "stream",
     "text": [
      "2025-06-27 17:20:03,226 - INFO - Data read from gold.ohlc_ta_weekly successfully.\n"
     ]
    }
   ],
   "source": [
    "from src.utils.timescaledb_ops import TimescaleDBOps\n",
    "import pandas as pd\n",
    "tsdb_ops = TimescaleDBOps()\n",
    "columns, data = tsdb_ops.read_data(\"gold.ohlc_ta_weekly\")\n",
    "df = pd.DataFrame(data=data, columns=columns)\n",
    "df = df.sort_values(\"date\").reset_index(drop=True)\n",
    "df[\"date\"] = pd.to_datetime(df[\"date\"])"
   ]
  },
  {
   "cell_type": "code",
   "execution_count": null,
   "id": "8dc8b816",
   "metadata": {},
   "outputs": [
    {
     "data": {
      "application/vnd.plotly.v1+json": {
       "config": {
        "plotlyServerURL": "https://plot.ly"
       },
       "data": [
        {
         "close": {
          "bdata": "zczMzLyF5UAAAAAA8ObkQJqZmZkZXORAAAAAACC95ECamZmZqQTlQAAAAADQp+dAAAAAAEBR6UAAAAAAMDfpQGZmZmYWMe5AMzMzMyME8UDNzMzMTFPwQGZmZmZG4+9AAAAAAAAw8UAAAAAAkPDwQGZmZma2V+9AAAAAAJDf70DNzMzMDP3uQDMzMzNTKe9AzczMzIza7UBmZmZmXnDwQGZmZmae3PBAAAAAAMil8ECamZmZQe/wQM3MzMyEOPBAzczMzKxj70DNzMzMLP7tQJqZmZkZC+xAZmZmZmZa7UAAAAAA8FTwQJqZmZlpkfBAZmZmZma57UAAAAAAoKLtQDMzMzPDS+1AmpmZmXky70AzMzMz02nsQAAAAADwoupAzczMzExO7UCamZmZCa/uQJqZmZlBCvBAMzMzM4NS7kAzMzMzY4vuQGZmZmbOs/BAAAAAAPBe8EBmZmZmTq7wQJqZmZkJg/NAAAAAAKAm9kCamZmZicb3QJqZmZlJt/dAzczMzFRa+EAzMzMz+w35QAAAAACwsPdAmpmZmakt90CamZmZCdT3QJqZmZlpAPdAZmZmZtZs+UBmZmZmHpb5QGZmZmaGIfhAmpmZmTGX90BmZmZm5r33QDMzMzMrePdAmpmZmUEE9UAAAAAAgMD0QAAAAACYHvRAMzMzMzOr9ECamZmZSUj0QDMzMzOzNvRAMzMzM+ud9EBmZmZmDor0QM3MzMxs8fZAmpmZmQFN90AAAAAAMI75QJqZmZnRWPlAAAAAAHgx+kDNzMzMVGv5QGZmZmY+zvlAZmZmZr6f+UAAAAAAABT5QJqZmZm5svlA",
          "dtype": "f8"
         },
         "decreasing": {
          "line": {
           "color": "red"
          }
         },
         "high": {
          "bdata": "zczMzCxr5kAAAAAAAO3nQJqZmZkJRuVAAAAAAADm5EBmZmZmJmrlQAAAAADAuedAAAAAAGDN6UCamZmZ+d/pQJqZmZn5Qe9AAAAAAAAX8UAAAAAAYADyQM3MzMwk0vBAZmZmZi6E8UDNzMzMrGjxQAAAAAC4wfFAMzMzMytV8EAAAAAAAGjwQJqZmZlJnO9AAAAAAID770AAAAAAAJnwQGZmZmaGjfFAAAAAAIA88UAAAAAAwI3xQAAAAADoH/FAAAAAADBs8EAAAAAAMG/vQM3MzMzcJu9AZmZmZkZ77UBmZmZmzoHwQM3MzMxk8fBAAAAAABAW8UAAAAAAgJ3uQM3MzMysKe5AzczMzNy270BmZmZm1sXvQAAAAACgL+1AzczMzCye7UAAAAAA4ErvQM3MzMxMOfBAAAAAAHAg8ECamZmZaXTvQM3MzMxE1/BAzczMzHz08EBmZmZmbvbxQAAAAAAAiPNAAAAAALDP9kAAAAAAIFT4QAAAAAAAJPhAAAAAAPhk+UAAAAAA4BX5QJqZmZmZcPpAzczMzNxe+EAAAAAAgCT4QM3MzMx0FvlAAAAAALDZ+UAAAAAAgKP6QGZmZmbm+vlAAAAAAEAG+UAAAAAAoCD4QJqZmZmRSfhAAAAAADCO90AAAAAAgDH3QDMzMzPr0fRAZmZmZp5Y9UAAAAAA4Kr1QDMzMzMrvfVAZmZmZl4B9UAAAAAAEBj1QDMzMzPbZfdAAAAAANDl90AzMzMz+575QM3MzMwM0PlAMzMzM/NW+0CamZmZaQn7QAAAAABAFPpAAAAAAKDm+UAAAAAASD35QGZmZmZm4vlA",
          "dtype": "f8"
         },
         "increasing": {
          "line": {
           "color": "green"
          }
         },
         "low": {
          "bdata": "AAAAAKBJ40AAAAAAgEDkQAAAAAAAiONAAAAAAMDO4kBmZmZmZlbkQJqZmZkZn+RAAAAAAEBD50AAAAAAAKPoQAAAAADA4OhAAAAAAMDh7EAAAAAAYIXvQGZmZmZGre1AAAAAAECT70BmZmZmpoPvQAAAAADgie1AAAAAAEAi7UAzMzMzk3fuQAAAAABAh+tAZmZmZoZn7UBmZmZmpqztQAAAAAAgGPBAZmZmZsZF8EAAAAAAMG3wQAAAAABgxu9AMzMzM/Ps7kAAAAAAAIrsQJqZmZlpJ+pAmpmZmamD6kCamZmZ+RHtQAAAAABw+O5AAAAAAFA27UAAAAAA4PrnQGZmZma2ZutAmpmZmZlA7EAAAAAAYDPsQAAAAAAgq+lAMzMzM5Mw6kBmZmZmFhLsQDMzMzMTfe5AAAAAAEA57UAAAAAAAMHsQM3MzMy8Se5AAAAAAODV70AAAAAA8F7wQAAAAABAUfBAAAAAALAt80CamZmZian1QAAAAAAAJ/ZAAAAAAIBp9kBmZmZmzvv2QAAAAADwf/ZAAAAAABCQ9kCamZmZiUf2QAAAAAAIQvZAzczMzNy69UAAAAAAwEr4QDMzMzOL2fdAAAAAAIA39kAAAAAA8Pn2QDMzMzPLzPZAAAAAALAY80AAAAAAqOHzQDMzMzN7tPJAAAAAAODQ80AAAAAAcO/zQDMzMzOb0fNAmpmZmZEq8kAAAAAAGEX0QJqZmZnRiPRAAAAAAECu9kAAAAAAaM32QJqZmZlJmvhAAAAAAEDt+EAAAAAAEDD5QAAAAAAAg/hAAAAAAAB9+UAAAAAAWKT4QDMzMzNT/vdA",
          "dtype": "f8"
         },
         "name": "Price",
         "open": {
          "bdata": "ZmZmZtbA5EAAAAAAcIXlQAAAAABg5+RAzczMzBxc5EAAAAAAIL3kQM3MzMysBOVAMzMzM9On50DNzMzMPFHpQAAAAAAwN+lAMzMzMzMx7kDNzMzMJATxQDMzMzNLU/BAmpmZmUnj70CamZmZATDxQDMzMzOT8PBAmpmZmela70AAAAAAkN/vQM3MzMwM/e5AAAAAAFAp70BmZmZmNtjtQM3MzMxccPBAAAAAAKDc8ECamZmZyaXwQDMzMzND7/BAzczMzIQ48EDNzMzMrGPvQM3MzMws/u1AzczMzBwL7EAAAAAAAFvtQJqZmZnxVPBAmpmZmWmR8ECamZmZabntQAAAAACgou1AMzMzM8NL7UCamZmZeTLvQDMzMzPTaexAmpmZmSmj6kDNzMzMTE7tQJqZmZkJr+5AmpmZmUEK8EAAAAAAgFLuQDMzMzNji+5AAAAAANCz8ECamZmZ8V7wQAAAAABQrvBAmpmZmQmD80AAAAAAoCb2QDMzMzOLxvdAAAAAAEi390DNzMzMVFr4QDMzMzP7DflAAAAAALCw90CamZmZqS33QJqZmZkJ1PdAmpmZmWkA90DNzMzM1Gz5QGZmZmYelvlAZmZmZoYh+ECamZmZMZf3QGZmZmbmvfdAzczMzCx490CamZmZQQT1QAAAAACAwPRAAAAAAJge9EAzMzMzM6v0QJqZmZlJSPRAMzMzM7M29EAzMzMz6530QGZmZmYOivRAmpmZmSHx9kCamZmZAU33QAAAAAAwjvlAmpmZmdFY+UAAAAAAeDH6QM3MzMxUa/lAAAAAAAiR+UCamZmZQff4QAAAAAAAFPlA",
          "dtype": "f8"
         },
         "type": "candlestick",
         "x": [
          "2024-01-01T00:00:00",
          "2024-01-08T00:00:00",
          "2024-01-15T00:00:00",
          "2024-01-22T00:00:00",
          "2024-01-29T00:00:00",
          "2024-02-05T00:00:00",
          "2024-02-12T00:00:00",
          "2024-02-19T00:00:00",
          "2024-02-26T00:00:00",
          "2024-03-04T00:00:00",
          "2024-03-11T00:00:00",
          "2024-03-18T00:00:00",
          "2024-03-25T00:00:00",
          "2024-04-01T00:00:00",
          "2024-04-08T00:00:00",
          "2024-04-15T00:00:00",
          "2024-04-22T00:00:00",
          "2024-04-29T00:00:00",
          "2024-05-06T00:00:00",
          "2024-05-13T00:00:00",
          "2024-05-20T00:00:00",
          "2024-05-27T00:00:00",
          "2024-06-03T00:00:00",
          "2024-06-10T00:00:00",
          "2024-06-17T00:00:00",
          "2024-06-24T00:00:00",
          "2024-07-01T00:00:00",
          "2024-07-08T00:00:00",
          "2024-07-15T00:00:00",
          "2024-07-22T00:00:00",
          "2024-07-29T00:00:00",
          "2024-08-05T00:00:00",
          "2024-08-12T00:00:00",
          "2024-08-19T00:00:00",
          "2024-08-26T00:00:00",
          "2024-09-02T00:00:00",
          "2024-09-09T00:00:00",
          "2024-09-16T00:00:00",
          "2024-09-23T00:00:00",
          "2024-09-30T00:00:00",
          "2024-10-07T00:00:00",
          "2024-10-14T00:00:00",
          "2024-10-21T00:00:00",
          "2024-10-28T00:00:00",
          "2024-11-04T00:00:00",
          "2024-11-11T00:00:00",
          "2024-11-18T00:00:00",
          "2024-11-25T00:00:00",
          "2024-12-02T00:00:00",
          "2024-12-09T00:00:00",
          "2024-12-16T00:00:00",
          "2024-12-23T00:00:00",
          "2024-12-30T00:00:00",
          "2025-01-06T00:00:00",
          "2025-01-13T00:00:00",
          "2025-01-20T00:00:00",
          "2025-01-27T00:00:00",
          "2025-02-03T00:00:00",
          "2025-02-10T00:00:00",
          "2025-02-17T00:00:00",
          "2025-02-24T00:00:00",
          "2025-03-03T00:00:00",
          "2025-03-10T00:00:00",
          "2025-03-17T00:00:00",
          "2025-03-24T00:00:00",
          "2025-03-31T00:00:00",
          "2025-04-07T00:00:00",
          "2025-04-14T00:00:00",
          "2025-04-21T00:00:00",
          "2025-04-28T00:00:00",
          "2025-05-05T00:00:00",
          "2025-05-12T00:00:00",
          "2025-05-19T00:00:00",
          "2025-05-26T00:00:00",
          "2025-06-02T00:00:00",
          "2025-06-09T00:00:00",
          "2025-06-16T00:00:00",
          "2025-06-23T00:00:00"
         ],
         "xaxis": "x",
         "yaxis": "y"
        },
        {
         "marker": {
          "color": "orange"
         },
         "name": "Volume",
         "type": "bar",
         "x": [
          "2024-01-01T00:00:00",
          "2024-01-08T00:00:00",
          "2024-01-15T00:00:00",
          "2024-01-22T00:00:00",
          "2024-01-29T00:00:00",
          "2024-02-05T00:00:00",
          "2024-02-12T00:00:00",
          "2024-02-19T00:00:00",
          "2024-02-26T00:00:00",
          "2024-03-04T00:00:00",
          "2024-03-11T00:00:00",
          "2024-03-18T00:00:00",
          "2024-03-25T00:00:00",
          "2024-04-01T00:00:00",
          "2024-04-08T00:00:00",
          "2024-04-15T00:00:00",
          "2024-04-22T00:00:00",
          "2024-04-29T00:00:00",
          "2024-05-06T00:00:00",
          "2024-05-13T00:00:00",
          "2024-05-20T00:00:00",
          "2024-05-27T00:00:00",
          "2024-06-03T00:00:00",
          "2024-06-10T00:00:00",
          "2024-06-17T00:00:00",
          "2024-06-24T00:00:00",
          "2024-07-01T00:00:00",
          "2024-07-08T00:00:00",
          "2024-07-15T00:00:00",
          "2024-07-22T00:00:00",
          "2024-07-29T00:00:00",
          "2024-08-05T00:00:00",
          "2024-08-12T00:00:00",
          "2024-08-19T00:00:00",
          "2024-08-26T00:00:00",
          "2024-09-02T00:00:00",
          "2024-09-09T00:00:00",
          "2024-09-16T00:00:00",
          "2024-09-23T00:00:00",
          "2024-09-30T00:00:00",
          "2024-10-07T00:00:00",
          "2024-10-14T00:00:00",
          "2024-10-21T00:00:00",
          "2024-10-28T00:00:00",
          "2024-11-04T00:00:00",
          "2024-11-11T00:00:00",
          "2024-11-18T00:00:00",
          "2024-11-25T00:00:00",
          "2024-12-02T00:00:00",
          "2024-12-09T00:00:00",
          "2024-12-16T00:00:00",
          "2024-12-23T00:00:00",
          "2024-12-30T00:00:00",
          "2025-01-06T00:00:00",
          "2025-01-13T00:00:00",
          "2025-01-20T00:00:00",
          "2025-01-27T00:00:00",
          "2025-02-03T00:00:00",
          "2025-02-10T00:00:00",
          "2025-02-17T00:00:00",
          "2025-02-24T00:00:00",
          "2025-03-03T00:00:00",
          "2025-03-10T00:00:00",
          "2025-03-17T00:00:00",
          "2025-03-24T00:00:00",
          "2025-03-31T00:00:00",
          "2025-04-07T00:00:00",
          "2025-04-14T00:00:00",
          "2025-04-21T00:00:00",
          "2025-04-28T00:00:00",
          "2025-05-05T00:00:00",
          "2025-05-12T00:00:00",
          "2025-05-19T00:00:00",
          "2025-05-26T00:00:00",
          "2025-06-02T00:00:00",
          "2025-06-09T00:00:00",
          "2025-06-16T00:00:00",
          "2025-06-23T00:00:00"
         ],
         "xaxis": "x2",
         "y": {
          "bdata": "AAAAAPDgC0EAAAAAUCcWQQAAAAAYLgNBAAAAAMiyA0EAAAAACAAAQQAAAADo/gRBAAAAALA8CkEAAAAAKJIDQQAAAADsOhVBAAAAACSaGEEAAAAAwOkWQQAAAADMUxJBAAAAAHhsCkEAAAAAOIULQQAAAADk+BBBAAAAAOjzDkEAAAAAyLkEQQAAAAC4GAxBAAAAAAATBEEAAAAASHUGQQAAAACo2AdBAAAAAJhyAUEAAAAAWPACQQAAAACoTQNBAAAAALhwAEEAAAAAiFMDQQAAAABIOwlBAAAAADgSBUEAAAAAkOIJQQAAAABQNQtBAAAAAAiTDEEAAAAABAoWQQAAAABgFgdBAAAAADAfBkEAAAAAKOAFQQAAAADguApBAAAAABicBEEAAAAAiFkJQQAAAAAIOQdBAAAAAEjpBUEAAAAAgJcIQQAAAACASw1BAAAAALgdDUEAAAAAgFQQQQAAAAB0BBFBAAAAAJh2G0EAAAAA1OEWQQAAAAA0mxFBAAAAAJSSF0EAAAAAwCkTQQAAAAAkpxdBAAAAAJBPDUEAAAAAwDcLQQAAAADsgRFBAAAAAEh0FEEAAAAAqPEWQQAAAAAICBBBAAAAAEyBEUEAAAAAmPEDQQAAAADoZgVBAAAAAMzgFkEAAAAAiPkVQQAAAAAgjRBBAAAAAAArBEEAAAAAQFoGQQAAAADwwQ9BAAAAABi4GUEAAAAASMQGQQAAAACQBQ5BAAAAAICXB0EAAAAA8PIKQQAAAABA8gdBAAAAAKxdEEEAAAAA0AsHQQAAAABYQAVBAAAAAAAxwUAAAAAAgGvXQAAAAABAk/hA",
          "dtype": "f8"
         },
         "yaxis": "y2"
        },
        {
         "line": {
          "width": 1.5
         },
         "mode": "lines",
         "name": "EMA 13",
         "type": "scatter",
         "x": [
          "2024-01-01T00:00:00",
          "2024-01-08T00:00:00",
          "2024-01-15T00:00:00",
          "2024-01-22T00:00:00",
          "2024-01-29T00:00:00",
          "2024-02-05T00:00:00",
          "2024-02-12T00:00:00",
          "2024-02-19T00:00:00",
          "2024-02-26T00:00:00",
          "2024-03-04T00:00:00",
          "2024-03-11T00:00:00",
          "2024-03-18T00:00:00",
          "2024-03-25T00:00:00",
          "2024-04-01T00:00:00",
          "2024-04-08T00:00:00",
          "2024-04-15T00:00:00",
          "2024-04-22T00:00:00",
          "2024-04-29T00:00:00",
          "2024-05-06T00:00:00",
          "2024-05-13T00:00:00",
          "2024-05-20T00:00:00",
          "2024-05-27T00:00:00",
          "2024-06-03T00:00:00",
          "2024-06-10T00:00:00",
          "2024-06-17T00:00:00",
          "2024-06-24T00:00:00",
          "2024-07-01T00:00:00",
          "2024-07-08T00:00:00",
          "2024-07-15T00:00:00",
          "2024-07-22T00:00:00",
          "2024-07-29T00:00:00",
          "2024-08-05T00:00:00",
          "2024-08-12T00:00:00",
          "2024-08-19T00:00:00",
          "2024-08-26T00:00:00",
          "2024-09-02T00:00:00",
          "2024-09-09T00:00:00",
          "2024-09-16T00:00:00",
          "2024-09-23T00:00:00",
          "2024-09-30T00:00:00",
          "2024-10-07T00:00:00",
          "2024-10-14T00:00:00",
          "2024-10-21T00:00:00",
          "2024-10-28T00:00:00",
          "2024-11-04T00:00:00",
          "2024-11-11T00:00:00",
          "2024-11-18T00:00:00",
          "2024-11-25T00:00:00",
          "2024-12-02T00:00:00",
          "2024-12-09T00:00:00",
          "2024-12-16T00:00:00",
          "2024-12-23T00:00:00",
          "2024-12-30T00:00:00",
          "2025-01-06T00:00:00",
          "2025-01-13T00:00:00",
          "2025-01-20T00:00:00",
          "2025-01-27T00:00:00",
          "2025-02-03T00:00:00",
          "2025-02-10T00:00:00",
          "2025-02-17T00:00:00",
          "2025-02-24T00:00:00",
          "2025-03-03T00:00:00",
          "2025-03-10T00:00:00",
          "2025-03-17T00:00:00",
          "2025-03-24T00:00:00",
          "2025-03-31T00:00:00",
          "2025-04-07T00:00:00",
          "2025-04-14T00:00:00",
          "2025-04-21T00:00:00",
          "2025-04-28T00:00:00",
          "2025-05-05T00:00:00",
          "2025-05-12T00:00:00",
          "2025-05-19T00:00:00",
          "2025-05-26T00:00:00",
          "2025-06-02T00:00:00",
          "2025-06-09T00:00:00",
          "2025-06-16T00:00:00",
          "2025-06-23T00:00:00"
         ],
         "xaxis": "x",
         "y": {
          "bdata": "ivq7kLrg4kB3ROoywirjQHwHcfhgVuNA/Srz1KCJ40BdX+anxr/jQHW/V2ujTuRA0hECXN4F5UC16koqM5/lQIVFKsWc2OZApiXFALVx6EBbf+Oo1Z3pQMt7iOgug+pA09crfrqi60AjAgEjEofsQC1+DwgF7uxAcP56K6tZ7UB+QKuLlJXtQHT1UBFCz+1AyziHB9/Q7UCnu7Uj2kDuQPZ0lKnDv+5Arj9/2uAc70DmPSvnroHvQCWUX27go+9AYuXce7Sa70AEK/+rxV/vQPWDpzv25e5AmDae+HOt7kCDnIewFfbuQJzWDXqeRe9AcH0aLgQN70BhIvICP9nuQBK3jXd2oO5AS47YV1K17kAkOFPAZGHuQNad2aR42O1AZ1v8hbvE7UBKZDdkNObtQCIUyYH2Ne5At2Ehmwo67kClf0iMqUXuQM/TNgM6uO5A/JBTJy0C70Cs4mQaPVjvQBd300WJOPBAgkG18mcR8UCqcvrltQbyQDp4o//K1vJAKjtg+HCg80CZXn5u8mb0QF/jkBUy3/RA1tj/TIwz9UBg9F4znpP1QESe+UG7x/VA27otRwhN9kDv934CMMX2QCXjVjXz9vZAyCHOjNcN90ADBy0+/ib3QFMNd/OWMvdAFI+g5tPi9kCkekDqx5T2QPof7hHBOvZATEeKzawB9kChd4yhnsL1QElJpEgPivVAjyGURVNo9UDTBmmTkkj1QGW1UglEhfVAJB/vHV/G9UBEP1+HoVD2QL5wHtODv/ZAo2CsIoI990A7uR6EMo33QGatlu2h3/dAZuzY/qUf+EAOpidIjkL4QP4RgcEmd/hA",
          "dtype": "f8"
         },
         "yaxis": "y"
        },
        {
         "line": {
          "width": 1.5
         },
         "mode": "lines",
         "name": "EMA 21",
         "type": "scatter",
         "x": [
          "2024-01-01T00:00:00",
          "2024-01-08T00:00:00",
          "2024-01-15T00:00:00",
          "2024-01-22T00:00:00",
          "2024-01-29T00:00:00",
          "2024-02-05T00:00:00",
          "2024-02-12T00:00:00",
          "2024-02-19T00:00:00",
          "2024-02-26T00:00:00",
          "2024-03-04T00:00:00",
          "2024-03-11T00:00:00",
          "2024-03-18T00:00:00",
          "2024-03-25T00:00:00",
          "2024-04-01T00:00:00",
          "2024-04-08T00:00:00",
          "2024-04-15T00:00:00",
          "2024-04-22T00:00:00",
          "2024-04-29T00:00:00",
          "2024-05-06T00:00:00",
          "2024-05-13T00:00:00",
          "2024-05-20T00:00:00",
          "2024-05-27T00:00:00",
          "2024-06-03T00:00:00",
          "2024-06-10T00:00:00",
          "2024-06-17T00:00:00",
          "2024-06-24T00:00:00",
          "2024-07-01T00:00:00",
          "2024-07-08T00:00:00",
          "2024-07-15T00:00:00",
          "2024-07-22T00:00:00",
          "2024-07-29T00:00:00",
          "2024-08-05T00:00:00",
          "2024-08-12T00:00:00",
          "2024-08-19T00:00:00",
          "2024-08-26T00:00:00",
          "2024-09-02T00:00:00",
          "2024-09-09T00:00:00",
          "2024-09-16T00:00:00",
          "2024-09-23T00:00:00",
          "2024-09-30T00:00:00",
          "2024-10-07T00:00:00",
          "2024-10-14T00:00:00",
          "2024-10-21T00:00:00",
          "2024-10-28T00:00:00",
          "2024-11-04T00:00:00",
          "2024-11-11T00:00:00",
          "2024-11-18T00:00:00",
          "2024-11-25T00:00:00",
          "2024-12-02T00:00:00",
          "2024-12-09T00:00:00",
          "2024-12-16T00:00:00",
          "2024-12-23T00:00:00",
          "2024-12-30T00:00:00",
          "2025-01-06T00:00:00",
          "2025-01-13T00:00:00",
          "2025-01-20T00:00:00",
          "2025-01-27T00:00:00",
          "2025-02-03T00:00:00",
          "2025-02-10T00:00:00",
          "2025-02-17T00:00:00",
          "2025-02-24T00:00:00",
          "2025-03-03T00:00:00",
          "2025-03-10T00:00:00",
          "2025-03-17T00:00:00",
          "2025-03-24T00:00:00",
          "2025-03-31T00:00:00",
          "2025-04-07T00:00:00",
          "2025-04-14T00:00:00",
          "2025-04-21T00:00:00",
          "2025-04-28T00:00:00",
          "2025-05-05T00:00:00",
          "2025-05-12T00:00:00",
          "2025-05-19T00:00:00",
          "2025-05-26T00:00:00",
          "2025-06-02T00:00:00",
          "2025-06-09T00:00:00",
          "2025-06-16T00:00:00",
          "2025-06-23T00:00:00"
         ],
         "xaxis": "x",
         "y": {
          "bdata": "yo1PqYiT4UDPI44l7+DhQG3RGjCtGuJAY76Mcf1X4kA5dbyjO5biQEtTq9oxDONALB0Q3hue40Aopg6EYyDkQOjO0FKiCuVAfyLHDvc45kCwoU6+qCvnQO4nxYeI9udAwfWbNdno6ED1DaXTmbnpQLr+KptWPOpAYy2EXoq/6kAmU7kiOSLrQFat26/1f+tAYWo3m72260BTcxYU7C7sQKQ14STcr+xAfRlBChsb7UAZM7T29YntQDyCmmKDze1AphSf4G/y7UA1a10NgfPtQJspeo4ax+1A3BdhuTi97UA9RFjuRwHuQIGI4AsmSu5A87PsWf087kAj0mLd9C7uQPba0nBNGu5A1hqf0cUz7kAkek8gJAruQPIRjtfwuu1ABoB8eRCx7UCfmVAfJ8jtQGftTduj/e1ASyLXEVsF7kBI9bBaihHuQD19s/AuX+5A8c4uT1aW7kAcQ5pa6NbuQAe21pxgle9AeDvt0q5e8EAeoeWHCAvxQBIssENUpvFAaCMnUFRC8kCpauLBeuDyQPZg/Jh/UPNAp5StJGyq80ACOH3pSwv0QPidxRAgUPRAvN5fXhnH9EAoSKaNAjf1QNDtcf7fevVAEIl1r/6r9UDphegFK9z1QHvbHWefAfZAfdUR4Jbq9UDOquGFfc/1QOomzdYiqPVAZZyQUySR9UANP9f8PnP1QLMmDhl4VvVAM5xuG7FF9UBm9MpQojT1QBIIbtARXfVAHlvmnCeK9UBhgS69nOf1QMM9ONG4N/ZA932njz6U9kB/+QfbV9b2QE6mbdBsG/dAUOYP3v9V90BJdA6Ei373QMXUA4bVsfdA",
          "dtype": "f8"
         },
         "yaxis": "y"
        },
        {
         "line": {
          "width": 1.5
         },
         "mode": "lines",
         "name": "Stochastic",
         "type": "scatter",
         "x": [
          "2024-01-01T00:00:00",
          "2024-01-08T00:00:00",
          "2024-01-15T00:00:00",
          "2024-01-22T00:00:00",
          "2024-01-29T00:00:00",
          "2024-02-05T00:00:00",
          "2024-02-12T00:00:00",
          "2024-02-19T00:00:00",
          "2024-02-26T00:00:00",
          "2024-03-04T00:00:00",
          "2024-03-11T00:00:00",
          "2024-03-18T00:00:00",
          "2024-03-25T00:00:00",
          "2024-04-01T00:00:00",
          "2024-04-08T00:00:00",
          "2024-04-15T00:00:00",
          "2024-04-22T00:00:00",
          "2024-04-29T00:00:00",
          "2024-05-06T00:00:00",
          "2024-05-13T00:00:00",
          "2024-05-20T00:00:00",
          "2024-05-27T00:00:00",
          "2024-06-03T00:00:00",
          "2024-06-10T00:00:00",
          "2024-06-17T00:00:00",
          "2024-06-24T00:00:00",
          "2024-07-01T00:00:00",
          "2024-07-08T00:00:00",
          "2024-07-15T00:00:00",
          "2024-07-22T00:00:00",
          "2024-07-29T00:00:00",
          "2024-08-05T00:00:00",
          "2024-08-12T00:00:00",
          "2024-08-19T00:00:00",
          "2024-08-26T00:00:00",
          "2024-09-02T00:00:00",
          "2024-09-09T00:00:00",
          "2024-09-16T00:00:00",
          "2024-09-23T00:00:00",
          "2024-09-30T00:00:00",
          "2024-10-07T00:00:00",
          "2024-10-14T00:00:00",
          "2024-10-21T00:00:00",
          "2024-10-28T00:00:00",
          "2024-11-04T00:00:00",
          "2024-11-11T00:00:00",
          "2024-11-18T00:00:00",
          "2024-11-25T00:00:00",
          "2024-12-02T00:00:00",
          "2024-12-09T00:00:00",
          "2024-12-16T00:00:00",
          "2024-12-23T00:00:00",
          "2024-12-30T00:00:00",
          "2025-01-06T00:00:00",
          "2025-01-13T00:00:00",
          "2025-01-20T00:00:00",
          "2025-01-27T00:00:00",
          "2025-02-03T00:00:00",
          "2025-02-10T00:00:00",
          "2025-02-17T00:00:00",
          "2025-02-24T00:00:00",
          "2025-03-03T00:00:00",
          "2025-03-10T00:00:00",
          "2025-03-17T00:00:00",
          "2025-03-24T00:00:00",
          "2025-03-31T00:00:00",
          "2025-04-07T00:00:00",
          "2025-04-14T00:00:00",
          "2025-04-21T00:00:00",
          "2025-04-28T00:00:00",
          "2025-05-05T00:00:00",
          "2025-05-12T00:00:00",
          "2025-05-19T00:00:00",
          "2025-05-26T00:00:00",
          "2025-06-02T00:00:00",
          "2025-06-09T00:00:00",
          "2025-06-16T00:00:00",
          "2025-06-23T00:00:00"
         ],
         "xaxis": "x3",
         "y": {
          "bdata": "vMaI87fW6D87Hz2izhvjP+iVoLbLsds/ij3nUB1o1D/H4JHF5THWPz3SV/EyvOI/FKkcnEKj6D/BC0OuxLPtP9kHj7loOe0/wQL0iQTZ7T803JoPSgnsP+lG1PQzN+k/Rdf2R03F5z9zate5fGXnP3eKOkyGkeM/3RfD2gsW3j8Wix0JBVHVP5sv8Ia2Edk/g1Nkkfge1j8eGU5XVgfiP6kuMAKH5eU/BNpOzYbo6j8XcXW5mjDpPzdDWL7I5uU/NRHwPs/u3T9o1M5rBPTRP+cP87DbLcc/5izT44On0T+e9XZhgJbgP9i2zhEb+Oc/kNT129SA6D++eUhF0EzkPy1nZEEvO+A/lCi8L+gI4z/XTsoojcHhP0MjKmBjqN8/ydAaIH1D3T/JPJfmecHiP3kR+cI+Nek/7PlAkrIs6j+/STFMadXoPwDHMg2g4ug/Jde3Y/XP6T+BK5QSTz7pP5UfzMfduuk/GyfsUWw66z+5QqBe+FbuP48ixZpqkO0/NLyBTUhC7T+h49o8kmDtPxVeBIXODeg/1xI1T/Ap4T94L3XUORrWP0Rm6I5E19A/p7m6cRZ53D8FpooTR6XiP/ChyiBW9+U/XZKeuwak4T+Mxtp9y0PbP8yhpFmL39Y//BFS8tm81D/JHw9Vs/PRP3C+RGN3UNE/FgYX6zHe0j+hRLjqCdnTP6P9FZjrnNU/M65IRda93D8w2NAwo/zhP9QxcmUOJOg/WbsFvkth6j+rJMyhMd7tP1dGPlIi5u0/dMECOII27T+3ktE4/OjoPwkkF6k5M+Y/agsQJ5iG4T8T6Znfz8jaP1uH2XcGndg/",
          "dtype": "f8"
         },
         "yaxis": "y3"
        },
        {
         "line": {
          "width": 1.5
         },
         "mode": "lines",
         "name": "Stochastic",
         "type": "scatter",
         "x": [
          "2024-01-01T00:00:00",
          "2024-01-08T00:00:00",
          "2024-01-15T00:00:00",
          "2024-01-22T00:00:00",
          "2024-01-29T00:00:00",
          "2024-02-05T00:00:00",
          "2024-02-12T00:00:00",
          "2024-02-19T00:00:00",
          "2024-02-26T00:00:00",
          "2024-03-04T00:00:00",
          "2024-03-11T00:00:00",
          "2024-03-18T00:00:00",
          "2024-03-25T00:00:00",
          "2024-04-01T00:00:00",
          "2024-04-08T00:00:00",
          "2024-04-15T00:00:00",
          "2024-04-22T00:00:00",
          "2024-04-29T00:00:00",
          "2024-05-06T00:00:00",
          "2024-05-13T00:00:00",
          "2024-05-20T00:00:00",
          "2024-05-27T00:00:00",
          "2024-06-03T00:00:00",
          "2024-06-10T00:00:00",
          "2024-06-17T00:00:00",
          "2024-06-24T00:00:00",
          "2024-07-01T00:00:00",
          "2024-07-08T00:00:00",
          "2024-07-15T00:00:00",
          "2024-07-22T00:00:00",
          "2024-07-29T00:00:00",
          "2024-08-05T00:00:00",
          "2024-08-12T00:00:00",
          "2024-08-19T00:00:00",
          "2024-08-26T00:00:00",
          "2024-09-02T00:00:00",
          "2024-09-09T00:00:00",
          "2024-09-16T00:00:00",
          "2024-09-23T00:00:00",
          "2024-09-30T00:00:00",
          "2024-10-07T00:00:00",
          "2024-10-14T00:00:00",
          "2024-10-21T00:00:00",
          "2024-10-28T00:00:00",
          "2024-11-04T00:00:00",
          "2024-11-11T00:00:00",
          "2024-11-18T00:00:00",
          "2024-11-25T00:00:00",
          "2024-12-02T00:00:00",
          "2024-12-09T00:00:00",
          "2024-12-16T00:00:00",
          "2024-12-23T00:00:00",
          "2024-12-30T00:00:00",
          "2025-01-06T00:00:00",
          "2025-01-13T00:00:00",
          "2025-01-20T00:00:00",
          "2025-01-27T00:00:00",
          "2025-02-03T00:00:00",
          "2025-02-10T00:00:00",
          "2025-02-17T00:00:00",
          "2025-02-24T00:00:00",
          "2025-03-03T00:00:00",
          "2025-03-10T00:00:00",
          "2025-03-17T00:00:00",
          "2025-03-24T00:00:00",
          "2025-03-31T00:00:00",
          "2025-04-07T00:00:00",
          "2025-04-14T00:00:00",
          "2025-04-21T00:00:00",
          "2025-04-28T00:00:00",
          "2025-05-05T00:00:00",
          "2025-05-12T00:00:00",
          "2025-05-19T00:00:00",
          "2025-05-26T00:00:00",
          "2025-06-02T00:00:00",
          "2025-06-09T00:00:00",
          "2025-06-16T00:00:00",
          "2025-06-23T00:00:00"
         ],
         "xaxis": "x3",
         "y": {
          "bdata": "A2JDonWD6T8hsW8Nk/HmP/m6XNDOQ+M/TVurbtfF3D+95l1Emm7XP5nrYqjNsNo/PHkU0CIo4j+w1+cTvlvoPzuUTwHQ2us/dAdC+2WX7T9ForQbPQntP0u3y4Qrs+s/d1N3GZms6T832OD8qSDoPxBEWG/FPuY/8yrR+wJW4z+hkhzUCS7eP4WbRc6Xfdk/aK/QtebV1j90PFBCyb/bPy57ZYvI/uA/mWBEYiFH5j9B06YtOKroPxzaXmyjqug/o+nBB5mv5D+vzs+3IZDePzHPEoFA09M/g1sScPl2zz9dNb5/e87UP6NruiEfduA/AytpGtCv5T9jrFlmlezmP9SRi8tGWOQ/KwMjkqKF4j8zSk4zjKzhP68tia03iuE/Spj5In8S4D9FkugMzmfgP+M8370niOM/EBibviNh5z9jHHngyGfpPzmu4aM+TOk/9/ez6VQt6T/j7dQrTFDpP79gXb9gmOk/ECbEDjMR6j8kgx0oFsTrP8wuGxlFC+0/1LX3bI647T9367VhbGbtP/ipdVo4kOs/hHGxBRuI5z/jAnw/SWzhPyTplwB1bNg/dxoIR9x41j+ozpJi+IjbP5nhEM9iSOI/cfP7T+Fq4z/ch8czFr/hPwgvlG8hedw/c9NFQxCg1z8x8QGLXYXUPxNQN44Bq9I/x/Z4NnQL0j9kWLG9O63SP8vCoSQNHNQ/KFCyQplm1z8TdFVqrcbcP7V1oj001eI/y0EYHP/V5j9JW8FB2cvqP3W3Wjs1t+w/0w6vDvKo7T+BMwZB4AHsP73SowjocOk/D5b9ApqL5T+qtqbqvbThPxgtMTcC0dw/",
          "dtype": "f8"
         },
         "yaxis": "y3"
        },
        {
         "line": {
          "width": 1.5
         },
         "mode": "lines",
         "name": "MACD Line",
         "type": "scatter",
         "x": [
          "2024-01-01T00:00:00",
          "2024-01-08T00:00:00",
          "2024-01-15T00:00:00",
          "2024-01-22T00:00:00",
          "2024-01-29T00:00:00",
          "2024-02-05T00:00:00",
          "2024-02-12T00:00:00",
          "2024-02-19T00:00:00",
          "2024-02-26T00:00:00",
          "2024-03-04T00:00:00",
          "2024-03-11T00:00:00",
          "2024-03-18T00:00:00",
          "2024-03-25T00:00:00",
          "2024-04-01T00:00:00",
          "2024-04-08T00:00:00",
          "2024-04-15T00:00:00",
          "2024-04-22T00:00:00",
          "2024-04-29T00:00:00",
          "2024-05-06T00:00:00",
          "2024-05-13T00:00:00",
          "2024-05-20T00:00:00",
          "2024-05-27T00:00:00",
          "2024-06-03T00:00:00",
          "2024-06-10T00:00:00",
          "2024-06-17T00:00:00",
          "2024-06-24T00:00:00",
          "2024-07-01T00:00:00",
          "2024-07-08T00:00:00",
          "2024-07-15T00:00:00",
          "2024-07-22T00:00:00",
          "2024-07-29T00:00:00",
          "2024-08-05T00:00:00",
          "2024-08-12T00:00:00",
          "2024-08-19T00:00:00",
          "2024-08-26T00:00:00",
          "2024-09-02T00:00:00",
          "2024-09-09T00:00:00",
          "2024-09-16T00:00:00",
          "2024-09-23T00:00:00",
          "2024-09-30T00:00:00",
          "2024-10-07T00:00:00",
          "2024-10-14T00:00:00",
          "2024-10-21T00:00:00",
          "2024-10-28T00:00:00",
          "2024-11-04T00:00:00",
          "2024-11-11T00:00:00",
          "2024-11-18T00:00:00",
          "2024-11-25T00:00:00",
          "2024-12-02T00:00:00",
          "2024-12-09T00:00:00",
          "2024-12-16T00:00:00",
          "2024-12-23T00:00:00",
          "2024-12-30T00:00:00",
          "2025-01-06T00:00:00",
          "2025-01-13T00:00:00",
          "2025-01-20T00:00:00",
          "2025-01-27T00:00:00",
          "2025-02-03T00:00:00",
          "2025-02-10T00:00:00",
          "2025-02-17T00:00:00",
          "2025-02-24T00:00:00",
          "2025-03-03T00:00:00",
          "2025-03-10T00:00:00",
          "2025-03-17T00:00:00",
          "2025-03-24T00:00:00",
          "2025-03-31T00:00:00",
          "2025-04-07T00:00:00",
          "2025-04-14T00:00:00",
          "2025-04-21T00:00:00",
          "2025-04-28T00:00:00",
          "2025-05-05T00:00:00",
          "2025-05-12T00:00:00",
          "2025-05-19T00:00:00",
          "2025-05-26T00:00:00",
          "2025-06-02T00:00:00",
          "2025-06-09T00:00:00",
          "2025-06-16T00:00:00",
          "2025-06-23T00:00:00"
         ],
         "xaxis": "x4",
         "y": {
          "bdata": "SGOPmkzJsECIggfmJ7SwQJiPx61BGrBAYN3BdT5hr0Awv/DberuuQHhDCwTXnrBA+HHtFG55skD4C98Ru6azQHA1kn5vhrdAYPFHTjq+vEAIkR0gOp+/QDgJrBrfg8BATNd3AxeswUDMZEsBITjCQMT5t0R5ocFA+G1g/lkjwUAMWjgXQ0bAQJDYJqli775AYE3TYs57vEBAj3l+FSu8QJhJp+PTI7xAoCCAPw6Gu0DAfGOf7Re7QIBpQdNdiblAuGTuybNat0CI9/+NuHy0QBAUM7plw7BAgGfgcSL7rEDA0PNckFCtQLCpWT1Z2K1AIOmVPt2QqUDwKqOq7M6lQEAZIBXHLqJA0OPvr8SPoUAg25IBuaSaQAB6tNMJUo5AwAOulg6ciUDArmiGW6mMQGC5T9l27ZJAIKVooYLTkUAAV5oYyVORQMAkI1NSCphAQISqBVRVm0AgomWpRS+fQPBGTLZnJqhA4NeWg3ioskAAGa2SQa25QEBlwuWezr5AeIL27uqkwUCIL6Cvf6XDQDDbFMXdHsRAkNBebKPvw0DYoujmpvrDQBjG7qjwQcNAoB1XXPsExEC4Hp+Xu33EQKivSfLGssNAgBj62wSCwkAorJmL9HXBQFh7/kh+RMBAsA1os/wpu0DgamvM+k62QNBb56lhcbFAgLoSVR9ErEAAZ5V6dMWlQID1tWxiQqBAACM2g8uRmUBAJDB9AnCTQEAuYkIgr5pA4IcjfCPxoEDge8t6HlOpQCAajolTEq9AsDOdXbCwskBgWtUs8vWzQCAtLpTKOLVAwGCjYXi8tUCwJCvB3DG1QFBocLkFUrVA",
          "dtype": "f8"
         },
         "yaxis": "y4"
        },
        {
         "line": {
          "width": 1.5
         },
         "mode": "lines",
         "name": "MACD Signal Line",
         "type": "scatter",
         "x": [
          "2024-01-01T00:00:00",
          "2024-01-08T00:00:00",
          "2024-01-15T00:00:00",
          "2024-01-22T00:00:00",
          "2024-01-29T00:00:00",
          "2024-02-05T00:00:00",
          "2024-02-12T00:00:00",
          "2024-02-19T00:00:00",
          "2024-02-26T00:00:00",
          "2024-03-04T00:00:00",
          "2024-03-11T00:00:00",
          "2024-03-18T00:00:00",
          "2024-03-25T00:00:00",
          "2024-04-01T00:00:00",
          "2024-04-08T00:00:00",
          "2024-04-15T00:00:00",
          "2024-04-22T00:00:00",
          "2024-04-29T00:00:00",
          "2024-05-06T00:00:00",
          "2024-05-13T00:00:00",
          "2024-05-20T00:00:00",
          "2024-05-27T00:00:00",
          "2024-06-03T00:00:00",
          "2024-06-10T00:00:00",
          "2024-06-17T00:00:00",
          "2024-06-24T00:00:00",
          "2024-07-01T00:00:00",
          "2024-07-08T00:00:00",
          "2024-07-15T00:00:00",
          "2024-07-22T00:00:00",
          "2024-07-29T00:00:00",
          "2024-08-05T00:00:00",
          "2024-08-12T00:00:00",
          "2024-08-19T00:00:00",
          "2024-08-26T00:00:00",
          "2024-09-02T00:00:00",
          "2024-09-09T00:00:00",
          "2024-09-16T00:00:00",
          "2024-09-23T00:00:00",
          "2024-09-30T00:00:00",
          "2024-10-07T00:00:00",
          "2024-10-14T00:00:00",
          "2024-10-21T00:00:00",
          "2024-10-28T00:00:00",
          "2024-11-04T00:00:00",
          "2024-11-11T00:00:00",
          "2024-11-18T00:00:00",
          "2024-11-25T00:00:00",
          "2024-12-02T00:00:00",
          "2024-12-09T00:00:00",
          "2024-12-16T00:00:00",
          "2024-12-23T00:00:00",
          "2024-12-30T00:00:00",
          "2025-01-06T00:00:00",
          "2025-01-13T00:00:00",
          "2025-01-20T00:00:00",
          "2025-01-27T00:00:00",
          "2025-02-03T00:00:00",
          "2025-02-10T00:00:00",
          "2025-02-17T00:00:00",
          "2025-02-24T00:00:00",
          "2025-03-03T00:00:00",
          "2025-03-10T00:00:00",
          "2025-03-17T00:00:00",
          "2025-03-24T00:00:00",
          "2025-03-31T00:00:00",
          "2025-04-07T00:00:00",
          "2025-04-14T00:00:00",
          "2025-04-21T00:00:00",
          "2025-04-28T00:00:00",
          "2025-05-05T00:00:00",
          "2025-05-12T00:00:00",
          "2025-05-19T00:00:00",
          "2025-05-26T00:00:00",
          "2025-06-02T00:00:00",
          "2025-06-09T00:00:00",
          "2025-06-16T00:00:00",
          "2025-06-23T00:00:00"
         ],
         "xaxis": "x4",
         "y": {
          "bdata": "8l8obLBwqUCSGvAYnQirQBm13L9kEaxA9IkKsfa6rEDOx2uGdyGtQAjujdPo861ANx9qfhlar0B7qPAClniwQOD3EILB4bFAYMPoqtkNtEC2H8AoIF62QEJQq5EMgLhA7S/sdUarukDdgUHFeJ+8QAD/fexd871AMCtYidXQvkAs4Cl3kim/QNoR9k3vHb9Aj+q76xuXvkAZpa6iGhu+QJpf4OJytr1ANoYzwl5GvUC46gmIrta8QOHQ4WOeLbxAc+59q6I2u0BE8JelQN65QKAq6twUDLhAdCy4VccitkBwuKsa4aO0QOyKRWgjf7NAQNN5pmUnskDlxnHJNbSwQEhDiUbkXK5A/fzQjnfNq0BO4DW/C+ioQPIf9EnwcKVA8swYKfRuokAYE5nnBy6gQDrdBJ5XrJ1AnGuynsZNm0Cwmq1Q+k6ZQLQcxeoLDplAajEm8LOCmUD1R5l7N6WaQL4imXjv+Z5Acpd5/o/ao0D1T3M5WieqQG9nuxF3n7BA8Ib4oCNbtECRGDr6tSS4QLvRNkrqXLtANvuEM2PdvUCCcMe4K+K/QNKHfzjbmsBA/Njdcq5JwUBVTdETse3BQDOUHA1PSMJAqa4V0NlTwkDCR2PCeCfCQEaFtUPgxsFAY9JOexnwwEBlzMaH9I+/QBTpZlsKvbxAHs1tnj7RuUDMlDO+vdS2QDCpbgkI5LNAs6KBNOowsUCMobqTEHOtQHcfn0ldOqpAwJq5U+teqED6+olbwo+oQGk08ZcS3alAaAsz0rsqrEDhxhe6kISuQC7yRZuVc7BAGNWLXCmCsUA3GBLX5j6yQKOOvmpT3LJA",
          "dtype": "f8"
         },
         "yaxis": "y4"
        },
        {
         "marker": {
          "color": [
           "green",
           "green",
           "green",
           "green",
           "green",
           "green",
           "green",
           "green",
           "green",
           "green",
           "green",
           "green",
           "green",
           "green",
           "green",
           "green",
           "green",
           "red",
           "red",
           "red",
           "red",
           "red",
           "red",
           "red",
           "red",
           "red",
           "red",
           "red",
           "red",
           "red",
           "red",
           "red",
           "red",
           "red",
           "red",
           "red",
           "red",
           "red",
           "red",
           "red",
           "red",
           "red",
           "green",
           "green",
           "green",
           "green",
           "green",
           "green",
           "green",
           "green",
           "green",
           "green",
           "green",
           "green",
           "green",
           "green",
           "green",
           "green",
           "red",
           "red",
           "red",
           "red",
           "red",
           "red",
           "red",
           "red",
           "red",
           "red",
           "red",
           "red",
           "green",
           "green",
           "green",
           "green",
           "green",
           "green",
           "green",
           "green"
          ]
         },
         "name": "MACD Bar",
         "type": "bar",
         "x": [
          "2024-01-01T00:00:00",
          "2024-01-08T00:00:00",
          "2024-01-15T00:00:00",
          "2024-01-22T00:00:00",
          "2024-01-29T00:00:00",
          "2024-02-05T00:00:00",
          "2024-02-12T00:00:00",
          "2024-02-19T00:00:00",
          "2024-02-26T00:00:00",
          "2024-03-04T00:00:00",
          "2024-03-11T00:00:00",
          "2024-03-18T00:00:00",
          "2024-03-25T00:00:00",
          "2024-04-01T00:00:00",
          "2024-04-08T00:00:00",
          "2024-04-15T00:00:00",
          "2024-04-22T00:00:00",
          "2024-04-29T00:00:00",
          "2024-05-06T00:00:00",
          "2024-05-13T00:00:00",
          "2024-05-20T00:00:00",
          "2024-05-27T00:00:00",
          "2024-06-03T00:00:00",
          "2024-06-10T00:00:00",
          "2024-06-17T00:00:00",
          "2024-06-24T00:00:00",
          "2024-07-01T00:00:00",
          "2024-07-08T00:00:00",
          "2024-07-15T00:00:00",
          "2024-07-22T00:00:00",
          "2024-07-29T00:00:00",
          "2024-08-05T00:00:00",
          "2024-08-12T00:00:00",
          "2024-08-19T00:00:00",
          "2024-08-26T00:00:00",
          "2024-09-02T00:00:00",
          "2024-09-09T00:00:00",
          "2024-09-16T00:00:00",
          "2024-09-23T00:00:00",
          "2024-09-30T00:00:00",
          "2024-10-07T00:00:00",
          "2024-10-14T00:00:00",
          "2024-10-21T00:00:00",
          "2024-10-28T00:00:00",
          "2024-11-04T00:00:00",
          "2024-11-11T00:00:00",
          "2024-11-18T00:00:00",
          "2024-11-25T00:00:00",
          "2024-12-02T00:00:00",
          "2024-12-09T00:00:00",
          "2024-12-16T00:00:00",
          "2024-12-23T00:00:00",
          "2024-12-30T00:00:00",
          "2025-01-06T00:00:00",
          "2025-01-13T00:00:00",
          "2025-01-20T00:00:00",
          "2025-01-27T00:00:00",
          "2025-02-03T00:00:00",
          "2025-02-10T00:00:00",
          "2025-02-17T00:00:00",
          "2025-02-24T00:00:00",
          "2025-03-03T00:00:00",
          "2025-03-10T00:00:00",
          "2025-03-17T00:00:00",
          "2025-03-24T00:00:00",
          "2025-03-31T00:00:00",
          "2025-04-07T00:00:00",
          "2025-04-14T00:00:00",
          "2025-04-21T00:00:00",
          "2025-04-28T00:00:00",
          "2025-05-05T00:00:00",
          "2025-05-12T00:00:00",
          "2025-05-19T00:00:00",
          "2025-05-26T00:00:00",
          "2025-06-02T00:00:00",
          "2025-06-09T00:00:00",
          "2025-06-16T00:00:00",
          "2025-06-23T00:00:00"
         ],
         "xaxis": "x4",
         "y": {
          "bdata": "PM3skdFDkED4qXvMyn6JQFyoyW56jIBAYJu6JT4ydUAgdk9YNaBpQEDHRKQpTnpA5BLDrQpjhkDoG3N3KHGJQED2BPK3kpZAAFy+RsFgoUCk4rruM4KiQFyEWUdjD6FAVv0GIs9ZoUDsHlX1JEOfQCDSx3NSPpVAAIZFm/Oui0DAPm10Oy92QAClnGdSRkfAeOlER2zagMCQXVFDUgB/wCBgkfPvKXnAYFk2KwgFfMCA32aKDux7wAg7A4UEIoXA2E18DHffjsDw4l9eIIaVwEBa3Iq8Ip3A0OIfc9iUnsBAQMewY+6XwFDYYibbS5LAwHq7HNx7lcC0xYDQ/TKXwBBU0mI6XJjAWjLCvWV7lMB85dh8XiuXwOQCDqrbuJvABJjaBuEPmMDQzv0LYgeSwLRHaonBfYXA+IyT+of0gsDADk3gxOx/wEB/H3qZO1DAYC1FWAEqXUCsaDG3OChyQCJr//PfUpFAThi0CGF2oUAL4ubrKDOpQKL7DahPXqxAAPzoeWTdrUD+jAzKkkyuQErJ5X+iwalA1EtxSscDpEBcqhMqRCagQDDyeYOrOJVAICXKS2falUAYi24eVICUQFC30VJ+p4ZAgOs08oUVV0BAczPZhjB2wOCecKsfJojAWFzWDNnYmsAKw7Z284GiwIga/2JRl6bAvN/I511ep8CYwtEBB+SnwOBcJ6athafA5jNop+6YpcBsjyJVD7ujwK4Q3FCaxZnAgEtYXh+3jcDAHDDog2tYQNyWc8YD1YRA8LcO0kltkkC+2yU/p86SQMjroOPTFJNAoC5eFDzpkEDIY8hQr5eHQGjNjnWSrYNA",
          "dtype": "f8"
         },
         "yaxis": "y4"
        }
       ],
       "layout": {
        "annotations": [
         {
          "font": {
           "size": 16
          },
          "showarrow": false,
          "text": "OHLC BTC (USD)",
          "x": 0.5,
          "xanchor": "center",
          "xref": "paper",
          "y": 1,
          "yanchor": "bottom",
          "yref": "paper"
         },
         {
          "font": {
           "size": 16
          },
          "showarrow": false,
          "text": "Volume",
          "x": 0.5,
          "xanchor": "center",
          "xref": "paper",
          "y": 0.4159999999999999,
          "yanchor": "bottom",
          "yref": "paper"
         },
         {
          "font": {
           "size": 16
          },
          "showarrow": false,
          "text": "Stochastic(5, 3, 4)",
          "x": 0.5,
          "xanchor": "center",
          "xref": "paper",
          "y": 0.30199999999999994,
          "yanchor": "bottom",
          "yref": "paper"
         },
         {
          "font": {
           "size": 16
          },
          "showarrow": false,
          "text": "MACD(12, 26, 9)",
          "x": 0.5,
          "xanchor": "center",
          "xref": "paper",
          "y": 0.141,
          "yanchor": "bottom",
          "yref": "paper"
         }
        ],
        "height": 1000,
        "margin": {
         "b": 40,
         "l": 50,
         "r": 25,
         "t": 50
        },
        "template": {
         "data": {
          "bar": [
           {
            "error_x": {
             "color": "#f2f5fa"
            },
            "error_y": {
             "color": "#f2f5fa"
            },
            "marker": {
             "line": {
              "color": "rgb(17,17,17)",
              "width": 0.5
             },
             "pattern": {
              "fillmode": "overlay",
              "size": 10,
              "solidity": 0.2
             }
            },
            "type": "bar"
           }
          ],
          "barpolar": [
           {
            "marker": {
             "line": {
              "color": "rgb(17,17,17)",
              "width": 0.5
             },
             "pattern": {
              "fillmode": "overlay",
              "size": 10,
              "solidity": 0.2
             }
            },
            "type": "barpolar"
           }
          ],
          "carpet": [
           {
            "aaxis": {
             "endlinecolor": "#A2B1C6",
             "gridcolor": "#506784",
             "linecolor": "#506784",
             "minorgridcolor": "#506784",
             "startlinecolor": "#A2B1C6"
            },
            "baxis": {
             "endlinecolor": "#A2B1C6",
             "gridcolor": "#506784",
             "linecolor": "#506784",
             "minorgridcolor": "#506784",
             "startlinecolor": "#A2B1C6"
            },
            "type": "carpet"
           }
          ],
          "choropleth": [
           {
            "colorbar": {
             "outlinewidth": 0,
             "ticks": ""
            },
            "type": "choropleth"
           }
          ],
          "contour": [
           {
            "colorbar": {
             "outlinewidth": 0,
             "ticks": ""
            },
            "colorscale": [
             [
              0,
              "#0d0887"
             ],
             [
              0.1111111111111111,
              "#46039f"
             ],
             [
              0.2222222222222222,
              "#7201a8"
             ],
             [
              0.3333333333333333,
              "#9c179e"
             ],
             [
              0.4444444444444444,
              "#bd3786"
             ],
             [
              0.5555555555555556,
              "#d8576b"
             ],
             [
              0.6666666666666666,
              "#ed7953"
             ],
             [
              0.7777777777777778,
              "#fb9f3a"
             ],
             [
              0.8888888888888888,
              "#fdca26"
             ],
             [
              1,
              "#f0f921"
             ]
            ],
            "type": "contour"
           }
          ],
          "contourcarpet": [
           {
            "colorbar": {
             "outlinewidth": 0,
             "ticks": ""
            },
            "type": "contourcarpet"
           }
          ],
          "heatmap": [
           {
            "colorbar": {
             "outlinewidth": 0,
             "ticks": ""
            },
            "colorscale": [
             [
              0,
              "#0d0887"
             ],
             [
              0.1111111111111111,
              "#46039f"
             ],
             [
              0.2222222222222222,
              "#7201a8"
             ],
             [
              0.3333333333333333,
              "#9c179e"
             ],
             [
              0.4444444444444444,
              "#bd3786"
             ],
             [
              0.5555555555555556,
              "#d8576b"
             ],
             [
              0.6666666666666666,
              "#ed7953"
             ],
             [
              0.7777777777777778,
              "#fb9f3a"
             ],
             [
              0.8888888888888888,
              "#fdca26"
             ],
             [
              1,
              "#f0f921"
             ]
            ],
            "type": "heatmap"
           }
          ],
          "histogram": [
           {
            "marker": {
             "pattern": {
              "fillmode": "overlay",
              "size": 10,
              "solidity": 0.2
             }
            },
            "type": "histogram"
           }
          ],
          "histogram2d": [
           {
            "colorbar": {
             "outlinewidth": 0,
             "ticks": ""
            },
            "colorscale": [
             [
              0,
              "#0d0887"
             ],
             [
              0.1111111111111111,
              "#46039f"
             ],
             [
              0.2222222222222222,
              "#7201a8"
             ],
             [
              0.3333333333333333,
              "#9c179e"
             ],
             [
              0.4444444444444444,
              "#bd3786"
             ],
             [
              0.5555555555555556,
              "#d8576b"
             ],
             [
              0.6666666666666666,
              "#ed7953"
             ],
             [
              0.7777777777777778,
              "#fb9f3a"
             ],
             [
              0.8888888888888888,
              "#fdca26"
             ],
             [
              1,
              "#f0f921"
             ]
            ],
            "type": "histogram2d"
           }
          ],
          "histogram2dcontour": [
           {
            "colorbar": {
             "outlinewidth": 0,
             "ticks": ""
            },
            "colorscale": [
             [
              0,
              "#0d0887"
             ],
             [
              0.1111111111111111,
              "#46039f"
             ],
             [
              0.2222222222222222,
              "#7201a8"
             ],
             [
              0.3333333333333333,
              "#9c179e"
             ],
             [
              0.4444444444444444,
              "#bd3786"
             ],
             [
              0.5555555555555556,
              "#d8576b"
             ],
             [
              0.6666666666666666,
              "#ed7953"
             ],
             [
              0.7777777777777778,
              "#fb9f3a"
             ],
             [
              0.8888888888888888,
              "#fdca26"
             ],
             [
              1,
              "#f0f921"
             ]
            ],
            "type": "histogram2dcontour"
           }
          ],
          "mesh3d": [
           {
            "colorbar": {
             "outlinewidth": 0,
             "ticks": ""
            },
            "type": "mesh3d"
           }
          ],
          "parcoords": [
           {
            "line": {
             "colorbar": {
              "outlinewidth": 0,
              "ticks": ""
             }
            },
            "type": "parcoords"
           }
          ],
          "pie": [
           {
            "automargin": true,
            "type": "pie"
           }
          ],
          "scatter": [
           {
            "marker": {
             "line": {
              "color": "#283442"
             }
            },
            "type": "scatter"
           }
          ],
          "scatter3d": [
           {
            "line": {
             "colorbar": {
              "outlinewidth": 0,
              "ticks": ""
             }
            },
            "marker": {
             "colorbar": {
              "outlinewidth": 0,
              "ticks": ""
             }
            },
            "type": "scatter3d"
           }
          ],
          "scattercarpet": [
           {
            "marker": {
             "colorbar": {
              "outlinewidth": 0,
              "ticks": ""
             }
            },
            "type": "scattercarpet"
           }
          ],
          "scattergeo": [
           {
            "marker": {
             "colorbar": {
              "outlinewidth": 0,
              "ticks": ""
             }
            },
            "type": "scattergeo"
           }
          ],
          "scattergl": [
           {
            "marker": {
             "line": {
              "color": "#283442"
             }
            },
            "type": "scattergl"
           }
          ],
          "scattermap": [
           {
            "marker": {
             "colorbar": {
              "outlinewidth": 0,
              "ticks": ""
             }
            },
            "type": "scattermap"
           }
          ],
          "scattermapbox": [
           {
            "marker": {
             "colorbar": {
              "outlinewidth": 0,
              "ticks": ""
             }
            },
            "type": "scattermapbox"
           }
          ],
          "scatterpolar": [
           {
            "marker": {
             "colorbar": {
              "outlinewidth": 0,
              "ticks": ""
             }
            },
            "type": "scatterpolar"
           }
          ],
          "scatterpolargl": [
           {
            "marker": {
             "colorbar": {
              "outlinewidth": 0,
              "ticks": ""
             }
            },
            "type": "scatterpolargl"
           }
          ],
          "scatterternary": [
           {
            "marker": {
             "colorbar": {
              "outlinewidth": 0,
              "ticks": ""
             }
            },
            "type": "scatterternary"
           }
          ],
          "surface": [
           {
            "colorbar": {
             "outlinewidth": 0,
             "ticks": ""
            },
            "colorscale": [
             [
              0,
              "#0d0887"
             ],
             [
              0.1111111111111111,
              "#46039f"
             ],
             [
              0.2222222222222222,
              "#7201a8"
             ],
             [
              0.3333333333333333,
              "#9c179e"
             ],
             [
              0.4444444444444444,
              "#bd3786"
             ],
             [
              0.5555555555555556,
              "#d8576b"
             ],
             [
              0.6666666666666666,
              "#ed7953"
             ],
             [
              0.7777777777777778,
              "#fb9f3a"
             ],
             [
              0.8888888888888888,
              "#fdca26"
             ],
             [
              1,
              "#f0f921"
             ]
            ],
            "type": "surface"
           }
          ],
          "table": [
           {
            "cells": {
             "fill": {
              "color": "#506784"
             },
             "line": {
              "color": "rgb(17,17,17)"
             }
            },
            "header": {
             "fill": {
              "color": "#2a3f5f"
             },
             "line": {
              "color": "rgb(17,17,17)"
             }
            },
            "type": "table"
           }
          ]
         },
         "layout": {
          "annotationdefaults": {
           "arrowcolor": "#f2f5fa",
           "arrowhead": 0,
           "arrowwidth": 1
          },
          "autotypenumbers": "strict",
          "coloraxis": {
           "colorbar": {
            "outlinewidth": 0,
            "ticks": ""
           }
          },
          "colorscale": {
           "diverging": [
            [
             0,
             "#8e0152"
            ],
            [
             0.1,
             "#c51b7d"
            ],
            [
             0.2,
             "#de77ae"
            ],
            [
             0.3,
             "#f1b6da"
            ],
            [
             0.4,
             "#fde0ef"
            ],
            [
             0.5,
             "#f7f7f7"
            ],
            [
             0.6,
             "#e6f5d0"
            ],
            [
             0.7,
             "#b8e186"
            ],
            [
             0.8,
             "#7fbc41"
            ],
            [
             0.9,
             "#4d9221"
            ],
            [
             1,
             "#276419"
            ]
           ],
           "sequential": [
            [
             0,
             "#0d0887"
            ],
            [
             0.1111111111111111,
             "#46039f"
            ],
            [
             0.2222222222222222,
             "#7201a8"
            ],
            [
             0.3333333333333333,
             "#9c179e"
            ],
            [
             0.4444444444444444,
             "#bd3786"
            ],
            [
             0.5555555555555556,
             "#d8576b"
            ],
            [
             0.6666666666666666,
             "#ed7953"
            ],
            [
             0.7777777777777778,
             "#fb9f3a"
            ],
            [
             0.8888888888888888,
             "#fdca26"
            ],
            [
             1,
             "#f0f921"
            ]
           ],
           "sequentialminus": [
            [
             0,
             "#0d0887"
            ],
            [
             0.1111111111111111,
             "#46039f"
            ],
            [
             0.2222222222222222,
             "#7201a8"
            ],
            [
             0.3333333333333333,
             "#9c179e"
            ],
            [
             0.4444444444444444,
             "#bd3786"
            ],
            [
             0.5555555555555556,
             "#d8576b"
            ],
            [
             0.6666666666666666,
             "#ed7953"
            ],
            [
             0.7777777777777778,
             "#fb9f3a"
            ],
            [
             0.8888888888888888,
             "#fdca26"
            ],
            [
             1,
             "#f0f921"
            ]
           ]
          },
          "colorway": [
           "#636efa",
           "#EF553B",
           "#00cc96",
           "#ab63fa",
           "#FFA15A",
           "#19d3f3",
           "#FF6692",
           "#B6E880",
           "#FF97FF",
           "#FECB52"
          ],
          "font": {
           "color": "#f2f5fa"
          },
          "geo": {
           "bgcolor": "rgb(17,17,17)",
           "lakecolor": "rgb(17,17,17)",
           "landcolor": "rgb(17,17,17)",
           "showlakes": true,
           "showland": true,
           "subunitcolor": "#506784"
          },
          "hoverlabel": {
           "align": "left"
          },
          "hovermode": "closest",
          "mapbox": {
           "style": "dark"
          },
          "paper_bgcolor": "rgb(17,17,17)",
          "plot_bgcolor": "rgb(17,17,17)",
          "polar": {
           "angularaxis": {
            "gridcolor": "#506784",
            "linecolor": "#506784",
            "ticks": ""
           },
           "bgcolor": "rgb(17,17,17)",
           "radialaxis": {
            "gridcolor": "#506784",
            "linecolor": "#506784",
            "ticks": ""
           }
          },
          "scene": {
           "xaxis": {
            "backgroundcolor": "rgb(17,17,17)",
            "gridcolor": "#506784",
            "gridwidth": 2,
            "linecolor": "#506784",
            "showbackground": true,
            "ticks": "",
            "zerolinecolor": "#C8D4E3"
           },
           "yaxis": {
            "backgroundcolor": "rgb(17,17,17)",
            "gridcolor": "#506784",
            "gridwidth": 2,
            "linecolor": "#506784",
            "showbackground": true,
            "ticks": "",
            "zerolinecolor": "#C8D4E3"
           },
           "zaxis": {
            "backgroundcolor": "rgb(17,17,17)",
            "gridcolor": "#506784",
            "gridwidth": 2,
            "linecolor": "#506784",
            "showbackground": true,
            "ticks": "",
            "zerolinecolor": "#C8D4E3"
           }
          },
          "shapedefaults": {
           "line": {
            "color": "#f2f5fa"
           }
          },
          "sliderdefaults": {
           "bgcolor": "#C8D4E3",
           "bordercolor": "rgb(17,17,17)",
           "borderwidth": 1,
           "tickwidth": 0
          },
          "ternary": {
           "aaxis": {
            "gridcolor": "#506784",
            "linecolor": "#506784",
            "ticks": ""
           },
           "baxis": {
            "gridcolor": "#506784",
            "linecolor": "#506784",
            "ticks": ""
           },
           "bgcolor": "rgb(17,17,17)",
           "caxis": {
            "gridcolor": "#506784",
            "linecolor": "#506784",
            "ticks": ""
           }
          },
          "title": {
           "x": 0.05
          },
          "updatemenudefaults": {
           "bgcolor": "#506784",
           "borderwidth": 0
          },
          "xaxis": {
           "automargin": true,
           "gridcolor": "#283442",
           "linecolor": "#506784",
           "ticks": "",
           "title": {
            "standoff": 15
           },
           "zerolinecolor": "#283442",
           "zerolinewidth": 2
          },
          "yaxis": {
           "automargin": true,
           "gridcolor": "#283442",
           "linecolor": "#506784",
           "ticks": "",
           "title": {
            "standoff": 15
           },
           "zerolinecolor": "#283442",
           "zerolinewidth": 2
          }
         }
        },
        "xaxis": {
         "anchor": "y",
         "domain": [
          0,
          1
         ],
         "matches": "x4",
         "rangeslider": {
          "visible": false
         },
         "showticklabels": false
        },
        "xaxis2": {
         "anchor": "y2",
         "domain": [
          0,
          1
         ],
         "matches": "x4",
         "showticklabels": false
        },
        "xaxis3": {
         "anchor": "y3",
         "domain": [
          0,
          1
         ],
         "matches": "x4",
         "showticklabels": false
        },
        "xaxis4": {
         "anchor": "y4",
         "domain": [
          0,
          1
         ]
        },
        "yaxis": {
         "anchor": "x",
         "domain": [
          0.436,
          1
         ]
        },
        "yaxis2": {
         "anchor": "x2",
         "domain": [
          0.32199999999999995,
          0.4159999999999999
         ]
        },
        "yaxis3": {
         "anchor": "x3",
         "domain": [
          0.16099999999999998,
          0.30199999999999994
         ]
        },
        "yaxis4": {
         "anchor": "x4",
         "domain": [
          0,
          0.141
         ]
        }
       }
      }
     },
     "metadata": {},
     "output_type": "display_data"
    }
   ],
   "source": [
    "import plotly.graph_objects as go\n",
    "from plotly.subplots import make_subplots\n",
    "\n",
    "df_visualize = df[df['date'] >= '2024-01-01']\n",
    "\n",
    "# Create subplot with 2 rows (OHLC and Volume)\n",
    "fig = make_subplots(rows=4, cols=1, \n",
    "                    shared_xaxes=True, \n",
    "                    vertical_spacing=0.02,\n",
    "                    row_heights=[0.6, 0.1, 0.15, 0.15],\n",
    "                    subplot_titles=(\"OHLC BTC (USD)\", \"Volume\", \"Stochastic(5, 3, 4)\", \"MACD(12, 26, 9)\"))\n",
    "\n",
    "# ===================================================================\n",
    "# PLOT CANDLESTICK\n",
    "# ===================================================================\n",
    "fig.add_trace(go.Candlestick(\n",
    "    x=df_visualize['date'],\n",
    "    open=df_visualize['open'],\n",
    "    high=df_visualize['high'],\n",
    "    low=df_visualize['low'],\n",
    "    close=df_visualize['close'],\n",
    "    name=\"Price\",\n",
    "    increasing_line_color='green',\n",
    "    decreasing_line_color='red'\n",
    "), row=1, col=1)\n",
    "\n",
    "\n",
    "# ===================================================================\n",
    "# PLOT VOLUME BAR\n",
    "# ===================================================================\n",
    "fig.add_trace(go.Bar(\n",
    "    x=df_visualize['date'],\n",
    "    y=df_visualize['volume'],\n",
    "    name=\"Volume\",\n",
    "    marker_color='orange'\n",
    "), row=2, col=1)\n",
    "\n",
    "\n",
    "# ===================================================================\n",
    "# PLOT EMA\n",
    "# ===================================================================\n",
    "fig.add_trace(\n",
    "    go.Scatter(\n",
    "        x=df_visualize['date'],\n",
    "        y=df_visualize['ema_13'],\n",
    "        mode='lines',\n",
    "        name=\"EMA 13\",\n",
    "        line={'width': 1.5},\n",
    "    ), row=1, col=1\n",
    ")\n",
    "\n",
    "fig.add_trace(\n",
    "    go.Scatter(\n",
    "        x=df_visualize['date'],\n",
    "        y=df_visualize['ema_21'],\n",
    "        mode='lines',\n",
    "        name=\"EMA 21\",\n",
    "        line={'width': 1.5},\n",
    "    ), row=1, col=1\n",
    ")\n",
    "\n",
    "# ===================================================================\n",
    "# PLOT STOCHASTIC\n",
    "# ===================================================================\n",
    "fig.add_trace(\n",
    "    go.Scatter(\n",
    "        x=df_visualize['date'],\n",
    "        y=df_visualize['stochastic_percentage_k'],\n",
    "        mode='lines',\n",
    "        name=\"Stochastic\",\n",
    "        line={'width': 1.5},\n",
    "    ), row=3, col=1\n",
    ")\n",
    "\n",
    "fig.add_trace(\n",
    "    go.Scatter(\n",
    "        x=df_visualize['date'],\n",
    "        y=df_visualize['stochastic_percentage_d'],\n",
    "        mode='lines',\n",
    "        name=\"Stochastic\",\n",
    "        line={'width': 1.5},\n",
    "    ), row=3, col=1\n",
    ")\n",
    "\n",
    "# ===================================================================\n",
    "# PLOT MACD\n",
    "# ===================================================================\n",
    "fig.add_trace(\n",
    "    go.Scatter(\n",
    "        x=df_visualize['date'],\n",
    "        y=df_visualize['macd'],\n",
    "        mode='lines',\n",
    "        name=\"MACD Line\",\n",
    "        line={'width': 1.5},\n",
    "    ), row=4, col=1\n",
    ")\n",
    "\n",
    "fig.add_trace(\n",
    "    go.Scatter(\n",
    "        x=df_visualize['date'],\n",
    "        y=df_visualize['macd_signal_line'],\n",
    "        mode='lines',\n",
    "        name=\"MACD Signal Line\",\n",
    "        line={'width': 1.5},\n",
    "    ), row=4, col=1\n",
    ")\n",
    "\n",
    "colors = ['green' if val >= 0 else 'red' for val in df_visualize['macd_bar']]\n",
    "fig.add_trace(\n",
    "    go.Bar(\n",
    "        x=df_visualize['date'], \n",
    "        y=df_visualize['macd_bar'], \n",
    "        name='MACD Bar', \n",
    "        marker_color=colors\n",
    "    ), row=4, col=1\n",
    ")\n",
    "\n",
    "# Layout adjustments\n",
    "fig.update_layout(\n",
    "    # title=title,\n",
    "    xaxis_rangeslider_visible=False,\n",
    "    template='plotly_dark',\n",
    "    height=1000,\n",
    "    margin=dict(l=50, r=25, t=50, b=40)\n",
    ")\n",
    "\n",
    "fig.write_image(\"btc_monthly_ta.jpeg\", width=1200, height=800, scale=2)"
   ]
  },
  {
   "cell_type": "code",
   "execution_count": 17,
   "id": "ee689019",
   "metadata": {},
   "outputs": [
    {
     "data": {
      "text/plain": [
       "['date',\n",
       " 'pair',\n",
       " 'open',\n",
       " 'high',\n",
       " 'low',\n",
       " 'close',\n",
       " 'volume',\n",
       " 'count',\n",
       " 'ema_13',\n",
       " 'ema_21',\n",
       " 'stochastic_percentage_k',\n",
       " 'stochastic_percentage_d',\n",
       " 'macd',\n",
       " 'macd_signal_line',\n",
       " 'macd_bar']"
      ]
     },
     "execution_count": 17,
     "metadata": {},
     "output_type": "execute_result"
    }
   ],
   "source": [
    "df.columns.tolist()\n",
    "# df.values.tolist()"
   ]
  },
  {
   "cell_type": "code",
   "execution_count": 57,
   "id": "20a94a8c",
   "metadata": {},
   "outputs": [],
   "source": [
    "import anthropic\n",
    "import os\n",
    "import base64\n",
    "from dotenv import load_dotenv\n",
    "\n",
    "load_dotenv()\n",
    "client = anthropic.Anthropic(\n",
    "    # defaults to os.environ.get(\"ANTHROPIC_API_KEY\")\n",
    "    api_key=os.environ.get(\"ANTHROPIC_API_KEY\"),\n",
    ")\n",
    "\n",
    "# Replace placeholders like {{CRYPTOCURRENCY}} with real values,\n",
    "# because the SDK does not support variables.\n",
    "ticker = \"BTC-USD\"\n",
    "granularity = \"daily\"\n",
    "def get_base64_encoded_image(image_path):\n",
    "    with open(image_path, \"rb\") as image_file:\n",
    "        binary_data = image_file.read()\n",
    "        base64_encoded_data = base64.b64encode(binary_data)\n",
    "        base64_string = base64_encoded_data.decode(\"utf-8\")\n",
    "        return base64_string\n",
    "\n",
    "messages = [\n",
    "        {\n",
    "            \"role\": \"user\",\n",
    "            \"content\": [\n",
    "                {\n",
    "                    \"type\": \"image\",\n",
    "                    \"source\": {\n",
    "                        \"type\": \"base64\",\n",
    "                        \"media_type\": \"image/jpeg\",\n",
    "                        \"data\": get_base64_encoded_image(\"btc_monthly_ta.jpeg\")\n",
    "                    }\n",
    "                },\n",
    "                {\n",
    "                    \"type\": \"text\",\n",
    "                    \"text\": f\"\"\"\n",
    "                        You are a professional trader at a top proprietary trading firm, specializing in cryptocurrency and technical analysis. \n",
    "                        Your task is to analyze the {granularity} chart and technical indicators for {ticker} based on the provided image.\n",
    "                        Perform a comprehensive analysis based on recent chart, candlestick patterns, overall trend, and various technical indicators. \n",
    "                        Your analysis should lead to a recommendation for action.\n",
    "                        Based on your analysis, recommend one of the following actions:\n",
    "                        1. 'weak sell'\n",
    "                        2. 'sell'\n",
    "                        3. 'strong sell'\n",
    "                        4. 'weak buy'\n",
    "                        5. 'buy'\n",
    "                        6. 'strong buy'\n",
    "                        \n",
    "                        For the output, you should only follow this structure:\n",
    "                        {{\n",
    "                            \\\"action\\\": \\\"[Your recommended action]\\\",    \n",
    "                            \\\"reason\\\": {{\n",
    "                                    \\\"ema\\\": \\\"[EMA analysis summary]\\\",\n",
    "                                    \\\"stochastic\\\": \\\"[Stochastic oscillator analysis summary]\\\",\n",
    "                                    \\\"macd\\\": \\\"[MACD analysis summary]\\\",\n",
    "                                    \\\"trend\\\": \\\"[Overall trend analysis summary]\\\",\n",
    "                                    \\\"pattern\\\": \\\"[Candlestick pattern analysis summary]\\\",\n",
    "                                    \\\"volume\\\": \\\"[Volume analysis summary]\\\"\n",
    "                            }}\n",
    "                        }}\n",
    "                        Important rule: Just return the raw JSON text in the body of the response.\n",
    "                    \"\"\"\n",
    "                }\n",
    "            ]\n",
    "        },\n",
    "    ]\n",
    "\n",
    "llm_output = client.messages.create(\n",
    "    model=\"claude-sonnet-4-20250514\",\n",
    "    max_tokens=20000,\n",
    "    temperature=1,\n",
    "    messages=messages\n",
    ")"
   ]
  },
  {
   "cell_type": "code",
   "execution_count": 58,
   "id": "2b4f6c43",
   "metadata": {},
   "outputs": [
    {
     "name": "stdout",
     "output_type": "stream",
     "text": [
      "{\n",
      "    \"action\": \"weak buy\",\n",
      "    \"reason\": {\n",
      "        \"ema\": \"Price is trading above both EMA 13 and EMA 21, with EMA 13 crossing above EMA 21, indicating bullish momentum. The EMAs are providing dynamic support around the 95k-98k level.\",\n",
      "        \"stochastic\": \"Stochastic oscillator is declining from overbought territory and currently around 0.4-0.5 range, suggesting some cooling off from previous highs but not yet oversold, providing potential entry opportunity.\",\n",
      "        \"macd\": \"MACD shows negative histogram bars (red) with the MACD line below the signal line, indicating short-term bearish momentum, but the lines appear to be converging which could signal potential reversal.\",\n",
      "        \"trend\": \"Overall uptrend remains intact with higher highs and higher lows pattern. Price has retraced from recent highs around 110k to current levels near 105k, which appears to be a healthy pullback in the broader uptrend.\",\n",
      "        \"pattern\": \"Recent candlesticks show consolidation with some red candles indicating profit-taking, but no clear reversal pattern. The pullback appears corrective rather than impulsive, suggesting continuation potential.\",\n",
      "        \"volume\": \"Volume has decreased during the recent pullback, which is typical for corrections in uptrends. Lower volume on decline suggests lack of aggressive selling pressure.\"\n",
      "    }\n",
      "}\n"
     ]
    }
   ],
   "source": [
    "print(llm_output.content[0].text)"
   ]
  },
  {
   "cell_type": "code",
   "execution_count": 83,
   "id": "3030ab2c",
   "metadata": {},
   "outputs": [],
   "source": [
    "import json\n",
    "message = json.loads(llm_output.content[0].text)\n",
    "\n",
    "summary = \"\"\n",
    "summary += f\"Action: **{message['action'].capitalize()}**\\n\"\n",
    "for num, (indicator, explanation) in enumerate(message['reason'].items()):\n",
    "    summary += f\"{num+1}. **{indicator.upper()}**: {explanation}.\\n\"\n",
    "summary += \"*^Disclaimer Alert.*\""
   ]
  },
  {
   "cell_type": "markdown",
   "id": "93717215",
   "metadata": {},
   "source": [
    "# Send to Discord Channel"
   ]
  },
  {
   "cell_type": "code",
   "execution_count": 89,
   "id": "8b11e1c6",
   "metadata": {},
   "outputs": [],
   "source": [
    "import requests\n",
    "\n",
    "webhook_url = \"https://discordapp.com/api/webhooks/1387080438140637184/tN2QiS7fsMTOpf9eHQAF8cb2xfAscck9R6qhKq-hvvg4Ssg0YfHsSXvGIDLZUchoFQ6V\"\n",
    "granularity = \"Weekly\"\n",
    "\n",
    "embed = {\n",
    "    \"title\": f\"**Bitcoin (BTC-USD) {granularity.capitalize()} Summary**\",\n",
    "    \"image\": {\"url\": \"attachment://btc_monthly_ta.jpeg\"},\n",
    "    \"description\": summary,\n",
    "    \"color\": 5814783  # optional: light blue\n",
    "}\n",
    "data = {\n",
    "    \"content\": (\n",
    "        f\"**Bitcoin (BTC-USD) {granularity.capitalize()} Summary**\\n\\n\"\n",
    "        f\"{summary}\"\n",
    "    )\n",
    "}\n",
    "\n",
    "\n",
    "files = {\n",
    "    \"file\": (\n",
    "        \"btc_monthly_ta.jpeg\", \n",
    "        open(\"C:/Users/USER/projects/ai-agent-crypto-analyzer/notebooks/btc_monthly_ta.jpeg\", \"rb\")\n",
    "    )\n",
    "}\n",
    "\n",
    "# Use `data=` for data when uploading files\n",
    "response = requests.post(webhook_url, files=files, data=data)"
   ]
  },
  {
   "cell_type": "markdown",
   "id": "0759977e",
   "metadata": {},
   "source": [
    "# Using Langchain Anthropic"
   ]
  },
  {
   "cell_type": "code",
   "execution_count": 2,
   "id": "79d6a73b",
   "metadata": {},
   "outputs": [],
   "source": [
    "# Import Credentials\n",
    "import os\n",
    "import getpass\n",
    "from dotenv import load_dotenv\n",
    "\n",
    "load_dotenv()\n",
    "if \"ANTHROPIC_API_KEY\" not in os.environ:\n",
    "    os.environ[\"anthropic_api_key\"] = getpass.getpass(\"Enter your ANTHROPIC_API_KEY: \")\n"
   ]
  },
  {
   "cell_type": "code",
   "execution_count": 1,
   "id": "fd2368d0",
   "metadata": {},
   "outputs": [],
   "source": [
    "# Get Anthropic LLM Model\n",
    "from langchain_anthropic import ChatAnthropic\n",
    "llm = ChatAnthropic(\n",
    "    model=\"claude-sonnet-4-20250514\",\n",
    "    max_tokens=20000,\n",
    "    temperature=0.5,\n",
    "    timeout=None,\n",
    "    max_retries=2\n",
    ")\n",
    "\n",
    "# Construct the prompt\n",
    "from langchain_core.prompts import ChatPromptTemplate\n",
    "prompt = ChatPromptTemplate(\n",
    "    [\n",
    "        {\n",
    "            \"role\": \"system\", \n",
    "            \"content\": [\n",
    "                {\n",
    "                    \"type\": \"text\",\n",
    "                    \"text\": \"You are a professional cryptocurrency trader at a top proprietary trading firm, specializing in technical analysis.\"\n",
    "                }\n",
    "            ]\n",
    "        },\n",
    "        {\n",
    "            \"role\": \"user\",\n",
    "            \"content\": [\n",
    "                {\n",
    "                    \"type\": \"image\",\n",
    "                    \"source_type\": \"base64\",\n",
    "                    \"mime_type\": \"image/png\",\n",
    "                    \"data\": \"{image_base64}\",\n",
    "                },\n",
    "                {\n",
    "                    \"type\": \"text\",\n",
    "                    \"text\": \"\"\"\n",
    "                    Your task is to analyze the {timeframe} chart and technical indicators for {ticker} based on the provided image.\n",
    "                    Perform a technical analysis based on candlestick charts, volume, and technical indicators like {technical_indicators} (shown in image). \n",
    "                    Your technical analysis should lead to a recommendation one of the following actions:\n",
    "                    <actions>\n",
    "                        1. 'Weak Sell'\n",
    "                        2. 'Sell'\n",
    "                        3. 'Strong Sell'\n",
    "                        4. 'Weak Buy'\n",
    "                        5. 'Buy'\n",
    "                        6. 'Strong Buy'\n",
    "                    </actions>\n",
    "                    For the prompt output, it should only formatted like in the <structure> tags below. Do not inlcude markdown texts. \n",
    "                    <structure>\n",
    "                        {{\n",
    "                            \\\"action\\\": \\\"Your recommended action based on the <actions> tags\\\",    \n",
    "                            \\\"reason\\\": {{\n",
    "                                \\\"ema\\\": \\\"EMA analysis\\\",\n",
    "                                \\\"stochastic\\\": \\\"Stochastic oscillator analysis\\\",\n",
    "                                \\\"macd\\\": \\\"MACD analysis\\\",\n",
    "                                \\\"trend\\\": \\\"Overall trend analysis\\\",\n",
    "                                \\\"pattern\\\": \\\"Candlestick pattern analysis\\\",\n",
    "                                \\\"volume\\\": \\\"Volume analysis\\\"\n",
    "                            }}\n",
    "                        }}\n",
    "                    </structure>\n",
    "                    \"\"\"\n",
    "                }\n",
    "            ]\n",
    "        }\n",
    "    ]\n",
    ")\n",
    "\n",
    "chain = prompt | llm"
   ]
  },
  {
   "cell_type": "code",
   "execution_count": null,
   "id": "8946dd73",
   "metadata": {},
   "outputs": [
    {
     "name": "stderr",
     "output_type": "stream",
     "text": [
      "2025-06-27 18:06:48,341 - INFO - Data read from gold.ohlc_ta_monthly successfully.\n",
      "INFO\tai-agent-crypto-analyzer:timescaledb_ops.py:read_data()- Data read from gold.ohlc_ta_monthly successfully.\n"
     ]
    },
    {
     "data": {
      "application/vnd.plotly.v1+json": {
       "config": {
        "plotlyServerURL": "https://plot.ly"
       },
       "data": [
        {
         "close": {
          "bdata": "mpmZmck24kAAAAAA0LjiQAAAAAAACOdAMzMzMzPX4kAzMzMzEwDfQM3MzMzModJAZmZmZoZB10AzMzMz89jTQJqZmZk5+dJAmpmZmbk/1EBmZmZmZnzQQAAAAACALtBAMzMzMzNV1kAAAAAAwNnWQAAAAACARttAZmZmZgaF3EAAAAAAgHbaQAAAAADgNN5AzczMzMyv3EBmZmZmBq7aQGZmZmYGUNpAmpmZmZna4EDNzMzMzIDiQDMzMzODwORAmpmZmYnQ5EAAAAAAELnuQAAAAAAAMPFAMzMzM6Pi7UAzMzMzc63wQM3MzMws/u1AzczMzHQg8ECamZmZieHsQJqZmZl5LO9AzczMzOSg8UAzMzMzw4L3QJqZmZkR9/ZAAAAAAOCS+UAzMzMzS6XzQJqZmZmZD/RAMzMzM6M990CamZmZUUb5QAAAAABgRfpA",
          "dtype": "f8"
         },
         "decreasing": {
          "line": {
           "color": "red"
          }
         },
         "high": {
          "bdata": "AAAAAAB/50AAAAAAgGnmQAAAAAAAiedAAAAAAMA950CamZmZuYvjQAAAAAAApN9AMzMzM/Me2EAAAAAAAJzYQAAAAACAQdZAmpmZmZmU1EAzMzMzU/fUQAAAAADg9NFAAAAAAIBj10DNzMzM7K7YQAAAAACAgdxAAAAAAIBS3kAAAAAAwEXdQDMzMzPTst5AMzMzM7ML30AAAAAAgHvdQAAAAACg2dpAAAAAACAz4UDNzMzMHMTiQAAAAABg0+VAAAAAAADt50CamZmZ+UHvQAAAAABgAPJAAAAAALjB8UBmZmZmho3xQAAAAADAjfFAAAAAABAW8UBmZmZm/k7wQM3MzMxMOfBAZmZmZm728UAAAAAAIFT4QJqZmZmZcPpAAAAAAICj+kAAAAAAAOH5QAAAAACAMfdAMzMzM9tl90AzMzMz81b7QAAAAAAQcPpA",
          "dtype": "f8"
         },
         "increasing": {
          "line": {
           "color": "green"
          }
         },
         "low": {
          "bdata": "MzMzM4MV4EBmZmZmpsPgQM3MzMzsJOJAAAAAAABl4kAzMzMzM73YQAAAAAAAMNFAAAAAAGAu0kAzMzMzcxHTQJqZmZmZttFAZmZmZsa80UAAAAAAQDfOQJqZmZkZws9AZmZmZgYU0EBmZmZmxtvUQJqZmZl5F9NAmpmZmVlW2kCamZmZ2TjZQGZmZmbGK9hAAAAAAAA03EAAAAAAADjYQAAAAABAV9hAAAAAAMDt2UAAAAAAAKngQAAAAACgT+JAAAAAAMDO4kAAAAAAUHPkQAAAAADA4exAAAAAAEAi7UAAAAAAQIfrQAAAAAAAiuxAmpmZmWkn6kAAAAAA4PrnQAAAAAAgq+lAAAAAAADB7EAAAAAAQFHwQJqZmZmJR/ZAzczMzNy69UAAAAAAsBjzQDMzMzN7tPJAmpmZmZEq8kAAAAAAqLL2QDMzMzPjwvlA",
          "dtype": "f8"
         },
         "name": "Price",
         "open": {
          "bdata": "zczMzGxs50BmZmZmxjbiQGZmZmaWueJAMzMzMwMI50AzMzMzA9fiQDMzMzMTAN9AzczMzIyf0kAAAAAAgEHXQAAAAABA2dNAzczMzMz60kBmZmZmhj/UQGZmZmaGfNBAZmZmZoYu0ECamZmZOVXWQGZmZmbG2dZAAAAAAIBG20DNzMzMDIXcQJqZmZl5dtpAMzMzM9Mu3kDNzMzMzK/cQM3MzMwMrtpAZmZmZgZQ2kCamZmZmdrgQM3MzMzMgOJAZmZmZtbA5ECamZmZidDkQAAAAAAQue5AmpmZmQEw8UAzMzMzo+LtQDMzMzNzrfBAzczMzCz+7UDNzMzMdCDwQJqZmZmJ4exAzczMzHws70DNzMzM5KDxQJqZmZnBgvdAmpmZmRH39kAAAAAA4JL5QDMzMzNLpfNAmpmZmZkP9EDNzMzMpD33QAAAAAAIzvlA",
          "dtype": "f8"
         },
         "type": "candlestick",
         "x": [
          "2022-01-01T00:00:00",
          "2022-02-01T00:00:00",
          "2022-03-01T00:00:00",
          "2022-04-01T00:00:00",
          "2022-05-01T00:00:00",
          "2022-06-01T00:00:00",
          "2022-07-01T00:00:00",
          "2022-08-01T00:00:00",
          "2022-09-01T00:00:00",
          "2022-10-01T00:00:00",
          "2022-11-01T00:00:00",
          "2022-12-01T00:00:00",
          "2023-01-01T00:00:00",
          "2023-02-01T00:00:00",
          "2023-03-01T00:00:00",
          "2023-04-01T00:00:00",
          "2023-05-01T00:00:00",
          "2023-06-01T00:00:00",
          "2023-07-01T00:00:00",
          "2023-08-01T00:00:00",
          "2023-09-01T00:00:00",
          "2023-10-01T00:00:00",
          "2023-11-01T00:00:00",
          "2023-12-01T00:00:00",
          "2024-01-01T00:00:00",
          "2024-02-01T00:00:00",
          "2024-03-01T00:00:00",
          "2024-04-01T00:00:00",
          "2024-05-01T00:00:00",
          "2024-06-01T00:00:00",
          "2024-07-01T00:00:00",
          "2024-08-01T00:00:00",
          "2024-09-01T00:00:00",
          "2024-10-01T00:00:00",
          "2024-11-01T00:00:00",
          "2024-12-01T00:00:00",
          "2025-01-01T00:00:00",
          "2025-02-01T00:00:00",
          "2025-03-01T00:00:00",
          "2025-04-01T00:00:00",
          "2025-05-01T00:00:00",
          "2025-06-01T00:00:00"
         ],
         "xaxis": "x",
         "yaxis": "y"
        },
        {
         "marker": {
          "color": "orange"
         },
         "name": "Volume",
         "type": "bar",
         "x": [
          "2022-01-01T00:00:00",
          "2022-02-01T00:00:00",
          "2022-03-01T00:00:00",
          "2022-04-01T00:00:00",
          "2022-05-01T00:00:00",
          "2022-06-01T00:00:00",
          "2022-07-01T00:00:00",
          "2022-08-01T00:00:00",
          "2022-09-01T00:00:00",
          "2022-10-01T00:00:00",
          "2022-11-01T00:00:00",
          "2022-12-01T00:00:00",
          "2023-01-01T00:00:00",
          "2023-02-01T00:00:00",
          "2023-03-01T00:00:00",
          "2023-04-01T00:00:00",
          "2023-05-01T00:00:00",
          "2023-06-01T00:00:00",
          "2023-07-01T00:00:00",
          "2023-08-01T00:00:00",
          "2023-09-01T00:00:00",
          "2023-10-01T00:00:00",
          "2023-11-01T00:00:00",
          "2023-12-01T00:00:00",
          "2024-01-01T00:00:00",
          "2024-02-01T00:00:00",
          "2024-03-01T00:00:00",
          "2024-04-01T00:00:00",
          "2024-05-01T00:00:00",
          "2024-06-01T00:00:00",
          "2024-07-01T00:00:00",
          "2024-08-01T00:00:00",
          "2024-09-01T00:00:00",
          "2024-10-01T00:00:00",
          "2024-11-01T00:00:00",
          "2024-12-01T00:00:00",
          "2025-01-01T00:00:00",
          "2025-02-01T00:00:00",
          "2025-03-01T00:00:00",
          "2025-04-01T00:00:00",
          "2025-05-01T00:00:00",
          "2025-06-01T00:00:00"
         ],
         "xaxis": "x2",
         "y": {
          "bdata": "AAAAAOrPKUEAAAAAfpYoQQAAAABggi9BAAAAAFgOJkEAAAAAaKwsQQAAAAAcNy1BAAAAANarKUEAAAAAWqIlQQAAAAA6OyVBAAAAAEaPIEEAAAAAqpkoQQAAAAA2qiNBAAAAAKxYKkEAAAAATNYqQQAAAAAnxThBAAAAAO0SMUEAAAAA4rEuQQAAAAAKgjFBAAAAAC6AJkEAAAAA5scmQQAAAACejSRBAAAAABikK0EAAAAAMA4sQQAAAACwoylBAAAAAAqoLUEAAAAAhiAqQQAAAAC1aTVBAAAAABi7LUEAAAAA4JUpQQAAAADUcyNBAAAAABiTK0EAAAAA5KIvQQAAAAC2TSlBAAAAAO59LkEAAAAASnk2QQAAAADjqjVBAAAAAJaSNEEAAAAA/IouQQAAAABwTTBBAAAAAKbkMUEAAAAAXnotQQAAAAAAPepA",
          "dtype": "f8"
         },
         "yaxis": "y2"
        },
        {
         "line": {
          "width": 1.5
         },
         "mode": "lines",
         "name": "EMA 13",
         "type": "scatter",
         "x": [
          "2022-01-01T00:00:00",
          "2022-02-01T00:00:00",
          "2022-03-01T00:00:00",
          "2022-04-01T00:00:00",
          "2022-05-01T00:00:00",
          "2022-06-01T00:00:00",
          "2022-07-01T00:00:00",
          "2022-08-01T00:00:00",
          "2022-09-01T00:00:00",
          "2022-10-01T00:00:00",
          "2022-11-01T00:00:00",
          "2022-12-01T00:00:00",
          "2023-01-01T00:00:00",
          "2023-02-01T00:00:00",
          "2023-03-01T00:00:00",
          "2023-04-01T00:00:00",
          "2023-05-01T00:00:00",
          "2023-06-01T00:00:00",
          "2023-07-01T00:00:00",
          "2023-08-01T00:00:00",
          "2023-09-01T00:00:00",
          "2023-10-01T00:00:00",
          "2023-11-01T00:00:00",
          "2023-12-01T00:00:00",
          "2024-01-01T00:00:00",
          "2024-02-01T00:00:00",
          "2024-03-01T00:00:00",
          "2024-04-01T00:00:00",
          "2024-05-01T00:00:00",
          "2024-06-01T00:00:00",
          "2024-07-01T00:00:00",
          "2024-08-01T00:00:00",
          "2024-09-01T00:00:00",
          "2024-10-01T00:00:00",
          "2024-11-01T00:00:00",
          "2024-12-01T00:00:00",
          "2025-01-01T00:00:00",
          "2025-02-01T00:00:00",
          "2025-03-01T00:00:00",
          "2025-04-01T00:00:00",
          "2025-05-01T00:00:00",
          "2025-06-01T00:00:00"
         ],
         "xaxis": "x",
         "y": {
          "bdata": "RARwOsyk5ECEus2fg17kQEx7+Yjev+RASAOUMw965EDnYblmDsTjQNX0iB3kReJALNnFad9S4UDOPS2VPkTgQHekrBWYmN5AxlmFKC8e3UBwEsoMN1DbQM4PZOYcudlAAl7vFSA92UAndV83yeXYQP2Iv8G+PNlAel/X/ci02UBELd1rddDZQISUve4WcdpAalPk6TDD2kCzehvXKsDaQDpTb6IlsNpAgwX5bd6w20BiiDR0iwXdQGI6YLsKzt5AQMFjr/Ms4EA3yue690DiQMKIfTKLjuRAiXyXMrPj5UCpC7WnA4fnQIq5Sj93c+hAREfoudCQ6UC+wEq1DwrqQEsEVrHVxepAe9CoGx3860CdU5+4ULTuQKPwx9KScPBAsak92Z2+8UAydM5TJATyQNQLEPDrTvJA4uzLQk8D80CPBVeYT+jzQOhNuMsI0fRA",
          "dtype": "f8"
         },
         "yaxis": "y"
        },
        {
         "line": {
          "width": 1.5
         },
         "mode": "lines",
         "name": "EMA 21",
         "type": "scatter",
         "x": [
          "2022-01-01T00:00:00",
          "2022-02-01T00:00:00",
          "2022-03-01T00:00:00",
          "2022-04-01T00:00:00",
          "2022-05-01T00:00:00",
          "2022-06-01T00:00:00",
          "2022-07-01T00:00:00",
          "2022-08-01T00:00:00",
          "2022-09-01T00:00:00",
          "2022-10-01T00:00:00",
          "2022-11-01T00:00:00",
          "2022-12-01T00:00:00",
          "2023-01-01T00:00:00",
          "2023-02-01T00:00:00",
          "2023-03-01T00:00:00",
          "2023-04-01T00:00:00",
          "2023-05-01T00:00:00",
          "2023-06-01T00:00:00",
          "2023-07-01T00:00:00",
          "2023-08-01T00:00:00",
          "2023-09-01T00:00:00",
          "2023-10-01T00:00:00",
          "2023-11-01T00:00:00",
          "2023-12-01T00:00:00",
          "2024-01-01T00:00:00",
          "2024-02-01T00:00:00",
          "2024-03-01T00:00:00",
          "2024-04-01T00:00:00",
          "2024-05-01T00:00:00",
          "2024-06-01T00:00:00",
          "2024-07-01T00:00:00",
          "2024-08-01T00:00:00",
          "2024-09-01T00:00:00",
          "2024-10-01T00:00:00",
          "2024-11-01T00:00:00",
          "2024-12-01T00:00:00",
          "2025-01-01T00:00:00",
          "2025-02-01T00:00:00",
          "2025-03-01T00:00:00",
          "2025-04-01T00:00:00",
          "2025-05-01T00:00:00",
          "2025-06-01T00:00:00"
         ],
         "xaxis": "x",
         "y": {
          "bdata": "o81pYwXN4UAIGAPmdOLhQGRE1Lk7WuJAGVquCphl4kCwpWYALiLiQO+fZvL4VOFA3tsE4TnQ4EA1SrWU4i/gQG7DEQXnJ99AoL+pbxEq3kAP5roRvOvcQGroqT5Cw9tAfAZCyeNE20BCeg0UD97aQGqGI7WN59pAUsnjUCQN20CQ5RR4cv/aQJpz5FUfSttA/JL5d6Nq20A0pr3qfVnbQDjmb8dbQdtACTOwoobX20BzmX8tzqzcQENm2uxe191AEzPLIbXp3kDx/+c9JdjgQPL/L9shcOJAg6ektIp640BSis3Ee73kQC/WQa7RlOVA3Ioy8jCN5kAE0t7SfiDnQEBBwSrE2+dAjmCmegrl6EBEG894/ufqQCsGHv67ouxAhKiPFaWu7kA7ixfXAHfvQFeqGOQ8IPBADs4D1NHF8EBhJvrlrovxQEGXnf++VvJA",
          "dtype": "f8"
         },
         "yaxis": "y"
        },
        {
         "line": {
          "width": 1.5
         },
         "mode": "lines",
         "name": "Stochastic",
         "type": "scatter",
         "x": [
          "2022-01-01T00:00:00",
          "2022-02-01T00:00:00",
          "2022-03-01T00:00:00",
          "2022-04-01T00:00:00",
          "2022-05-01T00:00:00",
          "2022-06-01T00:00:00",
          "2022-07-01T00:00:00",
          "2022-08-01T00:00:00",
          "2022-09-01T00:00:00",
          "2022-10-01T00:00:00",
          "2022-11-01T00:00:00",
          "2022-12-01T00:00:00",
          "2023-01-01T00:00:00",
          "2023-02-01T00:00:00",
          "2023-03-01T00:00:00",
          "2023-04-01T00:00:00",
          "2023-05-01T00:00:00",
          "2023-06-01T00:00:00",
          "2023-07-01T00:00:00",
          "2023-08-01T00:00:00",
          "2023-09-01T00:00:00",
          "2023-10-01T00:00:00",
          "2023-11-01T00:00:00",
          "2023-12-01T00:00:00",
          "2024-01-01T00:00:00",
          "2024-02-01T00:00:00",
          "2024-03-01T00:00:00",
          "2024-04-01T00:00:00",
          "2024-05-01T00:00:00",
          "2024-06-01T00:00:00",
          "2024-07-01T00:00:00",
          "2024-08-01T00:00:00",
          "2024-09-01T00:00:00",
          "2024-10-01T00:00:00",
          "2024-11-01T00:00:00",
          "2024-12-01T00:00:00",
          "2025-01-01T00:00:00",
          "2025-02-01T00:00:00",
          "2025-03-01T00:00:00",
          "2025-04-01T00:00:00",
          "2025-05-01T00:00:00",
          "2025-06-01T00:00:00"
         ],
         "xaxis": "x3",
         "y": {
          "bdata": "C2eg8cz+2D8Nzy8j3N/JPzjWyG45Zcw/j3rLgY0y0D9UOvyjZPvSP21Vaf0HMMc/8GH1Ap6wxj8IAmG+yTO9P3AuJfCDBMA/o5TPeAFkwD/RyGQOYrTCP8HwgO4YDMQ/7ejE8TYe2D+pCK5pFyPjP4A+t7Rjnus/EaMjHcKl6z84ONvriczqPxsng1WTU+s/B6x2lIWN6j+NbKAZOavmP89I0dnqjd8/19o+MTAp4T/gdmyMfYPnPxQC7nTBre0/P3d+MrGT6z94x4uquK/rPzXR0kWm9+s/QeCLsx4a6z+3pioqd8XpP835uLINjOY/NYQTocEs5j/02+9I8q7hP8YhzBvaCOI/Iyp3Wp1/5T9zL08s6+zqPxi4vOuaIew/yTU1Orbn6z9QAfwNYIfmP04xGiXES+I/OwqF5ouu3T+6VCjF6oXiP9xuGzAOFOg/",
          "dtype": "f8"
         },
         "yaxis": "y3"
        },
        {
         "line": {
          "width": 1.5
         },
         "mode": "lines",
         "name": "Stochastic",
         "type": "scatter",
         "x": [
          "2022-01-01T00:00:00",
          "2022-02-01T00:00:00",
          "2022-03-01T00:00:00",
          "2022-04-01T00:00:00",
          "2022-05-01T00:00:00",
          "2022-06-01T00:00:00",
          "2022-07-01T00:00:00",
          "2022-08-01T00:00:00",
          "2022-09-01T00:00:00",
          "2022-10-01T00:00:00",
          "2022-11-01T00:00:00",
          "2022-12-01T00:00:00",
          "2023-01-01T00:00:00",
          "2023-02-01T00:00:00",
          "2023-03-01T00:00:00",
          "2023-04-01T00:00:00",
          "2023-05-01T00:00:00",
          "2023-06-01T00:00:00",
          "2023-07-01T00:00:00",
          "2023-08-01T00:00:00",
          "2023-09-01T00:00:00",
          "2023-10-01T00:00:00",
          "2023-11-01T00:00:00",
          "2023-12-01T00:00:00",
          "2024-01-01T00:00:00",
          "2024-02-01T00:00:00",
          "2024-03-01T00:00:00",
          "2024-04-01T00:00:00",
          "2024-05-01T00:00:00",
          "2024-06-01T00:00:00",
          "2024-07-01T00:00:00",
          "2024-08-01T00:00:00",
          "2024-09-01T00:00:00",
          "2024-10-01T00:00:00",
          "2024-11-01T00:00:00",
          "2024-12-01T00:00:00",
          "2025-01-01T00:00:00",
          "2025-02-01T00:00:00",
          "2025-03-01T00:00:00",
          "2025-04-01T00:00:00",
          "2025-05-01T00:00:00",
          "2025-06-01T00:00:00"
         ],
         "xaxis": "x3",
         "y": {
          "bdata": "ur/wFNL84T/4IdCJ1gPaPzmTiZNyYNE/IN4vh2XjzD+pCmT0hHXQP2XqUhikLs8/AGRybXryyz90vS/12CjEP8sFGUYCxcE/YC1uhfFWvz9K2R19ognBPxAa59F+YcI/IdnPSvj+zD/f0HVpeyPYPzXpF93cmuM/aKMtaRTN6D9Dszw/5VrrP3WrgB/1Qes/HVmcnIvk6j/lv4hWG4TpP/0+VV6RquU/Q/mXkh+J4j9fp4ZjNtHiP+0bM2Z6c+c/EFBIEVDs6j/tav3FY1DsP/ivSbZavus/+dL4i9SV6z8NyC1hafLqP+wqJTDhI+k/6Lan1Gx/5z/8HZSJQM3kP08rRVcvTOM/SQ0RlXgS4z9zftvgICfmP+QFgXu2hOk/G1/AcGmn6z+7T08ROzDqP3fNw3nz6OY/k5IdYiOO4j8LWSyfUTjhP5Bt16K/JeM/",
          "dtype": "f8"
         },
         "yaxis": "y3"
        },
        {
         "line": {
          "width": 1.5
         },
         "mode": "lines",
         "name": "MACD Line",
         "type": "scatter",
         "x": [
          "2022-01-01T00:00:00",
          "2022-02-01T00:00:00",
          "2022-03-01T00:00:00",
          "2022-04-01T00:00:00",
          "2022-05-01T00:00:00",
          "2022-06-01T00:00:00",
          "2022-07-01T00:00:00",
          "2022-08-01T00:00:00",
          "2022-09-01T00:00:00",
          "2022-10-01T00:00:00",
          "2022-11-01T00:00:00",
          "2022-12-01T00:00:00",
          "2023-01-01T00:00:00",
          "2023-02-01T00:00:00",
          "2023-03-01T00:00:00",
          "2023-04-01T00:00:00",
          "2023-05-01T00:00:00",
          "2023-06-01T00:00:00",
          "2023-07-01T00:00:00",
          "2023-08-01T00:00:00",
          "2023-09-01T00:00:00",
          "2023-10-01T00:00:00",
          "2023-11-01T00:00:00",
          "2023-12-01T00:00:00",
          "2024-01-01T00:00:00",
          "2024-02-01T00:00:00",
          "2024-03-01T00:00:00",
          "2024-04-01T00:00:00",
          "2024-05-01T00:00:00",
          "2024-06-01T00:00:00",
          "2024-07-01T00:00:00",
          "2024-08-01T00:00:00",
          "2024-09-01T00:00:00",
          "2024-10-01T00:00:00",
          "2024-11-01T00:00:00",
          "2024-12-01T00:00:00",
          "2025-01-01T00:00:00",
          "2025-02-01T00:00:00",
          "2025-03-01T00:00:00",
          "2025-04-01T00:00:00",
          "2025-05-01T00:00:00",
          "2025-06-01T00:00:00"
         ],
         "xaxis": "x4",
         "y": {
          "bdata": "8B13ZwTbwkBkj7wQn7rAQCh8m1BPP8BA4L9nI/axvED4Y+itckK3QMD1q+EalK1AMPHc2nfrokAQPHovMFuQQADA16ACcFzAQGcq4EGsjMDAOI1h0tCcwFCU5dIkHKTAoPcsRjRspMBwF7AwwhqkwEB7XphmzaDAcNRKKZR1msDg+VBjRC+XwGA0zrQ2J4/AQAzzDaLBhsCAsunPnQqFwIACCuA5ZYTAAMwhX5ztOMBgHeLezwSHQOB/kpUDcZpA4CN+4Nn/okCgJxc4evqxQHjmevRBv7pAgEKS+nVyvkCkk7ifTpvBQLRuA1tGM8JAhNujuOgtw0D4xaAj1KbCQIRCXwrewcJAFEuoWeDtw0DcHHyey1/IQOiJnr4RO8tA0NHmnb3SzkDQ7peB34DNQHjygHfuZcxAQIN2t+c8zUBg0bcAUtzOQJAYDXBDNdBA",
          "dtype": "f8"
         },
         "yaxis": "y4"
        },
        {
         "line": {
          "width": 1.5
         },
         "mode": "lines",
         "name": "MACD Signal Line",
         "type": "scatter",
         "x": [
          "2022-01-01T00:00:00",
          "2022-02-01T00:00:00",
          "2022-03-01T00:00:00",
          "2022-04-01T00:00:00",
          "2022-05-01T00:00:00",
          "2022-06-01T00:00:00",
          "2022-07-01T00:00:00",
          "2022-08-01T00:00:00",
          "2022-09-01T00:00:00",
          "2022-10-01T00:00:00",
          "2022-11-01T00:00:00",
          "2022-12-01T00:00:00",
          "2023-01-01T00:00:00",
          "2023-02-01T00:00:00",
          "2023-03-01T00:00:00",
          "2023-04-01T00:00:00",
          "2023-05-01T00:00:00",
          "2023-06-01T00:00:00",
          "2023-07-01T00:00:00",
          "2023-08-01T00:00:00",
          "2023-09-01T00:00:00",
          "2023-10-01T00:00:00",
          "2023-11-01T00:00:00",
          "2023-12-01T00:00:00",
          "2024-01-01T00:00:00",
          "2024-02-01T00:00:00",
          "2024-03-01T00:00:00",
          "2024-04-01T00:00:00",
          "2024-05-01T00:00:00",
          "2024-06-01T00:00:00",
          "2024-07-01T00:00:00",
          "2024-08-01T00:00:00",
          "2024-09-01T00:00:00",
          "2024-10-01T00:00:00",
          "2024-11-01T00:00:00",
          "2024-12-01T00:00:00",
          "2025-01-01T00:00:00",
          "2025-02-01T00:00:00",
          "2025-03-01T00:00:00",
          "2025-04-01T00:00:00",
          "2025-05-01T00:00:00",
          "2025-06-01T00:00:00"
         ],
         "xaxis": "x4",
         "y": {
          "bdata": "Pj3AVDMCw0ATtPITfI3CQLF1FCBzF8JAJL6ag8FXwUCCCBPhPzPAQP5yfEvP4LxAg9qsOJj+uEBqy7YvPNC0QCL2d4rWj7BA2jckX7oQqUACp1tCsyuhQEo2neLcbZNAVO57/jt/fUBEZ6AEpyNhwA5EBa6m3oDAOFhVNVoUiMDtEMu4lomMwJ6xy4SDD43AJSpt07zMi8A4EoaftnKKwHp1oN/QPInADpQYrYlYhMCJRzMiiVh3wDAC+3vcz0NA0NyXhqwwgEDURE/82duUQLh36vnXCqNAxuDCxahpq0CRLv6O/AGyQFYeM/2yr7VArQkErlIFuUBUvXaZMHq7QKxLuEsZfL1A+cDWxjqPv0BcuW6ipn/BQKx8q0HvccNAgFq37X64xUD2ROSk+EbHQN2aA88pTchA8WLnY+lJyUDURUSDMWfKQLFBomIPm8tA",
          "dtype": "f8"
         },
         "yaxis": "y4"
        },
        {
         "marker": {
          "color": [
           "red",
           "red",
           "red",
           "red",
           "red",
           "red",
           "red",
           "red",
           "red",
           "red",
           "red",
           "red",
           "red",
           "red",
           "red",
           "red",
           "red",
           "red",
           "green",
           "green",
           "green",
           "green",
           "green",
           "green",
           "green",
           "green",
           "green",
           "green",
           "green",
           "green",
           "green",
           "green",
           "green",
           "green",
           "green",
           "green",
           "green",
           "green",
           "green",
           "green",
           "green",
           "green"
          ]
         },
         "name": "MACD Bar",
         "type": "bar",
         "x": [
          "2022-01-01T00:00:00",
          "2022-02-01T00:00:00",
          "2022-03-01T00:00:00",
          "2022-04-01T00:00:00",
          "2022-05-01T00:00:00",
          "2022-06-01T00:00:00",
          "2022-07-01T00:00:00",
          "2022-08-01T00:00:00",
          "2022-09-01T00:00:00",
          "2022-10-01T00:00:00",
          "2022-11-01T00:00:00",
          "2022-12-01T00:00:00",
          "2023-01-01T00:00:00",
          "2023-02-01T00:00:00",
          "2023-03-01T00:00:00",
          "2023-04-01T00:00:00",
          "2023-05-01T00:00:00",
          "2023-06-01T00:00:00",
          "2023-07-01T00:00:00",
          "2023-08-01T00:00:00",
          "2023-09-01T00:00:00",
          "2023-10-01T00:00:00",
          "2023-11-01T00:00:00",
          "2023-12-01T00:00:00",
          "2024-01-01T00:00:00",
          "2024-02-01T00:00:00",
          "2024-03-01T00:00:00",
          "2024-04-01T00:00:00",
          "2024-05-01T00:00:00",
          "2024-06-01T00:00:00",
          "2024-07-01T00:00:00",
          "2024-08-01T00:00:00",
          "2024-09-01T00:00:00",
          "2024-10-01T00:00:00",
          "2024-11-01T00:00:00",
          "2024-12-01T00:00:00",
          "2025-01-01T00:00:00",
          "2025-02-01T00:00:00",
          "2025-03-01T00:00:00",
          "2025-04-01T00:00:00",
          "2025-05-01T00:00:00",
          "2025-06-01T00:00:00"
         ],
         "xaxis": "x4",
         "y": {
          "bdata": "AKePpHaXU8DwSmIz0C2NwJCYj/c8go3AoPE2jzP2l8AYWnsoGkiiwDzwTLWDLazA1sN8lrgRr8BmPNgjcLmwwCJV+5SWAbHA1WiXa+UdsMBiQyJzHJSvwHUvNEQT063AanX8xRscqMD8EGbAhwijwHlUutl5K5nAqFBAHc7WjMDT4tYN8tSBwBAWFICZvVDAlHfoFWssZEDgfnE+Y6BlQOjLWf5bXmNAroUfyhyRg0CS4P03iliRQM6nsrGE0plAWFmwfV3nnUDWrAZyB4epQJyqhffVObFAHdKwl6G9sEC3+HKwoDSxQCR+p3Gzba1AtlqHhv2sqkA4nZVb76ajQLhyDJJFD6BAXqrz2AuZoEAAjjXwk4CrQPA0zPOJJK9AoO5eYH00skBop85ym+eoQGxe9aESY6BAeAJ5nPKXn0AwLs71gdShQLy93/XdPaNA",
          "dtype": "f8"
         },
         "yaxis": "y4"
        }
       ],
       "layout": {
        "annotations": [
         {
          "font": {
           "size": 16
          },
          "showarrow": false,
          "text": "OHLC BTC (USD)",
          "x": 0.5,
          "xanchor": "center",
          "xref": "paper",
          "y": 1,
          "yanchor": "bottom",
          "yref": "paper"
         },
         {
          "font": {
           "size": 16
          },
          "showarrow": false,
          "text": "Volume",
          "x": 0.5,
          "xanchor": "center",
          "xref": "paper",
          "y": 0.4159999999999999,
          "yanchor": "bottom",
          "yref": "paper"
         },
         {
          "font": {
           "size": 16
          },
          "showarrow": false,
          "text": "Stochastic(5, 3, 4)",
          "x": 0.5,
          "xanchor": "center",
          "xref": "paper",
          "y": 0.30199999999999994,
          "yanchor": "bottom",
          "yref": "paper"
         },
         {
          "font": {
           "size": 16
          },
          "showarrow": false,
          "text": "MACD(12, 26, 9)",
          "x": 0.5,
          "xanchor": "center",
          "xref": "paper",
          "y": 0.141,
          "yanchor": "bottom",
          "yref": "paper"
         }
        ],
        "height": 1000,
        "margin": {
         "b": 40,
         "l": 50,
         "r": 25,
         "t": 50
        },
        "template": {
         "data": {
          "bar": [
           {
            "error_x": {
             "color": "#f2f5fa"
            },
            "error_y": {
             "color": "#f2f5fa"
            },
            "marker": {
             "line": {
              "color": "rgb(17,17,17)",
              "width": 0.5
             },
             "pattern": {
              "fillmode": "overlay",
              "size": 10,
              "solidity": 0.2
             }
            },
            "type": "bar"
           }
          ],
          "barpolar": [
           {
            "marker": {
             "line": {
              "color": "rgb(17,17,17)",
              "width": 0.5
             },
             "pattern": {
              "fillmode": "overlay",
              "size": 10,
              "solidity": 0.2
             }
            },
            "type": "barpolar"
           }
          ],
          "carpet": [
           {
            "aaxis": {
             "endlinecolor": "#A2B1C6",
             "gridcolor": "#506784",
             "linecolor": "#506784",
             "minorgridcolor": "#506784",
             "startlinecolor": "#A2B1C6"
            },
            "baxis": {
             "endlinecolor": "#A2B1C6",
             "gridcolor": "#506784",
             "linecolor": "#506784",
             "minorgridcolor": "#506784",
             "startlinecolor": "#A2B1C6"
            },
            "type": "carpet"
           }
          ],
          "choropleth": [
           {
            "colorbar": {
             "outlinewidth": 0,
             "ticks": ""
            },
            "type": "choropleth"
           }
          ],
          "contour": [
           {
            "colorbar": {
             "outlinewidth": 0,
             "ticks": ""
            },
            "colorscale": [
             [
              0,
              "#0d0887"
             ],
             [
              0.1111111111111111,
              "#46039f"
             ],
             [
              0.2222222222222222,
              "#7201a8"
             ],
             [
              0.3333333333333333,
              "#9c179e"
             ],
             [
              0.4444444444444444,
              "#bd3786"
             ],
             [
              0.5555555555555556,
              "#d8576b"
             ],
             [
              0.6666666666666666,
              "#ed7953"
             ],
             [
              0.7777777777777778,
              "#fb9f3a"
             ],
             [
              0.8888888888888888,
              "#fdca26"
             ],
             [
              1,
              "#f0f921"
             ]
            ],
            "type": "contour"
           }
          ],
          "contourcarpet": [
           {
            "colorbar": {
             "outlinewidth": 0,
             "ticks": ""
            },
            "type": "contourcarpet"
           }
          ],
          "heatmap": [
           {
            "colorbar": {
             "outlinewidth": 0,
             "ticks": ""
            },
            "colorscale": [
             [
              0,
              "#0d0887"
             ],
             [
              0.1111111111111111,
              "#46039f"
             ],
             [
              0.2222222222222222,
              "#7201a8"
             ],
             [
              0.3333333333333333,
              "#9c179e"
             ],
             [
              0.4444444444444444,
              "#bd3786"
             ],
             [
              0.5555555555555556,
              "#d8576b"
             ],
             [
              0.6666666666666666,
              "#ed7953"
             ],
             [
              0.7777777777777778,
              "#fb9f3a"
             ],
             [
              0.8888888888888888,
              "#fdca26"
             ],
             [
              1,
              "#f0f921"
             ]
            ],
            "type": "heatmap"
           }
          ],
          "histogram": [
           {
            "marker": {
             "pattern": {
              "fillmode": "overlay",
              "size": 10,
              "solidity": 0.2
             }
            },
            "type": "histogram"
           }
          ],
          "histogram2d": [
           {
            "colorbar": {
             "outlinewidth": 0,
             "ticks": ""
            },
            "colorscale": [
             [
              0,
              "#0d0887"
             ],
             [
              0.1111111111111111,
              "#46039f"
             ],
             [
              0.2222222222222222,
              "#7201a8"
             ],
             [
              0.3333333333333333,
              "#9c179e"
             ],
             [
              0.4444444444444444,
              "#bd3786"
             ],
             [
              0.5555555555555556,
              "#d8576b"
             ],
             [
              0.6666666666666666,
              "#ed7953"
             ],
             [
              0.7777777777777778,
              "#fb9f3a"
             ],
             [
              0.8888888888888888,
              "#fdca26"
             ],
             [
              1,
              "#f0f921"
             ]
            ],
            "type": "histogram2d"
           }
          ],
          "histogram2dcontour": [
           {
            "colorbar": {
             "outlinewidth": 0,
             "ticks": ""
            },
            "colorscale": [
             [
              0,
              "#0d0887"
             ],
             [
              0.1111111111111111,
              "#46039f"
             ],
             [
              0.2222222222222222,
              "#7201a8"
             ],
             [
              0.3333333333333333,
              "#9c179e"
             ],
             [
              0.4444444444444444,
              "#bd3786"
             ],
             [
              0.5555555555555556,
              "#d8576b"
             ],
             [
              0.6666666666666666,
              "#ed7953"
             ],
             [
              0.7777777777777778,
              "#fb9f3a"
             ],
             [
              0.8888888888888888,
              "#fdca26"
             ],
             [
              1,
              "#f0f921"
             ]
            ],
            "type": "histogram2dcontour"
           }
          ],
          "mesh3d": [
           {
            "colorbar": {
             "outlinewidth": 0,
             "ticks": ""
            },
            "type": "mesh3d"
           }
          ],
          "parcoords": [
           {
            "line": {
             "colorbar": {
              "outlinewidth": 0,
              "ticks": ""
             }
            },
            "type": "parcoords"
           }
          ],
          "pie": [
           {
            "automargin": true,
            "type": "pie"
           }
          ],
          "scatter": [
           {
            "marker": {
             "line": {
              "color": "#283442"
             }
            },
            "type": "scatter"
           }
          ],
          "scatter3d": [
           {
            "line": {
             "colorbar": {
              "outlinewidth": 0,
              "ticks": ""
             }
            },
            "marker": {
             "colorbar": {
              "outlinewidth": 0,
              "ticks": ""
             }
            },
            "type": "scatter3d"
           }
          ],
          "scattercarpet": [
           {
            "marker": {
             "colorbar": {
              "outlinewidth": 0,
              "ticks": ""
             }
            },
            "type": "scattercarpet"
           }
          ],
          "scattergeo": [
           {
            "marker": {
             "colorbar": {
              "outlinewidth": 0,
              "ticks": ""
             }
            },
            "type": "scattergeo"
           }
          ],
          "scattergl": [
           {
            "marker": {
             "line": {
              "color": "#283442"
             }
            },
            "type": "scattergl"
           }
          ],
          "scattermap": [
           {
            "marker": {
             "colorbar": {
              "outlinewidth": 0,
              "ticks": ""
             }
            },
            "type": "scattermap"
           }
          ],
          "scattermapbox": [
           {
            "marker": {
             "colorbar": {
              "outlinewidth": 0,
              "ticks": ""
             }
            },
            "type": "scattermapbox"
           }
          ],
          "scatterpolar": [
           {
            "marker": {
             "colorbar": {
              "outlinewidth": 0,
              "ticks": ""
             }
            },
            "type": "scatterpolar"
           }
          ],
          "scatterpolargl": [
           {
            "marker": {
             "colorbar": {
              "outlinewidth": 0,
              "ticks": ""
             }
            },
            "type": "scatterpolargl"
           }
          ],
          "scatterternary": [
           {
            "marker": {
             "colorbar": {
              "outlinewidth": 0,
              "ticks": ""
             }
            },
            "type": "scatterternary"
           }
          ],
          "surface": [
           {
            "colorbar": {
             "outlinewidth": 0,
             "ticks": ""
            },
            "colorscale": [
             [
              0,
              "#0d0887"
             ],
             [
              0.1111111111111111,
              "#46039f"
             ],
             [
              0.2222222222222222,
              "#7201a8"
             ],
             [
              0.3333333333333333,
              "#9c179e"
             ],
             [
              0.4444444444444444,
              "#bd3786"
             ],
             [
              0.5555555555555556,
              "#d8576b"
             ],
             [
              0.6666666666666666,
              "#ed7953"
             ],
             [
              0.7777777777777778,
              "#fb9f3a"
             ],
             [
              0.8888888888888888,
              "#fdca26"
             ],
             [
              1,
              "#f0f921"
             ]
            ],
            "type": "surface"
           }
          ],
          "table": [
           {
            "cells": {
             "fill": {
              "color": "#506784"
             },
             "line": {
              "color": "rgb(17,17,17)"
             }
            },
            "header": {
             "fill": {
              "color": "#2a3f5f"
             },
             "line": {
              "color": "rgb(17,17,17)"
             }
            },
            "type": "table"
           }
          ]
         },
         "layout": {
          "annotationdefaults": {
           "arrowcolor": "#f2f5fa",
           "arrowhead": 0,
           "arrowwidth": 1
          },
          "autotypenumbers": "strict",
          "coloraxis": {
           "colorbar": {
            "outlinewidth": 0,
            "ticks": ""
           }
          },
          "colorscale": {
           "diverging": [
            [
             0,
             "#8e0152"
            ],
            [
             0.1,
             "#c51b7d"
            ],
            [
             0.2,
             "#de77ae"
            ],
            [
             0.3,
             "#f1b6da"
            ],
            [
             0.4,
             "#fde0ef"
            ],
            [
             0.5,
             "#f7f7f7"
            ],
            [
             0.6,
             "#e6f5d0"
            ],
            [
             0.7,
             "#b8e186"
            ],
            [
             0.8,
             "#7fbc41"
            ],
            [
             0.9,
             "#4d9221"
            ],
            [
             1,
             "#276419"
            ]
           ],
           "sequential": [
            [
             0,
             "#0d0887"
            ],
            [
             0.1111111111111111,
             "#46039f"
            ],
            [
             0.2222222222222222,
             "#7201a8"
            ],
            [
             0.3333333333333333,
             "#9c179e"
            ],
            [
             0.4444444444444444,
             "#bd3786"
            ],
            [
             0.5555555555555556,
             "#d8576b"
            ],
            [
             0.6666666666666666,
             "#ed7953"
            ],
            [
             0.7777777777777778,
             "#fb9f3a"
            ],
            [
             0.8888888888888888,
             "#fdca26"
            ],
            [
             1,
             "#f0f921"
            ]
           ],
           "sequentialminus": [
            [
             0,
             "#0d0887"
            ],
            [
             0.1111111111111111,
             "#46039f"
            ],
            [
             0.2222222222222222,
             "#7201a8"
            ],
            [
             0.3333333333333333,
             "#9c179e"
            ],
            [
             0.4444444444444444,
             "#bd3786"
            ],
            [
             0.5555555555555556,
             "#d8576b"
            ],
            [
             0.6666666666666666,
             "#ed7953"
            ],
            [
             0.7777777777777778,
             "#fb9f3a"
            ],
            [
             0.8888888888888888,
             "#fdca26"
            ],
            [
             1,
             "#f0f921"
            ]
           ]
          },
          "colorway": [
           "#636efa",
           "#EF553B",
           "#00cc96",
           "#ab63fa",
           "#FFA15A",
           "#19d3f3",
           "#FF6692",
           "#B6E880",
           "#FF97FF",
           "#FECB52"
          ],
          "font": {
           "color": "#f2f5fa"
          },
          "geo": {
           "bgcolor": "rgb(17,17,17)",
           "lakecolor": "rgb(17,17,17)",
           "landcolor": "rgb(17,17,17)",
           "showlakes": true,
           "showland": true,
           "subunitcolor": "#506784"
          },
          "hoverlabel": {
           "align": "left"
          },
          "hovermode": "closest",
          "mapbox": {
           "style": "dark"
          },
          "paper_bgcolor": "rgb(17,17,17)",
          "plot_bgcolor": "rgb(17,17,17)",
          "polar": {
           "angularaxis": {
            "gridcolor": "#506784",
            "linecolor": "#506784",
            "ticks": ""
           },
           "bgcolor": "rgb(17,17,17)",
           "radialaxis": {
            "gridcolor": "#506784",
            "linecolor": "#506784",
            "ticks": ""
           }
          },
          "scene": {
           "xaxis": {
            "backgroundcolor": "rgb(17,17,17)",
            "gridcolor": "#506784",
            "gridwidth": 2,
            "linecolor": "#506784",
            "showbackground": true,
            "ticks": "",
            "zerolinecolor": "#C8D4E3"
           },
           "yaxis": {
            "backgroundcolor": "rgb(17,17,17)",
            "gridcolor": "#506784",
            "gridwidth": 2,
            "linecolor": "#506784",
            "showbackground": true,
            "ticks": "",
            "zerolinecolor": "#C8D4E3"
           },
           "zaxis": {
            "backgroundcolor": "rgb(17,17,17)",
            "gridcolor": "#506784",
            "gridwidth": 2,
            "linecolor": "#506784",
            "showbackground": true,
            "ticks": "",
            "zerolinecolor": "#C8D4E3"
           }
          },
          "shapedefaults": {
           "line": {
            "color": "#f2f5fa"
           }
          },
          "sliderdefaults": {
           "bgcolor": "#C8D4E3",
           "bordercolor": "rgb(17,17,17)",
           "borderwidth": 1,
           "tickwidth": 0
          },
          "ternary": {
           "aaxis": {
            "gridcolor": "#506784",
            "linecolor": "#506784",
            "ticks": ""
           },
           "baxis": {
            "gridcolor": "#506784",
            "linecolor": "#506784",
            "ticks": ""
           },
           "bgcolor": "rgb(17,17,17)",
           "caxis": {
            "gridcolor": "#506784",
            "linecolor": "#506784",
            "ticks": ""
           }
          },
          "title": {
           "x": 0.05
          },
          "updatemenudefaults": {
           "bgcolor": "#506784",
           "borderwidth": 0
          },
          "xaxis": {
           "automargin": true,
           "gridcolor": "#283442",
           "linecolor": "#506784",
           "ticks": "",
           "title": {
            "standoff": 15
           },
           "zerolinecolor": "#283442",
           "zerolinewidth": 2
          },
          "yaxis": {
           "automargin": true,
           "gridcolor": "#283442",
           "linecolor": "#506784",
           "ticks": "",
           "title": {
            "standoff": 15
           },
           "zerolinecolor": "#283442",
           "zerolinewidth": 2
          }
         }
        },
        "xaxis": {
         "anchor": "y",
         "domain": [
          0,
          1
         ],
         "matches": "x4",
         "rangeslider": {
          "visible": false
         },
         "showticklabels": false
        },
        "xaxis2": {
         "anchor": "y2",
         "domain": [
          0,
          1
         ],
         "matches": "x4",
         "showticklabels": false
        },
        "xaxis3": {
         "anchor": "y3",
         "domain": [
          0,
          1
         ],
         "matches": "x4",
         "showticklabels": false
        },
        "xaxis4": {
         "anchor": "y4",
         "domain": [
          0,
          1
         ]
        },
        "yaxis": {
         "anchor": "x",
         "domain": [
          0.436,
          1
         ]
        },
        "yaxis2": {
         "anchor": "x2",
         "domain": [
          0.32199999999999995,
          0.4159999999999999
         ]
        },
        "yaxis3": {
         "anchor": "x3",
         "domain": [
          0.16099999999999998,
          0.30199999999999994
         ]
        },
        "yaxis4": {
         "anchor": "x4",
         "domain": [
          0,
          0.141
         ]
        }
       }
      }
     },
     "metadata": {},
     "output_type": "display_data"
    }
   ],
   "source": [
    "# Get data from database\n",
    "from src.utils.timescaledb_ops import TimescaleDBOps\n",
    "import pandas as pd\n",
    "import base64\n",
    "# Variables\n",
    "granularity = \"monthly\"\n",
    "ticker = \"BTC/USD\"\n",
    "technical_indicators = \"EMA, Stochastic, MACD\"\n",
    "\n",
    "tsdb_ops = TimescaleDBOps()\n",
    "columns, data = tsdb_ops.read_data(f\"gold.ohlc_ta_{granularity}\")\n",
    "df = pd.DataFrame(data=data, columns=columns)\n",
    "df = df.sort_values(\"date\").reset_index(drop=True)\n",
    "df[\"date\"] = pd.to_datetime(df[\"date\"])\n",
    "\n",
    "# Construct the image base64 string\n",
    "# 1. Create png image\n",
    "import plotly.graph_objects as go\n",
    "from plotly.subplots import make_subplots\n",
    "\n",
    "df_visualize = df[df['date'] >= '2022-01-01']\n",
    "\n",
    "# Create subplot with 2 rows (OHLC and Volume)\n",
    "fig = make_subplots(rows=4, cols=1, \n",
    "                    shared_xaxes=True, \n",
    "                    vertical_spacing=0.02,\n",
    "                    row_heights=[0.6, 0.1, 0.15, 0.15],\n",
    "                    subplot_titles=(\"OHLC BTC (USD)\", \"Volume\", \"Stochastic(5, 3, 4)\", \"MACD(12, 26, 9)\"))\n",
    "\n",
    "# ===================================================================\n",
    "# PLOT CANDLESTICK\n",
    "# ===================================================================\n",
    "fig.add_trace(go.Candlestick(\n",
    "    x=df_visualize['date'],\n",
    "    open=df_visualize['open'],\n",
    "    high=df_visualize['high'],\n",
    "    low=df_visualize['low'],\n",
    "    close=df_visualize['close'],\n",
    "    name=\"Price\",\n",
    "    increasing_line_color='green',\n",
    "    decreasing_line_color='red'\n",
    "), row=1, col=1)\n",
    "\n",
    "\n",
    "# ===================================================================\n",
    "# PLOT VOLUME BAR\n",
    "# ===================================================================\n",
    "fig.add_trace(go.Bar(\n",
    "    x=df_visualize['date'],\n",
    "    y=df_visualize['volume'],\n",
    "    name=\"Volume\",\n",
    "    marker_color='orange'\n",
    "), row=2, col=1)\n",
    "\n",
    "\n",
    "# ===================================================================\n",
    "# PLOT EMA\n",
    "# ===================================================================\n",
    "fig.add_trace(\n",
    "    go.Scatter(\n",
    "        x=df_visualize['date'],\n",
    "        y=df_visualize['ema_13'],\n",
    "        mode='lines',\n",
    "        name=\"EMA 13\",\n",
    "        line={'width': 1.5},\n",
    "    ), row=1, col=1\n",
    ")\n",
    "\n",
    "fig.add_trace(\n",
    "    go.Scatter(\n",
    "        x=df_visualize['date'],\n",
    "        y=df_visualize['ema_21'],\n",
    "        mode='lines',\n",
    "        name=\"EMA 21\",\n",
    "        line={'width': 1.5},\n",
    "    ), row=1, col=1\n",
    ")\n",
    "\n",
    "# ===================================================================\n",
    "# PLOT STOCHASTIC\n",
    "# ===================================================================\n",
    "fig.add_trace(\n",
    "    go.Scatter(\n",
    "        x=df_visualize['date'],\n",
    "        y=df_visualize['stochastic_percentage_k'],\n",
    "        mode='lines',\n",
    "        name=\"Stochastic\",\n",
    "        line={'width': 1.5},\n",
    "    ), row=3, col=1\n",
    ")\n",
    "\n",
    "fig.add_trace(\n",
    "    go.Scatter(\n",
    "        x=df_visualize['date'],\n",
    "        y=df_visualize['stochastic_percentage_d'],\n",
    "        mode='lines',\n",
    "        name=\"Stochastic\",\n",
    "        line={'width': 1.5},\n",
    "    ), row=3, col=1\n",
    ")\n",
    "\n",
    "# ===================================================================\n",
    "# PLOT MACD\n",
    "# ===================================================================\n",
    "fig.add_trace(\n",
    "    go.Scatter(\n",
    "        x=df_visualize['date'],\n",
    "        y=df_visualize['macd'],\n",
    "        mode='lines',\n",
    "        name=\"MACD Line\",\n",
    "        line={'width': 1.5},\n",
    "    ), row=4, col=1\n",
    ")\n",
    "\n",
    "fig.add_trace(\n",
    "    go.Scatter(\n",
    "        x=df_visualize['date'],\n",
    "        y=df_visualize['macd_signal_line'],\n",
    "        mode='lines',\n",
    "        name=\"MACD Signal Line\",\n",
    "        line={'width': 1.5},\n",
    "    ), row=4, col=1\n",
    ")\n",
    "\n",
    "colors = ['green' if val >= 0 else 'red' for val in df_visualize['macd_bar']]\n",
    "fig.add_trace(\n",
    "    go.Bar(\n",
    "        x=df_visualize['date'], \n",
    "        y=df_visualize['macd_bar'], \n",
    "        name='MACD Bar', \n",
    "        marker_color=colors\n",
    "    ), row=4, col=1\n",
    ")\n",
    "\n",
    "# Layout adjustments\n",
    "fig.update_layout(\n",
    "    # title=title,\n",
    "    xaxis_rangeslider_visible=False,\n",
    "    template='plotly_dark',\n",
    "    height=1000,\n",
    "    margin=dict(l=50, r=25, t=50, b=40)\n",
    ")\n",
    "\n",
    "fig.write_image(f\"btc_{granularity}_ta.png\", width=1200, height=800, scale=2)"
   ]
  },
  {
   "cell_type": "code",
   "execution_count": null,
   "id": "a42f1941",
   "metadata": {},
   "outputs": [],
   "source": [
    "import base64\n",
    "def get_base64_encoded_image(image_path):\n",
    "    with open(image_path, \"rb\") as image_file:\n",
    "        binary_data = image_file.read()\n",
    "        base64_encoded_data = base64.b64encode(binary_data)\n",
    "        base64_string = base64_encoded_data.decode(\"utf-8\")\n",
    "        return base64_string\n",
    "\n",
    "granularity = \"monthly\"\n",
    "ticker = \"BTC/USD\"\n",
    "technical_indicators = \"EMA, Stochastic, MACD\"\n",
    "image_base64 = get_base64_encoded_image(\"btc_{granularity}_ta.png\".format(granularity=granularity))"
   ]
  },
  {
   "cell_type": "code",
   "execution_count": null,
   "id": "a1017627",
   "metadata": {},
   "outputs": [
    {
     "name": "stdout",
     "output_type": "stream",
     "text": [
      "text\n",
      "You are a professional cryptocurrency trader at a top proprietary trading firm, specializing in technical analysis.\n",
      "image\n",
      "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\n",
      "text\n",
      "Your task is to analyze the monthly chart and technical indicators for BTC/USD based on the provided image.\n",
      "                    Perform a technical analysis based on candlestick charts, volume, and technical indicators like EMA, Stochastic, MACD (shown in image). \n",
      "                    Your technical analysis should lead to a recommendation one of the following actions:\n",
      "                    <actions>\n",
      "                        1. 'Weak Sell'\n",
      "                        2. 'Sell'\n",
      "                        3. 'Strong Sell'\n",
      "                        4. 'Weak Buy'\n",
      "                        5. 'Buy'\n",
      "                        6. 'Strong Buy'\n",
      "                    </actions>\n",
      "                    For the prompt output, it should only formatted like in the <structure> tags below. Do not inlcude markdown texts. \n",
      "                    <structure>\n",
      "                        {\n",
      "                            \"action\": \"Your recommended action based on the <actions> tags\",    \n",
      "                            \"reason\": {\n",
      "                                \"ema\": \"EMA analysis\",\n",
      "                                \"stochastic\": \"Stochastic oscillator analysis\",\n",
      "                                \"macd\": \"MACD analysis\",\n",
      "                                \"trend\": \"Overall trend analysis\",\n",
      "                                \"pattern\": \"Candlestick pattern analysis\",\n",
      "                                \"volume\": \"Volume analysis\"\n",
      "                            }\n",
      "                        }\n",
      "                    </structure>\n",
      "                    \n"
     ]
    }
   ],
   "source": [
    "# prompt.format_messages(\n",
    "#     image_base64= image_base64,\n",
    "#     ticker= ticker,\n",
    "#     timeframe= granularity,\n",
    "#     technical_indicators= technical_indicators\n",
    "# )\n",
    "# for message in prompt.format_messages(\n",
    "#         image_base64= image_base64,\n",
    "#         ticker= ticker,\n",
    "#         timeframe= granularity,\n",
    "#         technical_indicators= technical_indicators\n",
    "#     ):\n",
    "#     for content in message.content:\n",
    "#         print(content[\"type\"])\n",
    "#         if content[\"type\"] == \"text\":\n",
    "#             print(content[\"text\"])\n",
    "#         if content[\"type\"] == \"image\":\n",
    "#             print(content[\"data\"])\n",
    "    \n",
    "#         # elif content[\"type\"] == \"imageThe line `print(f\"Image URL: {content[\"data\"]}\")` is attempting to print out the URL of an image contained in the `content` dictionary. The `content` dictionary likely has a key named \"data\" which holds the URL of the image.\n",
    "#         # \":\n",
    "#         #     print(f\"Image URL: {content[\"data\"]}\")"
   ]
  },
  {
   "cell_type": "code",
   "execution_count": 21,
   "id": "6ac56a5c",
   "metadata": {},
   "outputs": [],
   "source": [
    "response = chain.invoke(\n",
    "    {\n",
    "        \"image_base64\": image_base64,\n",
    "        \"ticker\": ticker,\n",
    "        \"timeframe\": granularity,\n",
    "        \"technical_indicators\": technical_indicators\n",
    "    }\n",
    ")"
   ]
  },
  {
   "cell_type": "code",
   "execution_count": 22,
   "id": "39076406",
   "metadata": {},
   "outputs": [
    {
     "name": "stdout",
     "output_type": "stream",
     "text": [
      "{\n",
      "    \"action\": \"Weak Buy\",\n",
      "    \"reason\": {\n",
      "        \"ema\": \"Price is trading above both EMA 13 and EMA 21, indicating bullish momentum. The EMAs are sloping upward and price has maintained support above these moving averages, suggesting the uptrend remains intact despite recent consolidation.\",\n",
      "        \"stochastic\": \"Stochastic oscillator is in neutral territory around 0.6 level, having pulled back from overbought conditions. This provides room for upward movement without being oversold, indicating potential for continued bullish momentum.\",\n",
      "        \"macd\": \"MACD line remains above the signal line with positive histogram bars, confirming bullish momentum. The MACD has been trending higher throughout the uptrend, though showing some recent consolidation which is healthy for trend continuation.\",\n",
      "        \"trend\": \"Strong uptrend from the low around 15k to current levels above 100k. The trend structure shows higher highs and higher lows with price respecting key moving average support levels. Recent consolidation appears to be a healthy pullback within the broader uptrend.\",\n",
      "        \"pattern\": \"Recent candlesticks show consolidation after the parabolic move higher. The last few candles display mixed signals with both green and red bodies, indicating indecision but within the context of a strong uptrend. No clear reversal patterns visible.\",\n",
      "        \"volume\": \"Volume has been elevated during the major upward moves, confirming institutional participation. Recent volume appears moderate during consolidation phase, which is typical for healthy trend continuation patterns.\"\n",
      "    }\n",
      "}\n"
     ]
    }
   ],
   "source": [
    "print(response.content)"
   ]
  },
  {
   "cell_type": "code",
   "execution_count": 25,
   "id": "66935c8c",
   "metadata": {},
   "outputs": [],
   "source": [
    "import json\n",
    "message = json.loads(response.content)\n",
    "\n",
    "summary = \"\"\n",
    "summary += f\"Action: **{message['action'].capitalize()}**\\n\"\n",
    "for num, (indicator, explanation) in enumerate(message['reason'].items()):\n",
    "    summary += f\"{num+1}. **{indicator.upper()}**: {explanation}.\\n\"\n",
    "summary += \"*^Disclaimer Alert.*\""
   ]
  },
  {
   "cell_type": "code",
   "execution_count": 26,
   "id": "b6ea23ff",
   "metadata": {},
   "outputs": [
    {
     "data": {
      "text/plain": [
       "'Action: **Weak buy**\\n1. **EMA**: Price is trading above both EMA 13 and EMA 21, indicating bullish momentum. The EMAs are sloping upward and price has maintained support above these moving averages, suggesting the uptrend remains intact despite recent consolidation..\\n2. **STOCHASTIC**: Stochastic oscillator is in neutral territory around 0.6 level, having pulled back from overbought conditions. This provides room for upward movement without being oversold, indicating potential for continued bullish momentum..\\n3. **MACD**: MACD line remains above the signal line with positive histogram bars, confirming bullish momentum. The MACD has been trending higher throughout the uptrend, though showing some recent consolidation which is healthy for trend continuation..\\n4. **TREND**: Strong uptrend from the low around 15k to current levels above 100k. The trend structure shows higher highs and higher lows with price respecting key moving average support levels. Recent consolidation appears to be a healthy pullback within the broader uptrend..\\n5. **PATTERN**: Recent candlesticks show consolidation after the parabolic move higher. The last few candles display mixed signals with both green and red bodies, indicating indecision but within the context of a strong uptrend. No clear reversal patterns visible..\\n6. **VOLUME**: Volume has been elevated during the major upward moves, confirming institutional participation. Recent volume appears moderate during consolidation phase, which is typical for healthy trend continuation patterns..\\n*^Disclaimer Alert.*'"
      ]
     },
     "execution_count": 26,
     "metadata": {},
     "output_type": "execute_result"
    }
   ],
   "source": [
    "summary"
   ]
  },
  {
   "cell_type": "code",
   "execution_count": 27,
   "id": "557e1d0c",
   "metadata": {},
   "outputs": [
    {
     "data": {
      "text/plain": [
       "<Response [200]>"
      ]
     },
     "execution_count": 27,
     "metadata": {},
     "output_type": "execute_result"
    }
   ],
   "source": [
    "import requests\n",
    "\n",
    "webhook_url = \"https://discordapp.com/api/webhooks/1387080438140637184/tN2QiS7fsMTOpf9eHQAF8cb2xfAscck9R6qhKq-hvvg4Ssg0YfHsSXvGIDLZUchoFQ6V\"\n",
    "granularity = \"Weekly\"\n",
    "\n",
    "embed = {\n",
    "    \"title\": f\"**Bitcoin (BTC-USD) {granularity.capitalize()} Summary**\",\n",
    "    \"image\": {\"url\": \"attachment://btc_monthly_ta.jpeg\"},\n",
    "    \"description\": summary,\n",
    "    \"color\": 5814783  # optional: light blue\n",
    "}\n",
    "data = {\n",
    "    \"content\": (\n",
    "        f\"**Bitcoin (BTC-USD) {granularity.capitalize()} Summary**\\n\\n\"\n",
    "        f\"{summary}\"\n",
    "    )\n",
    "}\n",
    "\n",
    "\n",
    "files = {\n",
    "    \"file\": (\n",
    "        \"btc_monthly_ta.jpeg\", \n",
    "        open(\"C:/Users/USER/projects/ai-agent-crypto-analyzer/notebooks/btc_monthly_ta.jpeg\", \"rb\")\n",
    "    )\n",
    "}\n",
    "\n",
    "# Use `data=` for data when uploading files\n",
    "requests.post(webhook_url, files=files, data=data)"
   ]
  }
 ],
 "metadata": {
  "kernelspec": {
   "display_name": "venv",
   "language": "python",
   "name": "python3"
  },
  "language_info": {
   "codemirror_mode": {
    "name": "ipython",
    "version": 3
   },
   "file_extension": ".py",
   "mimetype": "text/x-python",
   "name": "python",
   "nbconvert_exporter": "python",
   "pygments_lexer": "ipython3",
   "version": "3.10.0"
  }
 },
 "nbformat": 4,
 "nbformat_minor": 5
}
